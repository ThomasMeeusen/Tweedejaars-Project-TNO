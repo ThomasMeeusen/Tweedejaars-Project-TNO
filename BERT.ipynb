{
  "cells": [
    {
      "cell_type": "code",
      "execution_count": null,
      "metadata": {
        "id": "FSdrK-UqbROH"
      },
      "outputs": [],
      "source": [
        "import pandas as pd\n",
        "import numpy as np"
      ]
    },
    {
      "cell_type": "code",
      "execution_count": null,
      "metadata": {
        "colab": {
          "base_uri": "https://localhost:8080/"
        },
        "id": "DdEZQVM_c-Gk",
        "outputId": "56c958a5-11cd-4a37-ed8c-acfb35504df2"
      },
      "outputs": [
        {
          "output_type": "stream",
          "name": "stdout",
          "text": [
            "Drive already mounted at /content/drive/; to attempt to forcibly remount, call drive.mount(\"/content/drive/\", force_remount=True).\n"
          ]
        }
      ],
      "source": [
        "from google.colab import drive\n",
        "drive.mount('/content/drive/')"
      ]
    },
    {
      "cell_type": "code",
      "execution_count": null,
      "metadata": {
        "colab": {
          "base_uri": "https://localhost:8080/"
        },
        "id": "V6hQkULpdAfm",
        "outputId": "79e6140b-adc3-4b6b-8e10-b083ae14e902"
      },
      "outputs": [
        {
          "output_type": "stream",
          "name": "stdout",
          "text": [
            "/content/drive/My Drive/Colab Notebooks/BERT\n"
          ]
        }
      ],
      "source": [
        "%cd /content/drive/My\\ Drive/Colab\\ Notebooks/BERT/"
      ]
    },
    {
      "cell_type": "code",
      "execution_count": null,
      "metadata": {
        "colab": {
          "base_uri": "https://localhost:8080/"
        },
        "id": "Cj1uxvbRdKWK",
        "outputId": "bb75d32d-9ba9-4e04-eb9a-4b2b71622a9f"
      },
      "outputs": [
        {
          "output_type": "stream",
          "name": "stdout",
          "text": [
            "0-10000-labeled.csv  huggingface_stats.py  model.png\n",
            "BERT.ipynb           \u001b[0m\u001b[01;34mimdb_bert\u001b[0m/            \u001b[01;34m__pycache__\u001b[0m/\n"
          ]
        }
      ],
      "source": [
        "%ls"
      ]
    },
    {
      "cell_type": "code",
      "execution_count": null,
      "metadata": {
        "colab": {
          "base_uri": "https://localhost:8080/",
          "height": 424
        },
        "id": "XXIQqV0mbd6B",
        "outputId": "925f72dd-f874-444f-90d4-67bb25f43394"
      },
      "outputs": [
        {
          "output_type": "execute_result",
          "data": {
            "text/plain": [
              "                                                article  \\\n",
              "0     LONDON, England (Reuters) -- Harry Potter star...   \n",
              "1     Editor's note: In our Behind the Scenes series...   \n",
              "2     MINNEAPOLIS, Minnesota (CNN) -- Drivers who we...   \n",
              "3     WASHINGTON (CNN) -- Doctors removed five small...   \n",
              "4     (CNN)  -- The National Football League has ind...   \n",
              "...                                                 ...   \n",
              "9995  (Oprah.com) -- As a trained chef, restaurant o...   \n",
              "9996  Islamabad, Pakistan (CNN) -- The Pakistani mil...   \n",
              "9997  (CNN) -- Bastian Schweinsteiger rescued a poin...   \n",
              "9998  (CNN) -- Haiti's earthquake is creating \"a gen...   \n",
              "9999  (SuperYachtWorld) -- They may not be big on lo...   \n",
              "\n",
              "                                             highlights  \\\n",
              "0     Harry Potter star Daniel Radcliffe gets £20M f...   \n",
              "1     Mentally ill inmates in Miami are housed on th...   \n",
              "2     NEW: \"I thought I was going to die,\" driver sa...   \n",
              "3     Five small polyps found during procedure; \"non...   \n",
              "4     NEW: NFL chief, Atlanta Falcons owner critical...   \n",
              "...                                                 ...   \n",
              "9995  Chef Laura Pensiero: Don't let diet hijack you...   \n",
              "9996  NEW: Taliban source says commander alive and w...   \n",
              "9997  Midfielder Bastian Schweinsteiger rescues a po...   \n",
              "9998  Experts say Haiti's earthquake is creating \"a ...   \n",
              "9999  New breed of adventure explorers offer comfort...   \n",
              "\n",
              "                                            id  label  \n",
              "0     42c027e4ff9730fbb3de84c1af0d2c506e41c3e4    0.0  \n",
              "1     ee8871b15c50d0db17b0179a6d2beab35065f1e9    0.0  \n",
              "2     06352019a19ae31e527f37f7571c6dd7f0c5da37    1.0  \n",
              "3     24521a2abb2e1f5e34e6824e0f9e56904a2b0e88    0.0  \n",
              "4     7fe70cc8b12fab2d0a258fababf7d9c6b5e1262a    0.0  \n",
              "...                                        ...    ...  \n",
              "9995  75cd2144a44f902e14b887bf927a08ad6b5fbf54    0.0  \n",
              "9996  734ca9a754dd444ed50362375e256fd72d82def5    0.0  \n",
              "9997  8ff4e932c84ed30759427a128879f0af1c8a156a    0.0  \n",
              "9998  12e6c95b6f47092e953523ae556cb6391a7021f6    0.0  \n",
              "9999  1130b36a9ba93d8fcbf07a2ac0048d4c281cd57c    0.0  \n",
              "\n",
              "[10000 rows x 4 columns]"
            ],
            "text/html": [
              "\n",
              "  <div id=\"df-f63f38d7-c0e0-497e-b63b-dcadd11d7629\">\n",
              "    <div class=\"colab-df-container\">\n",
              "      <div>\n",
              "<style scoped>\n",
              "    .dataframe tbody tr th:only-of-type {\n",
              "        vertical-align: middle;\n",
              "    }\n",
              "\n",
              "    .dataframe tbody tr th {\n",
              "        vertical-align: top;\n",
              "    }\n",
              "\n",
              "    .dataframe thead th {\n",
              "        text-align: right;\n",
              "    }\n",
              "</style>\n",
              "<table border=\"1\" class=\"dataframe\">\n",
              "  <thead>\n",
              "    <tr style=\"text-align: right;\">\n",
              "      <th></th>\n",
              "      <th>article</th>\n",
              "      <th>highlights</th>\n",
              "      <th>id</th>\n",
              "      <th>label</th>\n",
              "    </tr>\n",
              "  </thead>\n",
              "  <tbody>\n",
              "    <tr>\n",
              "      <th>0</th>\n",
              "      <td>LONDON, England (Reuters) -- Harry Potter star...</td>\n",
              "      <td>Harry Potter star Daniel Radcliffe gets £20M f...</td>\n",
              "      <td>42c027e4ff9730fbb3de84c1af0d2c506e41c3e4</td>\n",
              "      <td>0.0</td>\n",
              "    </tr>\n",
              "    <tr>\n",
              "      <th>1</th>\n",
              "      <td>Editor's note: In our Behind the Scenes series...</td>\n",
              "      <td>Mentally ill inmates in Miami are housed on th...</td>\n",
              "      <td>ee8871b15c50d0db17b0179a6d2beab35065f1e9</td>\n",
              "      <td>0.0</td>\n",
              "    </tr>\n",
              "    <tr>\n",
              "      <th>2</th>\n",
              "      <td>MINNEAPOLIS, Minnesota (CNN) -- Drivers who we...</td>\n",
              "      <td>NEW: \"I thought I was going to die,\" driver sa...</td>\n",
              "      <td>06352019a19ae31e527f37f7571c6dd7f0c5da37</td>\n",
              "      <td>1.0</td>\n",
              "    </tr>\n",
              "    <tr>\n",
              "      <th>3</th>\n",
              "      <td>WASHINGTON (CNN) -- Doctors removed five small...</td>\n",
              "      <td>Five small polyps found during procedure; \"non...</td>\n",
              "      <td>24521a2abb2e1f5e34e6824e0f9e56904a2b0e88</td>\n",
              "      <td>0.0</td>\n",
              "    </tr>\n",
              "    <tr>\n",
              "      <th>4</th>\n",
              "      <td>(CNN)  -- The National Football League has ind...</td>\n",
              "      <td>NEW: NFL chief, Atlanta Falcons owner critical...</td>\n",
              "      <td>7fe70cc8b12fab2d0a258fababf7d9c6b5e1262a</td>\n",
              "      <td>0.0</td>\n",
              "    </tr>\n",
              "    <tr>\n",
              "      <th>...</th>\n",
              "      <td>...</td>\n",
              "      <td>...</td>\n",
              "      <td>...</td>\n",
              "      <td>...</td>\n",
              "    </tr>\n",
              "    <tr>\n",
              "      <th>9995</th>\n",
              "      <td>(Oprah.com) -- As a trained chef, restaurant o...</td>\n",
              "      <td>Chef Laura Pensiero: Don't let diet hijack you...</td>\n",
              "      <td>75cd2144a44f902e14b887bf927a08ad6b5fbf54</td>\n",
              "      <td>0.0</td>\n",
              "    </tr>\n",
              "    <tr>\n",
              "      <th>9996</th>\n",
              "      <td>Islamabad, Pakistan (CNN) -- The Pakistani mil...</td>\n",
              "      <td>NEW: Taliban source says commander alive and w...</td>\n",
              "      <td>734ca9a754dd444ed50362375e256fd72d82def5</td>\n",
              "      <td>0.0</td>\n",
              "    </tr>\n",
              "    <tr>\n",
              "      <th>9997</th>\n",
              "      <td>(CNN) -- Bastian Schweinsteiger rescued a poin...</td>\n",
              "      <td>Midfielder Bastian Schweinsteiger rescues a po...</td>\n",
              "      <td>8ff4e932c84ed30759427a128879f0af1c8a156a</td>\n",
              "      <td>0.0</td>\n",
              "    </tr>\n",
              "    <tr>\n",
              "      <th>9998</th>\n",
              "      <td>(CNN) -- Haiti's earthquake is creating \"a gen...</td>\n",
              "      <td>Experts say Haiti's earthquake is creating \"a ...</td>\n",
              "      <td>12e6c95b6f47092e953523ae556cb6391a7021f6</td>\n",
              "      <td>0.0</td>\n",
              "    </tr>\n",
              "    <tr>\n",
              "      <th>9999</th>\n",
              "      <td>(SuperYachtWorld) -- They may not be big on lo...</td>\n",
              "      <td>New breed of adventure explorers offer comfort...</td>\n",
              "      <td>1130b36a9ba93d8fcbf07a2ac0048d4c281cd57c</td>\n",
              "      <td>0.0</td>\n",
              "    </tr>\n",
              "  </tbody>\n",
              "</table>\n",
              "<p>10000 rows × 4 columns</p>\n",
              "</div>\n",
              "      <button class=\"colab-df-convert\" onclick=\"convertToInteractive('df-f63f38d7-c0e0-497e-b63b-dcadd11d7629')\"\n",
              "              title=\"Convert this dataframe to an interactive table.\"\n",
              "              style=\"display:none;\">\n",
              "        \n",
              "  <svg xmlns=\"http://www.w3.org/2000/svg\" height=\"24px\"viewBox=\"0 0 24 24\"\n",
              "       width=\"24px\">\n",
              "    <path d=\"M0 0h24v24H0V0z\" fill=\"none\"/>\n",
              "    <path d=\"M18.56 5.44l.94 2.06.94-2.06 2.06-.94-2.06-.94-.94-2.06-.94 2.06-2.06.94zm-11 1L8.5 8.5l.94-2.06 2.06-.94-2.06-.94L8.5 2.5l-.94 2.06-2.06.94zm10 10l.94 2.06.94-2.06 2.06-.94-2.06-.94-.94-2.06-.94 2.06-2.06.94z\"/><path d=\"M17.41 7.96l-1.37-1.37c-.4-.4-.92-.59-1.43-.59-.52 0-1.04.2-1.43.59L10.3 9.45l-7.72 7.72c-.78.78-.78 2.05 0 2.83L4 21.41c.39.39.9.59 1.41.59.51 0 1.02-.2 1.41-.59l7.78-7.78 2.81-2.81c.8-.78.8-2.07 0-2.86zM5.41 20L4 18.59l7.72-7.72 1.47 1.35L5.41 20z\"/>\n",
              "  </svg>\n",
              "      </button>\n",
              "      \n",
              "  <style>\n",
              "    .colab-df-container {\n",
              "      display:flex;\n",
              "      flex-wrap:wrap;\n",
              "      gap: 12px;\n",
              "    }\n",
              "\n",
              "    .colab-df-convert {\n",
              "      background-color: #E8F0FE;\n",
              "      border: none;\n",
              "      border-radius: 50%;\n",
              "      cursor: pointer;\n",
              "      display: none;\n",
              "      fill: #1967D2;\n",
              "      height: 32px;\n",
              "      padding: 0 0 0 0;\n",
              "      width: 32px;\n",
              "    }\n",
              "\n",
              "    .colab-df-convert:hover {\n",
              "      background-color: #E2EBFA;\n",
              "      box-shadow: 0px 1px 2px rgba(60, 64, 67, 0.3), 0px 1px 3px 1px rgba(60, 64, 67, 0.15);\n",
              "      fill: #174EA6;\n",
              "    }\n",
              "\n",
              "    [theme=dark] .colab-df-convert {\n",
              "      background-color: #3B4455;\n",
              "      fill: #D2E3FC;\n",
              "    }\n",
              "\n",
              "    [theme=dark] .colab-df-convert:hover {\n",
              "      background-color: #434B5C;\n",
              "      box-shadow: 0px 1px 3px 1px rgba(0, 0, 0, 0.15);\n",
              "      filter: drop-shadow(0px 1px 2px rgba(0, 0, 0, 0.3));\n",
              "      fill: #FFFFFF;\n",
              "    }\n",
              "  </style>\n",
              "\n",
              "      <script>\n",
              "        const buttonEl =\n",
              "          document.querySelector('#df-f63f38d7-c0e0-497e-b63b-dcadd11d7629 button.colab-df-convert');\n",
              "        buttonEl.style.display =\n",
              "          google.colab.kernel.accessAllowed ? 'block' : 'none';\n",
              "\n",
              "        async function convertToInteractive(key) {\n",
              "          const element = document.querySelector('#df-f63f38d7-c0e0-497e-b63b-dcadd11d7629');\n",
              "          const dataTable =\n",
              "            await google.colab.kernel.invokeFunction('convertToInteractive',\n",
              "                                                     [key], {});\n",
              "          if (!dataTable) return;\n",
              "\n",
              "          const docLinkHtml = 'Like what you see? Visit the ' +\n",
              "            '<a target=\"_blank\" href=https://colab.research.google.com/notebooks/data_table.ipynb>data table notebook</a>'\n",
              "            + ' to learn more about interactive tables.';\n",
              "          element.innerHTML = '';\n",
              "          dataTable['output_type'] = 'display_data';\n",
              "          await google.colab.output.renderOutput(dataTable, element);\n",
              "          const docLink = document.createElement('div');\n",
              "          docLink.innerHTML = docLinkHtml;\n",
              "          element.appendChild(docLink);\n",
              "        }\n",
              "      </script>\n",
              "    </div>\n",
              "  </div>\n",
              "  "
            ]
          },
          "metadata": {},
          "execution_count": 80
        }
      ],
      "source": [
        "pd.read_csv('0-10000-labeled.csv')"
      ]
    },
    {
      "cell_type": "code",
      "execution_count": null,
      "metadata": {
        "id": "7wse6cZFdLcZ"
      },
      "outputs": [],
      "source": [
        "import huggingface_stats"
      ]
    },
    {
      "cell_type": "code",
      "execution_count": null,
      "metadata": {
        "id": "q-YbjCkzw0yU"
      },
      "outputs": [],
      "source": [
        "# A dependency of the preprocessing for BERT inputs\n",
        "!pip install -q -U \"tensorflow-text==2.8.*\""
      ]
    },
    {
      "cell_type": "markdown",
      "metadata": {
        "id": "5w_XlxN1IsRJ"
      },
      "source": [
        "You will use the AdamW optimizer from [tensorflow/models](https://github.com/tensorflow/models)."
      ]
    },
    {
      "cell_type": "code",
      "execution_count": null,
      "metadata": {
        "id": "b-P1ZOA0FkVJ"
      },
      "outputs": [],
      "source": [
        "!pip install -q tf-models-official==2.7.0"
      ]
    },
    {
      "cell_type": "code",
      "execution_count": null,
      "metadata": {
        "id": "_XgTpm9ZxoN9"
      },
      "outputs": [],
      "source": [
        "import os\n",
        "import shutil\n",
        "import re\n",
        "import string\n",
        "\n",
        "import tensorflow as tf\n",
        "import tensorflow_hub as hub\n",
        "import tensorflow_text as text\n",
        "from official.nlp import optimization  # to create AdamW optimizer\n",
        "\n",
        "import matplotlib.pyplot as plt\n",
        "\n",
        "tf.get_logger().setLevel('ERROR')"
      ]
    },
    {
      "cell_type": "code",
      "execution_count": null,
      "metadata": {
        "id": "EQNOTFrSd5AS"
      },
      "outputs": [],
      "source": [
        "from tensorflow.keras import layers"
      ]
    },
    {
      "cell_type": "code",
      "execution_count": null,
      "metadata": {
        "id": "sI2o5kDWjylY"
      },
      "outputs": [],
      "source": [
        "# news_data = pd.read_csv('0-10000-labeled.csv', dtype = {'label': int})\n",
        "# news_data.loc[news_data['label'] == 0, 'label_txt'] = 'Not accident'\n",
        "# news_data.loc[news_data['label'] == 1, 'label_txt'] = 'Accident'\n",
        "# news_data.head()"
      ]
    },
    {
      "cell_type": "code",
      "source": [
        "raw_data = pd.read_csv('0-10000-labeled.csv', dtype = {'label': int})\n",
        "tmp1 = raw_data.loc[raw_data['label'] == 1]\n",
        "tmp2 = raw_data.loc[raw_data['label'] == 0].sample(n=len(tmp1))\n",
        "# merge them together to get 50/50 dataset\n",
        "frames = [tmp1, tmp2]\n",
        "news_data = pd.concat(frames, ignore_index=True)\n",
        "news_data.loc[news_data['label'] == 0, 'label_txt'] = 'Not accident'\n",
        "news_data.loc[news_data['label'] == 1, 'label_txt'] = 'Accident'\n",
        "news_data.head()"
      ],
      "metadata": {
        "colab": {
          "base_uri": "https://localhost:8080/",
          "height": 206
        },
        "id": "iUpNhfOVrTsH",
        "outputId": "8fa18019-6f19-422f-cc56-c7ae33f13537"
      },
      "execution_count": null,
      "outputs": [
        {
          "output_type": "execute_result",
          "data": {
            "text/plain": [
              "                                             article  \\\n",
              "0  MINNEAPOLIS, Minnesota (CNN) -- Drivers who we...   \n",
              "1  WASHINGTON (CNN) -- There is \"no remaining hop...   \n",
              "2  PHUKET, Thailand (CNN) -- Relatives of the 89 ...   \n",
              "3  SAN DIEGO, California (CNN) -- More than 100 h...   \n",
              "4  PATUAKHALI, Bangladesh (CNN)  -- Survivors of ...   \n",
              "\n",
              "                                          highlights  \\\n",
              "0  NEW: \"I thought I was going to die,\" driver sa...   \n",
              "1  NEW: President Bush says he and first lady are...   \n",
              "2  Relatives of the 89 people killed in Thai air ...   \n",
              "3  San Diego mayor declares state of emergency; W...   \n",
              "4  Survivors of Cyclone Sidr in Bangladesh waitin...   \n",
              "\n",
              "                                         id  label label_txt  \n",
              "0  06352019a19ae31e527f37f7571c6dd7f0c5da37      1  Accident  \n",
              "1  0d43b97000ff852282c89d8d105e41495c0ee9bd      1  Accident  \n",
              "2  ee0ba7928d8987f2cb21c9a2012a76730f77de45      1  Accident  \n",
              "3  2fff2bc541ef34a6647dfa2e4294cdcc187e47b9      1  Accident  \n",
              "4  ceb7a288ac1ad604a17bc25c5978fcc87b1a4446      1  Accident  "
            ],
            "text/html": [
              "\n",
              "  <div id=\"df-17f5fc59-de2d-4f5e-9ac9-9585ae858eee\">\n",
              "    <div class=\"colab-df-container\">\n",
              "      <div>\n",
              "<style scoped>\n",
              "    .dataframe tbody tr th:only-of-type {\n",
              "        vertical-align: middle;\n",
              "    }\n",
              "\n",
              "    .dataframe tbody tr th {\n",
              "        vertical-align: top;\n",
              "    }\n",
              "\n",
              "    .dataframe thead th {\n",
              "        text-align: right;\n",
              "    }\n",
              "</style>\n",
              "<table border=\"1\" class=\"dataframe\">\n",
              "  <thead>\n",
              "    <tr style=\"text-align: right;\">\n",
              "      <th></th>\n",
              "      <th>article</th>\n",
              "      <th>highlights</th>\n",
              "      <th>id</th>\n",
              "      <th>label</th>\n",
              "      <th>label_txt</th>\n",
              "    </tr>\n",
              "  </thead>\n",
              "  <tbody>\n",
              "    <tr>\n",
              "      <th>0</th>\n",
              "      <td>MINNEAPOLIS, Minnesota (CNN) -- Drivers who we...</td>\n",
              "      <td>NEW: \"I thought I was going to die,\" driver sa...</td>\n",
              "      <td>06352019a19ae31e527f37f7571c6dd7f0c5da37</td>\n",
              "      <td>1</td>\n",
              "      <td>Accident</td>\n",
              "    </tr>\n",
              "    <tr>\n",
              "      <th>1</th>\n",
              "      <td>WASHINGTON (CNN) -- There is \"no remaining hop...</td>\n",
              "      <td>NEW: President Bush says he and first lady are...</td>\n",
              "      <td>0d43b97000ff852282c89d8d105e41495c0ee9bd</td>\n",
              "      <td>1</td>\n",
              "      <td>Accident</td>\n",
              "    </tr>\n",
              "    <tr>\n",
              "      <th>2</th>\n",
              "      <td>PHUKET, Thailand (CNN) -- Relatives of the 89 ...</td>\n",
              "      <td>Relatives of the 89 people killed in Thai air ...</td>\n",
              "      <td>ee0ba7928d8987f2cb21c9a2012a76730f77de45</td>\n",
              "      <td>1</td>\n",
              "      <td>Accident</td>\n",
              "    </tr>\n",
              "    <tr>\n",
              "      <th>3</th>\n",
              "      <td>SAN DIEGO, California (CNN) -- More than 100 h...</td>\n",
              "      <td>San Diego mayor declares state of emergency; W...</td>\n",
              "      <td>2fff2bc541ef34a6647dfa2e4294cdcc187e47b9</td>\n",
              "      <td>1</td>\n",
              "      <td>Accident</td>\n",
              "    </tr>\n",
              "    <tr>\n",
              "      <th>4</th>\n",
              "      <td>PATUAKHALI, Bangladesh (CNN)  -- Survivors of ...</td>\n",
              "      <td>Survivors of Cyclone Sidr in Bangladesh waitin...</td>\n",
              "      <td>ceb7a288ac1ad604a17bc25c5978fcc87b1a4446</td>\n",
              "      <td>1</td>\n",
              "      <td>Accident</td>\n",
              "    </tr>\n",
              "  </tbody>\n",
              "</table>\n",
              "</div>\n",
              "      <button class=\"colab-df-convert\" onclick=\"convertToInteractive('df-17f5fc59-de2d-4f5e-9ac9-9585ae858eee')\"\n",
              "              title=\"Convert this dataframe to an interactive table.\"\n",
              "              style=\"display:none;\">\n",
              "        \n",
              "  <svg xmlns=\"http://www.w3.org/2000/svg\" height=\"24px\"viewBox=\"0 0 24 24\"\n",
              "       width=\"24px\">\n",
              "    <path d=\"M0 0h24v24H0V0z\" fill=\"none\"/>\n",
              "    <path d=\"M18.56 5.44l.94 2.06.94-2.06 2.06-.94-2.06-.94-.94-2.06-.94 2.06-2.06.94zm-11 1L8.5 8.5l.94-2.06 2.06-.94-2.06-.94L8.5 2.5l-.94 2.06-2.06.94zm10 10l.94 2.06.94-2.06 2.06-.94-2.06-.94-.94-2.06-.94 2.06-2.06.94z\"/><path d=\"M17.41 7.96l-1.37-1.37c-.4-.4-.92-.59-1.43-.59-.52 0-1.04.2-1.43.59L10.3 9.45l-7.72 7.72c-.78.78-.78 2.05 0 2.83L4 21.41c.39.39.9.59 1.41.59.51 0 1.02-.2 1.41-.59l7.78-7.78 2.81-2.81c.8-.78.8-2.07 0-2.86zM5.41 20L4 18.59l7.72-7.72 1.47 1.35L5.41 20z\"/>\n",
              "  </svg>\n",
              "      </button>\n",
              "      \n",
              "  <style>\n",
              "    .colab-df-container {\n",
              "      display:flex;\n",
              "      flex-wrap:wrap;\n",
              "      gap: 12px;\n",
              "    }\n",
              "\n",
              "    .colab-df-convert {\n",
              "      background-color: #E8F0FE;\n",
              "      border: none;\n",
              "      border-radius: 50%;\n",
              "      cursor: pointer;\n",
              "      display: none;\n",
              "      fill: #1967D2;\n",
              "      height: 32px;\n",
              "      padding: 0 0 0 0;\n",
              "      width: 32px;\n",
              "    }\n",
              "\n",
              "    .colab-df-convert:hover {\n",
              "      background-color: #E2EBFA;\n",
              "      box-shadow: 0px 1px 2px rgba(60, 64, 67, 0.3), 0px 1px 3px 1px rgba(60, 64, 67, 0.15);\n",
              "      fill: #174EA6;\n",
              "    }\n",
              "\n",
              "    [theme=dark] .colab-df-convert {\n",
              "      background-color: #3B4455;\n",
              "      fill: #D2E3FC;\n",
              "    }\n",
              "\n",
              "    [theme=dark] .colab-df-convert:hover {\n",
              "      background-color: #434B5C;\n",
              "      box-shadow: 0px 1px 3px 1px rgba(0, 0, 0, 0.15);\n",
              "      filter: drop-shadow(0px 1px 2px rgba(0, 0, 0, 0.3));\n",
              "      fill: #FFFFFF;\n",
              "    }\n",
              "  </style>\n",
              "\n",
              "      <script>\n",
              "        const buttonEl =\n",
              "          document.querySelector('#df-17f5fc59-de2d-4f5e-9ac9-9585ae858eee button.colab-df-convert');\n",
              "        buttonEl.style.display =\n",
              "          google.colab.kernel.accessAllowed ? 'block' : 'none';\n",
              "\n",
              "        async function convertToInteractive(key) {\n",
              "          const element = document.querySelector('#df-17f5fc59-de2d-4f5e-9ac9-9585ae858eee');\n",
              "          const dataTable =\n",
              "            await google.colab.kernel.invokeFunction('convertToInteractive',\n",
              "                                                     [key], {});\n",
              "          if (!dataTable) return;\n",
              "\n",
              "          const docLinkHtml = 'Like what you see? Visit the ' +\n",
              "            '<a target=\"_blank\" href=https://colab.research.google.com/notebooks/data_table.ipynb>data table notebook</a>'\n",
              "            + ' to learn more about interactive tables.';\n",
              "          element.innerHTML = '';\n",
              "          dataTable['output_type'] = 'display_data';\n",
              "          await google.colab.output.renderOutput(dataTable, element);\n",
              "          const docLink = document.createElement('div');\n",
              "          docLink.innerHTML = docLinkHtml;\n",
              "          element.appendChild(docLink);\n",
              "        }\n",
              "      </script>\n",
              "    </div>\n",
              "  </div>\n",
              "  "
            ]
          },
          "metadata": {},
          "execution_count": 409
        }
      ]
    },
    {
      "cell_type": "code",
      "execution_count": null,
      "metadata": {
        "id": "pJWhZt3CkX4T"
      },
      "outputs": [],
      "source": [
        "news_features = np.array(news_data['article'])\n",
        "news_labels = np.array(news_data['label'])"
      ]
    },
    {
      "cell_type": "code",
      "execution_count": null,
      "metadata": {
        "colab": {
          "base_uri": "https://localhost:8080/"
        },
        "id": "1CaPlHiuCqXl",
        "outputId": "05bae3ad-793b-4d38-ec17-c1d1a9ddd1cb"
      },
      "outputs": [
        {
          "output_type": "stream",
          "name": "stderr",
          "text": [
            "[nltk_data] Downloading package stopwords to /root/nltk_data...\n",
            "[nltk_data]   Package stopwords is already up-to-date!\n",
            "[nltk_data] Downloading package punkt to /root/nltk_data...\n",
            "[nltk_data]   Package punkt is already up-to-date!\n"
          ]
        }
      ],
      "source": [
        "import nltk\n",
        "from nltk.stem.snowball import EnglishStemmer\n",
        "from nltk.corpus import stopwords\n",
        "nltk.download('stopwords')\n",
        "nltk.download('punkt')\n",
        "\n",
        "preprocessor = huggingface_stats.Preprocessor(stemmer=EnglishStemmer(),\n",
        "                                              stopwords=stopwords.words('english'),\n",
        "                                              re_pattern=re.compile(\"[a-zA-Z]\"))\n",
        "\n",
        "# pas deze if-statement aan om keyword filteren aan of uit te zetten\n",
        "filter_by_keywords = False\n",
        "if filter_by_keywords:\n",
        "    positive_keywords = ['accident','disaster','catastrophe','incident','near-miss', 'tragedy', 'victim',\n",
        "                         'casualties','died','killed','damage','harm','hospital','hospitalized',\n",
        "                         'wounded','succumbed','unscathed','evacuate','rescue','first responders','ambulance',\n",
        "                         'first aid', 'sunk','fire','derailed','collision','poisoned','burned', 'safety']\n",
        "    negative_keywords = ['gunman', 'suspect', 'attack', 'terror', 'war', 'bombing', 'militants', 'bombs',\n",
        "                         'conflict', 'hijacking']\n",
        "    preprocessor.init_keyword_filter(positive=positive_keywords,\n",
        "                                     pos_threshold=3,\n",
        "                                     negative=negative_keywords,\n",
        "                                     neg_threshold=3)\n",
        "    pass_filter = preprocessor.batch_keyword_filter(docs=news_features.tolist(), show_progress=True)\n",
        "    news_features = news_features[np.array(pass_filter)]\n",
        "    news_labels = news_labels[np.array(pass_filter)]\n",
        "    print('\\n')\n",
        "    print(np.sum(np.array(pass_filter) == True), 'articles passed')\n",
        "    print(np.sum(np.array(pass_filter) == False), 'articles did not pass')"
      ]
    },
    {
      "cell_type": "code",
      "execution_count": null,
      "metadata": {
        "colab": {
          "base_uri": "https://localhost:8080/"
        },
        "id": "8VPeq0f7kvOI",
        "outputId": "9eaab57f-8a1a-4eea-9e9c-942d9606b4f7"
      },
      "outputs": [
        {
          "output_type": "execute_result",
          "data": {
            "text/plain": [
              "978"
            ]
          },
          "metadata": {},
          "execution_count": 412
        }
      ],
      "source": [
        "len(news_labels)"
      ]
    },
    {
      "cell_type": "code",
      "execution_count": null,
      "metadata": {
        "id": "PU7afNeskweq"
      },
      "outputs": [],
      "source": [
        "\n",
        "from sklearn.model_selection import train_test_split\n",
        "docs_train, docs_test, y_train, y_test = train_test_split(news_features, news_labels, test_size=.20)\n",
        "docs_train, docs_val, y_train, y_val = train_test_split(docs_train, y_train, test_size=.20)\n",
        "\n",
        "\n",
        "AUTOTUNE = tf.data.AUTOTUNE\n",
        "BATCH_SIZE = 64\n",
        "SHUFFLE_BUFFER_SIZE = 100\n",
        "\n",
        "\n",
        "raw_train_ds = tf.data.Dataset.from_tensor_slices((docs_train, y_train))\n",
        "raw_val_ds = tf.data.Dataset.from_tensor_slices((docs_val, y_val))\n",
        "raw_test_ds = tf.data.Dataset.from_tensor_slices((docs_test, y_test))\n",
        "\n",
        "raw_train_ds = raw_train_ds.shuffle(SHUFFLE_BUFFER_SIZE).batch(BATCH_SIZE)\n",
        "raw_val_ds = raw_val_ds.batch(BATCH_SIZE)\n",
        "raw_test_ds = raw_test_ds.batch(BATCH_SIZE)\n",
        "\n",
        "train_ds = raw_train_ds.cache().prefetch(buffer_size=AUTOTUNE)\n",
        "val_ds = raw_val_ds.cache().prefetch(buffer_size=AUTOTUNE)\n",
        "test_ds = raw_test_ds.cache().prefetch(buffer_size=AUTOTUNE)\n"
      ]
    },
    {
      "cell_type": "code",
      "execution_count": null,
      "metadata": {
        "colab": {
          "base_uri": "https://localhost:8080/"
        },
        "id": "mOg9gSNNm8k3",
        "outputId": "a066c9c0-e98c-4eb8-900d-60d3835cf09d"
      },
      "outputs": [
        {
          "output_type": "execute_result",
          "data": {
            "text/plain": [
              "<PrefetchDataset element_spec=(TensorSpec(shape=(None,), dtype=tf.string, name=None), TensorSpec(shape=(None,), dtype=tf.int64, name=None))>"
            ]
          },
          "metadata": {},
          "execution_count": 414
        }
      ],
      "source": [
        "val_ds"
      ]
    },
    {
      "cell_type": "code",
      "execution_count": null,
      "metadata": {
        "colab": {
          "base_uri": "https://localhost:8080/"
        },
        "id": "vwdxyNeom9ei",
        "outputId": "88f2ff2d-8432-4c38-f0fd-eee7289680ef"
      },
      "outputs": [
        {
          "output_type": "stream",
          "name": "stdout",
          "text": [
            "Article> b'TAMPA, Florida (CNN) -- Some Florida minimum-security inmates want to know: Can you handle the heat? Inmates work with peppers at the Hillsborough County Jail in Tampa, Florida. Hot sauce heat, that is -- Jail House Fire Hot Sauce, cooked up by inmates at the Hillsborough County Jail and now offered for sale. The idea to make Jail House Fire Hot Sauce came from a Cuban former inmate who thought food in the big house was bland. Allen Boatman, the head of the jail\\'s horticulture program, remembers what his former trusty said: \"We\\'re growing these peppers. Why don\\'t we use them?\" Peppers are grown as part of the jail\\'s horticulture program, which is voluntary and offered only to minimum-security trusties. The inmates learn about growing plants, ornamentals, trees, herbs and vegetables -- including more than 1,200 varieties of peppers. \"I thought that was a great idea, so I started doing research on some of the recipes,\" says Boatman. The research led to a variety of hot sauces that can be bought for $7 a bottle at the jail in Tampa, Florida, or online at www.jailhousefire.org. There are three different sauces for sale: . Coming soon is a fourth sauce: Misdemeanor.  Watch the inmates at work on hot sauce \\xc2\\xbb . Orders for the Jail House Fire sauces have come in from as far away as Germany, England and even Australia. The inmates make no money from this product. The money goes back into an inmate fund that pays for things like the greenhouse where the peppers are grown. The horticulture program pays for itself, says Boatman, so no taxpayer money is used. Several times a year the program hosts a sale of its ornamentals, shrubs and trees, and the locals turn up to support the program. The money raised is used to purchase necessities like fertilizer and soil. A green thumb is not the only thing that inmate and program member Deline is developing, he says. \"We learn a lot about professionalism, respect, teamwork, ya know -- all that helps,\" Deline says. And working in the fields is good for the inmates\\' self-worth, Boatman says. \"They actually see something growing that they\\'ve been involved in. It gives them a lot of sense of pride and accomplishment,\" says Boatman. \"Possibly that\\'ll give them some momentum when they are released to go and get a job and start being a productive member of society.\" Boatman doesn\\'t just wish his trusties a good future; he gives them an opportunity. When the inmates are released, they are given a certificate of completion in vocational horticulture. This certificate comes from the school board, with no mention of the program behind bars. Deline hopes this will work in his favor when he starts looking for a job. \"Florida is full of a lot of landscaping [and] landscaping companies, a lot of nursery companies,\" Deline says. \"Maybe I can use the experience to better myself in the future.\"'\n",
            "Label> 0\n",
            "Article> b'BANGKOK, Thailand (CNN)  -- At least 59 people were killed in a fire that broke out early Thursday at one of Bangkok\\'s most upscale nightclubs, where about 1,000 revelers were ringing in the new year, Thai police said. Rescue officials work at the scene of the fire in Thailand. Most of the dead were Thai, but foreigners have been identified, among them from Australia, the Netherlands, Nepal and Japan, police said. Another 100 people were believed injured. The fire, at a club called Santika, started at about 12:35 a.m. (1735 GMT), police told CNN. The blaze started near a stage where fireworks were being used as part of a performance, according to authorities.  Watch the fire engulf the building \\xc2\\xbb . Most of those who died in the building suffered smoke inhalation or were trampled in a rush to get out of the club, they said. British citizen Andrew Jones said he was celebrating in the area when he walked up on the fire. He said he saw victims being rushed out of the fire on stretchers and spoke to witnesses, including a fellow Briton who saw fireworks being lit onstage. \"He immediately ran out of the building, but immediately when he\\'d done that the lights went out and he couldn\\'t see,\" Jones said. The club is located in one of Bangkok\\'s busiest commercial districts. Its Web site features images of bands and DJs performing on both indoor and outdoor stages, and says that it \"innovatively blends the comfort of nature with the excitement of the Bangkok nightlife.\" The site advertises the club\\'s new year\\'s party, which was named \"Goodbye Santika.\" CNN\\'s Kocha Olarn contributed to this report.'\n",
            "Label> 1\n",
            "Article> b'Washington (CNN) -- An Arkansas man has pleaded guilty to plotting to kill several African-Americans in 2008, including then-presidential candidate Barack Obama, the Justice Department announced Thursday. Paul Schlesselman of West Helena, Arkansas, faces 10 years in prison under a plea agreement reached with federal prosecutors in Tennessee. Federal officials in Washington said Schlesselman threatened to kill then-Sen. Obama on October 23, 2008, shortly before the presidential election. He also planned to \"murder dozens of people with a focus on murdering African-Americans\" the Justice Department said. \"Despite great civil rights progress, hate-fueled violence remains all too common in our country, as illustrated by this unthinkable conspiracy,\" said Assistant Attorney General for Civil Rights Thomas Perez in a statement issued by his Justice Department office.'\n",
            "Label> 0\n"
          ]
        }
      ],
      "source": [
        "for text_batch, label_batch in train_ds.take(1):\n",
        "  for i in range(3):\n",
        "    print(\"Article>\", text_batch.numpy()[i])\n",
        "    print(\"Label>\", label_batch.numpy()[i])"
      ]
    },
    {
      "cell_type": "code",
      "execution_count": null,
      "metadata": {
        "colab": {
          "base_uri": "https://localhost:8080/"
        },
        "id": "MrLL9rhaw5Jw",
        "outputId": "47eb29da-34a8-4d49-f375-b25e8434f1ab"
      },
      "outputs": [
        {
          "output_type": "stream",
          "name": "stdout",
          "text": [
            "BERT model selected           : https://tfhub.dev/tensorflow/small_bert/bert_en_uncased_L-8_H-768_A-12/1\n",
            "Preprocess model auto-selected: https://tfhub.dev/tensorflow/bert_en_uncased_preprocess/3\n"
          ]
        }
      ],
      "source": [
        "#@title Choose a BERT model to fine-tune\n",
        "\n",
        "bert_model_name = 'small_bert/bert_en_uncased_L-8_H-768_A-12'  #@param [\"bert_en_uncased_L-12_H-768_A-12\", \"bert_en_cased_L-12_H-768_A-12\", \"bert_multi_cased_L-12_H-768_A-12\", \"small_bert/bert_en_uncased_L-2_H-128_A-2\", \"small_bert/bert_en_uncased_L-2_H-256_A-4\", \"small_bert/bert_en_uncased_L-2_H-512_A-8\", \"small_bert/bert_en_uncased_L-2_H-768_A-12\", \"small_bert/bert_en_uncased_L-4_H-128_A-2\", \"small_bert/bert_en_uncased_L-4_H-256_A-4\", \"small_bert/bert_en_uncased_L-4_H-512_A-8\", \"small_bert/bert_en_uncased_L-4_H-768_A-12\", \"small_bert/bert_en_uncased_L-6_H-128_A-2\", \"small_bert/bert_en_uncased_L-6_H-256_A-4\", \"small_bert/bert_en_uncased_L-6_H-512_A-8\", \"small_bert/bert_en_uncased_L-6_H-768_A-12\", \"small_bert/bert_en_uncased_L-8_H-128_A-2\", \"small_bert/bert_en_uncased_L-8_H-256_A-4\", \"small_bert/bert_en_uncased_L-8_H-512_A-8\", \"small_bert/bert_en_uncased_L-8_H-768_A-12\", \"small_bert/bert_en_uncased_L-10_H-128_A-2\", \"small_bert/bert_en_uncased_L-10_H-256_A-4\", \"small_bert/bert_en_uncased_L-10_H-512_A-8\", \"small_bert/bert_en_uncased_L-10_H-768_A-12\", \"small_bert/bert_en_uncased_L-12_H-128_A-2\", \"small_bert/bert_en_uncased_L-12_H-256_A-4\", \"small_bert/bert_en_uncased_L-12_H-512_A-8\", \"small_bert/bert_en_uncased_L-12_H-768_A-12\", \"albert_en_base\", \"electra_small\", \"electra_base\", \"experts_pubmed\", \"experts_wiki_books\", \"talking-heads_base\"]\n",
        "\n",
        "map_name_to_handle = {\n",
        "    'bert_en_uncased_L-12_H-768_A-12':\n",
        "        'https://tfhub.dev/tensorflow/bert_en_uncased_L-12_H-768_A-12/3',\n",
        "    'bert_en_cased_L-12_H-768_A-12':\n",
        "        'https://tfhub.dev/tensorflow/bert_en_cased_L-12_H-768_A-12/3',\n",
        "    'bert_multi_cased_L-12_H-768_A-12':\n",
        "        'https://tfhub.dev/tensorflow/bert_multi_cased_L-12_H-768_A-12/3',\n",
        "    'small_bert/bert_en_uncased_L-2_H-128_A-2':\n",
        "        'https://tfhub.dev/tensorflow/small_bert/bert_en_uncased_L-2_H-128_A-2/1',\n",
        "    'small_bert/bert_en_uncased_L-2_H-256_A-4':\n",
        "        'https://tfhub.dev/tensorflow/small_bert/bert_en_uncased_L-2_H-256_A-4/1',\n",
        "    'small_bert/bert_en_uncased_L-2_H-512_A-8':\n",
        "        'https://tfhub.dev/tensorflow/small_bert/bert_en_uncased_L-2_H-512_A-8/1',\n",
        "    'small_bert/bert_en_uncased_L-2_H-768_A-12':\n",
        "        'https://tfhub.dev/tensorflow/small_bert/bert_en_uncased_L-2_H-768_A-12/1',\n",
        "    'small_bert/bert_en_uncased_L-4_H-128_A-2':\n",
        "        'https://tfhub.dev/tensorflow/small_bert/bert_en_uncased_L-4_H-128_A-2/1',\n",
        "    'small_bert/bert_en_uncased_L-4_H-256_A-4':\n",
        "        'https://tfhub.dev/tensorflow/small_bert/bert_en_uncased_L-4_H-256_A-4/1',\n",
        "    'small_bert/bert_en_uncased_L-4_H-512_A-8':\n",
        "        'https://tfhub.dev/tensorflow/small_bert/bert_en_uncased_L-4_H-512_A-8/1',\n",
        "    'small_bert/bert_en_uncased_L-4_H-768_A-12':\n",
        "        'https://tfhub.dev/tensorflow/small_bert/bert_en_uncased_L-4_H-768_A-12/1',\n",
        "    'small_bert/bert_en_uncased_L-6_H-128_A-2':\n",
        "        'https://tfhub.dev/tensorflow/small_bert/bert_en_uncased_L-6_H-128_A-2/1',\n",
        "    'small_bert/bert_en_uncased_L-6_H-256_A-4':\n",
        "        'https://tfhub.dev/tensorflow/small_bert/bert_en_uncased_L-6_H-256_A-4/1',\n",
        "    'small_bert/bert_en_uncased_L-6_H-512_A-8':\n",
        "        'https://tfhub.dev/tensorflow/small_bert/bert_en_uncased_L-6_H-512_A-8/1',\n",
        "    'small_bert/bert_en_uncased_L-6_H-768_A-12':\n",
        "        'https://tfhub.dev/tensorflow/small_bert/bert_en_uncased_L-6_H-768_A-12/1',\n",
        "    'small_bert/bert_en_uncased_L-8_H-128_A-2':\n",
        "        'https://tfhub.dev/tensorflow/small_bert/bert_en_uncased_L-8_H-128_A-2/1',\n",
        "    'small_bert/bert_en_uncased_L-8_H-256_A-4':\n",
        "        'https://tfhub.dev/tensorflow/small_bert/bert_en_uncased_L-8_H-256_A-4/1',\n",
        "    'small_bert/bert_en_uncased_L-8_H-512_A-8':\n",
        "        'https://tfhub.dev/tensorflow/small_bert/bert_en_uncased_L-8_H-512_A-8/1',\n",
        "    'small_bert/bert_en_uncased_L-8_H-768_A-12':\n",
        "        'https://tfhub.dev/tensorflow/small_bert/bert_en_uncased_L-8_H-768_A-12/1',\n",
        "    'small_bert/bert_en_uncased_L-10_H-128_A-2':\n",
        "        'https://tfhub.dev/tensorflow/small_bert/bert_en_uncased_L-10_H-128_A-2/1',\n",
        "    'small_bert/bert_en_uncased_L-10_H-256_A-4':\n",
        "        'https://tfhub.dev/tensorflow/small_bert/bert_en_uncased_L-10_H-256_A-4/1',\n",
        "    'small_bert/bert_en_uncased_L-10_H-512_A-8':\n",
        "        'https://tfhub.dev/tensorflow/small_bert/bert_en_uncased_L-10_H-512_A-8/1',\n",
        "    'small_bert/bert_en_uncased_L-10_H-768_A-12':\n",
        "        'https://tfhub.dev/tensorflow/small_bert/bert_en_uncased_L-10_H-768_A-12/1',\n",
        "    'small_bert/bert_en_uncased_L-12_H-128_A-2':\n",
        "        'https://tfhub.dev/tensorflow/small_bert/bert_en_uncased_L-12_H-128_A-2/1',\n",
        "    'small_bert/bert_en_uncased_L-12_H-256_A-4':\n",
        "        'https://tfhub.dev/tensorflow/small_bert/bert_en_uncased_L-12_H-256_A-4/1',\n",
        "    'small_bert/bert_en_uncased_L-12_H-512_A-8':\n",
        "        'https://tfhub.dev/tensorflow/small_bert/bert_en_uncased_L-12_H-512_A-8/1',\n",
        "    'small_bert/bert_en_uncased_L-12_H-768_A-12':\n",
        "        'https://tfhub.dev/tensorflow/small_bert/bert_en_uncased_L-12_H-768_A-12/1',\n",
        "    'albert_en_base':\n",
        "        'https://tfhub.dev/tensorflow/albert_en_base/2',\n",
        "    'electra_small':\n",
        "        'https://tfhub.dev/google/electra_small/2',\n",
        "    'electra_base':\n",
        "        'https://tfhub.dev/google/electra_base/2',\n",
        "    'experts_pubmed':\n",
        "        'https://tfhub.dev/google/experts/bert/pubmed/2',\n",
        "    'experts_wiki_books':\n",
        "        'https://tfhub.dev/google/experts/bert/wiki_books/2',\n",
        "    'talking-heads_base':\n",
        "        'https://tfhub.dev/tensorflow/talkheads_ggelu_bert_en_base/1',\n",
        "}\n",
        "\n",
        "map_model_to_preprocess = {\n",
        "    'bert_en_uncased_L-12_H-768_A-12':\n",
        "        'https://tfhub.dev/tensorflow/bert_en_uncased_preprocess/3',\n",
        "    'bert_en_cased_L-12_H-768_A-12':\n",
        "        'https://tfhub.dev/tensorflow/bert_en_cased_preprocess/3',\n",
        "    'small_bert/bert_en_uncased_L-2_H-128_A-2':\n",
        "        'https://tfhub.dev/tensorflow/bert_en_uncased_preprocess/3',\n",
        "    'small_bert/bert_en_uncased_L-2_H-256_A-4':\n",
        "        'https://tfhub.dev/tensorflow/bert_en_uncased_preprocess/3',\n",
        "    'small_bert/bert_en_uncased_L-2_H-512_A-8':\n",
        "        'https://tfhub.dev/tensorflow/bert_en_uncased_preprocess/3',\n",
        "    'small_bert/bert_en_uncased_L-2_H-768_A-12':\n",
        "        'https://tfhub.dev/tensorflow/bert_en_uncased_preprocess/3',\n",
        "    'small_bert/bert_en_uncased_L-4_H-128_A-2':\n",
        "        'https://tfhub.dev/tensorflow/bert_en_uncased_preprocess/3',\n",
        "    'small_bert/bert_en_uncased_L-4_H-256_A-4':\n",
        "        'https://tfhub.dev/tensorflow/bert_en_uncased_preprocess/3',\n",
        "    'small_bert/bert_en_uncased_L-4_H-512_A-8':\n",
        "        'https://tfhub.dev/tensorflow/bert_en_uncased_preprocess/3',\n",
        "    'small_bert/bert_en_uncased_L-4_H-768_A-12':\n",
        "        'https://tfhub.dev/tensorflow/bert_en_uncased_preprocess/3',\n",
        "    'small_bert/bert_en_uncased_L-6_H-128_A-2':\n",
        "        'https://tfhub.dev/tensorflow/bert_en_uncased_preprocess/3',\n",
        "    'small_bert/bert_en_uncased_L-6_H-256_A-4':\n",
        "        'https://tfhub.dev/tensorflow/bert_en_uncased_preprocess/3',\n",
        "    'small_bert/bert_en_uncased_L-6_H-512_A-8':\n",
        "        'https://tfhub.dev/tensorflow/bert_en_uncased_preprocess/3',\n",
        "    'small_bert/bert_en_uncased_L-6_H-768_A-12':\n",
        "        'https://tfhub.dev/tensorflow/bert_en_uncased_preprocess/3',\n",
        "    'small_bert/bert_en_uncased_L-8_H-128_A-2':\n",
        "        'https://tfhub.dev/tensorflow/bert_en_uncased_preprocess/3',\n",
        "    'small_bert/bert_en_uncased_L-8_H-256_A-4':\n",
        "        'https://tfhub.dev/tensorflow/bert_en_uncased_preprocess/3',\n",
        "    'small_bert/bert_en_uncased_L-8_H-512_A-8':\n",
        "        'https://tfhub.dev/tensorflow/bert_en_uncased_preprocess/3',\n",
        "    'small_bert/bert_en_uncased_L-8_H-768_A-12':\n",
        "        'https://tfhub.dev/tensorflow/bert_en_uncased_preprocess/3',\n",
        "    'small_bert/bert_en_uncased_L-10_H-128_A-2':\n",
        "        'https://tfhub.dev/tensorflow/bert_en_uncased_preprocess/3',\n",
        "    'small_bert/bert_en_uncased_L-10_H-256_A-4':\n",
        "        'https://tfhub.dev/tensorflow/bert_en_uncased_preprocess/3',\n",
        "    'small_bert/bert_en_uncased_L-10_H-512_A-8':\n",
        "        'https://tfhub.dev/tensorflow/bert_en_uncased_preprocess/3',\n",
        "    'small_bert/bert_en_uncased_L-10_H-768_A-12':\n",
        "        'https://tfhub.dev/tensorflow/bert_en_uncased_preprocess/3',\n",
        "    'small_bert/bert_en_uncased_L-12_H-128_A-2':\n",
        "        'https://tfhub.dev/tensorflow/bert_en_uncased_preprocess/3',\n",
        "    'small_bert/bert_en_uncased_L-12_H-256_A-4':\n",
        "        'https://tfhub.dev/tensorflow/bert_en_uncased_preprocess/3',\n",
        "    'small_bert/bert_en_uncased_L-12_H-512_A-8':\n",
        "        'https://tfhub.dev/tensorflow/bert_en_uncased_preprocess/3',\n",
        "    'small_bert/bert_en_uncased_L-12_H-768_A-12':\n",
        "        'https://tfhub.dev/tensorflow/bert_en_uncased_preprocess/3',\n",
        "    'bert_multi_cased_L-12_H-768_A-12':\n",
        "        'https://tfhub.dev/tensorflow/bert_multi_cased_preprocess/3',\n",
        "    'albert_en_base':\n",
        "        'https://tfhub.dev/tensorflow/albert_en_preprocess/3',\n",
        "    'electra_small':\n",
        "        'https://tfhub.dev/tensorflow/bert_en_uncased_preprocess/3',\n",
        "    'electra_base':\n",
        "        'https://tfhub.dev/tensorflow/bert_en_uncased_preprocess/3',\n",
        "    'experts_pubmed':\n",
        "        'https://tfhub.dev/tensorflow/bert_en_uncased_preprocess/3',\n",
        "    'experts_wiki_books':\n",
        "        'https://tfhub.dev/tensorflow/bert_en_uncased_preprocess/3',\n",
        "    'talking-heads_base':\n",
        "        'https://tfhub.dev/tensorflow/bert_en_uncased_preprocess/3',\n",
        "}\n",
        "\n",
        "tfhub_handle_encoder = map_name_to_handle[bert_model_name]\n",
        "tfhub_handle_preprocess = map_model_to_preprocess[bert_model_name]\n",
        "\n",
        "print(f'BERT model selected           : {tfhub_handle_encoder}')\n",
        "print(f'Preprocess model auto-selected: {tfhub_handle_preprocess}')"
      ]
    },
    {
      "cell_type": "code",
      "execution_count": null,
      "metadata": {
        "id": "u72UFG23xCBC"
      },
      "outputs": [],
      "source": [
        "bert_preprocess_model = hub.KerasLayer(tfhub_handle_preprocess)"
      ]
    },
    {
      "cell_type": "code",
      "execution_count": null,
      "metadata": {
        "colab": {
          "base_uri": "https://localhost:8080/"
        },
        "id": "AYZ-mVR5xJGt",
        "outputId": "fb57fa47-7538-4b52-b780-97ff58db9f35"
      },
      "outputs": [
        {
          "output_type": "stream",
          "name": "stdout",
          "text": [
            "Keys       : ['input_mask', 'input_type_ids', 'input_word_ids']\n",
            "Shape      : (1, 128)\n",
            "Word Ids   : [ 101 1037 2810 7309 3062 2046 1037 4920 1012  102    0    0]\n",
            "Input Mask : [1 1 1 1 1 1 1 1 1 1 0 0]\n",
            "Type Ids   : [0 0 0 0 0 0 0 0 0 0 0 0]\n"
          ]
        }
      ],
      "source": [
        "text_test = ['a construction worker fell into a hole.']\n",
        "text_preprocessed = bert_preprocess_model(text_test)\n",
        "\n",
        "print(f'Keys       : {list(text_preprocessed.keys())}')\n",
        "print(f'Shape      : {text_preprocessed[\"input_word_ids\"].shape}')\n",
        "print(f'Word Ids   : {text_preprocessed[\"input_word_ids\"][0, :12]}')\n",
        "print(f'Input Mask : {text_preprocessed[\"input_mask\"][0, :12]}')\n",
        "print(f'Type Ids   : {text_preprocessed[\"input_type_ids\"][0, :12]}')"
      ]
    },
    {
      "cell_type": "code",
      "execution_count": null,
      "metadata": {
        "id": "TgXwwCHfxPxV"
      },
      "outputs": [],
      "source": [
        "bert_model = hub.KerasLayer(tfhub_handle_encoder)"
      ]
    },
    {
      "cell_type": "code",
      "execution_count": null,
      "metadata": {
        "colab": {
          "base_uri": "https://localhost:8080/"
        },
        "id": "Gl5xqLG3xfq6",
        "outputId": "6aaf4fce-8ac8-41d6-9707-005285c713fd"
      },
      "outputs": [
        {
          "output_type": "stream",
          "name": "stdout",
          "text": [
            "Loaded BERT: https://tfhub.dev/tensorflow/small_bert/bert_en_uncased_L-8_H-768_A-12/1\n",
            "Pooled Outputs Shape:(1, 768)\n",
            "Pooled Outputs Values:[-0.3087866  -0.9372096   0.05005116 -0.09977908  0.55140865 -0.20155746\n",
            "  0.24685784 -0.06625542  0.15892512 -0.9913968  -0.7660633  -0.43341866]\n",
            "Sequence Outputs Shape:(1, 128, 768)\n",
            "Sequence Outputs Values:[[ 0.19435674  0.6138562   0.29798654 ... -0.29990703  0.04878591\n",
            "  -0.21768166]\n",
            " [ 0.5660328   0.00149103  0.29070723 ... -0.07158913  0.21198297\n",
            "   0.27493826]\n",
            " [-0.0177968  -0.06268548  0.5538385  ... -0.32463932 -0.30568117\n",
            "   0.36230296]\n",
            " ...\n",
            " [ 0.06390896  0.29781672  0.10772306 ... -0.4038945  -0.5364255\n",
            "  -0.52297974]\n",
            " [ 0.3582303  -0.01144127  0.38985133 ...  0.21105935  0.10712638\n",
            "   0.22766595]\n",
            " [ 0.38708654 -0.05004887  0.41027212 ...  0.07154264  0.09816952\n",
            "   0.23685086]]\n"
          ]
        }
      ],
      "source": [
        "bert_results = bert_model(text_preprocessed)\n",
        "\n",
        "print(f'Loaded BERT: {tfhub_handle_encoder}')\n",
        "print(f'Pooled Outputs Shape:{bert_results[\"pooled_output\"].shape}')\n",
        "print(f'Pooled Outputs Values:{bert_results[\"pooled_output\"][0, :12]}')\n",
        "print(f'Sequence Outputs Shape:{bert_results[\"sequence_output\"].shape}')\n",
        "print(f'Sequence Outputs Values:{bert_results[\"sequence_output\"][0, :12]}')"
      ]
    },
    {
      "cell_type": "code",
      "execution_count": null,
      "metadata": {
        "id": "CfZ-BqDoxlAL"
      },
      "outputs": [],
      "source": [
        "def build_classifier_model():\n",
        "  text_input = tf.keras.layers.Input(shape=(), dtype=tf.string, name='text')\n",
        "  preprocessing_layer = hub.KerasLayer(tfhub_handle_preprocess, name='preprocessing')\n",
        "  encoder_inputs = preprocessing_layer(text_input)\n",
        "  encoder = hub.KerasLayer(tfhub_handle_encoder, trainable=True, name='BERT_encoder')\n",
        "  outputs = encoder(encoder_inputs)\n",
        "  net = outputs['pooled_output']\n",
        "  net = tf.keras.layers.Dropout(0.1)(net)\n",
        "  net = tf.keras.layers.Dense(1, activation=None, name='classifier')(net)\n",
        "  return tf.keras.Model(text_input, net)"
      ]
    },
    {
      "cell_type": "code",
      "execution_count": null,
      "metadata": {
        "colab": {
          "base_uri": "https://localhost:8080/"
        },
        "id": "iRBMBgqkxnFE",
        "outputId": "44786249-66a0-4161-b160-a028185419eb"
      },
      "outputs": [
        {
          "output_type": "stream",
          "name": "stdout",
          "text": [
            "tf.Tensor([[0.30526137]], shape=(1, 1), dtype=float32)\n"
          ]
        }
      ],
      "source": [
        "classifier_model = build_classifier_model()\n",
        "bert_raw_result = classifier_model(tf.constant(text_test))\n",
        "print(tf.sigmoid(bert_raw_result))"
      ]
    },
    {
      "cell_type": "code",
      "execution_count": null,
      "metadata": {
        "colab": {
          "base_uri": "https://localhost:8080/",
          "height": 466
        },
        "id": "vsm8OekPxt3t",
        "outputId": "ce7f3a0b-aabb-4a83-f3b6-3e4672de5b76"
      },
      "outputs": [
        {
          "output_type": "execute_result",
          "data": {
            "text/plain": [
              "<IPython.core.display.Image object>"
            ],
            "image/png": "[encoded data removed]"
          },
          "metadata": {},
          "execution_count": 423
        }
      ],
      "source": [
        "tf.keras.utils.plot_model(classifier_model)"
      ]
    },
    {
      "cell_type": "code",
      "execution_count": null,
      "metadata": {
        "id": "dAIbG4qWxyI1"
      },
      "outputs": [],
      "source": [
        "loss = tf.keras.losses.BinaryCrossentropy(from_logits=True)\n",
        "metrics = tf.metrics.BinaryAccuracy()"
      ]
    },
    {
      "cell_type": "code",
      "execution_count": null,
      "metadata": {
        "id": "HhDPs-xTx0pe"
      },
      "outputs": [],
      "source": [
        "epochs = 5\n",
        "steps_per_epoch = tf.data.experimental.cardinality(train_ds).numpy()\n",
        "num_train_steps = steps_per_epoch * epochs\n",
        "num_warmup_steps = int(0.1*num_train_steps)\n",
        "\n",
        "init_lr = 3e-5\n",
        "optimizer = optimization.create_optimizer(init_lr=init_lr,\n",
        "                                          num_train_steps=num_train_steps,\n",
        "                                          num_warmup_steps=num_warmup_steps,\n",
        "                                          optimizer_type='adamw')"
      ]
    },
    {
      "cell_type": "code",
      "execution_count": null,
      "metadata": {
        "id": "UymQHF5Ax1fr"
      },
      "outputs": [],
      "source": [
        "classifier_model.compile(optimizer=optimizer,\n",
        "                         loss=loss,\n",
        "                         metrics=metrics)"
      ]
    },
    {
      "cell_type": "code",
      "execution_count": null,
      "metadata": {
        "colab": {
          "base_uri": "https://localhost:8080/"
        },
        "id": "7J4w1KHZx8Cd",
        "outputId": "7a4a2fdc-a77b-44f2-efc2-bd2612ca88d8"
      },
      "outputs": [
        {
          "output_type": "stream",
          "name": "stdout",
          "text": [
            "Training model with https://tfhub.dev/tensorflow/small_bert/bert_en_uncased_L-8_H-768_A-12/1\n",
            "Epoch 1/5\n",
            "10/10 [==============================] - 27s 2s/step - loss: 0.6775 - binary_accuracy: 0.6096 - val_loss: 0.4758 - val_binary_accuracy: 0.7898\n",
            "Epoch 2/5\n",
            "10/10 [==============================] - 15s 2s/step - loss: 0.4236 - binary_accuracy: 0.8096 - val_loss: 0.3537 - val_binary_accuracy: 0.8535\n",
            "Epoch 3/5\n",
            "10/10 [==============================] - 15s 2s/step - loss: 0.3016 - binary_accuracy: 0.8720 - val_loss: 0.3326 - val_binary_accuracy: 0.8599\n",
            "Epoch 4/5\n",
            "10/10 [==============================] - 15s 1s/step - loss: 0.2536 - binary_accuracy: 0.8896 - val_loss: 0.3166 - val_binary_accuracy: 0.8726\n",
            "Epoch 5/5\n",
            "10/10 [==============================] - 15s 2s/step - loss: 0.2263 - binary_accuracy: 0.9088 - val_loss: 0.3118 - val_binary_accuracy: 0.8854\n"
          ]
        }
      ],
      "source": [
        "print(f'Training model with {tfhub_handle_encoder}')\n",
        "history = classifier_model.fit(x=train_ds,\n",
        "                               validation_data=val_ds,\n",
        "                               epochs=epochs)"
      ]
    },
    {
      "cell_type": "code",
      "execution_count": null,
      "metadata": {
        "colab": {
          "base_uri": "https://localhost:8080/"
        },
        "id": "QLklHLnR1Q9h",
        "outputId": "08796d4d-b78b-4840-c02a-c9fcbc50277c"
      },
      "outputs": [
        {
          "output_type": "stream",
          "name": "stdout",
          "text": [
            "4/4 [==============================] - 2s 414ms/step - loss: 0.2776 - binary_accuracy: 0.8673\n",
            "Loss: 0.27755385637283325\n",
            "Accuracy: 0.8673469424247742\n"
          ]
        }
      ],
      "source": [
        "loss, accuracy = classifier_model.evaluate(test_ds)\n",
        "\n",
        "print(f'Loss: {loss}')\n",
        "print(f'Accuracy: {accuracy}')"
      ]
    },
    {
      "cell_type": "code",
      "execution_count": null,
      "metadata": {
        "colab": {
          "base_uri": "https://localhost:8080/",
          "height": 441
        },
        "id": "ATgsFBFg1VVd",
        "outputId": "2b9085ea-7487-4632-9b93-ef0653164d3a"
      },
      "outputs": [
        {
          "output_type": "stream",
          "name": "stdout",
          "text": [
            "dict_keys(['loss', 'binary_accuracy', 'val_loss', 'val_binary_accuracy'])\n"
          ]
        },
        {
          "output_type": "execute_result",
          "data": {
            "text/plain": [
              "<matplotlib.legend.Legend at 0x7f5c8f08da50>"
            ]
          },
          "metadata": {},
          "execution_count": 429
        },
        {
          "output_type": "display_data",
          "data": {
            "text/plain": [
              "<Figure size 720x432 with 2 Axes>"
            ],
            "image/png": "[encoded data removed]"
          },
          "metadata": {
            "needs_background": "light"
          }
        }
      ],
      "source": [
        "history_dict = history.history\n",
        "print(history_dict.keys())\n",
        "\n",
        "acc = history_dict['binary_accuracy']\n",
        "val_acc = history_dict['val_binary_accuracy']\n",
        "loss = history_dict['loss']\n",
        "val_loss = history_dict['val_loss']\n",
        "\n",
        "epochs = range(1, len(acc) + 1)\n",
        "fig = plt.figure(figsize=(10, 6))\n",
        "fig.tight_layout()\n",
        "\n",
        "plt.subplot(2, 1, 1)\n",
        "# r is for \"solid red line\"\n",
        "plt.plot(epochs, loss, 'r', label='Training loss')\n",
        "# b is for \"solid blue line\"\n",
        "plt.plot(epochs, val_loss, 'b', label='Validation loss')\n",
        "plt.title('Training and validation loss')\n",
        "# plt.xlabel('Epochs')\n",
        "plt.ylabel('Loss')\n",
        "plt.legend()\n",
        "\n",
        "plt.subplot(2, 1, 2)\n",
        "plt.plot(epochs, acc, 'r', label='Training acc')\n",
        "plt.plot(epochs, val_acc, 'b', label='Validation acc')\n",
        "plt.title('Training and validation accuracy')\n",
        "plt.xlabel('Epochs')\n",
        "plt.ylabel('Accuracy')\n",
        "plt.legend(loc='lower right')"
      ]
    },
    {
      "cell_type": "code",
      "execution_count": null,
      "metadata": {
        "colab": {
          "base_uri": "https://localhost:8080/"
        },
        "id": "1H1fZssn1YX6",
        "outputId": "05d6985b-1374-4f50-e834-4d52422d36e0"
      },
      "outputs": [
        {
          "output_type": "stream",
          "name": "stderr",
          "text": [
            "WARNING:absl:Found untraced functions such as restored_function_body, restored_function_body, restored_function_body, restored_function_body, restored_function_body while saving (showing 5 of 244). These functions will not be directly callable after loading.\n"
          ]
        }
      ],
      "source": [
        "dataset_name = 'imdb'\n",
        "saved_model_path = './{}_bert'.format(dataset_name.replace('/', '_'))\n",
        "\n",
        "classifier_model.save(saved_model_path, include_optimizer=False)"
      ]
    },
    {
      "cell_type": "code",
      "execution_count": null,
      "metadata": {
        "id": "h0WRZWvs1iqj"
      },
      "outputs": [],
      "source": [
        "reloaded_model = tf.saved_model.load(saved_model_path)"
      ]
    },
    {
      "cell_type": "code",
      "execution_count": null,
      "metadata": {
        "id": "FLOSWtY12sRV"
      },
      "outputs": [],
      "source": [
        "test_acc = np.array(docs_test)[np.array(y_test) == 1]\n",
        "test_not_acc = np.array(docs_test)[np.array(y_test) == 0]"
      ]
    },
    {
      "cell_type": "code",
      "execution_count": null,
      "metadata": {
        "colab": {
          "base_uri": "https://localhost:8080/"
        },
        "id": "lNEfpAXA1oo8",
        "outputId": "b6bae69f-8d8f-4cf8-edf4-e689c2af98ca"
      },
      "outputs": [
        {
          "output_type": "stream",
          "name": "stdout",
          "text": [
            "Results from the saved model:\n",
            "input: a man died in a plane crash   \n",
            "score: 0.761087\n",
            "\n",
            "input: a new movie was released      \n",
            "score: 0.112701\n",
            "\n",
            "input: a man was murdered by a murderer\n",
            "score: 0.173487\n",
            "\n",
            "input: a man fell off scaffolding and hurt his leg\n",
            "score: 0.804738\n",
            "\n",
            "input: bees are pretty cool i decided\n",
            "score: 0.099714\n",
            "\n",
            "\n",
            "Results from the model in memory:\n",
            "input: a man died in a plane crash   \n",
            "score: 0.761087\n",
            "\n",
            "input: a new movie was released      \n",
            "score: 0.112701\n",
            "\n",
            "input: a man was murdered by a murderer\n",
            "score: 0.173487\n",
            "\n",
            "input: a man fell off scaffolding and hurt his leg\n",
            "score: 0.804738\n",
            "\n",
            "input: bees are pretty cool i decided\n",
            "score: 0.099714\n",
            "\n",
            "\n"
          ]
        }
      ],
      "source": [
        "def print_my_examples(inputs, results):\n",
        "  result_for_printing = \\\n",
        "    [f'input: {inputs[i]:<30}\\nscore: {results[i][0]:.6f}\\n'\n",
        "                         for i in range(len(inputs))]\n",
        "  print(*result_for_printing, sep='\\n')\n",
        "  print()\n",
        "\n",
        "\n",
        "examples = [\n",
        "    'a man died in a plane crash',\n",
        "    'a new movie was released',\n",
        "    'a man was murdered by a murderer',\n",
        "    'a man fell off scaffolding and hurt his leg',\n",
        "    'bees are pretty cool i decided'\n",
        "]\n",
        "\n",
        "reloaded_results = tf.sigmoid(reloaded_model(tf.constant(examples)))\n",
        "original_results = tf.sigmoid(classifier_model(tf.constant(examples)))\n",
        "\n",
        "print('Results from the saved model:')\n",
        "print_my_examples(examples, reloaded_results)\n",
        "print('Results from the model in memory:')\n",
        "print_my_examples(examples, original_results)"
      ]
    },
    {
      "cell_type": "code",
      "execution_count": null,
      "metadata": {
        "id": "YJRyBa3E14kv"
      },
      "outputs": [],
      "source": [
        ""
      ]
    },
    {
      "cell_type": "code",
      "execution_count": null,
      "metadata": {
        "colab": {
          "base_uri": "https://localhost:8080/"
        },
        "id": "n90vaHOX3D7l",
        "outputId": "7b77085c-ea59-413f-94d6-91bf1fdf63cc"
      },
      "outputs": [
        {
          "output_type": "stream",
          "name": "stdout",
          "text": [
            "input: (CNN) -- A raging blaze at a fuel storage complex in Puerto Rico lit up the night sky Friday near San Juan as firefighters battled to keep it from spreading further. iReporter Maria Marquez photographed the flames early Friday from the 17th floor of her San Juan condominium. Fifteen of the 40 tanks at the Caribbean Petroleum Corp. facility in the city of Bayamon were ablaze more than 19 hours after an explosion of unknown origin rocked the complex, Gov. Luis Fortuno said at an evening news conference. The governor had put the tally at 11 a few hours earlier. \"I don't think there's ever been a fire like this in Puerto Rico,\" Fire Lt. Jose Atorre told CNN affiliate WLII-TV. The fire started shortly after midnight, when at least one fuel tank exploded. Residents described a surreal scene after the blast woke them from their sleep and shattered windows miles away. \"I was in bed and all of a sudden heard this really horrible sound, so I ran upstairs and thought the whole town had blown up,\" said Teo Freytes, who filed an iReport for CNN. \"The explosion blew out windows here in Old San Juan,\" he said. \"It's still burning outrageously.\" Others woke up Friday morning to an extremely unusual sight. \"I didn't expect to see a mushroom cloud from my house,\" said Justin Gehrke, a U.S. Army civilian employee who also filed an iReport. Fortuno said he declared a state of emergency for the area so Puerto Rico can get aid from the Federal Emergency Management Agency. The storage and refinery complex sits near San Juan's bay, and Fortuno said officials are working to protect the water from being affected. \"We have serious worries that the bay or other bodies of water could be contaminated,\" he said. Caribbean Petroleum's Web site says the complex has storage facilities for gasoline and gasoline-related products. \"We have been monitoring the water visually and we have installed preventive pads and other material to contain a spill,\" said Pedro Nieves, chairman of the Puerto Rico Environmental Quality Board. \"No oil has reached the water.\" But Nieves said that Caribbean Petroleum has a history of spills and \"there was potential that it had contaminated ground water.\" He said he did not have any specifics on hand and that his organization was more focused on containing the current problem of fire and smoke. The U.S. Environmental Protection Agency did not immediately return calls about the company's environmental history. Newspaper and TV reports said a 4-inch pipe from a lagoon on the complex was broken, preventing firefighters from using 2 million gallons of water from the lake to battle the blaze. About 150 area firefighters and 215 National Guard personnel were battling to keep the blaze from spreading. One person suffered smoke inhalation and was taken to a hospital, Fortuno said. At least 350 people were evacuated to a nearby stadium. iReport.com: See, share, send images of the explosion . The smoke can be toxic for people with breathing conditions and officials have asked nearby residents to stay away, the governor said. \"This is a tremendous amount of smoke, and fire contains all kinds of irritants and this is oil that is burning,\" said Mary Mears, spokeswoman for the Environmental Protection Agency region that includes Puerto Rico. \"It's smoke, so you're going to notice coughing, tearing, maybe a sore throat.\" The wind shifted to the north Friday morning, blowing most of the smoke over less-populated areas and the Atlantic Ocean. The smoke plume also is rising 5,000 feet straight up before starting to drift, which keeps it away from people on the ground. \"The average air quality for Puerto Rico is still good,\" Nieves said. But the wind was expected to change Saturday morning, blowing the smoke over a large part of the island west of the fire. Officials also are concerned that rain mixed with the smoke could lead to acid rain. Authorities urged residents to bring in animals and their food and for people not to go out during or after any precipitation. The National Guard Combat Support Team was helping to monitor air quality and local environmental officials were working with the U.S. Environmental Protection Agency to install monitors near the blaze. Officials will investigate the cause of the blaze. Puerto Rico is a U.S. protectorate, which means federal officials are involved. The Bureau of Alcohol, Tobacco and Firearms sent a team of fire investigators, but have yet to determine whether the fire was an accident or set deliberately, said Orlando Felix, ATF Resident Agent in Charge of the Puerto Rico office. The FBI confirmed it is investigating graffiti found on two San Juan tunnels that referred to a fire. A spray-painted message on the two tunnels, less than three miles apart, said: \"Boom, fire, RIP, Gulf, Soul, ACNF.\" \"We have found graffiti in two different locations,\" FBI Special Agent Harry Rodriguez told CNN. \"We are looking into the matter as part of this investigation with respect to the fire at the fuel-holding facility.\" Rodriguez and San Juan police spokeswoman Maria Del Pilar Bon said they did not know what or who ACNF is. Caribbean Petroleum owns the Gulf Oil brand in Puerto Rico. Speaking at a news conference Friday afternoon, Fortuno said all leads must be followed. \"There could be many reasons [for the fire],\" he said. \"We're not going to guess. But there has to be an investigation.\" Caribbean Petroleum, which owns 200 gas stations in Puerto Rico and several inland distribution facilities, supplies much of the island's fuel. But Department of Consumer Affairs Secretary Luis Rivera Marin said there is enough fuel on hand for 24 days, and 16 million gallons of gasoline were in transit to the island. He also froze prices at the level they were at 8:06 a.m. Officials transferred 295 inmates from a high-security prison in the area to other facilities, which they declined to identify for security purposes. Another 1,600 prisoners were moved from another nearby facility. Some 200 extra prison officials were brought in to handle the transfers, Fortuno said.  Watch iReporter's account of the blast and fire » . Video on WLII showed a caravan of white vans with sirens blaring transferring the prisoners, . San Juan police said they activated all units: explosives, transit, tactical operations and SWAT. Schools in Bayamon, San Juan, Toa Baja and Catano were closed, as was Puerto Rico Road 28. Roads 5 and 22 were partially closed. Flights in and out of Luis Munoz Marin International Airport in San Juan were not affected, an airport official told CNN. CNN's Jackie Castillo and Khadijah Rentas contributed to this report.\n",
            "score: 0.979738\n",
            "\n",
            "input: NEW DELHI, India (CNN) -- The number of dead in devastating floods triggered by torrential rains in India has risen to at least 271, and about a million people have fled their homes, officials said Monday. An aerial view of a flood-affected area in Bijapur district in North Karnataka, India. At least 192 people have died in the southern state of Karnataka, its disaster-management secretary H.V. Parshwanath told CNN. More than 450,000 people there have been housed in 1,330 relief camps as authorities completed rescue operations in most of the flooded zones in the state, he said. \"The focus is now mainly on relief,\" Parshwanath said, adding that rains have now eased in Karnataka. In neighboring Andhra Pradesh, authorities put the death toll at 51. Some 531,000 people have been evacuated to safety, with more half of them now sheltering in relief camps, said Dinesh Kumar, the commissioner of the state's disaster-monitoring department. India has deployed the military to help with relief and rescue in Karnataka and Andhra Pradesh. More than a dozen teams of naval divers have been sent to the two flood-hit states, the country's defense ministry said. Air force planes and helicopters have also been dropping food packets in the submerged regions. The military has been able to rescue 1,336 people so far, it added. Flood waters were now receding in two of the five worst hit districts of Andhra Pradesh, disaster official Kumar said. But floodwaters from a local river might submerge the remaining three, he warned. Flooding also killed at least 25 people in Maharashtra state, officials said. Three others died because of lightning strikes, said S.C. Mohanty, director of Maharashtra's disaster-management department. About 3,000 people have been displaced because of flooding, he told CNN. Thousands of people die each year in India during seasonal monsoon rains. More than 1,100 had been killed in monsoon-triggered flooding in different parts of the country as of last month, according to the disaster-management division of the federal home ministry.\n",
            "score: 0.979287\n",
            "\n",
            "input: (CNN) -- The search for the data and voice recorders from the Air France plane that crashed more than a month ago off Brazil's coast is entering a new phase, according to France's accident investigation agency. Searchers have discovered hundreds of pieces of wreckage from Air France Flight 447. All 228 people aboard the plane were killed in the June 1 crash. The flight data recorder and the cockpit voice recorder, commonly known as black boxes, stop giving out acoustic broadcasts after 30 days. But investigators decided to continue listening for the \"pings\" for 10 days after that. Now, the two U.S. naval vessels and a French Navy submarine will halt their search for the recorders which investigators hope will shed light on exactly how the plane crashed. The second phase of the search will involve France's oceanographic ship \"Pourquoi Pas?\" which carries specialized exploration and intervention vehicles, according to the French air accident investigation agency known as the BEA. The French vessel will conduct new searches using diving equipment and towed sonar, the BEA said. Finding the recorders is of \"capital importance,\" and \"no effort must be spared in achieving this end,\" Air France has said. \"We want to stress that for the sake of the families, we hope that the search for the black boxes will be successful,\" an Air France representative said. This month, investigators revealed that the plane bellyflopped intact into the Atlantic Ocean. Investigator Alain Bouillard said it was still not clear what caused the crash, the deadliest in Air France's 75-year history. The mountainous ocean floor in the search area ranges from 3,280 to 15,091 feet, BEA officials have said, making the search for the recorders -- and the rest of the plane's debris -- difficult. \"It is as if it fell in the Andes,\" said Olivier Ferrante, chief of the BEA search mission. Flight 447 went down in stormy weather while flying from Rio de Janeiro, Brazil, to Charles de Gaulle Airport in Paris, France. Brazil called off the search for bodies June 27, having found 51 of the 228 people who died, according to the military. Investigators have also found more than 600 parts and structural components of the plane, along with luggage, Bouillard said.\n",
            "score: 0.970274\n",
            "\n",
            "input: (CNN) -- Air accident investigators are to resume the search for the flight data recorders from an Air France airliner that mysteriously crashed off Brazil six months ago, according to media reports Sunday. Flight 447 went down in stormy weather in the Atlantic Ocean while flying from Rio de Janeiro, Brazil, to Charles de Gaulle Airport in Paris, France in June. Investigators have not yet established the cause of the crash which killed all 228 passengers, and large parts of the plane -- including both flight recorders -- have never been found, despite an extensive search operation that included a French navy submarine. Jean-Paul Troadec, director of the Investigation and Analysis Bureau, told reporters that a new search, approximately 1,000 kilometers (600 miles) off Brazil's northeast coast, will begin in February, according to Agence France-Presse. The new underwater sweeps will last a maximum three months and involve sonar and robot submarines, he said. Troadec was in Rio de Janeiro to speak to the relatives of the 58 Brazilians who were on board, AFP said. \"We tried to convince the families that we are conducting the investigation with the full intention of getting to the truth,\" he said. Troadec added that an upcoming report about the fatal crash contained \"no surprises\" but did set out \"new details, notably in terms of safety recommendations.\" Tests have already brought into question the performance of pitot tubes, which are used to measure the pressure exerted on the plane as it flies through the air, and are part of a system used to determine air speed. Flight 447 sent out 24 automated error messages before it crashed that suggested the plane may have been flying too fast or too slow through the thunderstorms, officials have said. The European Aviation Safety Agency (EASA) issued a directive in late August requiring airlines to replace pitot tubes manufactured by Thales Avionics on Airbus A330s and A340s. It said airlines should replace them with other Thales tubes and those manufactured by Goodrich.\n",
            "score: 0.959914\n",
            "\n",
            "input: (CNN) -- An Australian pilot landed a company plane in the ocean off Darwin on Friday, in a water landing that prompted comparisons to last month's landing of a US Airways jet in New York's Hudson River. The Australian pilot has been compared to U.S. hero Chesley B. \"Sully\" Sullenberger, pictured above. The Australian pilot also encountered problems shortly after takeoff. The twin-propeller plane was carrying the pilot and five passengers when it went down shortly after leaving Darwin International Airport, said Neville Blyth, a senior transport safety investigator with the Australian Transport Safety Bureau. All those aboard were unhurt and managed to walk to shore, he said. Pictures showed the men from the plane soaked and carrying bags and equipment as they walked through the water. \"It's essentially a good story,\" Blyth said. The ATSB is deciding whether to investigate, he said, and the cause of the incident is still unknown. The Piper Chieftain plane was on its way to the town of Maningrida, about 500 kilometers (310 miles) east of Darwin, according to its owner, Australian information technology company CSG. Watch the plane ditch in Darwin Harbor » . \"We would like to congratulate the pilot following all emergency landing and evacuation procedures and his very professional handling of the situation,\" a CSG statement said. Darwin is in Australia's Northern Territory, on the coast of the Timor Sea. The city's airport is near the water. The plane's trajectory took it over the water, giving the pilot limited opportunities to ditch the plane on land, Blyth said. He said the ocean was a safer option for landing than the beach, where the firmness of the sand was unknown. \"Personally, I think the decision was appropriate,\" Blyth said. Australian media dubbed the captain of the Darwin plane \"Sully Lite,\" comparing him to the captain of the US Airways Airbus jet that landed safely in the Hudson. Pilot Chesley B. \"Sully\" Sullenberger was hailed as a hero for landing the plane safely and ensuring that all 155 people on board survived. Asked about the comparisons, Blyth said the connection was tenuous. \"The correlation for a water landing is as close as it gets,\" he said.\n",
            "score: 0.900810\n",
            "\n",
            "input: (CNN)  -- An Ohio sheriff had harsh words for ice fishermen who had to be rescued Saturday after high winds and rising temperatures caused an ice floe to break away and strand about 150 of them on Lake Erie. People were stuck when an 8-mile-long chunk of Lake Erie ice broke away near Toledo, Ohio. The incident, in which one person was pronounced dead after being transported to the hospital, came after the National Weather Service issued a warning that ice floes could break away from the main ice area in the western section of the lake. At least some of those rescued were fishermen. \"This just cost the taxpayers a ton of money,\" Ottawa County, Ohio, Sheriff Bob Bratton said. \"We lost a life out there today. ... I'm sorry a man lost his life out there today. These people should have known better.\" Bratton said those rescued should never have been on Lake Erie in the first place because weather conditions made it risky, and \"if there was a section in the code about common sense, we would have had 150 arrests out there today.\"  Watch sheriff express frustration » . A spokesman for the U.S. Coast Guard said the person who died fell in the water when the ice floe broke away from land.  View ice safety tips » . \"We have rescued more than 150 people, and unfortunately there were two people in the water,\" Chief Petty Officer Robert Lanier said. \"One of the people was recovered and brought to shore,\" but the other man was pronounced dead after being taken to a hospital. \"This was wrong. These people endangered the life of volunteer firemen, [and] the United States Coast Guard,\" Bratton said, estimating the cost of the sheriff's office response at $25,000. \"I'm sure that's going to climb.\" Bratton told the Cleveland Plain Dealer that the fishermen displayed poor judgment in building a makeshift bridge to get from one section of the ice to the other. \"I have no problem with people ice fishing, but these idiots should realize that when you see open water, you should not build a bridge and cross it,\" he said. \"It's a shame you can't arrest people for stupidity.\" Among the hundreds of people who went fishing Saturday were Gary and David Vaughn of Conneaut Lake, Pennsylvania. They told the Plain Dealer that they set up a shanty about 7 a.m. and didn't come back out until 11 a.m., when they saw a crowd gathered at the edge of the ice. It was then that they knew they were in trouble. \"When we were over there waiting to be rescued, we feared the ice would just break up under us,\" Gary Vaughn, 47, told the newspaper. \"I feared for my life.\" The sheriff told the Toledo Blade that the people who went out on the ice did not take proper precautions. \"Where is the common sense when they know the ice is broken?\" Bratton said. \"The experienced fishermen, I guarantee, are not out there,\" he told the newspaper. \"They're not reading the weather. If the ice is broke, you don't build a little bridge to get from here to there.\" \"Ice fishing and recreation on the ice is a culture in the Great Lakes. It's something we've become used to,\" Lanier said. iReport.com: Were you there? Share your photos, story . The sheriff said there were a host of factors that the fishermen should have been aware of, which caused them to risk their lives unnecessarily. \"The weather changed; the temperature went up; the wind was coming out of the south. These are all things that are indicators [that an ice floe break could occur].\" Asked whether there are signs or other notification systems to discourage fishermen from going out on the ice under risky conditions, Bratton said there are only Web sites fishermen can check. \"We will go back and look at that,\" he said. \"We can't develop the attitude, 'Go out on the ice. If you get caught, we'll be there to get you. We'll bring you in.' You've got to have common sense.\"  Watch lake officials describe rescue efforts » . Unprecedented numbers of fishermen have taken to the ice this winter because thicker ice allowed them to go farther out onto the lake, according to the Plain Dealer. But Saturday's unseasonably high temperatures apparently melted chunks of the ice. The ice floe, 8 miles long, was created when a large piece of ice broke off from land near Locust Point, Ohio, east of Toledo, Lanier said earlier.  View a map of the area » . Numerous helicopters participated in the rescue, Lanier said, including those from the Canadian Coast Guard, the U.S. Coast Guard, Ohio State University and Monroe County. State hovercraft were on the scene as well, and airboats were sent, he said. Those rescued were brought to a staging area at a park, Lanier said.\n",
            "score: 0.949558\n",
            "\n",
            "input: (CNN) -- Pakistan cricket legend Imran Khan has described how the unfolding crisis in Haiti revived harrowing memories of a similar earthquake in his own region. The devastating 7.6 magnitude quake struck northern Pakistan and the divided Kashmir region in October 2005, claiming the lives of almost 80,000 people, according to official estimates, and leaving millions homeless. Khan, who is now a prominent politician and campaigner for social issues in Pakistan, told CNN Thursday that he was left numbed by the scenes which greeted him as he traveled to some of the worst-affected areas in the aftermath. \"It was one of the most traumatic experiences I've ever had. Just watching human suffering, he said. \"It was the children that really disturbed me ... their crushed limbs. \"There were so many people needing attention. I remember seeing makeshift hospitals where they were amputating. That was difficult to take. \"Families were torn apart as parents lost their children and children were orphaned. Whole families were caught inside buildings, while few escaped.\" Khan recalled being overwhelmed by the sight of an entire town being reduced to rubble. \"We arrived in the town of Balakot and it was totally flattened. You don't know what to do or say. So many people needing help at one time and you don't have the infrastructure, you don't have the hospitals to help.\" Desperation grips Haitian capital . Balakot was one of the worst-hit places, with one in 10 of about 20,000 residents killed, according to the local government of the Mansehra district, where the town of is located. Thousands more were injured. Pakistani authorities later planned to move the town in the country's North West Frontier Province to a completely new location, owing to its current position on a volatile fault line. The destruction of Balakot brought home to Khan how much people had lost. \"Their livelihoods disappeared overnight,\" he said. \"They had nothing, no business, money, food. \"From what I've seen on television it's similar to what is happening now in Haiti. Clearly they (Haiti) won't have the resources to cope with it, so it will require a real outside effort.\" While acknowledging the importance of the international aid effort, Khan pointed to role ordinary Pakistanis played in 2005. \"It was incredible. The government was incapacitated but there were little charities and groups forming all over the area trying to help. \"I was in an earthquake-hit area on the second day and I'll never forget seeing a three-mile queue of people trying to get to what was a largely remote area to help with whatever they could put in their cars. \"The government was paralyzed but people came forward, from rich to poor, young to old.\" He also pointed to the success volunteer networks had in adopting villages and towns, taking responsibility for providing basic shelter, food and medicine. \"Everyone took responsibility,\" recalled Khan. \"Each group would look after a specific issue until the local population was able to get back on its feet. \"It's so important that the aid effort continues months after the disaster.\"\n",
            "score: 0.959786\n",
            "\n",
            "input: WASHINGTON (CNN)  -- Federal safety officials want the Federal Aviation Administration to immediately ground a type of small sports aircraft, saying six of the planes have broken up in flight in the past three years, killing 10 people. The National Transportation Safety Board questions the safety of the Zodiac CH-601XL. In an urgent letter to the FAA, the head of the National Transportation Safety Board says there is \"substantial circumstantial evidence\" that aerodynamic \"flutter\" preceded some, if not all, of the fatal accidents, and that more accidents are likely to occur if action isn't taken. Flutter is a condition in which airflow around the plane causes unsafe structural vibrations. The vibrations can quickly cause the plane to break up if it is not sufficiently dampened, the safety board said. The aircraft involved is the Zodiac CH-601XL, a single-engine, two-seater that was designed by Zenair Inc. It is built by various manufacturers and also sold as a kit. In making its recommendation, the safety board said it reviewed six fatal accidents, including crashes in Spain and the Netherlands, and said flutter is the likely cause of the accidents. The board said it also considered other incidents that did not result in deaths. The NTSB said two other countries, the Netherlands and the United Kingdom, have grounded the aircraft. The FAA had no immediate response to the safety board's recommendation. A Zenair official did not immediately return a reporter's phone call. But the NTSB letter says Zenair contends that the flutter problem can be addressed by proper cable tension, and asserted that a November 2005 certification flight test confirmed the plane is protected from flutter. But the safety board said the type of testing used may not be adequate to uncover all susceptibility to flutter. The NTSB said the FAA certified the CH-601XL as a Special Light Sport Aircraft in 2005. This type of certification does not require that the FAA approve the airplane's design. Instead, the airplane model is issued an airworthiness certificate if the manufacturer asserts that the plane meets industry-accepted design standards and has passed a series of ground and flight tests. The safety board is asking the FAA to prohibit further flight of the Zodiac CH-601XL until the board can determine that the airplane is no longer susceptible to aerodynamic flutter. \"The NTSB does not often recommend that all airplanes of a particular type be prohibited from further flight,\" NTSB Acting Chairman Mark V. Rosenker said in writing comments. \"In this case, we believe such action will save lives. \"Unless the safety issues with this particular Zodiac model are addressed, we are likely to see more accidents in which pilots and passengers are killed in airplanes that they believed were safe to fly.\" The safety board also found that the stick-force gradient -- a measure of the force applied to the control stick and the increase in lift that results -- was not uniform throughout the range of motion, particularly at high vertical accelerations or increased gravitational forces. The lessening of the gradient at high gravitational force could make the airplane susceptible to being inadvertently over-controlled by the pilot, which could create a condition in which the airplane is stressed beyond its design limits, leading to an in-flight structural failure. CNN's Mike M. Ahlers contributed to this report.\n",
            "score: 0.863008\n",
            "\n",
            "input: WASHINGTON (CNN) -- The cause of a deadly Washington Metro subway crash last month remains a mystery, with one problem identified by investigators persisting even after engineers replaced a key part that was believed to be faulty, a top Metro official said Tuesday . Investigators are shown at the crash scene in Washington. Nine people were killed in the June 22 accident. At a congressional hearing, Jim Graham said Metro replaced a device that was \"fluttering,\" signaling the presence of a train one moment and not the next. \"You'd think that that would remedy the issue, that ... we would have solved the problem,\" said Graham, chairman of Metro's board of directors. \"In fact, the new device ... continued the same fluttering as the former device.\" \"We're left with a very compelling mystery as to what is going on here,\" he said. The National Transportation Safety Board, which is leading the investigation, acknowledged that Metro's system of detecting trains continues to have unexplained, intermittent failures. \"Sometimes it's working; sometimes it's not, even with those changes,\" NTSB member Deborah Hersman told a House committee. \"We've walked back the cable to see if there might be some cabling issues. There's a lot of challenges here and we're changing out some components and trying to identify what the problem is,\" she said. Metro has said it will operate the subway trains on manual control until officials have identified and fixed the problem with the automatic train system. Nine people were killed and scores were injured during the June 22 crash just north of the Red Line's Fort Totten station. At Tuesday's hearing, a passenger on one of the trains gave a dramatic description of the accident. Patrick Tuite of Kensington, Maryland, said he had just put down his newspaper and closed his eyes to relax when he heard a screeching sound, someone yelling and \"one of the loudest bangs I've ever heard in my life.\" Tuite said in the impact, he hit the seat in front of him. When Tuite peered into the forward-most car, he saw extensive damage. The floor of the car had collapsed \"accordion-like,\" he said. \"We could hear the people at this point in the first car,\" he said. \"And it was pretty chaotic. They were screaming; they were upset,\" he said. But the collision had jammed the doors between the cars, making it impossible to reach victims in the front car. It wasn't until he got off the train that he realized the first car was thrust into the air, he said. Eleanor Holmes Norton, the District of Columbia's Congressional delegate, chided the NTSB for making prohibitively costly safety recommendations while ignoring cheaper, common sense solutions, such as putting the newer, more robust rail cars at the front and back of trains. \"Over and over again, you said, 'Do the impossible,' \" Norton, a Democrat, said, referring to NTSB recommendations that Metro replace older cars with sturdier new ones. \"Why didn't the transportation board at least recommend this rather low-tech, low-cost step?\" Hersman said the NTSB's role is to push for safety improvements. \"We do make recommendations, Ms. Norton, and we don't have to pay for them, so we recognize that frustration,\" she said. \"But our charge is not to [consider costs]. Our charge is to recommend what we think is in the best interest of the safety community. We are the conscience and the compass of the transportation industry, and they [transportation providers and regulators] get to decide if and how they implement it,\" Hersman said.\n",
            "score: 0.969090\n",
            "\n",
            "input: (CNN) -- Jacques Bazin didn't have time to catch his breath after being pulled from the rubble of a three-bedroom home on the outskirts of the Haitian capital. Though he'd been trapped in the house for three days, he marshaled the strength to begin helping the Haitians who had just rescued him search for other survivors. He spoke to CNN on Friday, two hours after being rescued, and again Saturday as he worked to free 10 children still encased in the toppled residence. \"Next time you call, God willing, they might be out. Otherwise, they will die,\" he said. \"Their voices are really low because for four days, they eat nothing. I drill holes on top of the cement and put bread inside so they can eat. What we do, we have to do fast.\" Friday evening made his mission more urgent as two children were killed when an aftershock -- one of four that day, all 4.6 magnitude or higher -- disrupted the concrete slabs imprisoning them, he said. A New York-based philanthropist, Bazin, 54, has been in Haiti since December 13. His nonprofit organization, JB Humanitarian, builds schools for the poor in Haiti. Six staff members of one of his schools, in Ocadet, died when the 7.0-magnitude quake struck Tuesday, causing the school to collapse on top of them. Bazin was on the porch of a nearby home taking pictures of the mountains. Twenty-four children were inside the home, he said. \"The next thing I know, this thing is splitting in half -- the mountain split in half,\" he said. \"The house where I was went down.\" He and 12 of the children had been freed as of Saturday morning, but the remaining children were in the back of the house when the earthquake hit. Bazin said he and 11 others were working to free them in one of the poorest sections of Port-au-Prince. Looking for a loved one? Visit iReport.com . Bazin's dilemma was one of myriad stories of lost loved ones pouring into CNN this week via its tip lines and iReport.com. Other pleas for help have reportedly come from within the rubble of collapsed buildings. Regine Madhere is one such case. The 26-year-old worked in the pharmacy of a four-story Caribbean market leveled by the temblor. Stateside friends and relatives in Port-au-Prince told CNN that Madhere had been sending texts to relatives and to a local radio station this week. Reached Saturday in Port-au-Prince, Madhere's aunt and uncle said an American rescue team had been working through the night to rescue those trapped in the market's ruins. Watch a rescue at the market from earlier in the week . Her uncle, Guy Gelin, further said he had seen the rescuers free six to eight people Friday and he was hopeful that Madhere would be free by day's end. \"They are working very, very hard. They make many holes so [those trapped] can breathe. They give us hope today,\" said her aunt, Ginette Madhere, who hasn't slept since the quake rocked the capital. Help the Madhere family find Regine . With a dearth of resources and rescuers in Haiti, victims are reaching out to locales as faraway as Florida, New York, even Germany. The long-distance text messages serve as a sign of the fear and desperation many are experiencing in the Western Hemisphere's most-impoverished nation. Bazin said his own anguish is confounded by doubts that rescuers will reach his school in Ocadet anytime soon. \"Nobody give a damn because these people are so poor,\" he said. \"This is the last place they would ever think of coming.\" He planned to head into the city later Saturday, he said, to find more food for the trapped children. He said he also hoped to rent a tractor to move some of the larger chunks of concrete enveloping the students. \"I have to get them out before I get back to the States. I cannot just leave them like that,\" he said.\n",
            "score: 0.414723\n",
            "\n",
            "\n"
          ]
        }
      ],
      "source": [
        "examples = test_acc[:10].tolist()\n",
        "\n",
        "reloaded_results = tf.sigmoid(reloaded_model(tf.constant(examples)))\n",
        "\n",
        "print_my_examples(examples, reloaded_results)"
      ]
    },
    {
      "cell_type": "code",
      "execution_count": null,
      "metadata": {
        "colab": {
          "base_uri": "https://localhost:8080/"
        },
        "id": "GZT-wwEs3M5F",
        "outputId": "0c548401-7f88-40ee-e5c6-e81420172fc8"
      },
      "outputs": [
        {
          "output_type": "stream",
          "name": "stdout",
          "text": [
            "input: Moorhead, Minnesota (CNN) -- He's been there for 30 years, and 85-year-old Lloyd Paulson isn't moving anytime soon. But on his stretch of Rivershore Drive in this city just east of Fargo, North Dakota, he's essentially the only one. \"I want to go feet-first out of here,\" Paulson said from his living room, which is now just feet from rising floodwaters. \"I don't want to leave. I want to stay here because I enjoy it so much.\" Last year, he and his family and friends saved his home from the record flooding that nearly ravaged the entire city -- but it took 30,000 sand bags. A farm boy since birth, Paulson said the sandbagging in 2009 saved his property from major damage, meaning another pleasant year of watching the wildlife in his backyard. \"I can see turkeys and squirrels and deer. They come up at night.\" But when the retired sporting goods store manager looks down the street now, what he sees is a mix of houses on stilts ready to be moved and vacant houses awaiting demolition. The neighbors in the 14 houses to his south and three to the north sold their homes to the city, accepting its offer to buy them out so that a more permanent levee can be built up in their place. Paulson says he's surprised that so many people made the decision, since some had \"beautiful homes.\" The buyouts were voluntary, but since Paulson decided to stay, he must foot the bill for his portion of that new levee himself. He hasn't received a bill yet, but he says whatever the cost, it should be worth it because that mountain of dirt will mean his days of sandbagging are over. Since the city's new levee isn't up yet, earthen levees surrounding Paulson's home are protecting it from this year's flood. \"The cupboards are all stocked up, the freezer is all stocked up, so I can stay here for weeks without having to go out,\" Paulson said, laughing. And those levees will protect him up to a 43-foot crest. The most recent forecast calls for a crest of 38 feet, so Paulson says he's \"not worried at all\" about staying in his home while the water is high. His wife of 57 years died shortly after the flood of 2009. But even though he now lives there solo, Paulson said he doesn't feel lonely. \"Not at all. I have so many friends in town, and every day, I'm out doing something. The phone rings regularly,\" he said. Are you there? Share photos, video of flood . When asked how he feels to be known as the last man standing in his neighborhood, the one who won't leave, Paulson said he \"didn't do this for publicity.\" \"I just want to enjoy my life,\" he said, \"and I can do it here.\"\n",
            "score: 0.136088\n",
            "\n",
            "input: ROME, Italy (CNN) -- Scientific tests prove bones housed in the Basilica of St. Paul in Rome are those of the apostle St. Paul himself, according to Pope Benedict XVI. Pope Benedict XVI looks at the tomb of St. Paul at the Basilica of St. Paul in Rome in 2007. \"Tiny fragments of bone\" in the sarcophagus were subjected to carbon dating, showing they \"belong to someone who lived in the first or second century,\" the pope said in a homily carried on Italian television. \"This seems to confirm the unanimous and undisputed tradition that these are the mortal remains of the Apostle St. Paul,\" Benedict said in Sunday's announcement. The tomb also holds \"traces of a precious linen cloth, purple in color and laminated with pure gold, and a blue colored textile with linen filaments,\" the pope said. The tests were carried out by inserting a probe into a small opening in the sarcophagus, \"which had not been opened for many centuries,\" the pontiff said. The probe \"also revealed the presence of grains of red incense and traces of protein and limestone.\" Separately, archaeologists have uncovered an image of St. Paul which \"could be considered the oldest icon of the apostle known to date,\" the Vatican's official newspaper reported Sunday. The painting, in the St. Tecla Catacomb, is \"among the oldest and best-defined figures from ancient Christianity,\" according to the Pontifical Commission for Sacred Archaeology, L'Osservatore Romano reported. St. Paul is one of the most significant figures in Christianity. Originally a persecutor of early Christians, he became a follower of Jesus after seeing a vision on the road to Damascus, according to Christian tradition. \"Saul, Saul, why are you persecuting me?\" the vision of Jesus asks Paul, using the apostle's birth name, in the Acts of the Apostles. Saul then took the name Paul and became a missionary. His letters, or epistles, to early Christian communities around the Mediterranean form a significant portion of the New Testament. Paul was beheaded by Roman authorities sometime between 65 and 67 A.D., according to the Catholic Church. He was buried a few miles away, and when the Roman Empire stopped persecuting Christians some 250 years later, the Emperor Constantine had a basilica built over his grave. It currently lies under a marble tombstone bearing the Latin inscription PAULO APOSTOLO MART (Apostle Paul, martyr), according to the Web site of the basilica. A papal altar stands over the tombstone, which is visible through a window-like opening, the Web site says. Monday marks the end of a year of celebration in honor of the 2,000th anniversary of St. Paul's birth. It also happens to be the feast day of Saints Peter and Paul. CNN's Hada Messia contributed to this report.\n",
            "score: 0.087383\n",
            "\n",
            "input: (CNN) -- Kate Meinhardt felt like a clown jammed into a Volkswagen bug when she lived in a 21-square-foot room aboard a circus train. Kate Meinhardt crammed her life into a 21-square-foot room while she lived aboard a circus train. Bungee cords crisscrossed her walls once a week to prevent an avalanche of items from raining down. A microwave, mini refrigerator, her laptop and baskets of personal items lined the dorm-like room. Showering, going to the bathroom and even doing laundry became racing contests on the train, Meinhardt said. The 13 people on board shared one shower, two toilets and one washer and dryer. \"It's a pretty tough life living in such a small space,\" she said. The 23-year-old spent almost a year as an animal handler for Ringling Bros. and Barnum & Bailey Circus. While most iReporters haven't run off to join the circus, some have traded in their homes for smaller digs. One iReporter even opted for a floating lifestyle, where he could sail away at a moment's notice. iReport.com: Living in tight quarters . Living on a 25-foot boat was only supposed to be temporary, but Jim Smith loved it so much he stayed there for a year. \"I have lived in a 25-foot sailboat, a 28-foot motor home, a 32-foot sailboat and now an 800 square-foot apartment,\" Smith said in his iReport. \"I was happiest with the 25-foot sailboat.\" While docked in Panama City, Florida, Smith kept his expenses to a minimum. The marina slip rent was only $200 and electricity was included in the rent, he said. The boat did not have refrigeration so Smith kept his food inside an insulated ice box. For 79 cents at the discount grocery store, he could buy a 10-pound bag of ice that would last him several days, even during the summer. Air conditioning wasn't a luxury Smith had either, but fans and sea breezes kept him cool. \"Sometimes the less you have, the more you like it,\" he said. The portable lifestyle also charmed a father-son duo who set out on a yearlong European vacation. A camper van took them wherever they wanted, whenever they wanted. Spencer Pearson and his 15-year-old son, Bryce, bought a 150-square-foot van in Germany for their European excursion. Living out of the van meant \"no reservations, no packing and unpacking of suitcases, no strange beds,\" Pearson said. Modern amenities weren't amiss on the van, which included everything from the Internet and entertainment to a complete bath and kitchen, and there were occasional hotel stays and meals out that made the trip more pleasant. The simple life also enticed Deborah Greant and her husband to trade in their Calgary, Canada, home for an RV. Both she and her husband have neuromuscular problems and needed extra help taking care of their large home. Since moving into a 240-square-foot RV, they can manage the house themselves. \"We didn't want to be owned by our things,\" Greant said. \"We jettisoned pretty much everything except things from former generations.\" While two people living in an RV can be tight, imagine a family of six trying to do the same. Mounting living expenses and a job relocation prompted the Chervenkas to sell their home and move into a 32-foot RV. Two pets came along, too. The Chervenkas weren't forced to do this. Their goal was to become debt-free and save money for their children's college educations. When pilot Tim Chervenka got transferred to Charlotte, North Carolina, the family set up camp in a 32-foot RV. The temporary situation turned into a permanent one. The family said goodbye to paying a first and second mortgage and pricey utilities. They now pay only $500 a month, utilities included. \"It's made such an adjustment in our personal life without the juggling,\" Cindy Chervenka said. \"We have so much more family time. It's a good feeling.\" Cindy Chervenka has some advice for others thinking of a drastic downsizing: \"Step out of your comfort zone and try it. We didn't plan on doing this full-time, but once we discovered it, we thought, 'hey we can do this forever!' Until you step out and try it, you'll think it's not doable.\"\n",
            "score: 0.478944\n",
            "\n",
            "input: MEXICO CITY, Mexico (CNN)  -- Mexican authorities have detained the country's former drug czar on suspicion that he may have accepted $450,000 a month in bribes from drug traffickers, Mexico's attorney general said Friday. Noe Ramirez Mandujano was in charge from 2006 through August of fighting organized crime in Mexico. Noe Ramirez Mandujano was in charge from 2006 until this August of the attorney general's office that specializes in combatting organized crime. Ramirez is accused of meeting with members of a drug cartel while he was in office and agreeing to provide information on investigations in exchange for the bribes, Attorney General Eduardo Medina Mora Icaza said at a news conference Friday. The arrest was part of an ongoing investigation called \"Operation Limpieza,\" or \"Operation Cleanup,\" the attorney general said. The operation targets officials who may have passed information to drug cartels. The arrest was announced Thursday night, four days after the house arrest of Ricardo Gutierrez Vargas, the director for International Police Affairs at Mexico's Federal Investigative Agency and the head of Mexico's Interpol office. Authorities say more than 30 officials have been arrested since July in connection with the anti-corruption operation. Interpol, which is based in France, announced Wednesday it is sending a team of investigators to Mexico to investigate the possibility that its communications systems and databases may have been compromised, a prospect raised by the arrest of Gutierrez, the top official working with the agency in Mexico. \"A war of master proportions\" between authorities and narcotics traffickers and traffickers among themselves has left more than 4,300 dead so far this year, according to the Council on Hemispheric Affairs, an independent research and information organization. By comparison, the council said in a report this week, there were 2,700 drug-related deaths in 2007. \"Homegrown drug cartels operating from both within and outside the country are engaging in a vicious turf war to seize control of major trafficking corridors while engaging in almost open warfare against the mobilized forces of the state,\" the council said about what it calls \"narco-fueled crime.\" Mexican leaders have been trying to tamp down the violence by tightening controls on money-laundering and cracking down on corruption among local and municipal police forces infiltrated by drug traffickers. It may not be enough. \"Due to pervasive corruption at the highest levels of the Mexican government, and the almost effortless infiltration of the porous security forces by the cartel, an ultimate victory by the state is far from certain,\" the Hemispheric Council concludes. Drug trafficking in Mexico is a $20 billion- to $50 billion-a-year industry, as much as the nation earns from tourism or remittances from Mexicans living in the United States, said Robert Pastor, a former National Security adviser to President Jimmy Carter and now a professor of international relations at American University in Washington. He has been studying Latin America for more than four decades. \"This is a huge industry with an extraordinary capacity to corrupt and intimidate the country. And they're doing both right now,\" said Pastor, also a former director of the Carter Center's Latin American and Caribbean Program. The drug cartels are paying some Mexican officials bribes of $150,000 to $450,000 a month, authorities have said. This in a country where the per capita income is $12,500 a year and one of every seven Mexicans lives in poverty, according to the CIA World Factbook.\n",
            "score: 0.013355\n",
            "\n",
            "input: WASHINGTON (CNN) -- A soldier who survived a Taliban attack that killed nine U.S. troops in Afghanistan last month described a scene of \"pure chaos\" in which he watched buddies die. Army Spc. Tyler Stafford is recovering from wounds he suffered in the July 13 attack. Army Spc. Tyler Stafford and fellow soldiers in the 173rd Airborne Brigade Combat Team were establishing an outpost near the village of Wanat when about 200 Taliban militants attacked July 13. \"They had 200-plus guys all shooting at us -- I mean, pure chaos,\" Stafford said. \"You could hear guys screaming.\" Nine Americans were killed and 12 -- including Stafford -- were wounded in the deadliest attack on U.S. forces in Afghanistan in three years. Afghan sources said that up to 100 militants were killed in the attack. Stafford, who is recovering at the Walter Reed Army Medical Center, said he and his fellow soldiers were facing Taliban fighters on three sides when the attack began. The Americans were outmanned and outgunned. A NATO spokesman said the defense of the outpost was \"heroic.\" Once he was wounded, Stafford called out to his friend, Cpl. Matthew Phillips. \"I yelled to him, I was like, 'Phillips, man I need help. I'm hit.' ... I looked at him and I called him about four or five times. I was like, 'Phillips. Phillips. Are you all right, Phillips?' And he never moved. \"That's the first one of my buddies I've ever seen die.\" A short distance away was Cpl. Jonathan Ayers. \"He never once stopped shooting,\" Stafford said. \"I thought that was completely amazing. He never, I mean, he finally was killed by [rocket-propelled grenades] and gunfire, but he never once stopped shooting back at them.\" Lt. Jonathan Brostrom and Cpl. Jason Hovater were killed when they ran through a hail of Taliban gunfire in an attempt to carry more ammunition to their fellow soldiers, Stafford said. \"They knew our guys were in trouble, and when the Airborne's in trouble, you don't leave them to die; you go help them,\" Stafford said. \"They brought what they could.\" The Americans were running low on ammunition, and some of them were so badly wounded they were unable to move, Stafford said. Help did not come for an hour, he said. Stafford eventually was helicoptered to safety. He said he looked back at the scene below while aboard the chopper. \"It's like one of the those movies out of like Vietnam that you see with all these special effects and everything's on fire,\" he recalled. \"Smoke in the air, and that's all you see is tracer rounds going back and forth ... just, 'boom, boom, boom.' \" The other Americans who died were Sgt. Israel Garcia, Cpl. Gunnar Zwilling, Spc. Sergio Abad, Cpl. Pruitt Rainey and Cpl. Jason Bogar. \"The way they served each other -- you're fighting for the guy on your back, the guy that's in the foxhole next to you, when that kind of stuff happens. We all love each other very much,\" Stafford said.\n",
            "score: 0.145714\n",
            "\n",
            "input: Mexico City, Mexico (CNN) -- Shootouts between drug suspects and the military in the Mexican northeastern border state of Tamaulipas have left seven dead and 11 wounded, the government reported. One of the dead and the 11 wounded were Mexican military who were ambushed while on patrol late Thursday night in the cities of Miguel Aleman, Mier and Valadeces, the Notimex news agency reported, citing the nation's National Defense Department. The cities are along the U.S. border, near McAllen, Texas. The cities also are near Reynosa, Mexico, where the United States closed its consulate Thursday because of recent increased drug violence. The U.S. Consulate also issued a warning \"to advise U.S. citizens of recent gun battles in Reynosa, Mexico, and cities surrounding Reynosa in the last week.\" Thursday night's firefights were the latest in a string of confrontations that some residents say have been going on for at least 10 days. Earlier this week, local news reports said, gunmen in as many as 20 vehicles clashed with members of the Mexican military and municipal police in Ciudad Mier, just west of Reynosa. The daytime gun battle Tuesday reportedly resulted in the abduction of 10 municipal police officers. Video from the scene showed abandoned police sport utility vehicles with bullet holes and broken windows. Shattered glass covered the street against a backdrop of palm trees. A damaged red truck with the insignia CDG -- the Spanish acronym for the Gulf Cartel -- was shown being towed from the shooting scene. In Reynosa, residents told CNN on Thursday that banners purportedly placed throughout the city by the rival Los Zetas drug cartel announced there would be a gunfight at 8 p.m. Residents reported hearing gunshots as early as 7:30 p.m. After Thursday night's gunfire, officials say they confiscated 14 vehicles, 29 firearms, 10 hand grenades and more than 1,700 rounds of ammunition of various caliber. On a tour of the border cities, Tamaulipas Gov. Eugenio Hernandez Flores sought to reassure residents that the government is committed to controlling the mayhem. Violence throughout Mexico has exploded since President Felipe Calderon declared war on the drug cartels shortly after assuming office in December 2006. More than 16,000 people have been killed in drug violence since then. Ciudad Juarez, across the border from El Paso, Texas, is the most violent city in Mexico and one of the deadliest on earth. The rival Juarez and Sinaloa cartels are fighting for control of the lucrative drug routes into the United States as well street sales within Ciudad Juarez. The cartels also are fighting the Mexican army and federal, state and local police. Mexican officials point out that most of the deaths involve criminals; few civilians have been killed. In Juarez earlier this month, however, 10 teenagers and five other people were gunned down at a party. Officials said the gunmen belonged to the Juarez cartel and mistakenly believed the partygoers were members of a gang affiliated with the Sinaloa cartel. CNN's Mariano Castillo and Nick Valencia contributed to this report.\n",
            "score: 0.204340\n",
            "\n",
            "input: (CNN) -- Jon Opsahl said he doesn't think domestic terrorist-turned-housewife Sara Jane Olson served nearly enough time for his mother's murder, but he's relieved the saga ended with Olson's Tuesday release from prison. Sara Jane Olson was released from a California prison Tuesday after serving seven years. Olson, a member of the self-styled revolutionary Symbionese Liberation Army -- perhaps best known for kidnapping Patricia Hearst -- was released from a California prison after serving seven years, the California Department of Corrections and Rehabilitation said. She was released to her husband just after midnight and is expected to serve her yearlong parole term in Minnesota -- over the the objections of police unions and Minnesota Gov. Tim Pawlenty. Her sentence stems from her involvement in the 1975 attempted bombings of two police cars and the slaying of Myrna Opsahl during a bank robbery that same year. Back then, Olson went by her birth name, Kathleen Anne Soliah. After her 1976 indictment in the attempted bombings, she changed her name and started a new life in St. Paul, Minnesota. She was not apprehended until 1999. \"I've really got nothing to say. She did her time, as minimal as that may have been,\" said Jon Opsahl, who was 15 when his mother was killed. \"One of those years -- just one -- was for the murder of my mom and the bank robbery up in Carmichael.\" Myrna Opsahl, a mother of four, was depositing money at the Crocker National Bank for her church when she was shot by Olson's co-defendant Emily Montague Harris, according to court documents. Harris was sentenced to eight years; she served four and was released on parole in February 2007. Jon Opsahl, now 49, said he never understood why it took so long to bring his mother's killers to justice. While charges were filed in the bombings within months, no charges were brought in his mother's murder until 2002. \"You expect thugs to do what thugs do, but you don't expect the district attorney to turn a blind eye to the murder of an upstanding citizen,\" Jon Opsahl said Monday. Olson's release Tuesday will cap an oft-strange storyline that spans more than three decades and which saw Olson wear the hats of college student, 1970s radical, housewife and philanthropist. Attorney Andy Dawkins met Olson, now 62, shortly after she moved to St. Paul through friends in the reggae band, Pressure Drop. Fred Peterson, Olson's husband, played trumpet in the band, Dawkins said. \"She did good deeds everywhere. She raised three wonderful daughters. It was always a shock to all of us that the Sara we know had that past,\" Dawkins said. After attending the University of California, Santa Barbara, Olson moved to Berkeley in the early 1970s. There, she met Angela Atwood in 1972, and the two became best friends and roommates, Olson told L.A. Weekly in a 2002 interview shortly before she was imprisoned. After Atwood and five other SLA members were killed in a 1974 gunfight with the Los Angeles Police Department, Olson appeared at a memorial in Berkeley's Ho Chi Minh Park to eulogize her friend. \"SLA soldiers, although I know it's not necessary to say, keep fighting. I'm with you, and we are with you,\" Olson told the crowd. Almost a year later, Olson took part in two bank robberies to help fund the SLA, according to court documents. During the Carmichael robbery, Olson \"entered the bank with a firearm and kicked a nonresisting pregnant teller in the stomach. The teller miscarried after the robbery,\" the documents said. In August 1975, Los Angeles police found homemade bombs under two squad cars. They were designed to explode when the car moved, but neither device detonated. Authorities cast the attempted bombings as payback for the bloody shootout that left Atwood and other SLA members dead. A probe into the gunbattle helped police arrest Hearst, the granddaughter of publishing mogul William Randolph Hearst, who claimed she had been kidnapped, raped and brainwashed by the SLA. In her book \"Every Secret Thing,\" Hearst put Olson at the center of the Carmichael robbery. Olson soon left California. According to the U.S. Department of Justice, \"she evaded capture for 23 years, and in the meantime, became a doctor's wife, mother of three, community volunteer, veteran of charity work in Africa and practicing Methodist living in an upscale neighborhood in St. Paul.\" Though authorities said a 1999 \"America's Most Wanted\" episode marking the 25th anniversary of the L.A. shootout led to Olson's arrest, the show's Web site mentions neither Olson nor Soliah among its almost 1,100 \"captures.\" Her Minnesota friends and neighbors were shocked, even incredulous, when she was arrested. They pleaded with a judge to grant her bail. The Sara Olson Defense Fund began selling cookbooks, titled, \"Serving Time: America's Most Wanted Recipes.\" It would help that Olson was generous with her time. She was active in the church. She volunteered for political campaigns. Dawkins said he had a blind client to whom she used to read The New York Times. Olson's philanthropy, coupled with the connections of her husband, a respected emergency room doctor, made raising the $1 million bail relatively easy, said Dawkins, who remembers that some members of the community had so much faith in Olson they put up their children's college funds. On October 31, 2001, Olson pleaded guilty to two counts of attempting to ignite a destructive device or explosive. She later tried to rescind the plea, saying \"cowardice\" prevented her from telling the truth. A superior court judge, however, denied her request and in January 2002 sentenced her to 20 years to life in prison, a sentence the parole board later reduced. Olson was charged with Opsahl's slaying that same week and pleaded guilty in 2003 to second-degree murder. Olson received a sentence of five years to life. The California Department of Corrections and Rehabilitation said in a statement that Olson's sentence was reduced for good behavior and for her work on a maintenance crew that cleaned the main yard of the Central California Women's Facility in Chowchilla. Dawkins said \"it's right\" that Olson served time, but he is glad she is being released. He expects many hugs await her in St. Paul and that she will soon be back to her generous ways. \"I really believe who we knew in St. Paul was the true Sara Olson,\" he said. The Los Angeles Police Protection League disagrees and has loudly opposed her early release. Sgt. Paul Weber, the league's chief, called her a sociopath who \"never said she was sorry.\" He also lashed out at those who rush to defend her. \"Enough with the BS that she was unfairly targeted by law enforcement for her youthful indiscretions -- she is a criminal,\" Weber said in a Monday statement. Corrections officials say it's important that she be reunited with her family during her parole -- it helps reduce recidivism -- but Minnesota legislators, the governor and the St. Paul Police Federation have asked Gov. Arnold Schwarzenegger to keep her in California over the next year. \"Letting a domestic terrorist like Kathleen Soliah set the terms of her parole is an insult to the memory of Myrna Opsahl and all the men and women of LAPD past and present,\" the St. Paul union said in a letter last week. Jon Opsahl, however, just wants to put Olson out of his mind. \"Get her out of here,\" he said. \"I don't want to see or think about her again.\"\n",
            "score: 0.021350\n",
            "\n",
            "input: (CNN) -- An autopsy report issued Friday by Hillsborough County, Florida, cites cocaine as a contributing factor in the death of TV pitchman Billy Mays, who died in June at age 50. The Hillsborough County medical examiner's office said cocaine use contributed to Billy Mays' heart disease. \"Mays died from a lethal arrhythmia of the heart caused by hypertensive and arteriosclerotic heart disease,\" the county said in a statement attributed to Dr. Leszek Chrostowski, the associate medical examiner who conducted the autopsy. \"He further concluded that cocaine use caused or contributed to the development of his heart disease, and therefore contributed to his death,\" it added. The fact that toxicology tests detected only breakdown products of cocaine, not the drug itself, led Chrostowski to conclude that Mays had used cocaine \"in the few days prior to death but not immediately prior to death.\" Cocaine is a stimulant that can raise blood pressure and thicken the wall of the left ventricle of the heart, one of the organ's four main pumping chambers. The autopsy also found low concentrations of ethyl alcohol \"consistent with social consumption of a few beverages\" as well as the narcotic drugs hydrocodone, oxycodone and tramadol. Mays had prescriptions for the drugs -- which were found in therapeutic or subtherapeutic concentrations -- to ease hip pain. In addition, the tests found evidence of two tranquilizers -- alprazolam (Xanax) and diazepam (Valium) -- which are commonly prescribed for a variety of ailments, including anxiety and insomnia. Both drugs were determined to be in therapeutic or subtherapeutic concentrations. Mays was found dead at his home near Tampa on June 28. Mays, with his booming voice, was famous for fronting products such as OxiClean and Orange Glo in TV commercials.\n",
            "score: 0.774587\n",
            "\n",
            "input: Washington (CNN) -- Democratic congressional leaders Wednesday demanded Republicans join them in condemning a spate of threats and vandalism that has followed Sunday's vote on a sweeping overhaul of the U.S. health care system. More than 10 Democrats have reported trouble since the weekend vote, House Majority Leader Steny Hoyer told reporters. Windows have been smashed at Democratic offices in at least three states, and federal agents were investigating whether a cut gas line at the home of a Virginia congressman's brother was related to the lawmaker's yes vote. Democracy \"is not about violence,\" Hoyer said at a news conference with South Carolina Rep. James Clyburn, the No. 3 Democrat in the House of Representatives. \"Both of us believe that to remain silent in the face of such activity gives the impression of either condoning or sanctioning such actions,\" added Hoyer, D-Maryland. The top Republican in the House, Minority Leader John Boehner, told reporters that he has urged opponents to demonstrate legally. \"I've made statements that I understand people are angry, but violence and threats are inappropriate and irresponsible,\" the Ohio congressman said. \"If people are angry, they ought to register to vote and get involved in a campaign.\" The white-hot rhetoric that dominated the last several months of debate on the historic health care bill culminated in unruly protests by the Tea Party movement at the Capitol over the weekend. Three African-American House Democrats, including civil rights leader Rep. John Lewis of Georgia, reported protesters shouted racial slurs at them and spit at one of them, while Rep. Barney Frank, D-Massachusetts, an openly gay House member, had anti-gay slurs yelled at him. One House member mentioned a map on the Facebook page of former Republican vice presidential candidate Sarah Palin during a Wednesday meeting on safety concerns, a Democratic source said. The map shows 20 House Democratic political targets believed to be vulnerable in the upcoming midterm elections -- some have already announced their retirements. Their home districts are marked with cross hairs. Mention of the map brought audible groans to the room, the source said. Republican House members encouraged protesters outside and inside the House gallery, some of whom carried messages like \"Vote no or else\" or \"If Brown won't stop it, a Browning will\" -- a reference to newly elected Massachusetts Sen. Scott Brown accompanied by a silhouette of a pistol. Since the vote, an Alabama blogger has launched a \"window war\" against Democrats and has kept a tally of the recent incidents of damage, including ones in upstate New York, Arizona and Kansas. A message left for Michigan Democrat Bart Stupak, whose last-minute decision to support the bill helped give Democrats the votes it needed to pass, warned that \"there are millions of people across the country who wish you ill, and all of those thoughts projected on you will materialize into something that's not very good for you.\" Clyburn, who is African-American, said he has received a fax in his office with a picture of a noose drawn on it and had threatening telephone calls at his home. iReport: 'A very dangerous time for Obama' \"We're giving aid and comfort to these people, and this stuff gets ratcheted up,\" Clyburn told CNN. \"We in this Congress have got to come together in a bipartisan way and tamp this foolishness down. It doesn't make sense. That's not what a democracy is all about.\" Hoyer told a news conference that \"a significant number, meaning over 10\" lawmakers had reported either threats, vandalism or other incidents. Capitol police officials have briefed House Democrats on reporting suspicious or threatening activity and taking precautions to avoid \"subjecting themselves or their families to physical harm,\" he said. Rep. Louise Slaughter, D-New York, said her Niagara Falls district office had a brick thrown through one of its windows and a message that referred to \"snipers\" was left on one of her campaign offices. In a written statement, she said GOP leaders have been \"fanning the flames with coded rhetoric.\" And Maryland Rep. Chris Van Hollen blamed Republicans for encouraging heated rhetoric over the bill. \"There's a real feeling that some of the comments from the Republican leaders and Republicans are not tamping down the fire, they are throwing fuel on the fire. And that is totally inappropriate,\" Van Hollen said. But Boehner, who compared the legislation's passage to \"Armageddon,\" said Democrats had not complained to him that Republicans haven't been quick enough to condemn the threats and vandalism. Clyburn said his wife has forwarded the phone numbers from the calls to law enforcement agencies. Slaughter said federal agents and local authorities were investigating the threat and vandalism at her offices. And in Virginia, Albemarle County fire marshals and the FBI are looking into the slashing of a propane gas line outside the home of Rep. Tom Perriello's brother, the congressman's office said. A Perriello aide told CNN that a line to the propane tank on the brother's gas grill had been severed after the brother's home address was posted online by a Tea Party activist. Lee Catlin, a spokesman for the fire marshal's office, said the incident \"did not involve an immediate threat to occupants of the residence\" but would disclose no details. The county joined the investigation late Tuesday after a request from the FBI, Caitlin said. \"Officials are taking the incident very seriously and conducting a vigorous investigation,\" he said. Conservative talk show host Glenn Beck told his radio audience Monday that Democrats who supported the bill would be remembered as \"an enemy of the republic\" and \"an enemy to the Constitution.\" But he urged viewers of his Fox News television show Wednesday to avoid violence, because \"radical\" supporters of the Obama administration are counting on such attacks to discredit their opposition, he said. \"Not only is it completely nuts and wrong, it's exactly what they want,\" Beck said. He told viewers, \"They are begging for it. You are being set up.\" But in Kansas, Democrats in Wichita are seeking to raise money over a brick thrown through the window of the party headquarters. \"At first, we thought our office was just the object of a random act of bitter violence, but now we know that's not the case,\" said the Sedgewick County Democratic Party's Web site. \"This attack was instigated, encouraged and directed by an ultra-right wing blogger and similar events occurred all over the country.\" The Web site item asked for donations to \"help us get back to work.\" CNN's Deirdre Walsh, Dana Bash, Lesa Jansen and Tom Cohen contributed to this report.\n",
            "score: 0.046061\n",
            "\n",
            "input: (CNN) -- Chronic seizures can present a risk for adolescents, whose bodies and metabolism are changing. Jett Travolta was the elder of John Travolta and Kelly Preston's two children. A seizure disorder caused the death of Jett Travolta, the 16-year-old son of actors John Travolta and Kelly Preston, a source at a Bahamas funeral home told CNN. \"Literally dozens of different disorders can cause seizures: genetics, stroke, brain tumor, lack of oxygen, low blood sugar, drugs, even certain medications,\" said Dr. Sanjay Gupta, CNN's chief medical correspondent. Another expert said the teen years bring risks for those with seizures. \"Adolescence is a time, even if you don't talk about children with any seizure disorder, where things change in a child,\" said Dr. Shlomo Shinnar of Montefiore Medical Center in New York. There are effective drugs to treat seizures. As children grow, their bodies and metabolism change, perhaps causing a need to adjust their dosage, said Shinnar, a professor of neurology and pediatrics and director of the Comprehensive Epilepsy Management Center at Montefiore. \"Seizures during adolescence can get better or worse or stay the same,\" he said. And the risk of seizures is higher for children with disabilities such as autism and cerebral palsy, Shinnar said. Jett Travolta had a developmental disability that his parents have linked to Kawasaki disease, an inflammatory disorder of the artery walls that most commonly occurs in young children. An autopsy of the actors' son was completed Monday, and the body was cremated that evening, the funeral home source said. Jett was found unconscious in the bathroom Friday while on vacation with his family. Michael Ossi, an attorney for Travolta, told CNN last week that Jett had a seizure that morning at the family's home in a resort area. He was taken by ambulance to a hospital and pronounced dead on arrival, according to local police. People.com reported that Travolta, Preston and their 8-year-old daughter Ella Blue arrived in Florida on Monday night with Jett's ashes.  The reports that a seizure disorder caused Jett's death were preliminary, Gupta said. \"It tells us more about what did not happen than the ultimate cause of death. It rules out brain injury, bleeding on brain, skull fractures, rules out heart problems due to Kawasaki disease, which is the disease the Travoltas say their son suffered,\" he said. Kawasaki disease, believed to be caused by an infection, inflames the heart muscles.  In 2001, Travolta told CNN's Larry King that his son had a near brush with death related to the condition. \"I was obsessive about cleaning -- his space being clean, so we constantly had the carpets cleaned. And I think, between him, the fumes and walking around, maybe picking up pieces or something, he got what is rarely a thing to deal with, but it's Kawasaki syndrome,\" Travolta said of his then-2-year-old son. Dr. Cam Patterson, general cardiologist at the University of North Carolina and a genetics expert who follows Kawasaki disease, told CNN, \"There is no real good link at all between Kawasaki disease and cleaning products. \"Kawasaki disease is due to an abnormal immunnologic response, probably to an infectious agent or infection we don't yet understand,\" Patterson said. \"There is nothing that links environmental toxins to this problem.\" Someone with Kawasaki could have seizures for one of two reasons, but they would be rare, he said. \"One, sometime in the past one of the arteries in the brain ruptured and caused stroke,\" he said.  \"Two, if the artery had enlarged enough, it could be pressing on parts of brain and that could cause seizure. Both possibilities are unusual for Kawasaki disease.\" A very small study released in 1991 found an association between cases of Kawasaki disease in homes where carpet had been cleaned in the past 30 days. \"It's very easy to find correlations, but doesn't mean causative,\" Patterson said. The next step would have been to conduct more tests, by taking toxicological tests and brain examinations to see what could have caused the seizure. \"Even with physical evidence and a deeper look by neuropathologists, we still may never have an answer,\" Gupta said on CNN's American Morning. CNN's Stephanie Smith and Miriam Falco contributed to this report.\n",
            "score: 0.769580\n",
            "\n",
            "\n"
          ]
        }
      ],
      "source": [
        "examples = test_not_acc[:10].tolist()\n",
        "\n",
        "reloaded_results = tf.sigmoid(reloaded_model(tf.constant(examples)))\n",
        "\n",
        "print_my_examples(examples, reloaded_results)"
      ]
    },
    {
      "cell_type": "code",
      "execution_count": null,
      "metadata": {
        "id": "Wk32ZdvH7dTm"
      },
      "outputs": [],
      "source": [
        "test_scores = tf.sigmoid(reloaded_model(tf.constant(docs_test)))"
      ]
    },
    {
      "cell_type": "code",
      "execution_count": null,
      "metadata": {
        "id": "Hd_5VzN04kZ0"
      },
      "outputs": [],
      "source": [
        "test_predictions = tf.math.round(test_scores)"
      ]
    },
    {
      "cell_type": "code",
      "execution_count": null,
      "metadata": {
        "id": "GIW5kWR59EGY"
      },
      "outputs": [],
      "source": [
        ""
      ]
    },
    {
      "cell_type": "code",
      "execution_count": null,
      "metadata": {
        "id": "vdUfcEVk6Nnm"
      },
      "outputs": [],
      "source": [
        "test_predictions = test_predictions.numpy().ravel().astype(int)"
      ]
    },
    {
      "cell_type": "code",
      "execution_count": null,
      "metadata": {
        "colab": {
          "base_uri": "https://localhost:8080/",
          "height": 283
        },
        "id": "A9B24oIP7b9_",
        "outputId": "0295f023-60f4-416c-e56f-bff1985371aa"
      },
      "outputs": [
        {
          "output_type": "execute_result",
          "data": {
            "text/plain": [
              "<matplotlib.collections.PathCollection at 0x7f5c82c2f890>"
            ]
          },
          "metadata": {},
          "execution_count": 439
        },
        {
          "output_type": "display_data",
          "data": {
            "text/plain": [
              "<Figure size 432x288 with 1 Axes>"
            ],
            "image/png": "[encoded data removed]"
          },
          "metadata": {
            "needs_background": "light"
          }
        }
      ],
      "source": [
        "plt.scatter(test_scores, y_test + np.random.normal(loc=0.0, scale=0.03, size=len(y_test)))"
      ]
    },
    {
      "cell_type": "code",
      "execution_count": null,
      "metadata": {
        "colab": {
          "base_uri": "https://localhost:8080/"
        },
        "id": "An5I3Aw16vWO",
        "outputId": "afc11419-2065-4268-848a-2faff39c5904"
      },
      "outputs": [
        {
          "output_type": "stream",
          "name": "stdout",
          "text": [
            "              precision    recall  f1-score   support\n",
            "\n",
            "not accident       0.85      0.87      0.86        87\n",
            "    accident       0.90      0.88      0.89       109\n",
            "\n",
            "    accuracy                           0.88       196\n",
            "   macro avg       0.88      0.88      0.88       196\n",
            "weighted avg       0.88      0.88      0.88       196\n",
            "\n"
          ]
        }
      ],
      "source": [
        "\n",
        "from sklearn.metrics import classification_report\n",
        "print(classification_report(y_test, test_predictions, target_names=['not accident', 'accident']))"
      ]
    }
  ],
  "metadata": {
    "colab": {
      "collapsed_sections": [],
      "name": "BERT.ipynb",
      "provenance": []
    },
    "gpuClass": "standard",
    "kernelspec": {
      "display_name": "Python 3",
      "name": "python3"
    },
    "language_info": {
      "name": "python"
    },
    "accelerator": "GPU"
  },
  "nbformat": 4,
  "nbformat_minor": 0
}