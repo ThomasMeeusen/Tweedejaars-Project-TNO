{
  "nbformat": 4,
  "nbformat_minor": 0,
  "metadata": {
    "colab": {
      "name": "BERT.ipynb",
      "provenance": [],
      "collapsed_sections": []
    },
    "kernelspec": {
      "name": "python3",
      "display_name": "Python 3"
    },
    "language_info": {
      "name": "python"
    },
    "accelerator": "GPU",
    "gpuClass": "standard"
  },
  "cells": [
    {
      "cell_type": "code",
      "execution_count": 1,
      "metadata": {
        "id": "FSdrK-UqbROH"
      },
      "outputs": [],
      "source": [
        "import pandas as pd\n",
        "import numpy as np"
      ]
    },
    {
      "cell_type": "code",
      "source": [
        "from google.colab import drive\n",
        "drive.mount('/content/drive/')"
      ],
      "metadata": {
        "colab": {
          "base_uri": "https://localhost:8080/"
        },
        "id": "DdEZQVM_c-Gk",
        "outputId": "047425e7-7924-446e-8cc3-74bcab0f088e"
      },
      "execution_count": 2,
      "outputs": [
        {
          "output_type": "stream",
          "name": "stdout",
          "text": [
            "Mounted at /content/drive/\n"
          ]
        }
      ]
    },
    {
      "cell_type": "code",
      "source": [
        "%cd /content/drive/My\\ Drive/Colab\\ Notebooks/tweedejaarsproject/"
      ],
      "metadata": {
        "colab": {
          "base_uri": "https://localhost:8080/"
        },
        "id": "V6hQkULpdAfm",
        "outputId": "19ec3861-79ff-4b4b-d491-995ec3c45a95"
      },
      "execution_count": 3,
      "outputs": [
        {
          "output_type": "stream",
          "name": "stdout",
          "text": [
            "/content/drive/My Drive/Colab Notebooks/tweedejaarsproject\n"
          ]
        }
      ]
    },
    {
      "cell_type": "code",
      "source": [
        "ls"
      ],
      "metadata": {
        "colab": {
          "base_uri": "https://localhost:8080/"
        },
        "id": "Cj1uxvbRdKWK",
        "outputId": "8e4df206-641b-4429-e1b9-c7b5c3a311e4"
      },
      "execution_count": 4,
      "outputs": [
        {
          "output_type": "stream",
          "name": "stdout",
          "text": [
            "0-10000-labeled.csv  BERT.ipynb  huggingface_stats.py  \u001b[0m\u001b[01;34mimdb_bert\u001b[0m/  model.png\n"
          ]
        }
      ]
    },
    {
      "cell_type": "code",
      "source": [
        "pd.read_csv('0-10000-labeled.csv')"
      ],
      "metadata": {
        "colab": {
          "base_uri": "https://localhost:8080/",
          "height": 424
        },
        "id": "XXIQqV0mbd6B",
        "outputId": "2df7c947-9691-4243-a354-4cad22009fde"
      },
      "execution_count": 5,
      "outputs": [
        {
          "output_type": "execute_result",
          "data": {
            "text/plain": [
              "                                                article  \\\n",
              "0     LONDON, England (Reuters) -- Harry Potter star...   \n",
              "1     Editor's note: In our Behind the Scenes series...   \n",
              "2     MINNEAPOLIS, Minnesota (CNN) -- Drivers who we...   \n",
              "3     WASHINGTON (CNN) -- Doctors removed five small...   \n",
              "4     (CNN)  -- The National Football League has ind...   \n",
              "...                                                 ...   \n",
              "9995  (Oprah.com) -- As a trained chef, restaurant o...   \n",
              "9996  Islamabad, Pakistan (CNN) -- The Pakistani mil...   \n",
              "9997  (CNN) -- Bastian Schweinsteiger rescued a poin...   \n",
              "9998  (CNN) -- Haiti's earthquake is creating \"a gen...   \n",
              "9999  (SuperYachtWorld) -- They may not be big on lo...   \n",
              "\n",
              "                                             highlights  \\\n",
              "0     Harry Potter star Daniel Radcliffe gets £20M f...   \n",
              "1     Mentally ill inmates in Miami are housed on th...   \n",
              "2     NEW: \"I thought I was going to die,\" driver sa...   \n",
              "3     Five small polyps found during procedure; \"non...   \n",
              "4     NEW: NFL chief, Atlanta Falcons owner critical...   \n",
              "...                                                 ...   \n",
              "9995  Chef Laura Pensiero: Don't let diet hijack you...   \n",
              "9996  NEW: Taliban source says commander alive and w...   \n",
              "9997  Midfielder Bastian Schweinsteiger rescues a po...   \n",
              "9998  Experts say Haiti's earthquake is creating \"a ...   \n",
              "9999  New breed of adventure explorers offer comfort...   \n",
              "\n",
              "                                            id  label  \n",
              "0     42c027e4ff9730fbb3de84c1af0d2c506e41c3e4    0.0  \n",
              "1     ee8871b15c50d0db17b0179a6d2beab35065f1e9    0.0  \n",
              "2     06352019a19ae31e527f37f7571c6dd7f0c5da37    1.0  \n",
              "3     24521a2abb2e1f5e34e6824e0f9e56904a2b0e88    0.0  \n",
              "4     7fe70cc8b12fab2d0a258fababf7d9c6b5e1262a    0.0  \n",
              "...                                        ...    ...  \n",
              "9995  75cd2144a44f902e14b887bf927a08ad6b5fbf54    0.0  \n",
              "9996  734ca9a754dd444ed50362375e256fd72d82def5    0.0  \n",
              "9997  8ff4e932c84ed30759427a128879f0af1c8a156a    0.0  \n",
              "9998  12e6c95b6f47092e953523ae556cb6391a7021f6    0.0  \n",
              "9999  1130b36a9ba93d8fcbf07a2ac0048d4c281cd57c    0.0  \n",
              "\n",
              "[10000 rows x 4 columns]"
            ],
            "text/html": [
              "\n",
              "  <div id=\"df-e9d2acca-21ac-4b20-90cf-3e08fd9f7491\">\n",
              "    <div class=\"colab-df-container\">\n",
              "      <div>\n",
              "<style scoped>\n",
              "    .dataframe tbody tr th:only-of-type {\n",
              "        vertical-align: middle;\n",
              "    }\n",
              "\n",
              "    .dataframe tbody tr th {\n",
              "        vertical-align: top;\n",
              "    }\n",
              "\n",
              "    .dataframe thead th {\n",
              "        text-align: right;\n",
              "    }\n",
              "</style>\n",
              "<table border=\"1\" class=\"dataframe\">\n",
              "  <thead>\n",
              "    <tr style=\"text-align: right;\">\n",
              "      <th></th>\n",
              "      <th>article</th>\n",
              "      <th>highlights</th>\n",
              "      <th>id</th>\n",
              "      <th>label</th>\n",
              "    </tr>\n",
              "  </thead>\n",
              "  <tbody>\n",
              "    <tr>\n",
              "      <th>0</th>\n",
              "      <td>LONDON, England (Reuters) -- Harry Potter star...</td>\n",
              "      <td>Harry Potter star Daniel Radcliffe gets £20M f...</td>\n",
              "      <td>42c027e4ff9730fbb3de84c1af0d2c506e41c3e4</td>\n",
              "      <td>0.0</td>\n",
              "    </tr>\n",
              "    <tr>\n",
              "      <th>1</th>\n",
              "      <td>Editor's note: In our Behind the Scenes series...</td>\n",
              "      <td>Mentally ill inmates in Miami are housed on th...</td>\n",
              "      <td>ee8871b15c50d0db17b0179a6d2beab35065f1e9</td>\n",
              "      <td>0.0</td>\n",
              "    </tr>\n",
              "    <tr>\n",
              "      <th>2</th>\n",
              "      <td>MINNEAPOLIS, Minnesota (CNN) -- Drivers who we...</td>\n",
              "      <td>NEW: \"I thought I was going to die,\" driver sa...</td>\n",
              "      <td>06352019a19ae31e527f37f7571c6dd7f0c5da37</td>\n",
              "      <td>1.0</td>\n",
              "    </tr>\n",
              "    <tr>\n",
              "      <th>3</th>\n",
              "      <td>WASHINGTON (CNN) -- Doctors removed five small...</td>\n",
              "      <td>Five small polyps found during procedure; \"non...</td>\n",
              "      <td>24521a2abb2e1f5e34e6824e0f9e56904a2b0e88</td>\n",
              "      <td>0.0</td>\n",
              "    </tr>\n",
              "    <tr>\n",
              "      <th>4</th>\n",
              "      <td>(CNN)  -- The National Football League has ind...</td>\n",
              "      <td>NEW: NFL chief, Atlanta Falcons owner critical...</td>\n",
              "      <td>7fe70cc8b12fab2d0a258fababf7d9c6b5e1262a</td>\n",
              "      <td>0.0</td>\n",
              "    </tr>\n",
              "    <tr>\n",
              "      <th>...</th>\n",
              "      <td>...</td>\n",
              "      <td>...</td>\n",
              "      <td>...</td>\n",
              "      <td>...</td>\n",
              "    </tr>\n",
              "    <tr>\n",
              "      <th>9995</th>\n",
              "      <td>(Oprah.com) -- As a trained chef, restaurant o...</td>\n",
              "      <td>Chef Laura Pensiero: Don't let diet hijack you...</td>\n",
              "      <td>75cd2144a44f902e14b887bf927a08ad6b5fbf54</td>\n",
              "      <td>0.0</td>\n",
              "    </tr>\n",
              "    <tr>\n",
              "      <th>9996</th>\n",
              "      <td>Islamabad, Pakistan (CNN) -- The Pakistani mil...</td>\n",
              "      <td>NEW: Taliban source says commander alive and w...</td>\n",
              "      <td>734ca9a754dd444ed50362375e256fd72d82def5</td>\n",
              "      <td>0.0</td>\n",
              "    </tr>\n",
              "    <tr>\n",
              "      <th>9997</th>\n",
              "      <td>(CNN) -- Bastian Schweinsteiger rescued a poin...</td>\n",
              "      <td>Midfielder Bastian Schweinsteiger rescues a po...</td>\n",
              "      <td>8ff4e932c84ed30759427a128879f0af1c8a156a</td>\n",
              "      <td>0.0</td>\n",
              "    </tr>\n",
              "    <tr>\n",
              "      <th>9998</th>\n",
              "      <td>(CNN) -- Haiti's earthquake is creating \"a gen...</td>\n",
              "      <td>Experts say Haiti's earthquake is creating \"a ...</td>\n",
              "      <td>12e6c95b6f47092e953523ae556cb6391a7021f6</td>\n",
              "      <td>0.0</td>\n",
              "    </tr>\n",
              "    <tr>\n",
              "      <th>9999</th>\n",
              "      <td>(SuperYachtWorld) -- They may not be big on lo...</td>\n",
              "      <td>New breed of adventure explorers offer comfort...</td>\n",
              "      <td>1130b36a9ba93d8fcbf07a2ac0048d4c281cd57c</td>\n",
              "      <td>0.0</td>\n",
              "    </tr>\n",
              "  </tbody>\n",
              "</table>\n",
              "<p>10000 rows × 4 columns</p>\n",
              "</div>\n",
              "      <button class=\"colab-df-convert\" onclick=\"convertToInteractive('df-e9d2acca-21ac-4b20-90cf-3e08fd9f7491')\"\n",
              "              title=\"Convert this dataframe to an interactive table.\"\n",
              "              style=\"display:none;\">\n",
              "        \n",
              "  <svg xmlns=\"http://www.w3.org/2000/svg\" height=\"24px\"viewBox=\"0 0 24 24\"\n",
              "       width=\"24px\">\n",
              "    <path d=\"M0 0h24v24H0V0z\" fill=\"none\"/>\n",
              "    <path d=\"M18.56 5.44l.94 2.06.94-2.06 2.06-.94-2.06-.94-.94-2.06-.94 2.06-2.06.94zm-11 1L8.5 8.5l.94-2.06 2.06-.94-2.06-.94L8.5 2.5l-.94 2.06-2.06.94zm10 10l.94 2.06.94-2.06 2.06-.94-2.06-.94-.94-2.06-.94 2.06-2.06.94z\"/><path d=\"M17.41 7.96l-1.37-1.37c-.4-.4-.92-.59-1.43-.59-.52 0-1.04.2-1.43.59L10.3 9.45l-7.72 7.72c-.78.78-.78 2.05 0 2.83L4 21.41c.39.39.9.59 1.41.59.51 0 1.02-.2 1.41-.59l7.78-7.78 2.81-2.81c.8-.78.8-2.07 0-2.86zM5.41 20L4 18.59l7.72-7.72 1.47 1.35L5.41 20z\"/>\n",
              "  </svg>\n",
              "      </button>\n",
              "      \n",
              "  <style>\n",
              "    .colab-df-container {\n",
              "      display:flex;\n",
              "      flex-wrap:wrap;\n",
              "      gap: 12px;\n",
              "    }\n",
              "\n",
              "    .colab-df-convert {\n",
              "      background-color: #E8F0FE;\n",
              "      border: none;\n",
              "      border-radius: 50%;\n",
              "      cursor: pointer;\n",
              "      display: none;\n",
              "      fill: #1967D2;\n",
              "      height: 32px;\n",
              "      padding: 0 0 0 0;\n",
              "      width: 32px;\n",
              "    }\n",
              "\n",
              "    .colab-df-convert:hover {\n",
              "      background-color: #E2EBFA;\n",
              "      box-shadow: 0px 1px 2px rgba(60, 64, 67, 0.3), 0px 1px 3px 1px rgba(60, 64, 67, 0.15);\n",
              "      fill: #174EA6;\n",
              "    }\n",
              "\n",
              "    [theme=dark] .colab-df-convert {\n",
              "      background-color: #3B4455;\n",
              "      fill: #D2E3FC;\n",
              "    }\n",
              "\n",
              "    [theme=dark] .colab-df-convert:hover {\n",
              "      background-color: #434B5C;\n",
              "      box-shadow: 0px 1px 3px 1px rgba(0, 0, 0, 0.15);\n",
              "      filter: drop-shadow(0px 1px 2px rgba(0, 0, 0, 0.3));\n",
              "      fill: #FFFFFF;\n",
              "    }\n",
              "  </style>\n",
              "\n",
              "      <script>\n",
              "        const buttonEl =\n",
              "          document.querySelector('#df-e9d2acca-21ac-4b20-90cf-3e08fd9f7491 button.colab-df-convert');\n",
              "        buttonEl.style.display =\n",
              "          google.colab.kernel.accessAllowed ? 'block' : 'none';\n",
              "\n",
              "        async function convertToInteractive(key) {\n",
              "          const element = document.querySelector('#df-e9d2acca-21ac-4b20-90cf-3e08fd9f7491');\n",
              "          const dataTable =\n",
              "            await google.colab.kernel.invokeFunction('convertToInteractive',\n",
              "                                                     [key], {});\n",
              "          if (!dataTable) return;\n",
              "\n",
              "          const docLinkHtml = 'Like what you see? Visit the ' +\n",
              "            '<a target=\"_blank\" href=https://colab.research.google.com/notebooks/data_table.ipynb>data table notebook</a>'\n",
              "            + ' to learn more about interactive tables.';\n",
              "          element.innerHTML = '';\n",
              "          dataTable['output_type'] = 'display_data';\n",
              "          await google.colab.output.renderOutput(dataTable, element);\n",
              "          const docLink = document.createElement('div');\n",
              "          docLink.innerHTML = docLinkHtml;\n",
              "          element.appendChild(docLink);\n",
              "        }\n",
              "      </script>\n",
              "    </div>\n",
              "  </div>\n",
              "  "
            ]
          },
          "metadata": {},
          "execution_count": 5
        }
      ]
    },
    {
      "cell_type": "code",
      "source": [
        "import huggingface_stats"
      ],
      "metadata": {
        "id": "7wse6cZFdLcZ"
      },
      "execution_count": 6,
      "outputs": []
    },
    {
      "cell_type": "code",
      "execution_count": 7,
      "metadata": {
        "id": "q-YbjCkzw0yU",
        "colab": {
          "base_uri": "https://localhost:8080/"
        },
        "outputId": "5be5ab39-0edb-44f3-89d0-e30216badab8"
      },
      "outputs": [
        {
          "output_type": "stream",
          "name": "stdout",
          "text": [
            "\u001b[K     |████████████████████████████████| 4.9 MB 4.6 MB/s \n",
            "\u001b[?25h"
          ]
        }
      ],
      "source": [
        "# A dependency of the preprocessing for BERT inputs\n",
        "!pip install -q -U \"tensorflow-text==2.8.*\""
      ]
    },
    {
      "cell_type": "markdown",
      "metadata": {
        "id": "5w_XlxN1IsRJ"
      },
      "source": [
        "You will use the AdamW optimizer from [tensorflow/models](https://github.com/tensorflow/models)."
      ]
    },
    {
      "cell_type": "code",
      "execution_count": 8,
      "metadata": {
        "id": "b-P1ZOA0FkVJ",
        "colab": {
          "base_uri": "https://localhost:8080/"
        },
        "outputId": "507aadf0-6fd7-4e7e-ea00-30273b4b23cb"
      },
      "outputs": [
        {
          "output_type": "stream",
          "name": "stdout",
          "text": [
            "\u001b[K     |████████████████████████████████| 1.8 MB 5.3 MB/s \n",
            "\u001b[K     |████████████████████████████████| 237 kB 68.4 MB/s \n",
            "\u001b[K     |████████████████████████████████| 1.2 MB 46.5 MB/s \n",
            "\u001b[K     |████████████████████████████████| 99 kB 8.9 MB/s \n",
            "\u001b[K     |████████████████████████████████| 1.1 MB 54.5 MB/s \n",
            "\u001b[K     |████████████████████████████████| 92 kB 6.0 MB/s \n",
            "\u001b[K     |████████████████████████████████| 596 kB 58.5 MB/s \n",
            "\u001b[K     |████████████████████████████████| 352 kB 38.0 MB/s \n",
            "\u001b[K     |████████████████████████████████| 48.3 MB 87 kB/s \n",
            "\u001b[K     |████████████████████████████████| 43 kB 1.5 MB/s \n",
            "\u001b[?25h  Building wheel for py-cpuinfo (setup.py) ... \u001b[?25l\u001b[?25hdone\n",
            "  Building wheel for seqeval (setup.py) ... \u001b[?25l\u001b[?25hdone\n"
          ]
        }
      ],
      "source": [
        "!pip install -q tf-models-official==2.7.0"
      ]
    },
    {
      "cell_type": "code",
      "execution_count": 9,
      "metadata": {
        "id": "_XgTpm9ZxoN9"
      },
      "outputs": [],
      "source": [
        "import os\n",
        "import shutil\n",
        "import re\n",
        "import string\n",
        "\n",
        "import tensorflow as tf\n",
        "import tensorflow_hub as hub\n",
        "import tensorflow_text as text\n",
        "from official.nlp import optimization  # to create AdamW optimizer\n",
        "\n",
        "import matplotlib.pyplot as plt\n",
        "\n",
        "tf.get_logger().setLevel('ERROR')"
      ]
    },
    {
      "cell_type": "code",
      "source": [
        "from tensorflow.keras import layers"
      ],
      "metadata": {
        "id": "EQNOTFrSd5AS"
      },
      "execution_count": 10,
      "outputs": []
    },
    {
      "cell_type": "code",
      "source": [
        "news_data = pd.read_csv('0-10000-labeled.csv', dtype = {'label': int})\n",
        "news_data.loc[news_data['label'] == 0, 'label_txt'] = 'Not accident'\n",
        "news_data.loc[news_data['label'] == 1, 'label_txt'] = 'Accident'\n",
        "news_data.head()"
      ],
      "metadata": {
        "colab": {
          "base_uri": "https://localhost:8080/",
          "height": 206
        },
        "id": "sI2o5kDWjylY",
        "outputId": "6ef856d6-3d1c-4bd2-b53f-eb1328b08d5d"
      },
      "execution_count": 28,
      "outputs": [
        {
          "output_type": "execute_result",
          "data": {
            "text/plain": [
              "                                             article  \\\n",
              "0  LONDON, England (Reuters) -- Harry Potter star...   \n",
              "1  Editor's note: In our Behind the Scenes series...   \n",
              "2  MINNEAPOLIS, Minnesota (CNN) -- Drivers who we...   \n",
              "3  WASHINGTON (CNN) -- Doctors removed five small...   \n",
              "4  (CNN)  -- The National Football League has ind...   \n",
              "\n",
              "                                          highlights  \\\n",
              "0  Harry Potter star Daniel Radcliffe gets £20M f...   \n",
              "1  Mentally ill inmates in Miami are housed on th...   \n",
              "2  NEW: \"I thought I was going to die,\" driver sa...   \n",
              "3  Five small polyps found during procedure; \"non...   \n",
              "4  NEW: NFL chief, Atlanta Falcons owner critical...   \n",
              "\n",
              "                                         id  label     label_txt  \n",
              "0  42c027e4ff9730fbb3de84c1af0d2c506e41c3e4      0  Not accident  \n",
              "1  ee8871b15c50d0db17b0179a6d2beab35065f1e9      0  Not accident  \n",
              "2  06352019a19ae31e527f37f7571c6dd7f0c5da37      1      Accident  \n",
              "3  24521a2abb2e1f5e34e6824e0f9e56904a2b0e88      0  Not accident  \n",
              "4  7fe70cc8b12fab2d0a258fababf7d9c6b5e1262a      0  Not accident  "
            ],
            "text/html": [
              "\n",
              "  <div id=\"df-5c11ced9-60e8-4081-af7c-7e6af0029369\">\n",
              "    <div class=\"colab-df-container\">\n",
              "      <div>\n",
              "<style scoped>\n",
              "    .dataframe tbody tr th:only-of-type {\n",
              "        vertical-align: middle;\n",
              "    }\n",
              "\n",
              "    .dataframe tbody tr th {\n",
              "        vertical-align: top;\n",
              "    }\n",
              "\n",
              "    .dataframe thead th {\n",
              "        text-align: right;\n",
              "    }\n",
              "</style>\n",
              "<table border=\"1\" class=\"dataframe\">\n",
              "  <thead>\n",
              "    <tr style=\"text-align: right;\">\n",
              "      <th></th>\n",
              "      <th>article</th>\n",
              "      <th>highlights</th>\n",
              "      <th>id</th>\n",
              "      <th>label</th>\n",
              "      <th>label_txt</th>\n",
              "    </tr>\n",
              "  </thead>\n",
              "  <tbody>\n",
              "    <tr>\n",
              "      <th>0</th>\n",
              "      <td>LONDON, England (Reuters) -- Harry Potter star...</td>\n",
              "      <td>Harry Potter star Daniel Radcliffe gets £20M f...</td>\n",
              "      <td>42c027e4ff9730fbb3de84c1af0d2c506e41c3e4</td>\n",
              "      <td>0</td>\n",
              "      <td>Not accident</td>\n",
              "    </tr>\n",
              "    <tr>\n",
              "      <th>1</th>\n",
              "      <td>Editor's note: In our Behind the Scenes series...</td>\n",
              "      <td>Mentally ill inmates in Miami are housed on th...</td>\n",
              "      <td>ee8871b15c50d0db17b0179a6d2beab35065f1e9</td>\n",
              "      <td>0</td>\n",
              "      <td>Not accident</td>\n",
              "    </tr>\n",
              "    <tr>\n",
              "      <th>2</th>\n",
              "      <td>MINNEAPOLIS, Minnesota (CNN) -- Drivers who we...</td>\n",
              "      <td>NEW: \"I thought I was going to die,\" driver sa...</td>\n",
              "      <td>06352019a19ae31e527f37f7571c6dd7f0c5da37</td>\n",
              "      <td>1</td>\n",
              "      <td>Accident</td>\n",
              "    </tr>\n",
              "    <tr>\n",
              "      <th>3</th>\n",
              "      <td>WASHINGTON (CNN) -- Doctors removed five small...</td>\n",
              "      <td>Five small polyps found during procedure; \"non...</td>\n",
              "      <td>24521a2abb2e1f5e34e6824e0f9e56904a2b0e88</td>\n",
              "      <td>0</td>\n",
              "      <td>Not accident</td>\n",
              "    </tr>\n",
              "    <tr>\n",
              "      <th>4</th>\n",
              "      <td>(CNN)  -- The National Football League has ind...</td>\n",
              "      <td>NEW: NFL chief, Atlanta Falcons owner critical...</td>\n",
              "      <td>7fe70cc8b12fab2d0a258fababf7d9c6b5e1262a</td>\n",
              "      <td>0</td>\n",
              "      <td>Not accident</td>\n",
              "    </tr>\n",
              "  </tbody>\n",
              "</table>\n",
              "</div>\n",
              "      <button class=\"colab-df-convert\" onclick=\"convertToInteractive('df-5c11ced9-60e8-4081-af7c-7e6af0029369')\"\n",
              "              title=\"Convert this dataframe to an interactive table.\"\n",
              "              style=\"display:none;\">\n",
              "        \n",
              "  <svg xmlns=\"http://www.w3.org/2000/svg\" height=\"24px\"viewBox=\"0 0 24 24\"\n",
              "       width=\"24px\">\n",
              "    <path d=\"M0 0h24v24H0V0z\" fill=\"none\"/>\n",
              "    <path d=\"M18.56 5.44l.94 2.06.94-2.06 2.06-.94-2.06-.94-.94-2.06-.94 2.06-2.06.94zm-11 1L8.5 8.5l.94-2.06 2.06-.94-2.06-.94L8.5 2.5l-.94 2.06-2.06.94zm10 10l.94 2.06.94-2.06 2.06-.94-2.06-.94-.94-2.06-.94 2.06-2.06.94z\"/><path d=\"M17.41 7.96l-1.37-1.37c-.4-.4-.92-.59-1.43-.59-.52 0-1.04.2-1.43.59L10.3 9.45l-7.72 7.72c-.78.78-.78 2.05 0 2.83L4 21.41c.39.39.9.59 1.41.59.51 0 1.02-.2 1.41-.59l7.78-7.78 2.81-2.81c.8-.78.8-2.07 0-2.86zM5.41 20L4 18.59l7.72-7.72 1.47 1.35L5.41 20z\"/>\n",
              "  </svg>\n",
              "      </button>\n",
              "      \n",
              "  <style>\n",
              "    .colab-df-container {\n",
              "      display:flex;\n",
              "      flex-wrap:wrap;\n",
              "      gap: 12px;\n",
              "    }\n",
              "\n",
              "    .colab-df-convert {\n",
              "      background-color: #E8F0FE;\n",
              "      border: none;\n",
              "      border-radius: 50%;\n",
              "      cursor: pointer;\n",
              "      display: none;\n",
              "      fill: #1967D2;\n",
              "      height: 32px;\n",
              "      padding: 0 0 0 0;\n",
              "      width: 32px;\n",
              "    }\n",
              "\n",
              "    .colab-df-convert:hover {\n",
              "      background-color: #E2EBFA;\n",
              "      box-shadow: 0px 1px 2px rgba(60, 64, 67, 0.3), 0px 1px 3px 1px rgba(60, 64, 67, 0.15);\n",
              "      fill: #174EA6;\n",
              "    }\n",
              "\n",
              "    [theme=dark] .colab-df-convert {\n",
              "      background-color: #3B4455;\n",
              "      fill: #D2E3FC;\n",
              "    }\n",
              "\n",
              "    [theme=dark] .colab-df-convert:hover {\n",
              "      background-color: #434B5C;\n",
              "      box-shadow: 0px 1px 3px 1px rgba(0, 0, 0, 0.15);\n",
              "      filter: drop-shadow(0px 1px 2px rgba(0, 0, 0, 0.3));\n",
              "      fill: #FFFFFF;\n",
              "    }\n",
              "  </style>\n",
              "\n",
              "      <script>\n",
              "        const buttonEl =\n",
              "          document.querySelector('#df-5c11ced9-60e8-4081-af7c-7e6af0029369 button.colab-df-convert');\n",
              "        buttonEl.style.display =\n",
              "          google.colab.kernel.accessAllowed ? 'block' : 'none';\n",
              "\n",
              "        async function convertToInteractive(key) {\n",
              "          const element = document.querySelector('#df-5c11ced9-60e8-4081-af7c-7e6af0029369');\n",
              "          const dataTable =\n",
              "            await google.colab.kernel.invokeFunction('convertToInteractive',\n",
              "                                                     [key], {});\n",
              "          if (!dataTable) return;\n",
              "\n",
              "          const docLinkHtml = 'Like what you see? Visit the ' +\n",
              "            '<a target=\"_blank\" href=https://colab.research.google.com/notebooks/data_table.ipynb>data table notebook</a>'\n",
              "            + ' to learn more about interactive tables.';\n",
              "          element.innerHTML = '';\n",
              "          dataTable['output_type'] = 'display_data';\n",
              "          await google.colab.output.renderOutput(dataTable, element);\n",
              "          const docLink = document.createElement('div');\n",
              "          docLink.innerHTML = docLinkHtml;\n",
              "          element.appendChild(docLink);\n",
              "        }\n",
              "      </script>\n",
              "    </div>\n",
              "  </div>\n",
              "  "
            ]
          },
          "metadata": {},
          "execution_count": 28
        }
      ]
    },
    {
      "cell_type": "code",
      "source": [
        "news_features = np.array(news_data['article'])\n",
        "news_labels = np.array(news_data['label'])"
      ],
      "metadata": {
        "id": "pJWhZt3CkX4T"
      },
      "execution_count": 33,
      "outputs": []
    },
    {
      "cell_type": "code",
      "source": [
        "import nltk\n",
        "from nltk.stem.snowball import EnglishStemmer\n",
        "from nltk.corpus import stopwords\n",
        "nltk.download('stopwords')\n",
        "nltk.download('punkt')\n",
        "\n",
        "preprocessor = huggingface_stats.Preprocessor(stemmer=EnglishStemmer(),\n",
        "                                              stopwords=stopwords.words('english'),\n",
        "                                              re_pattern=re.compile(\"[a-zA-Z]\"))\n",
        "\n",
        "# pas deze if-statement aan om keyword filteren aan of uit te zetten\n",
        "filter_by_keywords = True\n",
        "if filter_by_keywords:\n",
        "    positive_keywords = ['accident','disaster','catastrophe','incident','near-miss', 'tragedy', 'victim',\n",
        "                         'casualties','died','killed','damage','harm','hospital','hospitalized',\n",
        "                         'wounded','succumbed','unscathed','evacuate','rescue','first responders','ambulance',\n",
        "                         'first aid', 'sunk','fire','derailed','collision','poisoned','burned', 'safety']\n",
        "    negative_keywords = ['gunman', 'suspect', 'attack', 'terror', 'war', 'bombing', 'militants', 'bombs',\n",
        "                         'conflict', 'hijacking']\n",
        "    preprocessor.init_keyword_filter(positive=positive_keywords,\n",
        "                                     pos_threshold=3,\n",
        "                                     negative=negative_keywords,\n",
        "                                     neg_threshold=3)\n",
        "    pass_filter = preprocessor.batch_keyword_filter(docs=news_features.tolist(), show_progress=True)\n",
        "    news_features = news_features[np.array(pass_filter)]\n",
        "    news_labels = news_labels[np.array(pass_filter)]\n",
        "    print('\\n')\n",
        "    print(np.sum(np.array(pass_filter) == True), 'articles passed')\n",
        "    print(np.sum(np.array(pass_filter) == False), 'articles did not pass')"
      ],
      "metadata": {
        "colab": {
          "base_uri": "https://localhost:8080/"
        },
        "id": "1CaPlHiuCqXl",
        "outputId": "99a3274c-dbb1-4555-d9bd-fcba219c6b9c"
      },
      "execution_count": 34,
      "outputs": [
        {
          "output_type": "stream",
          "name": "stderr",
          "text": [
            "[nltk_data] Downloading package stopwords to /root/nltk_data...\n",
            "[nltk_data]   Package stopwords is already up-to-date!\n",
            "[nltk_data] Downloading package punkt to /root/nltk_data...\n",
            "[nltk_data]   Package punkt is already up-to-date!\n",
            "100%|██████████| 10000/10000 [02:14<00:00, 74.41it/s]"
          ]
        },
        {
          "output_type": "stream",
          "name": "stdout",
          "text": [
            "\n",
            "\n",
            "1802 articles passed\n",
            "8198 articles did not pass\n"
          ]
        },
        {
          "output_type": "stream",
          "name": "stderr",
          "text": [
            "\n"
          ]
        }
      ]
    },
    {
      "cell_type": "code",
      "source": [
        "len(news_labels)"
      ],
      "metadata": {
        "colab": {
          "base_uri": "https://localhost:8080/"
        },
        "id": "8VPeq0f7kvOI",
        "outputId": "d8f4c0a6-ae4a-434d-a79e-c6d3facdb5a3"
      },
      "execution_count": 35,
      "outputs": [
        {
          "output_type": "execute_result",
          "data": {
            "text/plain": [
              "1802"
            ]
          },
          "metadata": {},
          "execution_count": 35
        }
      ]
    },
    {
      "cell_type": "code",
      "source": [
        "\n",
        "from sklearn.model_selection import train_test_split\n",
        "docs_train, docs_test, y_train, y_test = train_test_split(news_features, news_labels, test_size=.20)\n",
        "docs_train, docs_val, y_train, y_val = train_test_split(docs_train, y_train, test_size=.20)\n",
        "\n",
        "\n",
        "AUTOTUNE = tf.data.AUTOTUNE\n",
        "BATCH_SIZE = 64\n",
        "SHUFFLE_BUFFER_SIZE = 100\n",
        "\n",
        "\n",
        "raw_train_ds = tf.data.Dataset.from_tensor_slices((docs_train, y_train))\n",
        "raw_val_ds = tf.data.Dataset.from_tensor_slices((docs_val, y_val))\n",
        "raw_test_ds = tf.data.Dataset.from_tensor_slices((docs_test, y_test))\n",
        "\n",
        "raw_train_ds = raw_train_ds.shuffle(SHUFFLE_BUFFER_SIZE).batch(BATCH_SIZE)\n",
        "raw_val_ds = raw_val_ds.batch(BATCH_SIZE)\n",
        "raw_test_ds = raw_test_ds.batch(BATCH_SIZE)\n",
        "\n",
        "train_ds = raw_train_ds.cache().prefetch(buffer_size=AUTOTUNE)\n",
        "val_ds = raw_val_ds.cache().prefetch(buffer_size=AUTOTUNE)\n",
        "test_ds = raw_test_ds.cache().prefetch(buffer_size=AUTOTUNE)\n"
      ],
      "metadata": {
        "id": "PU7afNeskweq"
      },
      "execution_count": 36,
      "outputs": []
    },
    {
      "cell_type": "code",
      "source": [
        "val_ds"
      ],
      "metadata": {
        "colab": {
          "base_uri": "https://localhost:8080/"
        },
        "id": "mOg9gSNNm8k3",
        "outputId": "c1d8740e-5c3d-42f7-976c-220b70199bb6"
      },
      "execution_count": 37,
      "outputs": [
        {
          "output_type": "execute_result",
          "data": {
            "text/plain": [
              "<PrefetchDataset element_spec=(TensorSpec(shape=(None,), dtype=tf.string, name=None), TensorSpec(shape=(None,), dtype=tf.int64, name=None))>"
            ]
          },
          "metadata": {},
          "execution_count": 37
        }
      ]
    },
    {
      "cell_type": "code",
      "source": [
        "for text_batch, label_batch in train_ds.take(1):\n",
        "  for i in range(3):\n",
        "    print(\"Article>\", text_batch.numpy()[i])\n",
        "    print(\"Label>\", label_batch.numpy()[i])"
      ],
      "metadata": {
        "colab": {
          "base_uri": "https://localhost:8080/"
        },
        "id": "vwdxyNeom9ei",
        "outputId": "1b9a4083-8893-43e7-ddc4-fda7e2229ca9"
      },
      "execution_count": 38,
      "outputs": [
        {
          "output_type": "stream",
          "name": "stdout",
          "text": [
            "Article> b'(CNN) -- Authorities in Cleveland, Ohio, brought in cadaver dogs Wednesday to search the childhood home of a registered sex offender accused in the deaths of 11 women. \"We\\'re just trying to cover all our bases,\" said Scott Wilson, spokesman for the FBI, which is assisting local detectives in the case. Anthony Sowell, 50, was arrested in October after authorities serving a search warrant in a rape case discovered six bodies in and around his current home. Subsequent searches turned up five more bodies, all African-American women. Authorities have said they are looking at the unsolved murders of three women in East Cleveland to determine whether they share any similarities with the remains found at Sowell\\'s home. Wednesday\\'s search comes a day after Sowell was indicted on 85 counts -- including aggravated murder, rape and kidnapping -- in the killings. In addition, Sowell is charged with \"brutalizing\" three other women and raping two of them, Cuyahoga County prosecutor Bill Mason said Tuesday. Prosecutors are seeking the death penalty against Sowell, Mason said. He is scheduled to be arraigned Thursday. Sowell is now charged with 11 counts of aggravated murder with a \"mass murder specification,\" meaning multiple people were killed in a similar fashion, Mason said. He also is charged with abuse of a corpse, kidnapping and tampering with evidence. The indictment also alleges that Sowell assaulted women on December 8, 2008, and on September 22 and October 20 of this year. The September and October victims were raped, and the other woman was punched and choked before she escaped, Mason said. Sowell\\'s charges in those incidents include attempted murder, rape or attempted rape, kidnapping, robbery and felonious assault. Sowell already faced charges in the September 22 rape and has pleaded not guilty. On October 20, neighbors reported seeing a naked woman fall from the second floor of his house. Firefighters responded and later notified police. But the woman told officers that she fell off the roof while she was at the home \"partying,\" police said earlier. No charges were filed at the time. Sowell threatened his victims and warned them not to contact police, Mason said. It\\'s possible there are other victims, he added, and urged anyone who has not come forward to do so. Sowell \"knew what he was doing was wrong at the time he was doing it,\" the prosecutor said. As of last month, Sowell was on suicide watch at the request of his public defender, Kathleen DeMetz. She had said a psychiatric evaluation had been ordered but was unlikely to happen until after an indictment was filed. Cuyahoga County Sheriff Bob Reid said Tuesday that Sowell has been a \"model prisoner,\" is kept in an isolated unit and has declined visitation requests. Most of the victims were strangled by ligature -- which could include a string, cord or wire -- and at least one was strangled by hand, officials said. Seven still had ligatures wrapped around their necks. All that has been found of one woman is a skull that was wrapped in a paper bag and stuffed into a bucket in the home\\'s basement. Sowell served 15 years in prison for a 1989 attempted rape and was released in 2005. He was required to register as a sex offender. After the 11 victims were found, police used thermal imaging in mid-November in an attempt to see whether any additional human remains were on the property, and they dug certain areas by hand. No more were found.'\n",
            "Label> 0\n",
            "Article> b'LA PAZ, Bolivia (CNN)  -- An agreement aimed at ending violence and bloodshed that has erupted in Bolivian provinces has been reached between President Evo Morales and provincial governors, officials announced Tuesday. Leopoldo Fernandez Ferreira, governor of Pando province, talks to reporters a day before his arrest. The announcement on Bolivian television came just hours after the military arrested the governor of one of five provinces where violent clashes have occurred in the past three weeks, saying he had committed genocide in the deaths of 30 peasants. Gov. Leopoldo Fernandez Ferreira of Pando province was picked up at his office in Cobija and placed on a military plane for La Paz, the Bolivian capital. He did not resist. Groups in Pando and four other Bolivian provinces, backed by the local governors, have demanded greater autonomy and clashed with supporters of the federal government. Federal authorities say the 30 people who were killed Friday were federal supporters. Bolivian President Evo Morales said the arrest was legal and constitutional. \"This arrest is within the framework of the state where it happened, within the constitutional framework and no one can oppose it,\" Morales said at a news conference at the presidential palace. Officials said more arrests are possible. \"We will work day and night to avoid any more deaths or terrorist acts,\" presidential minister Juan Ramon Quintana said in another news conference. \"We will do everything we can to arrest those who have committed terrorist acts.\" As news of Fernandez\\'s arrest spread across the country, many citizens talked about who else could be on the government\\'s \"black list,\" as they were calling it. Besides demanding greater autonomy, opposition leaders in the five provinces want the cancellation of a constitutional referendum that would give the president more power. The opposition also is angry over tax money that Morales is diverting from the provinces to fund programs for the elderly.  Learn more about the Republic of Bolivia \\xc2\\xbb . Morales has said the opposition leaders are trying to overthrow the government. \"This is a coup in the past few days by the leaders of some provinces, with the takeover of some institutions, the sacking and robbery of some government institutions and attempts to assault the national police and the armed forces,\" Morales previously said. Opposition leaders say they merely want their demands met. On Tuesday, they warned that Fernandez\\'s arrest could destroy a shaky truce with the government. The arrest came hours after Morales returned Monday night from a quick trip to Chile, where presidents of the 12-nation Union of South American Countries met to discuss the Bolivian crisis.  Watch leaders meet to discuss Bolivia \\xc2\\xbb . Confronting its first crisis, the four-month-old UNASUR voted to create a commission to support Morales\\' democratically elected government, said Chile\\'s president, Michelle Bachelet. She read a nine-point statement on Chilean TV that calls for the support of human rights and democracy and the preservation of Bolivia\\'s territorial integrity. The statement condemns any attempts to overthrow the government. It also said the new commission will investigate the peasants\\' deaths. UNASUR is modeled on the European Union and aims to politically and economically integrate South American countries. On Tuesday, the United States announced it is organizing emergency evacuation flights for Americans in Bolivia and urged them to leave if the situation permits. A statement from the U.S. Embassy in La Paz said U.S. citizens need to sign an agreement to pay later for the cost of the flight. The embassy said some commercial flights are still available, although American Airlines suspended some flights until Sunday. The United States also continued to urge Americans to delay traveling to Bolivia. Morales expelled the U.S. ambassador last week, accusing the American government of inciting the violence. The expelled ambassador, Philip Goldberg, called the charges \"false and baseless\" and said Bolivia was making a \"grave mistake.\" On Monday, the Peace Corps temporarily suspended operations in Bolivia because of \"growing instability\" there. All Peace Corps volunteers in the country have been moved to Peru. \"Our first priority is the safety and security of our volunteers,\" Peace Corps Director Ron Tschetter said in a written statement. Protests started 21 days ago in Pando, Beni, Santa Cruz, Tarija and Chuquisaca provinces. The opposition groups have blockaded major roads and threaten to disrupt the nation\\'s natural gas shipments, particularly to Brazil and Argentina. Anti-government protesters also have clashed with police and taken over offices and buildings in the five provinces. Much of the violence has taken place in Pando, where Morales declared martial law Friday. Morales, Bolivia\\'s first indigenous president, was elected in December 2005.'\n",
            "Label> 0\n",
            "Article> b'MALE, Maldives (CNN) -- The new president of the Maldives wants to relocate -- his entire country. Much of Male, capital of the Maldives, was flooded following the 2004 tsunami. Mohamed \"Anni\" Nasheed, a former political prisoner, was sworn in Tuesday after he unseated Asia\\'s longest-serving leader in the country\\'s first multi-party elections two weeks ago. He inherits an island nation with several problems. Foremost among them: the very likely possibility that the Maldives will sink under water if the current pace of climate change keeps raising sea levels. The Maldives is an archipelago of almost 1,200 coral islands located south-southwest of India. Most of the islands lie just 4.9 feet (1.5 meters) above sea level. The United Nations\\' Intergovernmental Panel on Climate Change has forecast a rise in sea levels of at least 7.1 inches (18 cm) by the end of the century. The island was badly hit by the December 2004 tsunami, which killed an estimated 273,800 people and left thousands missing across Asia and Africa. In the Maldives itself, at least 82 people were killed and 26 unaccounted for from a population just over 270,000, according to the Maldives Disaster Management Center. Sixty-nine islands were completely flooded and a further 30 islands half flooded. The capital of Male was also flooded, although sea walls protected it from further devastation. The government has calculated that creating a similar barrier around the rest of the country would cost too much.  Watch Maldives president vow to save the nation. \\xc2\\xbb . And so the tourist nation, which has white sandy beaches that lure well-heeled Westerners, wants to set aside some of the $1 billion a year it receives from tourism and spend that money on buying a new homeland. \"We will invest in land,\" Nasheed said. \"We do not want to end up in refugee tents if the worst happens.\" Nasheed\\'s government has said that it has broached the idea with several countries and found them to be \"receptive.\" Lands owned by Sri Lanka and India are possibilities because the countries have similar cultures, cuisine and climate as the Maldives. Australia is also being considered because of the vast unoccupied land it owns. Climate change is not the only challenge the new president will have to tackle, though. Other thorny issues include rising unemployment, corruption and a staggering drug epidemic. By some estimates, one of every three Maldivian youth uses drugs. Maldivians also worry that their tiny secular nation of 370,000 Muslims could fall prey to the reach of Islamic radicals. A bombing in Male, attributed to Islamic extremists, wounded 12 tourists in September 2007. \"We have made many pledges,\" Nasheed said in his inaugural address. \"The citizens gave their majority vote to us to implement these.\" Nasheed said he will work to bring affordable housing and medical care for everyone. Twenty-one percent of the population lives below the poverty line. Nasheed, a 41-year-old one-time journalist, was among the fiercest critics of former President Maumoon Abdul Gayoom, who came to power in 1978 and ruled the Maldives for 30 years. He won the six previous elections as the only candidate on the ballot. Nasheed contended that Gayoom ruled with an iron fist, crushing dissent, amassing wealth and stacking his administration with friends and relatives. Gayoom\\'s critics say his government enforced a system of \\'apartheid\\' tourism that banned most Maldivians from nearly 90 luxury resorts. Shortly before election day, an auditors\\' report said that millions of dollars were improperly accounted for by Gayoom\\'s government. He disputed the findings. Nasheed was arrested several times in the last 15 years and held as a political prisoner. Five candidates challenged Gayoom for the presidency in elections held on October 9. Gayoom said he needed a seventh five-year term to see through the reforms he put in place. But critics said Gayoom instituted democratic reforms -- and legalized political parties -- only after violent protests in 2004 and 2005. Nasheed and Gayoom ended up in a runoff -- with Nasheed winning 54 percent of the votes to Gayoom\\'s 46 percent in the October 28 race. \"No other citizens in the world in modern times have changed a 30-year-old regime so peacefully,\" Nasheed said in address. As the clock struck 12 a.m. Tuesday, Gayoom quietly exited the presidential office. \"I deeply regret any actions on my part ... (that) led to unfair treatment, difficulty or injustice for any Maldivian,\" he said in a farewell speech. \"From anyone who had had to face any such unfair treatment, difficulty or injustice, I sincerely seek forgiveness.\" Maldivians took to the streets in a celebration that carried into the wee hours of the morning. Residents danced to the beats of local bands and feasted on rice and mutton. They decked the cobbled roads of Male with the red-and-green flag of the Maldives and the yellow banner of Nasheed\\'s Maldivian Democratic Party. \"We cannot believe that this is happening. I have spent more than half my life in exile in Sri Lanka,\" said Nasheed\\'s close confidant Mohammed Naseem. Journalist Sumon K. Chakrabarti in Male and CNN\\'s Saeed Ahmed in Atlanta contributed to this report.'\n",
            "Label> 0\n"
          ]
        }
      ]
    },
    {
      "cell_type": "code",
      "source": [
        "#@title Choose a BERT model to fine-tune\n",
        "\n",
        "bert_model_name = 'albert_en_base'  #@param [\"bert_en_uncased_L-12_H-768_A-12\", \"bert_en_cased_L-12_H-768_A-12\", \"bert_multi_cased_L-12_H-768_A-12\", \"small_bert/bert_en_uncased_L-2_H-128_A-2\", \"small_bert/bert_en_uncased_L-2_H-256_A-4\", \"small_bert/bert_en_uncased_L-2_H-512_A-8\", \"small_bert/bert_en_uncased_L-2_H-768_A-12\", \"small_bert/bert_en_uncased_L-4_H-128_A-2\", \"small_bert/bert_en_uncased_L-4_H-256_A-4\", \"small_bert/bert_en_uncased_L-4_H-512_A-8\", \"small_bert/bert_en_uncased_L-4_H-768_A-12\", \"small_bert/bert_en_uncased_L-6_H-128_A-2\", \"small_bert/bert_en_uncased_L-6_H-256_A-4\", \"small_bert/bert_en_uncased_L-6_H-512_A-8\", \"small_bert/bert_en_uncased_L-6_H-768_A-12\", \"small_bert/bert_en_uncased_L-8_H-128_A-2\", \"small_bert/bert_en_uncased_L-8_H-256_A-4\", \"small_bert/bert_en_uncased_L-8_H-512_A-8\", \"small_bert/bert_en_uncased_L-8_H-768_A-12\", \"small_bert/bert_en_uncased_L-10_H-128_A-2\", \"small_bert/bert_en_uncased_L-10_H-256_A-4\", \"small_bert/bert_en_uncased_L-10_H-512_A-8\", \"small_bert/bert_en_uncased_L-10_H-768_A-12\", \"small_bert/bert_en_uncased_L-12_H-128_A-2\", \"small_bert/bert_en_uncased_L-12_H-256_A-4\", \"small_bert/bert_en_uncased_L-12_H-512_A-8\", \"small_bert/bert_en_uncased_L-12_H-768_A-12\", \"albert_en_base\", \"electra_small\", \"electra_base\", \"experts_pubmed\", \"experts_wiki_books\", \"talking-heads_base\"]\n",
        "\n",
        "map_name_to_handle = {\n",
        "    'bert_en_uncased_L-12_H-768_A-12':\n",
        "        'https://tfhub.dev/tensorflow/bert_en_uncased_L-12_H-768_A-12/3',\n",
        "    'bert_en_cased_L-12_H-768_A-12':\n",
        "        'https://tfhub.dev/tensorflow/bert_en_cased_L-12_H-768_A-12/3',\n",
        "    'bert_multi_cased_L-12_H-768_A-12':\n",
        "        'https://tfhub.dev/tensorflow/bert_multi_cased_L-12_H-768_A-12/3',\n",
        "    'small_bert/bert_en_uncased_L-2_H-128_A-2':\n",
        "        'https://tfhub.dev/tensorflow/small_bert/bert_en_uncased_L-2_H-128_A-2/1',\n",
        "    'small_bert/bert_en_uncased_L-2_H-256_A-4':\n",
        "        'https://tfhub.dev/tensorflow/small_bert/bert_en_uncased_L-2_H-256_A-4/1',\n",
        "    'small_bert/bert_en_uncased_L-2_H-512_A-8':\n",
        "        'https://tfhub.dev/tensorflow/small_bert/bert_en_uncased_L-2_H-512_A-8/1',\n",
        "    'small_bert/bert_en_uncased_L-2_H-768_A-12':\n",
        "        'https://tfhub.dev/tensorflow/small_bert/bert_en_uncased_L-2_H-768_A-12/1',\n",
        "    'small_bert/bert_en_uncased_L-4_H-128_A-2':\n",
        "        'https://tfhub.dev/tensorflow/small_bert/bert_en_uncased_L-4_H-128_A-2/1',\n",
        "    'small_bert/bert_en_uncased_L-4_H-256_A-4':\n",
        "        'https://tfhub.dev/tensorflow/small_bert/bert_en_uncased_L-4_H-256_A-4/1',\n",
        "    'small_bert/bert_en_uncased_L-4_H-512_A-8':\n",
        "        'https://tfhub.dev/tensorflow/small_bert/bert_en_uncased_L-4_H-512_A-8/1',\n",
        "    'small_bert/bert_en_uncased_L-4_H-768_A-12':\n",
        "        'https://tfhub.dev/tensorflow/small_bert/bert_en_uncased_L-4_H-768_A-12/1',\n",
        "    'small_bert/bert_en_uncased_L-6_H-128_A-2':\n",
        "        'https://tfhub.dev/tensorflow/small_bert/bert_en_uncased_L-6_H-128_A-2/1',\n",
        "    'small_bert/bert_en_uncased_L-6_H-256_A-4':\n",
        "        'https://tfhub.dev/tensorflow/small_bert/bert_en_uncased_L-6_H-256_A-4/1',\n",
        "    'small_bert/bert_en_uncased_L-6_H-512_A-8':\n",
        "        'https://tfhub.dev/tensorflow/small_bert/bert_en_uncased_L-6_H-512_A-8/1',\n",
        "    'small_bert/bert_en_uncased_L-6_H-768_A-12':\n",
        "        'https://tfhub.dev/tensorflow/small_bert/bert_en_uncased_L-6_H-768_A-12/1',\n",
        "    'small_bert/bert_en_uncased_L-8_H-128_A-2':\n",
        "        'https://tfhub.dev/tensorflow/small_bert/bert_en_uncased_L-8_H-128_A-2/1',\n",
        "    'small_bert/bert_en_uncased_L-8_H-256_A-4':\n",
        "        'https://tfhub.dev/tensorflow/small_bert/bert_en_uncased_L-8_H-256_A-4/1',\n",
        "    'small_bert/bert_en_uncased_L-8_H-512_A-8':\n",
        "        'https://tfhub.dev/tensorflow/small_bert/bert_en_uncased_L-8_H-512_A-8/1',\n",
        "    'small_bert/bert_en_uncased_L-8_H-768_A-12':\n",
        "        'https://tfhub.dev/tensorflow/small_bert/bert_en_uncased_L-8_H-768_A-12/1',\n",
        "    'small_bert/bert_en_uncased_L-10_H-128_A-2':\n",
        "        'https://tfhub.dev/tensorflow/small_bert/bert_en_uncased_L-10_H-128_A-2/1',\n",
        "    'small_bert/bert_en_uncased_L-10_H-256_A-4':\n",
        "        'https://tfhub.dev/tensorflow/small_bert/bert_en_uncased_L-10_H-256_A-4/1',\n",
        "    'small_bert/bert_en_uncased_L-10_H-512_A-8':\n",
        "        'https://tfhub.dev/tensorflow/small_bert/bert_en_uncased_L-10_H-512_A-8/1',\n",
        "    'small_bert/bert_en_uncased_L-10_H-768_A-12':\n",
        "        'https://tfhub.dev/tensorflow/small_bert/bert_en_uncased_L-10_H-768_A-12/1',\n",
        "    'small_bert/bert_en_uncased_L-12_H-128_A-2':\n",
        "        'https://tfhub.dev/tensorflow/small_bert/bert_en_uncased_L-12_H-128_A-2/1',\n",
        "    'small_bert/bert_en_uncased_L-12_H-256_A-4':\n",
        "        'https://tfhub.dev/tensorflow/small_bert/bert_en_uncased_L-12_H-256_A-4/1',\n",
        "    'small_bert/bert_en_uncased_L-12_H-512_A-8':\n",
        "        'https://tfhub.dev/tensorflow/small_bert/bert_en_uncased_L-12_H-512_A-8/1',\n",
        "    'small_bert/bert_en_uncased_L-12_H-768_A-12':\n",
        "        'https://tfhub.dev/tensorflow/small_bert/bert_en_uncased_L-12_H-768_A-12/1',\n",
        "    'albert_en_base':\n",
        "        'https://tfhub.dev/tensorflow/albert_en_base/2',\n",
        "    'electra_small':\n",
        "        'https://tfhub.dev/google/electra_small/2',\n",
        "    'electra_base':\n",
        "        'https://tfhub.dev/google/electra_base/2',\n",
        "    'experts_pubmed':\n",
        "        'https://tfhub.dev/google/experts/bert/pubmed/2',\n",
        "    'experts_wiki_books':\n",
        "        'https://tfhub.dev/google/experts/bert/wiki_books/2',\n",
        "    'talking-heads_base':\n",
        "        'https://tfhub.dev/tensorflow/talkheads_ggelu_bert_en_base/1',\n",
        "}\n",
        "\n",
        "map_model_to_preprocess = {\n",
        "    'bert_en_uncased_L-12_H-768_A-12':\n",
        "        'https://tfhub.dev/tensorflow/bert_en_uncased_preprocess/3',\n",
        "    'bert_en_cased_L-12_H-768_A-12':\n",
        "        'https://tfhub.dev/tensorflow/bert_en_cased_preprocess/3',\n",
        "    'small_bert/bert_en_uncased_L-2_H-128_A-2':\n",
        "        'https://tfhub.dev/tensorflow/bert_en_uncased_preprocess/3',\n",
        "    'small_bert/bert_en_uncased_L-2_H-256_A-4':\n",
        "        'https://tfhub.dev/tensorflow/bert_en_uncased_preprocess/3',\n",
        "    'small_bert/bert_en_uncased_L-2_H-512_A-8':\n",
        "        'https://tfhub.dev/tensorflow/bert_en_uncased_preprocess/3',\n",
        "    'small_bert/bert_en_uncased_L-2_H-768_A-12':\n",
        "        'https://tfhub.dev/tensorflow/bert_en_uncased_preprocess/3',\n",
        "    'small_bert/bert_en_uncased_L-4_H-128_A-2':\n",
        "        'https://tfhub.dev/tensorflow/bert_en_uncased_preprocess/3',\n",
        "    'small_bert/bert_en_uncased_L-4_H-256_A-4':\n",
        "        'https://tfhub.dev/tensorflow/bert_en_uncased_preprocess/3',\n",
        "    'small_bert/bert_en_uncased_L-4_H-512_A-8':\n",
        "        'https://tfhub.dev/tensorflow/bert_en_uncased_preprocess/3',\n",
        "    'small_bert/bert_en_uncased_L-4_H-768_A-12':\n",
        "        'https://tfhub.dev/tensorflow/bert_en_uncased_preprocess/3',\n",
        "    'small_bert/bert_en_uncased_L-6_H-128_A-2':\n",
        "        'https://tfhub.dev/tensorflow/bert_en_uncased_preprocess/3',\n",
        "    'small_bert/bert_en_uncased_L-6_H-256_A-4':\n",
        "        'https://tfhub.dev/tensorflow/bert_en_uncased_preprocess/3',\n",
        "    'small_bert/bert_en_uncased_L-6_H-512_A-8':\n",
        "        'https://tfhub.dev/tensorflow/bert_en_uncased_preprocess/3',\n",
        "    'small_bert/bert_en_uncased_L-6_H-768_A-12':\n",
        "        'https://tfhub.dev/tensorflow/bert_en_uncased_preprocess/3',\n",
        "    'small_bert/bert_en_uncased_L-8_H-128_A-2':\n",
        "        'https://tfhub.dev/tensorflow/bert_en_uncased_preprocess/3',\n",
        "    'small_bert/bert_en_uncased_L-8_H-256_A-4':\n",
        "        'https://tfhub.dev/tensorflow/bert_en_uncased_preprocess/3',\n",
        "    'small_bert/bert_en_uncased_L-8_H-512_A-8':\n",
        "        'https://tfhub.dev/tensorflow/bert_en_uncased_preprocess/3',\n",
        "    'small_bert/bert_en_uncased_L-8_H-768_A-12':\n",
        "        'https://tfhub.dev/tensorflow/bert_en_uncased_preprocess/3',\n",
        "    'small_bert/bert_en_uncased_L-10_H-128_A-2':\n",
        "        'https://tfhub.dev/tensorflow/bert_en_uncased_preprocess/3',\n",
        "    'small_bert/bert_en_uncased_L-10_H-256_A-4':\n",
        "        'https://tfhub.dev/tensorflow/bert_en_uncased_preprocess/3',\n",
        "    'small_bert/bert_en_uncased_L-10_H-512_A-8':\n",
        "        'https://tfhub.dev/tensorflow/bert_en_uncased_preprocess/3',\n",
        "    'small_bert/bert_en_uncased_L-10_H-768_A-12':\n",
        "        'https://tfhub.dev/tensorflow/bert_en_uncased_preprocess/3',\n",
        "    'small_bert/bert_en_uncased_L-12_H-128_A-2':\n",
        "        'https://tfhub.dev/tensorflow/bert_en_uncased_preprocess/3',\n",
        "    'small_bert/bert_en_uncased_L-12_H-256_A-4':\n",
        "        'https://tfhub.dev/tensorflow/bert_en_uncased_preprocess/3',\n",
        "    'small_bert/bert_en_uncased_L-12_H-512_A-8':\n",
        "        'https://tfhub.dev/tensorflow/bert_en_uncased_preprocess/3',\n",
        "    'small_bert/bert_en_uncased_L-12_H-768_A-12':\n",
        "        'https://tfhub.dev/tensorflow/bert_en_uncased_preprocess/3',\n",
        "    'bert_multi_cased_L-12_H-768_A-12':\n",
        "        'https://tfhub.dev/tensorflow/bert_multi_cased_preprocess/3',\n",
        "    'albert_en_base':\n",
        "        'https://tfhub.dev/tensorflow/albert_en_preprocess/3',\n",
        "    'electra_small':\n",
        "        'https://tfhub.dev/tensorflow/bert_en_uncased_preprocess/3',\n",
        "    'electra_base':\n",
        "        'https://tfhub.dev/tensorflow/bert_en_uncased_preprocess/3',\n",
        "    'experts_pubmed':\n",
        "        'https://tfhub.dev/tensorflow/bert_en_uncased_preprocess/3',\n",
        "    'experts_wiki_books':\n",
        "        'https://tfhub.dev/tensorflow/bert_en_uncased_preprocess/3',\n",
        "    'talking-heads_base':\n",
        "        'https://tfhub.dev/tensorflow/bert_en_uncased_preprocess/3',\n",
        "}\n",
        "\n",
        "tfhub_handle_encoder = map_name_to_handle[bert_model_name]\n",
        "tfhub_handle_preprocess = map_model_to_preprocess[bert_model_name]\n",
        "\n",
        "print(f'BERT model selected           : {tfhub_handle_encoder}')\n",
        "print(f'Preprocess model auto-selected: {tfhub_handle_preprocess}')"
      ],
      "metadata": {
        "colab": {
          "base_uri": "https://localhost:8080/"
        },
        "id": "MrLL9rhaw5Jw",
        "outputId": "b2bc58ed-ccf8-4e91-bb80-593ec2a92f79"
      },
      "execution_count": 64,
      "outputs": [
        {
          "output_type": "stream",
          "name": "stdout",
          "text": [
            "BERT model selected           : https://tfhub.dev/tensorflow/albert_en_base/2\n",
            "Preprocess model auto-selected: https://tfhub.dev/tensorflow/albert_en_preprocess/3\n"
          ]
        }
      ]
    },
    {
      "cell_type": "code",
      "source": [
        "bert_preprocess_model = hub.KerasLayer(tfhub_handle_preprocess)"
      ],
      "metadata": {
        "id": "u72UFG23xCBC"
      },
      "execution_count": 65,
      "outputs": []
    },
    {
      "cell_type": "code",
      "source": [
        "text_test = ['a construction worker fell into a hole.']\n",
        "text_preprocessed = bert_preprocess_model(text_test)\n",
        "\n",
        "print(f'Keys       : {list(text_preprocessed.keys())}')\n",
        "print(f'Shape      : {text_preprocessed[\"input_word_ids\"].shape}')\n",
        "print(f'Word Ids   : {text_preprocessed[\"input_word_ids\"][0, :12]}')\n",
        "print(f'Input Mask : {text_preprocessed[\"input_mask\"][0, :12]}')\n",
        "print(f'Type Ids   : {text_preprocessed[\"input_type_ids\"][0, :12]}')"
      ],
      "metadata": {
        "colab": {
          "base_uri": "https://localhost:8080/"
        },
        "id": "AYZ-mVR5xJGt",
        "outputId": "b63cdeb2-3dc3-47b7-b8c2-9c80efd5489e"
      },
      "execution_count": 66,
      "outputs": [
        {
          "output_type": "stream",
          "name": "stdout",
          "text": [
            "Keys       : ['input_word_ids', 'input_mask', 'input_type_ids']\n",
            "Shape      : (1, 128)\n",
            "Word Ids   : [   2   21  900 7444 1139   77   21 3990    9    3    0    0]\n",
            "Input Mask : [1 1 1 1 1 1 1 1 1 1 0 0]\n",
            "Type Ids   : [0 0 0 0 0 0 0 0 0 0 0 0]\n"
          ]
        }
      ]
    },
    {
      "cell_type": "code",
      "source": [
        "bert_model = hub.KerasLayer(tfhub_handle_encoder)"
      ],
      "metadata": {
        "id": "TgXwwCHfxPxV"
      },
      "execution_count": 67,
      "outputs": []
    },
    {
      "cell_type": "code",
      "source": [
        "bert_results = bert_model(text_preprocessed)\n",
        "\n",
        "print(f'Loaded BERT: {tfhub_handle_encoder}')\n",
        "print(f'Pooled Outputs Shape:{bert_results[\"pooled_output\"].shape}')\n",
        "print(f'Pooled Outputs Values:{bert_results[\"pooled_output\"][0, :12]}')\n",
        "print(f'Sequence Outputs Shape:{bert_results[\"sequence_output\"].shape}')\n",
        "print(f'Sequence Outputs Values:{bert_results[\"sequence_output\"][0, :12]}')"
      ],
      "metadata": {
        "colab": {
          "base_uri": "https://localhost:8080/"
        },
        "id": "Gl5xqLG3xfq6",
        "outputId": "81422558-99e4-4266-843d-5cc249263b42"
      },
      "execution_count": 68,
      "outputs": [
        {
          "output_type": "stream",
          "name": "stdout",
          "text": [
            "Loaded BERT: https://tfhub.dev/tensorflow/albert_en_base/2\n",
            "Pooled Outputs Shape:(1, 768)\n",
            "Pooled Outputs Values:[ 0.3112846  -0.38816905  0.83476657 -0.360805   -0.5682504  -0.59534097\n",
            "  0.2218903  -0.37367004  0.36275247 -0.9891055   0.9545626   0.2542015 ]\n",
            "Sequence Outputs Shape:(1, 128, 768)\n",
            "Sequence Outputs Values:[[ 0.37145334  0.04332843  0.90312874 ... -0.2761133   0.28342786\n",
            "   1.8135979 ]\n",
            " [ 0.06460732  0.94462097  1.6923825  ... -1.1691967   1.007285\n",
            "  -0.7017403 ]\n",
            " [-0.41246754  0.58232486  1.447728   ... -1.264025    0.26310894\n",
            "   0.3236232 ]\n",
            " ...\n",
            " [ 0.09437487  0.1407868  -0.066617   ... -0.0934898   0.12792909\n",
            "   0.23135144]\n",
            " [ 0.02070153  0.20605108  0.56652194 ...  0.36585057  1.2490236\n",
            "  -0.22869828]\n",
            " [ 0.04889676  0.22763278  0.6085968  ...  0.42420238  1.3049681\n",
            "  -0.24573016]]\n"
          ]
        }
      ]
    },
    {
      "cell_type": "code",
      "source": [
        "def build_classifier_model():\n",
        "  text_input = tf.keras.layers.Input(shape=(), dtype=tf.string, name='text')\n",
        "  preprocessing_layer = hub.KerasLayer(tfhub_handle_preprocess, name='preprocessing')\n",
        "  encoder_inputs = preprocessing_layer(text_input)\n",
        "  encoder = hub.KerasLayer(tfhub_handle_encoder, trainable=True, name='BERT_encoder')\n",
        "  outputs = encoder(encoder_inputs)\n",
        "  net = outputs['pooled_output']\n",
        "  net = tf.keras.layers.Dropout(0.1)(net)\n",
        "  net = tf.keras.layers.Dense(1, activation=None, name='classifier')(net)\n",
        "  return tf.keras.Model(text_input, net)"
      ],
      "metadata": {
        "id": "CfZ-BqDoxlAL"
      },
      "execution_count": 69,
      "outputs": []
    },
    {
      "cell_type": "code",
      "source": [
        "classifier_model = build_classifier_model()\n",
        "bert_raw_result = classifier_model(tf.constant(text_test))\n",
        "print(tf.sigmoid(bert_raw_result))"
      ],
      "metadata": {
        "colab": {
          "base_uri": "https://localhost:8080/"
        },
        "id": "iRBMBgqkxnFE",
        "outputId": "60461adc-9511-495e-c52d-2212d16b0691"
      },
      "execution_count": 70,
      "outputs": [
        {
          "output_type": "stream",
          "name": "stdout",
          "text": [
            "tf.Tensor([[0.41153905]], shape=(1, 1), dtype=float32)\n"
          ]
        }
      ]
    },
    {
      "cell_type": "code",
      "source": [
        "tf.keras.utils.plot_model(classifier_model)"
      ],
      "metadata": {
        "colab": {
          "base_uri": "https://localhost:8080/",
          "height": 466
        },
        "id": "vsm8OekPxt3t",
        "outputId": "32d294be-9dae-4696-fb25-9b8f7c0e8f57"
      },
      "execution_count": 71,
      "outputs": [
        {
          "output_type": "execute_result",
          "data": {
            "text/plain": [
              "<IPython.core.display.Image object>"
            ],
            "image/png": "[encoded data removed]"
          },
          "metadata": {},
          "execution_count": 71
        }
      ]
    },
    {
      "cell_type": "code",
      "source": [
        "loss = tf.keras.losses.BinaryCrossentropy(from_logits=True)\n",
        "metrics = tf.metrics.BinaryAccuracy()"
      ],
      "metadata": {
        "id": "dAIbG4qWxyI1"
      },
      "execution_count": 72,
      "outputs": []
    },
    {
      "cell_type": "code",
      "source": [
        "epochs = 5\n",
        "steps_per_epoch = tf.data.experimental.cardinality(train_ds).numpy()\n",
        "num_train_steps = steps_per_epoch * epochs\n",
        "num_warmup_steps = int(0.1*num_train_steps)\n",
        "\n",
        "init_lr = 3e-5\n",
        "optimizer = optimization.create_optimizer(init_lr=init_lr,\n",
        "                                          num_train_steps=num_train_steps,\n",
        "                                          num_warmup_steps=num_warmup_steps,\n",
        "                                          optimizer_type='adamw')"
      ],
      "metadata": {
        "id": "HhDPs-xTx0pe"
      },
      "execution_count": 73,
      "outputs": []
    },
    {
      "cell_type": "code",
      "source": [
        "classifier_model.compile(optimizer=optimizer,\n",
        "                         loss=loss,\n",
        "                         metrics=metrics)"
      ],
      "metadata": {
        "id": "UymQHF5Ax1fr"
      },
      "execution_count": 74,
      "outputs": []
    },
    {
      "cell_type": "code",
      "source": [
        "print(f'Training model with {tfhub_handle_encoder}')\n",
        "history = classifier_model.fit(x=train_ds,\n",
        "                               validation_data=val_ds,\n",
        "                               epochs=epochs)"
      ],
      "metadata": {
        "colab": {
          "base_uri": "https://localhost:8080/",
          "height": 1000
        },
        "id": "7J4w1KHZx8Cd",
        "outputId": "dba12ecf-bea2-43b3-e083-3e021906ba0a"
      },
      "execution_count": 76,
      "outputs": [
        {
          "output_type": "stream",
          "name": "stdout",
          "text": [
            "Training model with https://tfhub.dev/tensorflow/albert_en_base/2\n",
            "Epoch 1/5\n",
            " 2/18 [==>...........................] - ETA: 35s - loss: 0.5686 - binary_accuracy: 0.7188"
          ]
        },
        {
          "output_type": "error",
          "ename": "ResourceExhaustedError",
          "evalue": "ignored",
          "traceback": [
            "\u001b[0;31m---------------------------------------------------------------------------\u001b[0m",
            "\u001b[0;31mResourceExhaustedError\u001b[0m                    Traceback (most recent call last)",
            "\u001b[0;32m<ipython-input-76-71a9fbf2d907>\u001b[0m in \u001b[0;36m<module>\u001b[0;34m()\u001b[0m\n\u001b[1;32m      2\u001b[0m history = classifier_model.fit(x=train_ds,\n\u001b[1;32m      3\u001b[0m                                \u001b[0mvalidation_data\u001b[0m\u001b[0;34m=\u001b[0m\u001b[0mval_ds\u001b[0m\u001b[0;34m,\u001b[0m\u001b[0;34m\u001b[0m\u001b[0;34m\u001b[0m\u001b[0m\n\u001b[0;32m----> 4\u001b[0;31m                                epochs=epochs)\n\u001b[0m",
            "\u001b[0;32m/usr/local/lib/python3.7/dist-packages/keras/utils/traceback_utils.py\u001b[0m in \u001b[0;36merror_handler\u001b[0;34m(*args, **kwargs)\u001b[0m\n\u001b[1;32m     65\u001b[0m     \u001b[0;32mexcept\u001b[0m \u001b[0mException\u001b[0m \u001b[0;32mas\u001b[0m \u001b[0me\u001b[0m\u001b[0;34m:\u001b[0m  \u001b[0;31m# pylint: disable=broad-except\u001b[0m\u001b[0;34m\u001b[0m\u001b[0;34m\u001b[0m\u001b[0m\n\u001b[1;32m     66\u001b[0m       \u001b[0mfiltered_tb\u001b[0m \u001b[0;34m=\u001b[0m \u001b[0m_process_traceback_frames\u001b[0m\u001b[0;34m(\u001b[0m\u001b[0me\u001b[0m\u001b[0;34m.\u001b[0m\u001b[0m__traceback__\u001b[0m\u001b[0;34m)\u001b[0m\u001b[0;34m\u001b[0m\u001b[0;34m\u001b[0m\u001b[0m\n\u001b[0;32m---> 67\u001b[0;31m       \u001b[0;32mraise\u001b[0m \u001b[0me\u001b[0m\u001b[0;34m.\u001b[0m\u001b[0mwith_traceback\u001b[0m\u001b[0;34m(\u001b[0m\u001b[0mfiltered_tb\u001b[0m\u001b[0;34m)\u001b[0m \u001b[0;32mfrom\u001b[0m \u001b[0;32mNone\u001b[0m\u001b[0;34m\u001b[0m\u001b[0;34m\u001b[0m\u001b[0m\n\u001b[0m\u001b[1;32m     68\u001b[0m     \u001b[0;32mfinally\u001b[0m\u001b[0;34m:\u001b[0m\u001b[0;34m\u001b[0m\u001b[0;34m\u001b[0m\u001b[0m\n\u001b[1;32m     69\u001b[0m       \u001b[0;32mdel\u001b[0m \u001b[0mfiltered_tb\u001b[0m\u001b[0;34m\u001b[0m\u001b[0;34m\u001b[0m\u001b[0m\n",
            "\u001b[0;32m/usr/local/lib/python3.7/dist-packages/tensorflow/python/eager/execute.py\u001b[0m in \u001b[0;36mquick_execute\u001b[0;34m(op_name, num_outputs, inputs, attrs, ctx, name)\u001b[0m\n\u001b[1;32m     53\u001b[0m     \u001b[0mctx\u001b[0m\u001b[0;34m.\u001b[0m\u001b[0mensure_initialized\u001b[0m\u001b[0;34m(\u001b[0m\u001b[0;34m)\u001b[0m\u001b[0;34m\u001b[0m\u001b[0;34m\u001b[0m\u001b[0m\n\u001b[1;32m     54\u001b[0m     tensors = pywrap_tfe.TFE_Py_Execute(ctx._handle, device_name, op_name,\n\u001b[0;32m---> 55\u001b[0;31m                                         inputs, attrs, num_outputs)\n\u001b[0m\u001b[1;32m     56\u001b[0m   \u001b[0;32mexcept\u001b[0m \u001b[0mcore\u001b[0m\u001b[0;34m.\u001b[0m\u001b[0m_NotOkStatusException\u001b[0m \u001b[0;32mas\u001b[0m \u001b[0me\u001b[0m\u001b[0;34m:\u001b[0m\u001b[0;34m\u001b[0m\u001b[0;34m\u001b[0m\u001b[0m\n\u001b[1;32m     57\u001b[0m     \u001b[0;32mif\u001b[0m \u001b[0mname\u001b[0m \u001b[0;32mis\u001b[0m \u001b[0;32mnot\u001b[0m \u001b[0;32mNone\u001b[0m\u001b[0;34m:\u001b[0m\u001b[0;34m\u001b[0m\u001b[0;34m\u001b[0m\u001b[0m\n",
            "\u001b[0;31mResourceExhaustedError\u001b[0m: Graph execution error:\n\nDetected at node 'gradients/embedding_projection/einsum/Einsum_grad/Einsum_1' defined at (most recent call last):\n    File \"/usr/lib/python3.7/runpy.py\", line 193, in _run_module_as_main\n      \"__main__\", mod_spec)\n    File \"/usr/lib/python3.7/runpy.py\", line 85, in _run_code\n      exec(code, run_globals)\n    File \"/usr/local/lib/python3.7/dist-packages/ipykernel_launcher.py\", line 16, in <module>\n      app.launch_new_instance()\n    File \"/usr/local/lib/python3.7/dist-packages/traitlets/config/application.py\", line 846, in launch_instance\n      app.start()\n    File \"/usr/local/lib/python3.7/dist-packages/ipykernel/kernelapp.py\", line 499, in start\n      self.io_loop.start()\n    File \"/usr/local/lib/python3.7/dist-packages/tornado/platform/asyncio.py\", line 132, in start\n      self.asyncio_loop.run_forever()\n    File \"/usr/lib/python3.7/asyncio/base_events.py\", line 541, in run_forever\n      self._run_once()\n    File \"/usr/lib/python3.7/asyncio/base_events.py\", line 1786, in _run_once\n      handle._run()\n    File \"/usr/lib/python3.7/asyncio/events.py\", line 88, in _run\n      self._context.run(self._callback, *self._args)\n    File \"/usr/local/lib/python3.7/dist-packages/tornado/platform/asyncio.py\", line 122, in _handle_events\n      handler_func(fileobj, events)\n    File \"/usr/local/lib/python3.7/dist-packages/tornado/stack_context.py\", line 300, in null_wrapper\n      return fn(*args, **kwargs)\n    File \"/usr/local/lib/python3.7/dist-packages/zmq/eventloop/zmqstream.py\", line 577, in _handle_events\n      self._handle_recv()\n    File \"/usr/local/lib/python3.7/dist-packages/zmq/eventloop/zmqstream.py\", line 606, in _handle_recv\n      self._run_callback(callback, msg)\n    File \"/usr/local/lib/python3.7/dist-packages/zmq/eventloop/zmqstream.py\", line 556, in _run_callback\n      callback(*args, **kwargs)\n    File \"/usr/local/lib/python3.7/dist-packages/tornado/stack_context.py\", line 300, in null_wrapper\n      return fn(*args, **kwargs)\n    File \"/usr/local/lib/python3.7/dist-packages/ipykernel/kernelbase.py\", line 283, in dispatcher\n      return self.dispatch_shell(stream, msg)\n    File \"/usr/local/lib/python3.7/dist-packages/ipykernel/kernelbase.py\", line 233, in dispatch_shell\n      handler(stream, idents, msg)\n    File \"/usr/local/lib/python3.7/dist-packages/ipykernel/kernelbase.py\", line 399, in execute_request\n      user_expressions, allow_stdin)\n    File \"/usr/local/lib/python3.7/dist-packages/ipykernel/ipkernel.py\", line 208, in do_execute\n      res = shell.run_cell(code, store_history=store_history, silent=silent)\n    File \"/usr/local/lib/python3.7/dist-packages/ipykernel/zmqshell.py\", line 537, in run_cell\n      return super(ZMQInteractiveShell, self).run_cell(*args, **kwargs)\n    File \"/usr/local/lib/python3.7/dist-packages/IPython/core/interactiveshell.py\", line 2718, in run_cell\n      interactivity=interactivity, compiler=compiler, result=result)\n    File \"/usr/local/lib/python3.7/dist-packages/IPython/core/interactiveshell.py\", line 2822, in run_ast_nodes\n      if self.run_code(code, result):\n    File \"/usr/local/lib/python3.7/dist-packages/IPython/core/interactiveshell.py\", line 2882, in run_code\n      exec(code_obj, self.user_global_ns, self.user_ns)\n    File \"<ipython-input-75-71a9fbf2d907>\", line 4, in <module>\n      epochs=epochs)\n    File \"/usr/local/lib/python3.7/dist-packages/keras/utils/traceback_utils.py\", line 64, in error_handler\n      return fn(*args, **kwargs)\n    File \"/usr/local/lib/python3.7/dist-packages/keras/engine/training.py\", line 1384, in fit\n      tmp_logs = self.train_function(iterator)\n    File \"/usr/local/lib/python3.7/dist-packages/keras/engine/training.py\", line 1021, in train_function\n      return step_function(self, iterator)\n    File \"/usr/local/lib/python3.7/dist-packages/keras/engine/training.py\", line 1010, in step_function\n      outputs = model.distribute_strategy.run(run_step, args=(data,))\n    File \"/usr/local/lib/python3.7/dist-packages/keras/engine/training.py\", line 1000, in run_step\n      outputs = model.train_step(data)\n    File \"/usr/local/lib/python3.7/dist-packages/keras/engine/training.py\", line 863, in train_step\n      self.optimizer.minimize(loss, self.trainable_variables, tape=tape)\n    File \"/usr/local/lib/python3.7/dist-packages/keras/optimizer_v2/optimizer_v2.py\", line 531, in minimize\n      loss, var_list=var_list, grad_loss=grad_loss, tape=tape)\n    File \"/usr/local/lib/python3.7/dist-packages/keras/optimizer_v2/optimizer_v2.py\", line 583, in _compute_gradients\n      grads_and_vars = self._get_gradients(tape, loss, var_list, grad_loss)\n    File \"/usr/local/lib/python3.7/dist-packages/keras/optimizer_v2/optimizer_v2.py\", line 464, in _get_gradients\n      grads = tape.gradient(loss, var_list, grad_loss)\nNode: 'gradients/embedding_projection/einsum/Einsum_grad/Einsum_1'\nOOM when allocating tensor with shape[128,768,64,128] and type float on /job:localhost/replica:0/task:0/device:GPU:0 by allocator GPU_0_bfc\n\t [[{{node gradients/embedding_projection/einsum/Einsum_grad/Einsum_1}}]]\nHint: If you want to see a list of allocated tensors when OOM happens, add report_tensor_allocations_upon_oom to RunOptions for current allocation info. This isn't available when running in Eager mode.\n [Op:__inference_train_function_189840]"
          ]
        }
      ]
    },
    {
      "cell_type": "code",
      "source": [
        "loss, accuracy = classifier_model.evaluate(test_ds)\n",
        "\n",
        "print(f'Loss: {loss}')\n",
        "print(f'Accuracy: {accuracy}')"
      ],
      "metadata": {
        "colab": {
          "base_uri": "https://localhost:8080/"
        },
        "id": "QLklHLnR1Q9h",
        "outputId": "bcc41d1f-bdac-4ec3-d1bc-027244e8089b"
      },
      "execution_count": 51,
      "outputs": [
        {
          "output_type": "stream",
          "name": "stdout",
          "text": [
            "6/6 [==============================] - 2s 298ms/step - loss: 0.4035 - binary_accuracy: 0.8310\n",
            "Loss: 0.4035434126853943\n",
            "Accuracy: 0.8310249447822571\n"
          ]
        }
      ]
    },
    {
      "cell_type": "code",
      "source": [
        "history_dict = history.history\n",
        "print(history_dict.keys())\n",
        "\n",
        "acc = history_dict['binary_accuracy']\n",
        "val_acc = history_dict['val_binary_accuracy']\n",
        "loss = history_dict['loss']\n",
        "val_loss = history_dict['val_loss']\n",
        "\n",
        "epochs = range(1, len(acc) + 1)\n",
        "fig = plt.figure(figsize=(10, 6))\n",
        "fig.tight_layout()\n",
        "\n",
        "plt.subplot(2, 1, 1)\n",
        "# r is for \"solid red line\"\n",
        "plt.plot(epochs, loss, 'r', label='Training loss')\n",
        "# b is for \"solid blue line\"\n",
        "plt.plot(epochs, val_loss, 'b', label='Validation loss')\n",
        "plt.title('Training and validation loss')\n",
        "# plt.xlabel('Epochs')\n",
        "plt.ylabel('Loss')\n",
        "plt.legend()\n",
        "\n",
        "plt.subplot(2, 1, 2)\n",
        "plt.plot(epochs, acc, 'r', label='Training acc')\n",
        "plt.plot(epochs, val_acc, 'b', label='Validation acc')\n",
        "plt.title('Training and validation accuracy')\n",
        "plt.xlabel('Epochs')\n",
        "plt.ylabel('Accuracy')\n",
        "plt.legend(loc='lower right')"
      ],
      "metadata": {
        "colab": {
          "base_uri": "https://localhost:8080/",
          "height": 439
        },
        "id": "ATgsFBFg1VVd",
        "outputId": "91d8dea8-0132-4272-c6b6-1367fe61391c"
      },
      "execution_count": 52,
      "outputs": [
        {
          "output_type": "stream",
          "name": "stdout",
          "text": [
            "dict_keys(['loss', 'binary_accuracy', 'val_loss', 'val_binary_accuracy'])\n"
          ]
        },
        {
          "output_type": "execute_result",
          "data": {
            "text/plain": [
              "<matplotlib.legend.Legend at 0x7f6fd0cdaf50>"
            ]
          },
          "metadata": {},
          "execution_count": 52
        },
        {
          "output_type": "display_data",
          "data": {
            "text/plain": [
              "<Figure size 720x432 with 2 Axes>"
            ],
            "image/png": "[encoded data removed]"
          },
          "metadata": {
            "needs_background": "light"
          }
        }
      ]
    },
    {
      "cell_type": "code",
      "source": [
        "dataset_name = 'imdb'\n",
        "saved_model_path = './{}_bert'.format(dataset_name.replace('/', '_'))\n",
        "\n",
        "classifier_model.save(saved_model_path, include_optimizer=False)"
      ],
      "metadata": {
        "colab": {
          "base_uri": "https://localhost:8080/"
        },
        "id": "1H1fZssn1YX6",
        "outputId": "fdd78df2-fb63-4bcb-a3f9-0e08008c56a9"
      },
      "execution_count": 53,
      "outputs": [
        {
          "output_type": "stream",
          "name": "stderr",
          "text": [
            "WARNING:absl:Found untraced functions such as restored_function_body, restored_function_body, restored_function_body, restored_function_body, restored_function_body while saving (showing 5 of 124). These functions will not be directly callable after loading.\n"
          ]
        }
      ]
    },
    {
      "cell_type": "code",
      "source": [
        "reloaded_model = tf.saved_model.load(saved_model_path)"
      ],
      "metadata": {
        "id": "h0WRZWvs1iqj"
      },
      "execution_count": 54,
      "outputs": []
    },
    {
      "cell_type": "code",
      "source": [
        "test_acc = np.array(docs_test)[np.array(y_test) == 1]\n",
        "test_not_acc = np.array(docs_test)[np.array(y_test) == 0]"
      ],
      "metadata": {
        "id": "FLOSWtY12sRV"
      },
      "execution_count": 55,
      "outputs": []
    },
    {
      "cell_type": "code",
      "source": [
        "def print_my_examples(inputs, results):\n",
        "  result_for_printing = \\\n",
        "    [f'input: {inputs[i]:<30}\\nscore: {results[i][0]:.6f}\\n'\n",
        "                         for i in range(len(inputs))]\n",
        "  print(*result_for_printing, sep='\\n')\n",
        "  print()\n",
        "\n",
        "\n",
        "examples = [\n",
        "    'a man died in a plane crash',\n",
        "    'a new movie was released',\n",
        "    'a man was murdered by a murderer',\n",
        "    'a man fell off scaffolding and hurt his leg',\n",
        "    'bees are pretty cool i decided'\n",
        "]\n",
        "\n",
        "reloaded_results = tf.sigmoid(reloaded_model(tf.constant(examples)))\n",
        "original_results = tf.sigmoid(classifier_model(tf.constant(examples)))\n",
        "\n",
        "print('Results from the saved model:')\n",
        "print_my_examples(examples, reloaded_results)\n",
        "print('Results from the model in memory:')\n",
        "print_my_examples(examples, original_results)"
      ],
      "metadata": {
        "colab": {
          "base_uri": "https://localhost:8080/"
        },
        "id": "lNEfpAXA1oo8",
        "outputId": "40b795aa-f8ef-4446-c262-3f7b5b222f5d"
      },
      "execution_count": 56,
      "outputs": [
        {
          "output_type": "stream",
          "name": "stdout",
          "text": [
            "Results from the saved model:\n",
            "input: a man died in a plane crash   \n",
            "score: 0.393104\n",
            "\n",
            "input: a new movie was released      \n",
            "score: 0.093903\n",
            "\n",
            "input: a man was murdered by a murderer\n",
            "score: 0.032130\n",
            "\n",
            "input: a man fell off scaffolding and hurt his leg\n",
            "score: 0.248524\n",
            "\n",
            "input: bees are pretty cool i decided\n",
            "score: 0.209795\n",
            "\n",
            "\n",
            "Results from the model in memory:\n",
            "input: a man died in a plane crash   \n",
            "score: 0.393104\n",
            "\n",
            "input: a new movie was released      \n",
            "score: 0.093903\n",
            "\n",
            "input: a man was murdered by a murderer\n",
            "score: 0.032130\n",
            "\n",
            "input: a man fell off scaffolding and hurt his leg\n",
            "score: 0.248524\n",
            "\n",
            "input: bees are pretty cool i decided\n",
            "score: 0.209795\n",
            "\n",
            "\n"
          ]
        }
      ]
    },
    {
      "cell_type": "code",
      "source": [
        ""
      ],
      "metadata": {
        "id": "YJRyBa3E14kv"
      },
      "execution_count": null,
      "outputs": []
    },
    {
      "cell_type": "code",
      "source": [
        "examples = test_acc[:10].tolist()\n",
        "\n",
        "reloaded_results = tf.sigmoid(reloaded_model(tf.constant(examples)))\n",
        "\n",
        "print_my_examples(examples, reloaded_results)"
      ],
      "metadata": {
        "colab": {
          "base_uri": "https://localhost:8080/"
        },
        "outputId": "9756decc-669d-442f-d2eb-e7e219b7bf2f",
        "id": "n90vaHOX3D7l"
      },
      "execution_count": 57,
      "outputs": [
        {
          "output_type": "stream",
          "name": "stdout",
          "text": [
            "input: San Juan, Puerto Rico (CNN)  -- Investigators don't know if the massive fire at a fuel storage facility near San Juan was deliberately started or was an accident, the agent in charge of the FBI's San Juan office said Monday. The blaze, which started with an explosion at the Caribbean Petroleum Corp. facility in Bayamon municipality early Friday, was extinguished Sunday, firefighters said. Some of the tanks continued to smolder and crews stood ready to fight any flare-up. \"We don't know if it's a crime scene,\" said FBI Special Agent Luis Fraticelli. \"We don't know if it's an accident, so we're not making any determinations at this point until our experts do their work, do their analysis and then provide input to us as to what they feel happened here.\" Puerto Rico is a territory of the United States. The FBI is investigating graffiti found on two San Juan tunnels that referred to a fire, Special Agent Harry Rodriguez said Friday. A spray-painted message on the tunnels, less than three miles apart, said: \"Boom, fire, RIP, Gulf, Soul, ACNF.\" Caribbean Petroleum owns the Gulf Oil brand, but Rodriguez said he did not know what ACNF referred to. Hundreds of firefighters battled the blaze, which began with an explosion early Friday morning. That explosion shook the ground with the force of a 2.8-magnitude earthquake, authorities said. Flames shot into the air while plumes of thick, black smoke hovered over the region. Agents from the FBI and the U.S. Bureau of Alcohol, Tobacco, Firearms and Explosives were investigating to determine whether the explosion was an act of sabotage or an accident. Seventeen tanks were destroyed by flames and the initial explosion. Puerto Rico's governor, Luis Fortuno, said the main priority of his government is to counter any long-term effects of air and water pollution caused by the disaster. Representatives from the Environmental Protection Agency have been checking air quality near the fire. \"We're not finding levels that would be of concern,\" said Bonnie Bellow, EPA spokeswoman. She said the fire had been so intense because it was \"burning off chemicals that are part of the fuel.\" About 600 displaced people stayed in shelters on Sunday night, but many were being sent home. Dr. Lorenzo Gonzalez, Puerto Rico's health secretary, tests conducted on the air and water showed no reason for concern. Because they were placed in close proximity in the facilities, everyone in the shelters and all the emergency personnel were vaccinated against the H1N1 flu virus as a precaution, Gonzalez said. President Obama declared an emergency in Puerto Rico, which frees up federal aid. Fortuno said the blaze has cost the island at least $6.4 million. The governor sought to allay fears over gasoline supplies. Caribbean Petroleum owns 200 gas stations in the island and several inland distribution facilities, and supplies much of the island's fuel. Puerto Rico will receive 3.6 million gallons of regular gasoline, more than 1 million gallons of premium gasoline and more than 1 million gallons of diesel fuel to help make up for what may have been lost, Fortuno said. The company has been cited for violations of the federal Resource Conservation and Recovery Act, the main law in the United States that deals with the disposal of solid and hazardous wastes, according to EPA spokeswoman Bellow. Caribbean Petroleum is under a corrective-action plan, she said. CNN's Rafael Romo and Arthur Brice contributed to this report.\n",
            "score: 0.722135\n",
            "\n",
            "input: LONDON, England (CNN) -- A massive fire engulfed the four-story offices of a major film company in central London on Friday, sending clouds of white smoke over the city skyline, the London fire department said. Streets in London were cordoned off while firefighters tackled the blaze. Two firefighters were taken to the hospital with minor injuries as a result of the blaze in the Future Films building on Dean Street in the city's Soho district, London ambulance services said. The London Fire Brigade dispatched 12 engines and 55 firefighters to battle the fire, which began before 2 p.m. (9 a.m. ET). As a result, an adjacent street -- the W1 -- has been closed to traffic and pedestrians. When reached by CNN, Future Films founder and managing director Stephen Margolis had no comment about the fire. Future Films has been involved in the production of more than 120 films since Margolis created the company in 2000, including \"Bend it like Beckham\" (2002), \"The Importance of Being Earnest\" (2002), and \"Transsiberian\" (2008). CNN's Per Nyberg and Laura Perez Maestro contributed to this report.\n",
            "score: 0.387544\n",
            "\n",
            "input: (CNN)  -- A wildfire continued its rampage through the San Bernardino National Forest in Southern California on Monday, but the U.S. Forest Service said fire crews were gaining ground. The Sheep Fire in Southern California has burned thousands of acres and left this bus a charred ruin. \"Firefighters have made very good progress against the Sheep Fire. It's currently at approximately 7,500 acres with 20 percent containment,\" U.S. Forest Service spokeswoman Robin Prince said Monday. The fire, which was reported Saturday afternoon in the Lytle Creek area, quickly grew to 3,500 acres by early Sunday and forced about 4,000 people in the community of Wrightwood from their homes. \"People are going to have to hold off on getting back to their homes until we get a little better containment lines on the fire, but things are looking really good,\" according to Prince. More than 1,200 firefighters were battling the blaze, and numerous firefighting aircraft have dropped water and retardant on the wildfire. Back fires have been set to protect homes at the eastern edge of Wrightwood, authorities said. The weather was cooperating Monday, unlike over the weekend when a high-wind warning remained in effect and gusty winds helped fan the flames. \"There's very little smoke. There's a few flare ups here and there, but if the winds pick up, we could still have some problems. So that's why we're holding off on letting people go back into the mandatory evacuated area,\" said Prince. California Gov. Arnold Schwarzenegger declared a state of emergency in San Bernardino County on Sunday so the state can mobilize agencies and equipment to help fight the fire.\n",
            "score: 0.840037\n",
            "\n",
            "input: (CNN)  -- A man who rescued a co-worker from the jaws of a crocodile in northern Australia also accidentally shot him in the process, police said. A mature saltwater crocodile in the the murky waters of the Adelaide River, near Darwin in the Northern Territory. The two men were collecting crocodile eggs by a river bank in Australia's Northern Territory Tuesday when a crocodile grabbed Jason Grant by the lower right arm, a spokeswoman for the area police told CNN. The second man, Zac Fitzgerald, shot the crocodile, causing it to let go of Grant's arm. But a second shot that Fitzgerald fired struck Grant in the upper right arm, said Northern Territory police spokeswoman Katie Fowden. Grant, who is in his late 20s, was flown to a hospital for treatment of both the bullet and the crocodile wounds. His injuries were not life-threatening, Fowden said. The two men are workers at a crocodile farm in Darwin, the capital city of the Northern Territory. They were collecting the eggs legally, police said. E-mail to a friend . CNN's Saeed Ahmed contributed to this report .\n",
            "score: 0.063549\n",
            "\n",
            "input: HARARE, Zimbabwe (CNN) -- A child cries from hunger, but no tears come from her swollen eyes. A Zimbabwean family bury their relative, who died of cholera, 25km from Harare, Zimbabwe. Malnutrition has left this baby born in Zimbabwe fighting for her life. She is the face of an unfolding crisis in a country once known as Africa's bread basket. Today a loaf of bread costs $35 million worthless Zimbabwean dollars, and people are forced to sift through garbage piles for any morsel of food. Others huddle for warmth around a fire burning inside the shell of a broken-down van. All of these images were captured on video recently smuggled out of Zimbabwe by Solidarity Peace Trust, a South African human rights group.  Watch the disturbing images » . Zimbabwe's government maintains that the situation is being exaggerated by the West in an effort to exert pressure on President Robert Mugabe to leave office. But the World Health Organization (WHO) says the desperate situation has triggered a widening cholera outbreak that has killed 775 people and infected more than 15,000. \"You have to eat in the same place you sleep right next to the buckets, the same buckets that we used as toilets,\" one cholera patient says on the video. \"There is no water to bathe.\" And little to eat. Women foraging for food in the bush find dry branches with only a few berries. \"This packet of juice will be my supper tonight,\" one woman says. Zimbabwe's main opposition leader Morgan Tsvangirai -- who is still trying to form a unity government with Mugabe under a recent power-sharing deal -- said the situation can only be addressed once a \"legitimate government\" is in place. \"Once there is a legitimate government, it is up to that government to deal with the problems the country is facing, which are quite wide-ranging,\" Tsvangirai told CNN on Wednesday. \"But the immediate intervention of the health crisis has exacerbated the situation to the extent that it has now become an international crisis.\" The WHO says the current cholera outbreak in Zimbabwe has a high fatality rate because sufferers are either not able to reach health centers in time or that the health centers lack the capacity to treat the cases. \"The epidemic is clearly on the increase,\" Dr. Eric Laroche, a WHO official in Harare, told CNN on Wednesday. \"I think it's going to last for several months.\" In addition to the WHO, the Red Cross has responded to the outbreak and is sending staff and medical supplies into Zimbabwe. Zimbabwe's main hospitals have all but shut down and the small clinics equipped by international aid organizations are overcrowded and unable to cope with the thousands of cholera patients. Health workers inside Zimbabwe believe scores are dying at home. Laroche said the WHO is receiving cooperation from the government, but the health care system is abysmal. \"The quality of the care, the supplies that come inside Zimbabwe, also need to be restored,\" Laroche said. \"So there's a lot of work to do, because the health system is collapsing for the time being.\" One Zimbabwean health care worker, who would not show his face on the video, said he fears the death toll will skyrocket. \"People are dying even at the health institution,\" he said. \"It's beyond control. We are going to witness so many deaths in the coming weeks.\" He expressed frustration that so many people are dying from cholera, a disease that \"is both preventable and curable.\" \"Nobody should die from cholera,\" he said. \"We are quite unfortunate.\" Zimbabwe, already experiencing an economic crisis, was struck with the raging water-borne cholera in August. Health experts say the battle against the disease can only be won if Harare has adequate water-treating chemicals and disposes of refuse properly. Zimbabwe's information minister Sikhanyiso Ndlovu said Tuesday that the country has enough chemicals to purify water and enough money to buy pipes to mend sanitation lines. He maintained that the outbreak is under control, blaming the West for causing the crisis as an excuse for military intervention. International leaders -- including U.S. President George W. Bush, French President Nicolas Sarkozy, and Kenyan premier Raila Odinga -- have recently called for Mugabe to step down for failing to contain the cholera outbreak. Frustration inside Zimbabwe is building. Last week, doctors and nurses protested over the lack of medical supplies and other resources at the country's hospitals. Labor unions have protested over the deteriorating economy. Even soldiers once shielded from economic hardships by the Mugabe regime went on a rampage last week when they were unable to access wages from the country's banks. Human rights activist Elinor Sisulu, who has lived and worked in Zimbabwe and now coordinates civil action outside the country, called on African leaders to demand Mugabe step down before Zimbabwe explodes. \"In any population where you have high levels of desperation, anger and ... people arrive at the conclusion that we've tried a peaceful political process and this is not working, then anything can happen,\" she said. -- CNN's Nkepile Mabuse in Johannesburg, South Africa contributed to this report.\n",
            "score: 0.140987\n",
            "\n",
            "input: (Skiing Magazine) -- Picture this: You're charging down a course at 80 mph. The world whips by you in a blur. You catch an edge, smack into a gate and somersault into the safety nets, cracking your neck and shredding a knee. Season? Done. Olympic dreams? Over. Career? Definitely on hold, possibly kaput. That's what happened in December to TJ Lanning, one of the U.S. Ski Team's top racers, during a downhill race at Canada's Lake Louise. He's one of many international Alpine competitors sidelined this winter because of season-ending injuries. Other casualties include 2009 downhill champ Canadian John Kucera and French slalom star Jean-Baptiste Grange. Addressing the rash of early-season injuries, Aksel Lund Svindval, the 2009 men's overall World Cup winner, posted the following on his blog in December: \"In two weeks of intense World Cup racing in North America, racers have sustained the following ... 7 torn ACLS, 4 knee ligaments, 1 broken arm, 1 broken leg, 1 broken neck, 1 concussion, 1 dislocated knee, 1 dislocated shoulder .. is this OK?\" Sure, ski racing has always been a dangerous sport, but with ever-evolving gear and technologies creating faster and faster competitors, the incidence of injuries has spiked. Skiing Magazine: Jamaica's Olympic skier, ready for glory . The International Ski Federation (known as FIS), the World Cup governing body, launched the \"Injury Surveillance System\" in 2006 to track facts and figures on injury patterns across all disciplines: Nordic, freestyle and Alpine. Among Alpine racers, knee injuries are the most common affliction. As a part of this initiative, in December FIS convened a panel of six top Alpine competitors, including Didier Cuche, Scott Macartney, and Svindal, to drill down on how to make racing safer. They cited course preparation, improved take-off points for jumps, flat landings and medical procedures as top concerns. Skiing Magazine: French Olympic uniforms: Really pink . The athletes also made a plea for redesigned gates, ones that would rip off more easily upon impact. In Lanning's accident, they say this would have significantly reduced his injuries and their severity. While competitors want to increase safety, they're also aware that it's the danger, blood and guts of their sport that turn fans on, and athletes are wary of ratcheting down the visceral appeal. When it comes to modifying race procedures, FIS is adamant about using systematic data collection and scientific analysis to make informed decisions. In January, FIS rolled out a new, three-year scientific study to analyze Alpine racing safety and to make recommendations on how to decrease the number of injuries. The first phase will collect information through interviews with athletes, coaches and equipment providers, among other experts, to gather suggestions for short-term prevention solutions. Subsequent stages will focus on prevention strategies and rule changes. However, some modifications were deemed urgent enough to institute immediately: smaller jumps and new gates with flags that rip way upon contact. FIS works closely with the Vancouver Organizing Committee to design the Alpine courses at the Olympics, but ultimately, it's VANOC that sets them  -- save the downhill, which FIS still oversees; it's an old, complicated tradition. With fog rising from Whistler Mountain during the downhill training runs, making visibility next to none, officials were scrambling to re-design the race gates in an effort to make them more visible, switching the flag color from green to red. With this last-minute change, officials on the ground weren't sure if the new, FIS-sanctioned gates would be in place during the Winter Games. Skiing Magazine: The Lindsey Vonn workout . © 2010 Skiing Magazine. All rights reserved. Reproduction in whole or in part without permission is prohibited.\n",
            "score: 0.119867\n",
            "\n",
            "input: AMSTERDAM, Netherlands (CNN) -- Investigators are trying to determine what caused the crash of an airplane with a good safety record, flown by a well-respected airline, at one of the world's most modern airports. One of the casualties is taken from the crash site. At least nine people were killed and 55 injured when the Turkish Airlines Boeing 737-800 crashed Wednesday in a field near Amsterdam's main airport, splitting into three parts, officials said. It is too early to determine the cause of the crash but the flight data and voice recorders have been recovered, said Michel Bezuijen, acting mayor of Haarlemmermeer municipality, which is home to Amsterdam's Schiphol Airport. He said investigators still need to determine what, if anything, the pilots said in the moments before the crash. The injured included both crew and passengers, he said. The names of the dead and injured will not be released before Thursday, Bezuijen said. \"It will take more time. Probably tomorrow afternoon we can tell you about the identity of the victims, including the fatalities,\" he said. Another official said earlier that both pilots and an apprentice pilot are among the dead. \"There are still three crew members in the cabin,\" said Bob Steensma of the Dutch Justice Department. \"I'm sorry to say they are dead. We leave them there because we have to investigate the cockpit before we take the cockpit apart.\" Turkish Airlines said earlier the plane was carrying 134 people -- 127 passengers and seven crew members. Six people were critically injured, Ineke Van Der Zande of Amsterdam Emergency Services told reporters at a briefing.  Watch aerials from the crash site » . Twenty-five passengers were severely injured, she said, and 24 were lightly injured. Some 60 ambulances transported 84 people to 11 hospitals throughout the region, she said. There was no word on injuries to the others who were transported. Witnesses said they saw the nose of the plane pitch up suddenly before the crash, according to RTL journalist Greg Crouch. The plane broken into three pieces. One break was in front of the wing, splitting the \"Turkish\" logo in two, and a larger break was farther back along the fuselage. Most of the injured were seated toward the back of the plane, which sustained the most damage, a passenger on the plane told Turkish station NTV. Many of the passengers simply walked off the plane through the cracks in the fuselage, witnesses said. A passenger on the plane who spoke to Turkish network DHA said he saw injured people trapped and squeezed between the seats when he walked out. iReport: Send your videos, stories . Flight 1951 was arriving at Schiphol from Istanbul, Turkey, when it went down around 10:40 a.m. (4:40 a.m. ET). It came to rest in a farmer's field about 500 yards short of the runway, near the major A9 highway. Crouch said the weather at the time was partly sunny with no wind or rain. No fire broke out after the crash, Bezuijen said.  Watch how Twitter was first to report the crash » . A bank manager who was a passenger on the plane told NTV that there were no emergency announcements. The crew's last word to the cabin was an announcement to fasten their seat belts and prepare for landing, the bank manager said. He said he felt the pilot giving more power to the engines before feeling \"turbulence,\" then a sudden drop. He described the crash as similar to a sudden impact that was over in a matter of seconds. The U.S. National Transportation Safety Board said it was sending a team of investigators to Amsterdam to assist in the crash investigation. The Boeing 737-800 is a reliable aircraft that has been successful and safe in service, said aviation expert Kieran Daly of Air Transport Intelligence. \"They really are pretty much state-of-the-art airlines with every imaginable technical benefit the industry has come up with over the years,\" Daly told CNN. \"You would be optimistic that they would be quite survivable in an accident.\" Daly said Turkish Airlines, a national carrier, has a \"very good record.\" Turkish Airlines said it has 52 Boeing 737-800s in its fleet. They can carry as many as 165 passengers each, it said. Before Wednesday, the airline's last accident was of a small commuter jet in 2003, Daly said. It was a fatal crash that happened at a remote airfield in southeastern Turkey, he said. \"Their mainline operation is safe,\" Daly said. \"Their pilots are well thought of.\" Worldwide, there have been two fatal commercial airline crashes this year. The last previous fatal incident at the Amsterdam airport happened in April 1994 when a KLM aircraft crashed as it tried to return to Schiphol shortly after takeoff. Three of the 24 passengers and crew members on board were killed. CNN's Ivan Watson in Istanbul, Turkey, contributed to this report .\n",
            "score: 0.852984\n",
            "\n",
            "input: After years of speculation and rare case reports, a study suggests that stimulant medication -- mostly used to treat attention deficit hyperactivity disorder -- may have played a role in a handful of cases of sudden, unexplained death in children and adolescents. Untreated ADHD can lead to  poor school  performance and increase adolescents' risk for harmful behavior. The study authors stress, however, that parents and doctors should not refrain from treating children with ADHD just because of these results. \"The association is significant in that it's real, but that doesn't mean it's not a very low risk,\" says lead author Madelyn S. Gould, Ph.D., a professor of psychiatry and public health at Columbia University, in New York. \"There probably does need to be more careful monitoring, but the bottom line is that parents should not take their children off stimulant medication they're currently on and should not be scared to have their child go on a stimulant if that's what they and their doctors decide is the best thing for their child.\" The study, published this week in the American Journal of Psychiatry, is the first to suggest that the stimulants may pose a risk -- albeit remote -- in children without underlying heart problems. About 2.5 million children in the United States take such medications. Stimulants linked to 1.8 percent of unexplained deaths . Gould and her colleagues compared medical records and parent interviews of children and adolescents who had died between the years of 1985 and 1996, including 564 who had died from an unexplained heart-rate abnormality or other causes, and 564 who died as passengers in motor vehicle accidents. They excluded cases with other known possible causes of death, such as asthma or congenital heart diseases. Of all the unexplained cases, the researchers found that 10 children, or 1.8 percent of the group, had had stimulant medication prescribed. This compared with only two cases of stimulant use, or 0.4 percent, among healthy children who had died in motor vehicle accidents -- a group used to represent a general population of healthy children and adolescents. Health.com: Treatment options for ADHD at any age . In all 10 cases, the children were taking methylphenidate, the active ingredient in Ritalin and Concerta. A similar drug, Adderall, is composed of mixed amphetamine salts and was not included in the study results because it was first approved in 1996. However, the Food and Drug Administration in 2006 asked the manufacturers of stimulants, including Adderall, to add a warning to their label saying the medications should not be used in children with structural heart abnormalities or other heart problems. At the time, the FDA advisory panel rejected a more stringent black-box warning about the possible risk of sudden unexplained death. Strattera, another medication approved for ADHD in children, is not a stimulant medication. A spokesperson for McNeil Pediatrics, which distributes and markets Concerta, says the company welcomes any data that add to the body of knowledge in this therapeutic area, but did not make a specific comment on the new study. Michael Billings, a spokesperson for Novartis, the manufacturer of Ritalin, notes that the drug has been used for more than 50 years and is the most studied ADHD medication. Health.com: Secrets to a stress-free home . \"For all of its products, Novartis reviews its global safety and efficacy through post-marketing surveillance and consistently reports new information to health authorities on an ongoing basis,\" says Billings. \"Review of Novartis safety data has failed to detect an increased risk in sudden cardiac death associated with methylphenidate use.\" Not a watershed moment, researchers say . Gould says it's important to report this association, but she is also concerned about the results being misinterpreted. \"We're very sensitive to not wanting this to be some watershed moment where stimulant medications start to get used less and get used inappropriately,\" she explains. In an editorial accompanying the article, Benedetto Vitiello, M.D., and Kenneth Towbin, M.D., of the National Institute of Mental Health, agree with Gould's concerns. Health.com: The Top 5 cholesterol myths . They write that the study findings \"should underscore that stimulant medications are not innocuous and that their therapeutic use requires careful diagnostic assessment, diligent safety screening, and ongoing monitoring. \"However, it is equally clear that sudden, unexplained death is a rare event, this is only the first such study, it relies on small numbers, and it is not possible to quantify the risk beyond estimating that it is very small.\" Indeed, since a double-blind, placebo-controlled trial isn't ethically possible in this situation, it is hard to conduct a study that's not without flaws. Although the researchers are confident that the results are not due to any underlying factors -- children with ADHD often have asthma and heart conditions also linked with sudden death, and so these cases were eliminated from the analysis --\"one can never be 100 percent sure that there aren't other unknown or undiagnosed issues,\" says Gould. Health.com: Slideshow: Celebrities with ADHD . James Perrin, M.D., a professor of pediatrics at Harvard Medical School and Massachusetts General Hospital for Children, says the study isn't surprising \"nor particularly convincing.\" He says the research is flawed because, among other problems, it may have underestimated the number of children who were taking stimulants. The rate of stimulant use, particularly in the accident-related deaths, was lower than expected, he says. \"The study adds very little to what we already know, i.e., that some children who receive stimulants experience sudden unexpected death,\" says Dr. Perrin, who was not involved in the study. \"The current study should not change the use of any medications or treatments.\" More research, careful monitoring is needed . Stimulant medications currently contain a warning targeted to specific high-risk children, including those with structural heart defects, cardiomyopathy, or heart-rhythm disturbances. The medication labels also warn that stimulants may raise blood pressure and heart rate, and have been linked with stroke and heart attack in adults. When deciding whether to put a child on stimulant medications, both clinicians and parents should weigh the seriousness of the situation, says Gould. The benefits may not outweigh the risk in cases in which attention problems may be keeping a B-student from becoming an A-student, she explains. Health.com: Yoga moves to beat ease stress, insomnia, and pain . But with more serious cases, the choice should be clearer. Untreated ADHD can be harmful in itself, leading to poor performance in school and increasing adolescents' risk for harmful behavior such as reckless driving, unsafe sexual practices, and substance abuse. \"I have two boys, now grown, so I can certainly relate to parents facing these decisions,\" Gould says. \"If my child was having problems to the extent that a neurologist or psychiatrist was recommending medication, I would want the medication -- although, even though we didn't discuss this specifically in the study, I would want my child to have an EKG.\" In 2008, the American Heart Association recommended that doctors consider routine electrocardiograms before starting children with ADHD on stimulants or other psychotropic medications, but underscored the need for future research. An EKG may help to detect cardiac abnormalities that would increase a child's vulnerability to sudden heart problems. Parents considering stimulant medication for their children should also provide their doctor with a detailed family history, including any heart problems or sudden deaths of close family members. Future research should focus on new ways to detect which children are most at risk for sudden death when taking stimulants, says Gould, since not all cases seem to be detectable with routine screenings. Until then, a thorough examination and careful monitoring is the best way to reduce a child's danger. The study was funded by a grant from the NIMH and a contract with the FDA. Enter to win a monthly Room Makeover Giveaway from MyHomeIdeas.com . Copyright Health Magazine 2009 .\n",
            "score: 0.041475\n",
            "\n",
            "input: (CNN) -- The mysterious deaths of 21 prized polo horses Sunday at a club in Florida provides a peek inside the private world of a sport that generally is off limits to all but the very wealthy. The Lechuza Caracas polo team may not recover from the loss of 21 ponies for years, a polo executive says. The University of Florida College of Veterinary Medicine in Gainesville and the state-run Kissimmee Diagnostic Laboratories near Orlando are conducting necropsies on the animals. Initial tests failed to reveal a cause, said Liz Compton, a representative of the Florida Department of Agriculture and Consumer Services. Tissues, organ samples and blood are now being screened for toxic agents, she said. Scientists have ruled out any contagious disease because the animals died so quickly, said state Agriculture Department spokesman Mark Fagan. Authorities initially requested necropsies for only the eight horses that were insured, according to Sarah Carey, a representative of the veterinary school, which got the bodies of 15 horses. Later, the order was expanded to all 15 horses, she said. The U.S. Polo Association is among the parties cooperating in the investigation. \"In the meantime, we all mourn the loss of these horses,\" U.S. Polo Association Executive Director Peter Rizzo said in a news release. \"There are no words to describe the grief and sadness shared by everyone -- particularly the devastated owners of those magnificent horses.\"  Watch what investigators are studying » . Players form strong emotional bonds with the horses they ride, said John Wash, operations president of the International Polo Club Palm Beach in Wellington, Florida, where the horses fell ill. \"I've heard a couple of polo players who were affected with this loss the other day, a couple of them I don't think have left their house since Sunday night,\" Wash said. \"There were a lot of tears there -- these big, tough guys just on their hands and knees, crying over what happened.\" The U.S. Open Polo Championship that was interrupted by the tragedy will resume Wednesday with semifinal matches, Wash said. Lechuza Caracas, the team whose horses died, was offered spare mounts from other competitors so they could remain in the competition, but the devastated team chose to withdraw, Wash said. The Wellington tournament is one of the sport's three major championships, on a par with the U.S. Open in tennis or golf. Authorities say they believe that the competition facility is safe for the other horses and that whatever killed the 21 horses entered their bodies away from the site. Fifteen of the animals fell ill shortly before they were to compete Sunday; some died immediately and others lingered for almost an hour. Six others died overnight Sunday to Monday as they were kept in the same trailer in Wellington. Animals are not kept overnight at the competition site, so no special precautions are in place regarding food, water or bedding, Wash said. Organizers are planning a short memorial and laying of wreaths in honor of the horses, he said. Grief counselors are on hand at the facility to help employees deal with the trauma, Wash said. \"The scene can be described as almost like an airplane crash that involved not human life, but horses,\" he said. \"It was horrific.\" Polo ponies in the United States are not drug-tested, but the U.S. Polo Association has been considering taking up the practice for several years, Wash said. \"People are calling for reform, and maybe that needs to happen, but until toxicology reports come back, and autopsy reports, we don't even know if [Sunday's incident is] anything related to that.\" The Humane Society of the United States has no record of abuse of polo ponies, but that may be a function of the sport's exclusive nature, society spokeswoman Holly Hazard said. \"We are learning about this, as is everyone else,\" she said. \"It may be that perhaps because it's not televised or not as popular as other sports, it's not something that either our constituents or our program is particularly focused on. \"But if there are either performance-enhancing drugs or some problem that is associated with this, we will investigate and we will offer a reward to bring whoever is responsible to justice.\" Keith Dane, director of the Humane Society's equine protection program, was en route to Florida on Tuesday to interview people involved in the incident and keep an eye on the investigation, Hazard said. No evidence has been brought forth suggesting someone deliberately poisoned the animals. \"I guess everything's possible,\" Wash said. \"I've heard all different rumors. I don't know if I even want to go there and think about that.\" Compton, the Florida Department of Agriculture and Consumer Services representative, said authorities have seen no evidence of criminal activity in the case. \"Clearly, law enforcement has gotten involved, given the complexity and the scope of the deaths, and they are fact-finding and gathering information, and once we have a specific cause of death, then they can determine where their investigation will go,\" she said. The devastated team, Lechuza Caracas, is one of the top teams in the world. The loss could set it back for years, Wash said. \"It's just like baseball or basketball or football,\" he said. \"You're taking years of grooming, training, nurturing to create, really, a first string of horses. And for four polo players, it takes anywhere from six to eight horses per polo player to play a game of polo. So if you're taking 21 horses, they're probably 21 of your first-string horses ... and you've just lost every one of your best players. \"It's not like you could just go out and buy 21 new horses and start at that point.\" Polo ponies are thoroughbreds, many of them former racehorses retrained for the game, but they cover a wide range of ages, Wash said. When they get too old to play, they are retired to pasture or stud, he said. \"A polo horse is treated quite well,\" Wash said. \"In fact, when you're a polo horse, you might play three months here in Palm Beach, you might take three months off, you might play another three months, say, in Argentina or England, you take three months off. They're not pushed 12 months out of the year.\" CNN's Kim Segal and John Couwels contributed to this report.\n",
            "score: 0.316641\n",
            "\n",
            "input: NEW DELHI, India (CNN) -- The number of dead in devastating floods triggered by torrential rains in India has risen to at least 271, and about a million people have fled their homes, officials said Monday. An aerial view of a flood-affected area in Bijapur district in North Karnataka, India. At least 192 people have died in the southern state of Karnataka, its disaster-management secretary H.V. Parshwanath told CNN. More than 450,000 people there have been housed in 1,330 relief camps as authorities completed rescue operations in most of the flooded zones in the state, he said. \"The focus is now mainly on relief,\" Parshwanath said, adding that rains have now eased in Karnataka. In neighboring Andhra Pradesh, authorities put the death toll at 51. Some 531,000 people have been evacuated to safety, with more half of them now sheltering in relief camps, said Dinesh Kumar, the commissioner of the state's disaster-monitoring department. India has deployed the military to help with relief and rescue in Karnataka and Andhra Pradesh. More than a dozen teams of naval divers have been sent to the two flood-hit states, the country's defense ministry said. Air force planes and helicopters have also been dropping food packets in the submerged regions. The military has been able to rescue 1,336 people so far, it added. Flood waters were now receding in two of the five worst hit districts of Andhra Pradesh, disaster official Kumar said. But floodwaters from a local river might submerge the remaining three, he warned. Flooding also killed at least 25 people in Maharashtra state, officials said. Three others died because of lightning strikes, said S.C. Mohanty, director of Maharashtra's disaster-management department. About 3,000 people have been displaced because of flooding, he told CNN. Thousands of people die each year in India during seasonal monsoon rains. More than 1,100 had been killed in monsoon-triggered flooding in different parts of the country as of last month, according to the disaster-management division of the federal home ministry.\n",
            "score: 0.814372\n",
            "\n",
            "\n"
          ]
        }
      ]
    },
    {
      "cell_type": "code",
      "source": [
        "examples = test_not_acc[:10].tolist()\n",
        "\n",
        "reloaded_results = tf.sigmoid(reloaded_model(tf.constant(examples)))\n",
        "\n",
        "print_my_examples(examples, reloaded_results)"
      ],
      "metadata": {
        "colab": {
          "base_uri": "https://localhost:8080/"
        },
        "id": "GZT-wwEs3M5F",
        "outputId": "dd3f665b-85cb-4861-8ec6-081654ba333d"
      },
      "execution_count": 58,
      "outputs": [
        {
          "output_type": "stream",
          "name": "stdout",
          "text": [
            "input: (CNN) -- A British man was jailed Tuesday for raping two of his daughters and fathering nine children over 27 years, a case with echoes of Austria's Josef Fritzl. The two daughters were made pregnant 19 times; there were nine births, five miscarriages and five terminations. Seven of the children are alive but suffer genetic deformities. The father, who cannot be named for legal reasons banning the identification of his victims and the surviving children, pleaded guilty Tuesday at Sheffield Crown Court, northern England, and was sentenced to serve 25 life sentences to run concurrently. The judge said the minimum term the 56-year-old rapist should serve in jail should be 19½ years. South Yorkshire Police Chief Superintendent Simon Torr said, \"The victims of these terrible crimes have asked me to state the following: 'His detention in prison brings us only the knowledge that he cannot physically touch us again. The suffering he has caused will continue for many years, and we must now concentrate our thoughts on finding the strength to rebuild our lives.' \" Speaking for the police, Torr added, \"The main concern ... is for those who have been so badly affected: the victims who have suffered a terrible ordeal. We will continue to offer them our full support to try and help them get on with their lives. \"As far as the sentence goes, we are satisfied that this offender has received the strongest possible punishment for his heinous crimes. Now we need to ensure continuing support for those who have suffered as a result of his actions.\" The daughters first told police about their ordeal in June, but the abuse dated to 1981. It emerged that in 1998 one daughter rang Childline, a charity to help abused kids, and asked for assurances about being able to keep her children if she came forward. When Childline could not make that guarantee, the daughter did nothing more to raise her plight.  Watch how the case came to light » . The UK's Press Association reported that the rapes began in 1981 with daily attacks and that for long periods, they would be raped up to three times a week, and the assaults would continue through pregnancies. Their only reprieve came after they had just given birth or when they were ill because of the abuse. If either daughter tried to refuse their father's attacks, they would be punched, kicked and or held to the flames of a gas fire, burning their eyes and arms, PA reported. Despite visiting hospitals and meeting with social workers over the 27 years of abuse, no investigation was launched into the family. The case comes in the wake of the death of a baby, known only as Baby P, which has dominated headlines in Britain. The baby endured horrendous torture and died despite being on the local authority's child protection register. In Austria this year, Josef Fritzl was arrested, accused of keeping his daughter in a basement dungeon and fathering seven children through the rapes.\n",
            "score: 0.025824\n",
            "\n",
            "input: (CNN)  -- Over 28,000 Liverpool fans marked the 20th anniversary of the Hillsborough disaster in a special memorial service at Anfield on Wednesday. Liverpool supporters at the Kop end paid their respects in an emotional afternoon at Anfield. A total of 96 supporters died on April 15, 1989 before the FA Cup semifinal between Liverpool and Nottingham Forest at Sheffield Wednesday's stadium, the worst-ever tragedy in English sporting history. To commemorate the anniversary, the city of Liverpool came to a standstill at 3.06 pm (1406 GMT) with the bells of the two cathedrals and its civic buildings ringing out in memory of those fans who lost their lives. On Anfield's famous Kop, 96 candles were lit while commemorations took place at Hillsborough and also in Nottingham. Members of the current Liverpool team stood somberly as hymns were played before a roll call of the dead was read out. Club legend Kenny Dalglish, who was Liverpool manager at the time of the disaster, then read a short prayer. The mayor of Liverpool, Steve Rotherham, who was at the game 20 years ago, helped organize the emotional memorial. \"Hillsborough affected so many lives, not just on Merseyside but across the whole of the UK,\" he said. \"I attended the match 20 years ago and the passing years do not diminish the importance and the poignancy of this occasion.\" Liverpool captain Steven Gerrard, whose 10-year-old cousin Jon-Paul Gilhooley was the youngest victim of the tragedy, spoke of his feelings this week. \"Time has gone by, but the scars will never ever be healed and the fans will never ever forget. So you can always rely on our supporters to be there for you when you need them.\" The Liverpool fans died in a crush which started just before the kick-off as the gate at the Leppings Lane End was opened with terrible consequences. The match started but when the scale of the tragedy became clear, it was swiftly abandoned at 3.06 pm. In the immediate aftermath, the British government commissioned Lord Justice Taylor to conduct an inquiry which would have a far-reaching impact on football. Taylor was deeply critical of the police operation at Hillsborough, but his most significant recommendations were the removal of perimeter fencing and the creation of all-seater stadia. His report also cleared Liverpool fans of blame for the tragedy after lurid tabloid headlines provoked revulsion on Merseyside. Prime minister Gordon Brown paid reference to the controversy in an interview released on Liverpool's official television channel. \"It was wrong for people to blame, as some did, Liverpool fans on that day,\" he said. \"That's probably what matters most -- that people understood that the behavior of Liverpool fans in helping each other was magnificent. \"Let's never forget the fans who cruelly lost their lives on a day when we know the people of Liverpool were trying to help each other,\" he added. However, the people of Liverpool are still angry and bitter at the lack of justice for those who died -- and that frustration surfaced when Andy Burnham, the   Secretary of State for Culture, Media and Sport took to the stand to address the crowd. As Burnham spoke, the crowd rose as one to sing \"Justice for the 96\". The Kop chant boomed around the stadium and Burnham, an Everton fan, was left in no doubt about the strength of feeling over the lack of accountability from officialdom over the tragedy. Fittingly, the ceremony was concluded with Gerry Marsden leading the fans in singing Liverpool anthem 'You'll Never Walk Alone'.\n",
            "score: 0.501313\n",
            "\n",
            "input: JAKARTA, Indonesia (CNN) -- Another strong earthquake rocked Indonesia early Thursday as the Southeast Asian nation was reeling from an earlier jolt that killed more than 200 people. A resident stands next to building that collapsed onto a car in Padang, Indonesia, on Wednesday. The 6.8 magnitude quake Thursday hit southern Sumatra at 8:52 a.m. local time (0152 GMT), the Pacific Tsunami Warning Center said. Wednesday's earlier quake was 7.6 magnitude. At least 236 people are dead and more than 500 injured, the Indonesian Social Ministry's Crisis Center said Thursday. It said it had little information on the missing and feared the death toll would climb into the thousands. The second quake was on a smaller scale than the first, said meteorology official Fauzi, who uses only one name. There were no damage reports yet. Indonesian Health Minister Siti Fadilah Supari expected \"the casualties and the damage of this earthquake to be bigger than the 2006 Yogyakarta earthquake, given the intensity and the spread of the damage.\" The magnitude-6.3 Yogyakarta quake in central Java in May 2006 killed more than 5,000 people, triggered fears of an eruption of a nearby volcano and caused significant damage to a 9th century Prambanan temple. Thousands may be trapped by collapsed buildings and houses, Rustam Pakaya, the head of the Health Ministry's crisis center, told CNN on Wednesday. State-run Antara news agency cited Pakaya as saying he had received reports that part of a hospital had collapsed and that people were buried under the debris. The temblor struck around 5 p.m., about 33 miles (53 kilometers) from Padang, the capital city of West Sumatra and home to more than 800,000 people. The quake caused widespread power and phone outages, making it difficult to assess damage. Aid agencies kicked into gear to help those in need. \"We had aid ready because this area of Indonesia is susceptible to this type of tragedy,\" said Jane Cocking, humanitarian director for Oxfam. \"Communications with the quake-zone are difficult and we are hoping for the best but having to plan for the worst.\" \"The situation is quite devastating,\" said Amelia Merrick, the operations director for World Vision Indonesia. \"Bridges have gone down, phone lines are in total disrepair. It's difficult for us to assess the situation,\" she said. The organization had said it would send assessment teams to the area Thursday morning. \"We know there's no electricity tonight... many of the families will be spending the night outdoors, in pitch black. I'm very afraid of what might happen next,\" she said, referring to the possibility of aftershocks. Hundreds of houses have been damaged, Wayne Ulrich, the Red Cross disaster management coordinator in Indonesia, told CNN. \"We do not know the [exact] numbers.\" \"We have concerns that a hospital has been partially damaged, a market has caught on fire, the airport was closed down for inspection because of the fear if they landed any planes,\" it might cause problems, Ulrich said.  Watch Ulrich discuss the rescue efforts » . Access to the affected areas was obstructed in parts, he added. It's \"blocked by all kinds of problems: frightened people out in the streets, cars, and people trying to get out of the city.\" The earthquake was felt in nearby cities, such as Medan and Bengkulu, where people panicked and ran outside in search of higher ground, fearing a tsunami. But it was also felt as far away as Singapore and Malaysia. \"I did feel the tremor in office today somewhere between 5 - 6 p.m.,\" said Ratna Osman, who works in a single-story office building in Petaling Jaya, just outside Malaysia's capital Kuala Lumpur. \"I asked [a co-worker] if there's an earthquake somewhere -- either that or I was hallucinating.\" \"At first, I thought the chair I was sitting on had a screw loose or something,\" Osman said. The region is accustomed to earthquakes, and locals have been taught to identify safe places in case of a tsunami, according to Sean Granville-Ross, the Mercy Corps country director for Indonesia. \"We hope that preparation is now paying off,\" he said. But if many homes have been destroyed, people may be spending the night with no shelter, he said. Earlier this month, an earthquake in West Java killed 57 people. Several buildings were damaged, Metro TV reported, and people were seen running out of their homes and toward the hills. One employee of a private company in Jalan Ahmad Yani, told Antara news agency that \"everybody panicked with some shouting 'earthquake.'\" TVOne pictures from the scene showed people milling around outside in the city. Phone lines were apparently down in many parts of Padang. Indonesia's Tempo Interactive, a media outlet based in Jakarta, had trouble reaching its correspondent in the West Sumatra city, according to journalist Purwani Diyah Prabandari. \"I hope it's just the cell phone connection,\" Prabandari told CNN. Indonesians trying to find out more about the quake flooded the Internet, including Twitter. Some expressed concern for relatives and friends in Padang. \"Dear God, please send down your angels to hug and protect my grandpa in Padang,\" said one Twitter post. The Web site for one of Indonesia's main newspapers, The Jakarta Globe, crashed for a while, partly as a result of the heavy traffic from people trying to find out about the quake, the paper said in a Twitter post. The Pacific Tsunami Warning Center of the National Oceanic and Atmospheric Administration (NOAA) issued a tsunami watch for Indonesia, India, Thailand and Malaysia, but canceled it soon after. The temblor did generate a tsunami just under one foot high, the Pacific Tsunami Warning Center said. On Tuesday, a magnitude 8.0 quake-triggered tsunami killed at least 111 people in the Samoan islands and Tonga. Read latest news on the Samoa quake and tsunami . The tsunami waves swept across a wide swath of the Pacific Ocean, killing dozens and flattening or submerging villages. The dead included 22 in American Samoa, 82 in Samoa and seven in Tonga. Officials warned that the death toll could rise as rescue workers start to reach outlying villages and discover new casualties. The U.S. Geological Survey declined to say whether the two quakes were linked. \"The simple answer is we can't speculate on a connection,\" Carrieann Bedwell of the USGS told CNN. \"Both are in highly seismic areas.\" The epicenters of the two temblors are about 4,700 miles (7,600 km) apart. CNN's Tricia Escobedo and Andy Saputra contributed to this report.\n",
            "score: 0.928557\n",
            "\n",
            "input: Washington (CNN) -- More than 200 federal, state and local law enforcement personnel have been assigned to an operation intended to find who was responsible for Saturday's fatal shootings of three people linked to the U.S. consulate in Cuidad Juarez, Mexico, an official said. Among the agencies involved in Operation Knock Down -- taking place in southern New Mexico and in the vicinity of El Paso, Texas -- are the FBI and the Drug Enforcement Administration, said DEA spokesman David Ausiello. El Paso is across the Rio Grande from Ciudad Juarez. A law enforcement official said investigators believe that there could be a connection between Barrio Azteca, a gang that operates in both cities, and the killings. The official said that mistaken identity has not been ruled out. A relative of U.S. consulate worker Lesley Ann Enriquez said Wednesday that the 35-year-old woman was four months pregnant with a boy when she was shot dead. Enriquez's husband, 34-year-old Arthur Redelfs, was also killed. He was a 10-year veteran of the El Paso County Sheriff's Office. The couple was fired on in their SUV as they left a birthday party at the U.S. consulate. Their 7-month-old daughter, Rebecca, who was in the back of the SUV, was unhurt. A third victim, who had also left the party, was identified as Jorge Alberto Salcido Ceniceros, 37, a state police officer who was married to a Mexican employee of the U.S. consulate. His wife was not traveling with him, but two of their children, ages 4 and 7, were in the car and were wounded, officials said. \"We have all come together to find Barrio Azteca members as part of a major intelligence effort,\" said Andrea Simmons, a public information officer for the FBI in El Paso. In addition to the FBI and the DEA, other organizations involved are the Immigration and Customs Enforcement, U.S. Customs and Border Protection, the El Paso Police Department, the El Paso County Sheriff's Office and the Texas Department of Public Safety. \"Part of this is being done to generate leads regarding the ongoing investigation in Juarez as well as an opportunity to gather information on the location of Eduardo Ravelo, one of the top 10 fugitives,\" she said. The FBI is offering $100,000 for information leading to the arrest of Ravelo, who is accused of being a leader of Barrio Azteca. This week, Mexican President Felipe Calderon made his third visit in slightly more than a month to Ciudad Juarez. Its more than 2,600 drug-related deaths last year made it the most violent city in Mexico. No official numbers are available, but more than 400 killings have been reported in local media this year. CNN's Arthur Brice contributed to this story.\n",
            "score: 0.089331\n",
            "\n",
            "input: LONDON, England (CNN) -- Honey has been used to treat wounds since ancient times, but recent years have seen a surge of medical interest in the sticky stuff. Research has shown that honey has antibacterial properties. Manuka honey has been the subject of particular interest, with the results of a study just published by Sydney University finding that it has powerful antibacterial properties, and is even effective against antibiotic-resistant bacteria. Associate Professor Dee Carter, from Sydney University's School of Molecular and Microbial Biosciences said: \"Our research is the first to clearly show that these honey-based products could in many cases replace antibiotic creams on wounds and equipment such as catheters. Using honey as an intermediate treatment could also prolong the life of antibiotics.\" \"Most bacteria that cause infections in hospitals are resistant to at least one antibiotic, and there is an urgent need for new ways to treat and control surface infections.\" She added: \"We don't quite know how these honeys prevent and kill infections, but a compound in them called methylglyoxal seems to interact with a number of other unknown compounds in honey to prevent infectious bacteria developing new strains that are resistant to it.\" Honey is a complex substance, containing up to 800 compounds and its complexity means it has been difficult to pinpoint exactly how it kills bacteria. Manuka is a type of honey that is made by bees pollinating the flowers of the Manuka bush, a member of the Leptospermum family that grows naturally in New Zealand. Now, an Australian company is claiming to have produced the world's most potent medical-grade antibacterial honey, made by bees pollinating the Australian jellybush, also a member of the Leptospermum family. Australia's Medi Bioactive Honey Company claims its Berringa antibacterial honey has twice the antibacterial content of normal manuka honey, and has launched the product in the UK. Dr Rose Cooper of the University of Wales Cardiff School of Health Sciences has researched honey's antibacterial action and has written a book called \"Honey in Modern Wounds Management.\" Cooper told CNN that there are many components in honey that contribute to its antibacterial nature. She says its high sugar content, low water content and low pH are all factors. Additionally, some honey produces hydrogen peroxide, which can kill bacteria. Since 2004, Britain's National Health Service has licensed the use of manuka-honey wound dressings and sterilized medical grade manuka-honey creams.\n",
            "score: 0.047004\n",
            "\n",
            "input: Mexico City, Mexico (CNN) -- Shootouts between drug suspects and the military in the Mexican northeastern border state of Tamaulipas have left seven dead and 11 wounded, the government reported. One of the dead and the 11 wounded were Mexican military who were ambushed while on patrol late Thursday night in the cities of Miguel Aleman, Mier and Valadeces, the Notimex news agency reported, citing the nation's National Defense Department. The cities are along the U.S. border, near McAllen, Texas. The cities also are near Reynosa, Mexico, where the United States closed its consulate Thursday because of recent increased drug violence. The U.S. Consulate also issued a warning \"to advise U.S. citizens of recent gun battles in Reynosa, Mexico, and cities surrounding Reynosa in the last week.\" Thursday night's firefights were the latest in a string of confrontations that some residents say have been going on for at least 10 days. Earlier this week, local news reports said, gunmen in as many as 20 vehicles clashed with members of the Mexican military and municipal police in Ciudad Mier, just west of Reynosa. The daytime gun battle Tuesday reportedly resulted in the abduction of 10 municipal police officers. Video from the scene showed abandoned police sport utility vehicles with bullet holes and broken windows. Shattered glass covered the street against a backdrop of palm trees. A damaged red truck with the insignia CDG -- the Spanish acronym for the Gulf Cartel -- was shown being towed from the shooting scene. In Reynosa, residents told CNN on Thursday that banners purportedly placed throughout the city by the rival Los Zetas drug cartel announced there would be a gunfight at 8 p.m. Residents reported hearing gunshots as early as 7:30 p.m. After Thursday night's gunfire, officials say they confiscated 14 vehicles, 29 firearms, 10 hand grenades and more than 1,700 rounds of ammunition of various caliber. On a tour of the border cities, Tamaulipas Gov. Eugenio Hernandez Flores sought to reassure residents that the government is committed to controlling the mayhem. Violence throughout Mexico has exploded since President Felipe Calderon declared war on the drug cartels shortly after assuming office in December 2006. More than 16,000 people have been killed in drug violence since then. Ciudad Juarez, across the border from El Paso, Texas, is the most violent city in Mexico and one of the deadliest on earth. The rival Juarez and Sinaloa cartels are fighting for control of the lucrative drug routes into the United States as well street sales within Ciudad Juarez. The cartels also are fighting the Mexican army and federal, state and local police. Mexican officials point out that most of the deaths involve criminals; few civilians have been killed. In Juarez earlier this month, however, 10 teenagers and five other people were gunned down at a party. Officials said the gunmen belonged to the Juarez cartel and mistakenly believed the partygoers were members of a gang affiliated with the Sinaloa cartel. CNN's Mariano Castillo and Nick Valencia contributed to this report.\n",
            "score: 0.240182\n",
            "\n",
            "input: (CNN) -- Three faculty members were killed and three other school employees were wounded Friday in a shooting at the University of Alabama in Huntsville, a school spokesman said. A female shooting suspect was in custody and a second person was detained, \"not arrested,\" spokesman Ray Garner told reporters. Huntsville Police Chief Henry Reyes left open the possibility that more than one person had been detained. \"We have a suspect and possible persons of interest,\" he said late Friday. \"Until we go through everything, we're not going to say exactly how many or who we have.\" He said police were questioning the suspect, whom he would not identify. Of the wounded, two were faculty members and the third was a staff member, he said. Garner said the incident occurred shortly before 4 p.m. in Shelby Hall. Police arrived at 4:01 p.m.; residence halls were locked down at 4:10 p.m.; the building was secured by 5:45 p.m., he said. The suspect was taken into custody outside the building, said Reyes. No weapon has been recovered, he said. The 6-year-old, $60 million facility houses the chemistry department and is named for U.S. Sen. Richard Shelby of Alabama and his wife, Annette Shelby. Garner identified the dead as Gopi Podila, chairman of the biological sciences department; Maria Davis, associate professor of biology; and Adriel Johnson, associate professor of biology. He identified the injured as Joseph Leahy, associate professor of biology, in critical condition; Luis Cruz-Vera, assistant professor of biology, in stable condition; and Stephanie Monticello, staff assistant, also in stable condition. The wounded were taken to Huntsville Hospital. Classes and athletic events are to be canceled February 15-19, he said. Asked why students had not been alerted for more than an hour after the shootings, Reyes said, \"I can't comment on that part.\"\n",
            "score: 0.045027\n",
            "\n",
            "input: (CNN) -- Authorities in Alaska were working Friday to ensure public safety after a woman was mauled to death by animals -- most likely wolves. The victim, Candice Berner, 32, was found dead Monday in the village of Chignik Lake, authorities said. If the attack is confirmed, it would be the first fatal encounter with wolves on record in Alaska, said Megan Peters, spokeswoman for the Alaska State Troopers. If officials determine which animals were responsible, authorities will try to find them and destroy them, Peters said. An investigation determined the death was \"non-criminal in nature,\" the troopers said in a news release, adding that \"it has been concluded that the animals most likely responsible for the attack are wolves.\" Troopers were working with the Department of Fish and Game \"as it addresses public safety concerns regarding wolf activity close to the community of Chignik Lake,\" the troopers said. Berner, a Pennsylvania native, moved to Alaska last year. Chignik Lake is in the southwest part of the state, part of the Alaska Peninsula that shoots out from the mainland. The community of about 105 residents is about 475 miles southwest of Anchorage. Several Chignik Lake residents have reported recent encounters with wolves, some of them threatening, Peters said. Authorities saw a bloody trail where Berner had been dragged off a road and wolf tracks near the body, Peters said. \"It's hard. It's really hard. I feel horrible, you know, empty,\" her father, Robert Berner, told KTUU-TV in Anchorage, Alaska. \"They said Candice put up a good fight,\" he said, \"and there must have been two, maybe three of them.\" Berner described his daughter as \"small and mighty,\" a woman who liked to box, lift weights and run, according to a dispatch in the Slippery Rock Herald, the newspaper in her Pennsylvania hometown. She was training for a race and could get into a meditative state when running, her father said. Foul play has been ruled out, Peters said. Berner was an itinerant special education teacher, according to CNN affiliate WTAE-TV of Pittsburgh, Pennsylvania. Authorities listed her address as Perryville, Alaska, around 30 miles from where her body was found. She had arrived in Chignik this week to work at the school there, the Slippery Rock Herald said. Berner had been with the Lake and Peninsula Borough School District since August, schools official Rick Luthi said. Her co-workers last saw her alive at the end of the workday Monday, Luthi told the newspaper. \"She had made the comment that she wanted to get out and get some fresh air,\" Luthi said. \"We assumed that that meant a run for Candice, because she had a habit of doing that whenever she could.\" Her father was a professor and taught her first special education class, KTUU-TV said. \"I felt like it was work worth doing, and I've always felt that way,\" Robert Berner said. \"I thought Candice would be able to handle it well, because she has a tremendous tolerance for those who are different.\" Residents in Berner's hometown recalled an adventurous woman who loved the outdoors and longed to live in Alaska, WTAE said. Patrick Grant, of Slippery Rock University's Special Education Department, told the station that Berner returned home for grad school and that he last saw her about 18 months ago. \"She cared about other people,\" Grant told WTAE. \"She cared about kids. She cared about how she'd make a difference in the world. That's why she was there. She wanted to make a difference in the world.\" Berner was featured in Slippery Rock's winter 2010 journal, where she talked about life in Alaska without television and having her groceries flown in. She also wrote a blog called \"Adventures of an Alaskan Bush Teacher,\" posting photos on it and writing about the wildlife -- particularly the wolves that lurked in the wilderness. \"This tragedy affects all of us. We're all deeply crushed by it,\" Grant said. \"We're all deeply concerned about someone so young reaching such a tragic death, and we're all asking ourselves, 'What can we do?' And I don't know what the answer is.\" CNN's Greg Morrison and Dave Alsup contributed to this report.\n",
            "score: 0.079589\n",
            "\n",
            "input: LONDON, England (CNN) -- Two British men were convicted Thursday of torturing and killing two French students in London last June, London's Metropolitan Police said. Gabriel Ferez (left) and Laurent Bonomo were graduate biochemistry students at London's Imperial College. Nigel Farmer, 34, and Daniel \"Dano\" Sonnex, 23, were also found guilty of arson, false imprisonment and burglary. The bodies of Laurent Bonomo and Gabriel Ferez, both 23, were found in Bonomo's burned apartment in southeast London last summer. Ferez's mother, Francoise Villemont, told the judge that her son's killing was \"indescribable and inexcusable.\" \"No human being deserves such a death,\" she said. \"My life stopped on the 29th June 2008. I feel battered and bruised as a mother forever scarred.\" The lead detective in the case, Mick Duthie, said at the time that the two had fallen victim to a \"frenzied, brutal, horrific attack.\" During a five-week trial, the jury heard details of how the two students were tied up for hours, tortured for their credit-card personal identification numbers and repeatedly stabbed in an early morning attack June 29, 2008. Farmer went back to the apartment that night and set fire to it in an attempt to destroy the evidence, police said. Emergency services were called to the address after neighbors heard an explosion and saw flames leaping from the premises. Investigators initially believed the French men died in the fire, but an autopsy showed each had been stabbed dozens of times in the head, neck and torso -- 196 times, in Bonomo's case and 47 times for Ferez. Police believe they were bound during the assault and an accelerant was used to start the fire after they were killed. Hand-held Sony portable games, mobile phones and credit cards were missing, police said. Bonomo's card was used to withdraw £360 (about $580) in seven transactions. A bank machine seized Ferez's card when someone tried to use it. Farmer turned himself in to police in the early hours of July 7, 2008, \"demanding to be seen and claiming to have committed a double murder. After hospital treatment, he was questioned for three days but chose to say nothing to police,\" Duthie said. Police appealed to the public for tips, prompting someone to name Sonnex as someone \"with a propensity to use violence and whose family lived very close by,\" the police said in a statement. Farmer and Sonnex were arrested in July. Bonomo's father, Guy Bonomo, said he is \"tormented\" by images of his son's suffering. \"Not only have you taken Laurent's life, you've taken my heart and soul,\" he told Farmer and Sonnex. \"I wish from the bottom of my heart that you will stay in prison for the rest of your lives. I can't bear to think that someone so evil will walk the streets again, that my daughter or a member of my family could encounter you again.\" In court, each blamed the other for killing the two men, police said. \"Throughout the case, neither has had the decency or courage to admit any part in the fatal assault on the two students with both men telling different stories and ultimately blaming each other,\" Duthie said. \"I'm sad to say that we have not yet heard what did happen that early morning.\" The two men are due to be sentenced later Wednesday. The victims were biochemistry graduate students on a three-month course at Imperial College, London, studying genetic developments. They were planning to return to France in July.\n",
            "score: 0.022948\n",
            "\n",
            "input: ROME, Italy (CNN) -- An Italian woman who had been in a coma for 17 years and whose right-to-die case was being debated in the Italian Parliament has died days after doctors began removing her feeding tube. A portrait of Eluana Englaro. She was in a vegetative state for nearly 17 years. The speaker of the Italian Senate announced the death of Eluana Englaro, 37, Monday night, then called for a moment of silence in the chamber. Even as the silence ended, one legislator declared, \"She has not died -- she was killed,\" prompting other right-to-die opponents to join in with calls of \"Murderers!\" Englaro had been in a vegetative state for 17 years, after suffering what doctors determined to be irreversible brain damage in a 1992 car crash, when she was 20 years old. For years, Englaro's father, Beppino, fought to have her feeding tube removed, saying it would be a dignified end to his daughter's life. He said that before the crash his daughter visited a friend who was in a coma and told him she didn't want the same thing to happen to her if she were ever in the same state. Confirming his daughter's death Monday, Beppino Englaro told Italian media: \"Yes, she is no longer with us, but I don't want to say anything further. I need to be left alone.\" But the intense debate swirling around her case will go on.  Watch as Italians protest against her death » . When Englaro's death was announced, the Senate was debating a proposed law that would require doctors to provide nourishment to all incapacitated patients, and that would have forced doctors to resume feeding Englaro through tubes. Debate on that proposal as it would affect other patients is likely to continue in Parliament. Last year, a court ruled that the feeding tube could be removed, and Italy's high court upheld the ruling on appeal. Englaro was transferred last week to a private clinic, where the removal process began Friday -- even as the Senate took up a debate aimed at reversing that process. A decree aimed at preventing doctors from completely removing the feeding tube was passed unanimously Friday by Italy's Council of Ministers, with Prime Minister Silvio Berlusconi leading the effort. \"I will do everything I can to save her life,\" Berlusconi said. \"We have to do everything possible to stop a person from dying.\" But President Giorgio Napolitano refused to sign the decree. According to a statement from Napolitano's office, \"An emergency decree cannot be in contrast with a court decision.\" The case has been a controversial one in Italy, a heavily Catholic country where the Vatican has great influence. Earlier this month, Pope Benedict XVI told pilgrims that \"euthanasia is a false solution to suffering.\" Monsignor Elio Sgreccia, president emeritus of the Pontifical Academy for Life, said Friday that Englaro had the right to be kept alive. \"It is the duty of the doctors, of society, and of the political institutions to administer her essential foods to keep her alive. No one has the right to take her life away from her,\" he said. Euthanasia is illegal in Italy, but patients have the right to refuse treatment. It is on that basis that Englaro argued his daughter should be allowed to die, because some time before her accident she had expressed the wish not to be kept alive while in a coma -- indirectly refusing treatment, he said.\n",
            "score: 0.112338\n",
            "\n",
            "\n"
          ]
        }
      ]
    },
    {
      "cell_type": "code",
      "source": [
        "test_scores = tf.sigmoid(reloaded_model(tf.constant(docs_test)))"
      ],
      "metadata": {
        "id": "Wk32ZdvH7dTm"
      },
      "execution_count": 59,
      "outputs": []
    },
    {
      "cell_type": "code",
      "source": [
        "test_predictions = tf.math.round(test_scores)"
      ],
      "metadata": {
        "id": "Hd_5VzN04kZ0"
      },
      "execution_count": 60,
      "outputs": []
    },
    {
      "cell_type": "code",
      "source": [
        ""
      ],
      "metadata": {
        "id": "GIW5kWR59EGY"
      },
      "execution_count": null,
      "outputs": []
    },
    {
      "cell_type": "code",
      "source": [
        "test_predictions = test_predictions.numpy().ravel().astype(int)"
      ],
      "metadata": {
        "id": "vdUfcEVk6Nnm"
      },
      "execution_count": 61,
      "outputs": []
    },
    {
      "cell_type": "code",
      "source": [
        "plt.scatter(test_scores, y_test + np.random.normal(loc=0.0, scale=0.03, size=len(y_test)))"
      ],
      "metadata": {
        "colab": {
          "base_uri": "https://localhost:8080/",
          "height": 282
        },
        "id": "A9B24oIP7b9_",
        "outputId": "8e1a206d-0e83-4367-d639-d00f8fb9c7c5"
      },
      "execution_count": 62,
      "outputs": [
        {
          "output_type": "execute_result",
          "data": {
            "text/plain": [
              "<matplotlib.collections.PathCollection at 0x7f6edf0b1ed0>"
            ]
          },
          "metadata": {},
          "execution_count": 62
        },
        {
          "output_type": "display_data",
          "data": {
            "text/plain": [
              "<Figure size 432x288 with 1 Axes>"
            ],
            "image/png": "[encoded data removed]"
          },
          "metadata": {
            "needs_background": "light"
          }
        }
      ]
    },
    {
      "cell_type": "code",
      "source": [
        "\n",
        "from sklearn.metrics import classification_report\n",
        "print(classification_report(y_test, test_predictions, target_names=['not accident', 'accident']))"
      ],
      "metadata": {
        "colab": {
          "base_uri": "https://localhost:8080/"
        },
        "id": "An5I3Aw16vWO",
        "outputId": "f7858cdd-e4b3-41c3-bfe2-9da767e2d5d8"
      },
      "execution_count": 63,
      "outputs": [
        {
          "output_type": "stream",
          "name": "stdout",
          "text": [
            "              precision    recall  f1-score   support\n",
            "\n",
            "not accident       0.90      0.89      0.89       283\n",
            "    accident       0.61      0.63      0.62        78\n",
            "\n",
            "    accuracy                           0.83       361\n",
            "   macro avg       0.75      0.76      0.76       361\n",
            "weighted avg       0.84      0.83      0.83       361\n",
            "\n"
          ]
        }
      ]
    },
    {
      "cell_type": "code",
      "source": [
        ""
      ],
      "metadata": {
        "id": "8qBr_XNl7BzB"
      },
      "execution_count": null,
      "outputs": []
    }
  ]
}