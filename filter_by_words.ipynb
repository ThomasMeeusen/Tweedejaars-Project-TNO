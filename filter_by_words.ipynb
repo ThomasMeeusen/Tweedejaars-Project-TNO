{
 "cells": [
  {
   "cell_type": "markdown",
   "metadata": {},
   "source": [
    "# Filtering dataset by keywords"
   ]
  },
  {
   "cell_type": "code",
   "execution_count": 1,
   "metadata": {},
   "outputs": [],
   "source": [
    "# imports\n",
    "from datasets import load_dataset\n",
    "import nltk\n",
    "import itertools\n",
    "from collections import Counter\n",
    "from tqdm import tqdm\n",
    "from nltk.stem.snowball import EnglishStemmer\n",
    "from nltk.corpus import stopwords\n",
    "import re\n",
    "import random"
   ]
  },
  {
   "cell_type": "code",
   "execution_count": 2,
   "metadata": {},
   "outputs": [
    {
     "name": "stderr",
     "output_type": "stream",
     "text": [
      "Reusing dataset cnn_dailymail (/Users/tppl/.cache/huggingface/datasets/cnn_dailymail/3.0.0/3.0.0/1b3c71476f6d152c31c1730e83ccb08bcf23e348233f4fcc11e182248e6bf7de)\n"
     ]
    }
   ],
   "source": [
    "# deze cel downloadet de dataset\n",
    "# hij gebruikt het script cnn_dailymail.py van huggingface:\n",
    "# https://huggingface.co/datasets/cnn_dailymail/tree/main\n",
    "# dit kan wel iets van 10 minuten duren, ga maar wat koffie halen\n",
    "\n",
    "dataset = load_dataset(\"cnn_dailymail.py\", \"3.0.0\", split=\"train\") "
   ]
  },
  {
   "cell_type": "code",
   "execution_count": 3,
   "metadata": {},
   "outputs": [
    {
     "name": "stdout",
     "output_type": "stream",
     "text": [
      "{'article': Value(dtype='string', id=None), 'highlights': Value(dtype='string', id=None), 'id': Value(dtype='string', id=None)}\n",
      "287113\n"
     ]
    }
   ],
   "source": [
    "# print de features en het aantal datapunten in de dataset\n",
    "print(dataset.features)\n",
    "print(dataset.num_rows)"
   ]
  },
  {
   "cell_type": "code",
   "execution_count": 4,
   "metadata": {},
   "outputs": [
    {
     "name": "stderr",
     "output_type": "stream",
     "text": [
      "[nltk_data] Downloading package stopwords to /Users/tppl/nltk_data...\n",
      "[nltk_data]   Package stopwords is already up-to-date!\n"
     ]
    }
   ],
   "source": [
    "# methoden om de data te pre-processen\n",
    "en_stemmer = EnglishStemmer() # stemmer voor engelse woorden\n",
    "nltk.download('stopwords') # stopwoorden die niet veel waarde toevoegen\n",
    "stop_words = set(stopwords.words('english'))\n",
    "alph_string_pattern = re.compile(\"[a-zA-Z]\") # filtert 'woorden' die niet beginnen met een letter, zoals interpunctietokens\n",
    "\n",
    "\n",
    "def word_counter_text(text: str, stem=False, remove_stopwords=False):\n",
    "    \"\"\"\n",
    "    Neemt als input een string tekst\n",
    "    Returnt een Counter object die alle woorden uit de tekst telt\n",
    "    \"\"\"\n",
    "    \n",
    "    # splits de tekst op in een lijst van woorden\n",
    "    sents = nltk.tokenize.sent_tokenize(text)\n",
    "    words = [nltk.word_tokenize(sent) for sent in sents]\n",
    "    flatten_words = list(itertools.chain(*words))\n",
    "    \n",
    "    # woorden stemmen of alleen maar hoofdletters weghalen\n",
    "    if stem:\n",
    "        flatten_lower_words = [en_stemmer.stem(str) for str in flatten_words]\n",
    "    else:\n",
    "        flatten_lower_words = [str.lower() for str in flatten_words]\n",
    "    \n",
    "    # stopwoorden weghalen\n",
    "    if remove_stopwords:\n",
    "        flatten_lower_words = [str for str in flatten_lower_words if str not in stop_words]\n",
    "        \n",
    "    # tokens die niet beginnen met een letter weghalen\n",
    "    flatten_lower_words = [str for str in flatten_lower_words if alph_string_pattern.match(str)]\n",
    "    \n",
    "    return Counter(flatten_lower_words)"
   ]
  },
  {
   "cell_type": "markdown",
   "metadata": {},
   "source": [
    "### Tot nu toe wat Erik heeft gedaan\n",
    "vanaf hier filteren we onze dataset met een bepaalde keywords"
   ]
  },
  {
   "cell_type": "markdown",
   "metadata": {},
   "source": [
    "### Wij beginnen met de makkelijkste taak namelijk alle totaal verschillend artikelen uithalen\n",
    "en daarna gaan wij nog verder filteren"
   ]
  },
  {
   "cell_type": "code",
   "execution_count": 5,
   "metadata": {},
   "outputs": [],
   "source": [
    "# een lijst van keywords bedacht door Coen\n",
    "\n",
    "words_accident = ['accident','disaster','catastrophe','incident','near-miss', 'tragedy']\n",
    "\n",
    "words_damage = ['victim','casualties','died','killed','damage','harm','hospital','hospitalized',\n",
    "                'wounded','succumbed','unscathed','evacuate','rescue','first responders','ambulance','first aid']\n",
    "\n",
    "words_specific = ['sunk','fire','derailed','collision','poisoned','burned']"
   ]
  },
  {
   "cell_type": "code",
   "execution_count": 6,
   "metadata": {},
   "outputs": [],
   "source": [
    "def filter1(texts, num_articles, keywords, threshold):\n",
    "    positive_articles = []\n",
    "    negative_articles = []\n",
    "    \n",
    "    for i in tqdm(num_articles):\n",
    "        # haal alle unieke woorden van het artikel\n",
    "        article = texts[i]\n",
    "        words = set(dict(word_counter_text(article, stem=True, remove_stopwords=True).items()).keys())\n",
    "\n",
    "        # kijk hoeveel keywords er voorkomen\n",
    "        contains_keyword = 0\n",
    "        for keyword in keywords:\n",
    "            if keyword in words:\n",
    "                contains_keyword += 1\n",
    "\n",
    "        if contains_keyword >= threshold:\n",
    "            positive_articles.append(i)\n",
    "        else:\n",
    "            negative_articles.append(i)\n",
    "\n",
    "    return positive_articles, negative_articles\n",
    "    "
   ]
  },
  {
   "cell_type": "code",
   "execution_count": 7,
   "metadata": {},
   "outputs": [],
   "source": [
    "# parameters instelling\n",
    "texts = dataset['article']\n",
    "num_articles = list(range(2000))\n",
    "keywords = words_accident + words_damage + words_specific + ['safety']\n",
    "# gestemde versie van keywords\n",
    "keywords = [en_stemmer.stem(w) for w in keywords]\n",
    "# drempelwarde voor hoeveel keywords een artikel moet bevatten\n",
    "threshold = 3"
   ]
  },
  {
   "cell_type": "code",
   "execution_count": 8,
   "metadata": {},
   "outputs": [
    {
     "name": "stderr",
     "output_type": "stream",
     "text": [
      "100%|██████████| 2000/2000 [00:40<00:00, 49.38it/s]\n"
     ]
    }
   ],
   "source": [
    "filter1_1 = filter1(texts, num_articles, keywords, threshold)"
   ]
  },
  {
   "cell_type": "code",
   "execution_count": 9,
   "metadata": {},
   "outputs": [
    {
     "name": "stdout",
     "output_type": "stream",
     "text": [
      "positive: 482 negative: 1518\n"
     ]
    }
   ],
   "source": [
    "print('positive:', len(filter1_1[0]), 'negative:', len(filter1_1[1]))"
   ]
  },
  {
   "cell_type": "markdown",
   "metadata": {},
   "source": [
    "### Omdat er geen label bestaat moeten wij handmatig controleren of het goed gefilterd is.\n",
    "#### Het doel van dit gedeelte is alle onpassende artikelen uithalen "
   ]
  },
  {
   "cell_type": "code",
   "execution_count": 10,
   "metadata": {
    "scrolled": false
   },
   "outputs": [
    {
     "name": "stdout",
     "output_type": "stream",
     "text": [
      "NEW: \"I thought I was going to die,\" driver says .\n",
      "Man says pickup truck was folded in half; he just has cut on face .\n",
      "Driver: \"I probably had a 30-, 35-foot free fall\"\n",
      "Minnesota bridge collapsed during rush hour Wednesday . \n",
      "\n",
      "Parents beam with pride, can't stop from smiling from outpouring of support .\n",
      "Mom: \"I was so happy I didn't know what to do\"\n",
      "Burn center in U.S. has offered to provide treatment for reconstructive surgeries .\n",
      "Dad says, \"Anything for Youssif\" \n",
      "\n",
      "Aid workers: Violence, increased cost of living drive women to prostitution .\n",
      "Group is working to raise awareness of the problem with Iraq's political leaders .\n",
      "Two Iraqi mothers tell CNN they turned to prostitution to help feed their children .\n",
      "\"Everything is for the children,\" one woman says . \n",
      "\n",
      "Two cars loaded with gasoline and nails found abandoned in London Friday .\n",
      "52 people killed on July 7, 2005 after bombs exploded on London bus, trains .\n",
      "British capital wracked by violence by the IRA for years . \n",
      "\n",
      "NEW: President Bush says he and first lady are deeply saddened by the tragedy .\n",
      "Mine Safety and Health Administration chief: We've run out of options.\n",
      "The six men have been trapped underground since August 6 .\n",
      "Seven bore holes drilled into the mountain have found no signs of life . \n",
      "\n",
      "Bomb victims waiting for presidential visit .\n",
      "Blast went off 15 minutes before president's arrival .\n",
      "Algeria faces Islamic insurgency .\n",
      "Al Qaeda-affiliated group claimed July attacks . \n",
      "\n",
      "Boy on meeting Spider-Man: \"It was my favorite thing\"\n",
      "Youssif also met SpongeBob, Lassie and an orangutan at Universal Studios .\n",
      "Dad: \"Other than my wedding day, this is the happiest day of my life\" \n",
      "\n",
      "Prince Harry describes Princess Diana as \"the best mother in the world\"\n",
      "He asks for her to be remembered as \"fun-loving, generous, down-to-earth, entirely genuine\"\n",
      "Bishop of London praises her humanitarian work .\n",
      "He says that disputes about her death should \"end here\" \n",
      "\n",
      "Several famous songs written by men for a woman .\n",
      "Beethoven's  \"Für Elise\" may have been written \"for Therese\"\n",
      "Songwriters make up stories about who is behind \"867-5309/Jenny\" \n",
      "\n",
      "Relatives of the 89 people killed in Thai air crash are still arriving in Phuket .\n",
      "About 36 of the bodies have yet to be identified, according to Thai authorities .\n",
      "U.S. Embassy in Bangkok confirms that five Americans were among the dead .\n",
      "The investigation into what caused Sunday's crash is still continuing . \n",
      "\n",
      "Boy, 12, lost leg to car bombing in Iraq; cousin was killed by blast .\n",
      "He is now heading to the United States to get a prosthetic leg .\n",
      "Boy: \"I want to ... meet this person that gave me my future back\"\n",
      "Charity director says helping the boy makes her \"cry with joy\" \n",
      "\n",
      "San Diego mayor declares state of emergency; White House, governor offer aid .\n",
      "Officials were investigating the shifting earth in the area for weeks .\n",
      "Residents can return to 75 of the 111 evacuated homes Thursday, mayor says .\n",
      "\"We watched the trees snapping and cracking,\" says one evacuated resident . \n",
      "\n",
      "NEW: Chadian president wants journalists, flight crew released .\n",
      "Red Cross, UNICEF, UNHCR interview children that charity tried to fly out of Chad .\n",
      "Most are not from Sudan and have families, agencies say .\n",
      "Six members of Zoe's Ark, 11 others under arrest in Chad . \n",
      "\n",
      "NEW: Judge signs order to exhume the body of Drew Peterson's third wife .\n",
      "Peterson has said he believed his fourth wife left him for another man .\n",
      "Police: Case shifts from a missing persons search to a potential homicide .\n",
      "Friends and family: Stacy Peterson expressed concerns about her husband . \n",
      "\n",
      "State-run news agency: China orders an investigation by quality control agencies .\n",
      "Children who swallow the beads can become comatose or have seizures .\n",
      "Toys are sold as Aqua Dots in the U.S., as Bindeez Beads in Australia .\n",
      "Three children were hospitalized in Australia after swallowing large quantities . \n",
      "\n",
      "Survivors of Cyclone Sidr in Bangladesh waiting for aid to arrive .\n",
      "Red Crescent Society official says deaths could rise to 5,000-10,000 .\n",
      "Bangladeshi president distributes aid; angry survivors go empty-handed .\n",
      "Thousands remain missing; estimated 280,000 homeless . \n",
      "\n",
      "Six of seven dead in fire were University of South Carolina students .\n",
      "Official: Six treated at hospital and released were also USC students .\n",
      "Mayor Debbie Smith said one of 13 at house is related to owner of house .\n",
      "Victims' names not being released until families are notified . \n",
      "\n",
      "NEW: White truck seen on Santiago Canyon Road near time fire started .\n",
      "Charges filed against man who allegedly set small fire and walked off .\n",
      "Catalino Pineda one of five arrested in arson investigations this week .\n",
      "Arson investigations continue across multiple California counties . \n",
      "\n",
      "\"Heartbroken\" house owner's daughter among six survivors hospitalized .\n",
      "One survivor jumped out of a third-story window into a canal to escape .\n",
      "University of South Carolina mourns deaths of six students . \n",
      "\n",
      "Taliban militants kill Australian commando in southern Afghanistan .\n",
      "He was shot during operation to clear Taliban bomb making facility in Uruzgan .\n",
      "This is the fourth Australian soldier to die in the conflict in Afghanistan .\n",
      "Several militants killed and a coalition troop injured in other fighting in southeast . \n",
      "\n",
      "NEW: Teen gunman is dead, Finnish police say .\n",
      "Eight people, including headmistress, shot at Finnish school, say police .\n",
      "Firearm bought legally last month, shooting began in school's lower lobby .\n",
      "Shooting appeared to have been planned in series of YouTube videos . \n",
      "\n",
      "Two bombs explode in Algerian capital near government and U.N. buildings .\n",
      "Algeria blames group linked to al Qaeda .\n",
      "Official death toll is 26, but some sources say as high as 76 .\n",
      "U.N. officials say five of its staff killed and 14 missing . \n",
      "\n",
      "Some witnesses say Colorado does nothing to protect them .\n",
      "One witness spent over 10,000 dollars on security after being terrorized .\n",
      "Community activist says Colorado's witness protection program is \"a joke\" \n",
      "\n",
      "NEW: Jury shown new footage of Diana taken hours before her death .\n",
      "Diana and Dodi Fayed inquest jury to hear \"scene setting\" evidence .\n",
      "On Tuesday coroner outlined controversial claims, published new images .\n",
      "Court will make final decision on what happened in car crash 10 years ago . \n",
      "\n",
      "NEW: Fire Department spokesman: 14 have been taken to area hospitals .\n",
      "Firefighters still fighting hot spots Wednesday afternoon, official says .\n",
      "\"It's a hellish inferno,\" he tells reporters . \n",
      "\n",
      "South African reggae legend Lucky Dube killed in attempted hijacking .\n",
      "Dube, 43, killed Thursday in Johannesburg after hijacker tried to steal his car .\n",
      "Death casts shadow over South Africa's preparations for rugby World Cup final . \n",
      "\n",
      "Nationwide Airlines pilot dumped fuel until he landed plane Wednesday .\n",
      "An object was sucked into the engine as the nose wheel lifted from the ground .\n",
      "100, including crew, were on the plane; no one was injured .\n",
      "Plane passenger: \"Everyone started panicking\" \n",
      "\n",
      "FEMA doesn't face utter devastation as in Gulf Coast in 2005 .\n",
      "Victims can escape in own vehicles on open roads .\n",
      "Communications infrastructure remains intact .\n",
      "Agencies learn from Hurricane Katrina mistakes . \n",
      "\n",
      "Thousands of teens attend Christian rallies each year .\n",
      "Many of the rallies attempt to offer an alternative to secular popular culture .\n",
      "Opponents say these impose conservative values on vulnerable teenagers . \n",
      "\n",
      "No end \"until it reaches the ocean or the winds turn around,\" official says .\n",
      "Nearly 350,000 homes in San Diego County evacuated; 70 people injured .\n",
      "Flames have charred 700,000 acres, more than 1,000 homes .\n",
      "Not \"enough fire engines in the state of California,\" Ventura County official says . \n",
      "\n"
     ]
    }
   ],
   "source": [
    "for i in range(30):\n",
    "    print(dataset['highlights'][filter1_1[0][i]], '\\n')"
   ]
  },
  {
   "cell_type": "markdown",
   "metadata": {},
   "source": [
    "## Resultaat filter1 op positive_articles\n",
    "Van de 30 artikelen 11 waren gerelateerd tot ongevallen en 2 gingen specifiek over werkplaats ongevallen. Dus 19 van 30 was foutief als positief beschouwd."
   ]
  },
  {
   "cell_type": "code",
   "execution_count": 11,
   "metadata": {
    "scrolled": false
   },
   "outputs": [
    {
     "name": "stdout",
     "output_type": "stream",
     "text": [
      "Harry Potter star Daniel Radcliffe gets £20M fortune as he turns 18 Monday .\n",
      "Young actor says he has no plans to fritter his cash away .\n",
      "Radcliffe's earnings from first five Potter films have been held in trust fund . \n",
      "\n",
      "Mentally ill inmates in Miami are housed on the \"forgotten floor\"\n",
      "Judge Steven Leifman says most are there as a result of \"avoidable felonies\"\n",
      "While CNN tours facility, patient shouts: \"I am the son of the president\"\n",
      "Leifman says the system is unjust and he's fighting for change . \n",
      "\n",
      "Five small polyps found during procedure; \"none worrisome,\" spokesman says .\n",
      "President reclaims powers transferred to vice president .\n",
      "Bush undergoes routine colonoscopy at Camp David . \n",
      "\n",
      "NEW: NFL chief, Atlanta Falcons owner critical of Michael Vick's conduct .\n",
      "NFL suspends Falcons quarterback indefinitely without pay .\n",
      "Vick admits funding dogfighting operation but says he did not gamble .\n",
      "Vick due in federal court Monday; future in NFL remains uncertain . \n",
      "\n",
      "Tomas Medina Caracas was a fugitive from a U.S. drug trafficking indictment .\n",
      "\"El Negro Acacio\" allegedly helped manage extensive cocaine network .\n",
      "U.S. Justice Department indicted him in 2002 .\n",
      "Colombian military: He was killed in an attack on a guerrilla encampment . \n",
      "\n",
      "President Bush says Tony Snow \"will battle cancer and win\"  Job of press secretary \"has been a dream for me,\" Snow says  Snow leaving on September 14, will be succeeded by Dana Perino . \n",
      "\n",
      "Empty anti-tank weapon turns up in front of New Jersey home .\n",
      "Device handed over to Army ordnance disposal unit .\n",
      "Weapon not capable of being reloaded, experts say . \n",
      "\n",
      "President Bush to address the Veterans of Foreign Wars on Wednesday .\n",
      "Bush to say that withdrawing from Vietnam emboldened today's terrorists .\n",
      "Speech will be latest White House attempt to try to reframe the debate over Iraq . \n",
      "\n",
      "Werder Bremen pay a club record $10.7 million for Carlos Alberto .\n",
      "The Brazilian midfielder won the Champions League with FC Porto in 2004 .\n",
      "Since January he has been on loan with his first club, Fluminense . \n",
      "\n",
      "President Bush will have a routine colonoscopy Saturday .\n",
      "While he's anesthetized, his powers will be transferred to the vice president .\n",
      "Bush had last colonoscopy in 2002, which found no problems . \n",
      "\n",
      "2,000 customers without electricity, power company says .\n",
      "Magnitude 4.2 quake set off home alarms, says Oakland police dispatcher .\n",
      "\"It was fairly mild,\" police say, no immediate reports of injuries, damage .\n",
      "It was centered two miles east-northeast of Oakland, about 3.6 miles deep . \n",
      "\n",
      "Beckham has agreed to a five-year contract with Los Angeles Galaxy .\n",
      "New contract took effect July 1, 2007 .\n",
      "Former English captain to meet press, unveil new shirt number Friday .\n",
      "CNN to look at Beckham as footballer, fashion icon and global phenomenon . \n",
      "\n",
      "Colony collapse disorder has killed millions of bees .\n",
      "Scientists suspect a virus may combine with other factors to collapse colonies .\n",
      "Disorder first cropped up in 2004, as bees were imported from Australia .\n",
      "$15 billion in U.S. crops each year dependent on bees for pollination . \n",
      "\n",
      "Savers at leading UK mortgage bank lined up to empty their accounts .\n",
      "Northern Rock was bailed out by the Bank of England a day earlier .\n",
      "Reassurances that banks was safe have gone unheeded by many . \n",
      "\n",
      "No bail for ex-NFL star accused of directing men in alleged armed robbery .\n",
      "Simpson faces charges of robbery, assault, burglary and conspiracy .\n",
      "Alleged robbery involved sports-related items, police say .\n",
      "Simpson arrested Sunday in Las Vegas, but he says items were his . \n",
      "\n",
      "Anthony Ogadje, 25, reportedly drowned in Shere Hills Lake .\n",
      "He was preparing for the show, \"Gulder Ultimate Search\"\n",
      "Dutch brewer Heineken's local unit sponsors the program . \n",
      "\n",
      "NEW: Indictment: Man tried to pass nuclear filters to foreign agent .\n",
      "NEW: Roy Lynn Oakley appears in court in Tennessee after surrendering .\n",
      "NEW: Facility's role is to break down decommissioned equipment .\n",
      "NEW: Lawyer: Oakley's job was to break machine parts into pieces, pitch them . \n",
      "\n",
      "Chelsea are still waiting on the fitness of England captain John Terry .\n",
      "Terry trained in a face mask ahead of the Champions League tie in Valencia .\n",
      "The central defender underwent surgery on a broken cheekbone on Sunday . \n",
      "\n",
      "Organ shortage in rich states has created a trade from poorer countries .\n",
      "\"Transplant tourists\" travel to poor countries to buy organs from the desperate .\n",
      "Pakistan, where trade in human organs is legal, is turning into a \"kidney bazaar\"\n",
      "Patients pay $8,500 for a new kidney, while donors are paid just $300 to $1,000 . \n",
      "\n",
      "Because of troubles, Lindsay Lohan likely difficult to insure .\n",
      "Lohan supposed to appear in Shirley MacLaine film \"Poor Things\"\n",
      "Insurance rates may cost 1 to 3 percent of film's production budget . \n",
      "\n",
      "Francesco Totti threatens to quit the Italian Players' Association .\n",
      "The Italy and Roma striker is upset over the early start to the new season .\n",
      "He says: We are the principal actors, but ... are never listened to.\" \n",
      "\n",
      "Two employees bought, sold weapons on their own, company says .\n",
      "Company fired workers, turned them in to ATF, says source .\n",
      "Feds investigating claims Blackwater employees made illegal arms deals .\n",
      "Blackwater in spotlight after shootings last weekend that killed 20 Iraqis . \n",
      "\n",
      "Cpl. Trent D. Thomas found guilty this week of conspiracy to commit murder .\n",
      "Marine gets rank of private, will be discharged for role in death of Iraqi civilian .\n",
      "Group's leader awaits trial on murder and conspiracy charges . \n",
      "\n",
      "French FM Kouchner has told France to prepare for possibility of war with Iran .\n",
      "Was a surprise appointment to Nicolas Sarkozy's conservative government .\n",
      "Also the first French Foreign Minister to visit Iraq since 1988 .\n",
      "Founder of Medicins Sans Frontiers, also  French student leader in May 1968 . \n",
      "\n",
      "Amount almost double what was spent in 2004 election cycle .\n",
      "Lower TV production costs help more candidates advertise .\n",
      "Mitt Romney leads presidential candidates in TV spending .\n",
      "Advertisers face challenge of cutting through clutter of ads, analyst says . \n",
      "\n",
      "Moore criticized a report Gupta did on CNN Monday on \"Sicko\"\n",
      "Gupta's report questions some of the movie's numbers and solutions .\n",
      "Gupta: \"I thought it was a good movie, and I wanted to say that\" \n",
      "\n",
      "NEW: Majority Leader says a number of Dems are \"revisiting their own positions\"\n",
      "Turkey is upset about World War I \"genocide\" resolution in Congress .\n",
      "House resolution calls killing of Armenians \"genocide\"\n",
      "Incirlik Air Base is key point for U.S. military supply of Iraq mission . \n",
      "\n",
      "India elects first female president, official results show Saturday .\n",
      "Pratibha Patil's supporters are calling victory a boost for women's rights .\n",
      "Bitter election campaign was marked by scandal .\n",
      "72-year-old Patil was the ruling coalition's nominee for mainly ceremonial post . \n",
      "\n",
      "Earth has warmed one degree in past 100 years .\n",
      "Majority of scientists say greenhouse gases are causing temperatures to rise .\n",
      "Some critics say planets often in periods of warming or cooling . \n",
      "\n",
      "Ethiopian soldier dragged after battle with Islamic insurgents killed 19 people .\n",
      "The body was bound hand and foot with wire and wrapped in a sheet of plastic .\n",
      "Incident recalls 1993 dragging of U.S. soldier through streets of Mogadishu .\n",
      "Washington is concerned Somalia could turn into a safe haven for terrorists . \n",
      "\n"
     ]
    }
   ],
   "source": [
    "# check of negative_articles ook passende artikelen heeft\n",
    "for i in range(30):\n",
    "    print(dataset['highlights'][filter1_1[1][i]],'\\n')"
   ]
  },
  {
   "cell_type": "markdown",
   "metadata": {},
   "source": [
    "## Resultaat filter1 op negative_articles\n",
    "Van de 30 artikelen 1 was gerelateerd tot ongevallen en 0 ging specifiek werkplaats ongevallen. Dus filter1 werkt best wel goed voor het filteren van ongerelateerde artikelen. Dus het doel is bereikt?"
   ]
  },
  {
   "cell_type": "markdown",
   "metadata": {},
   "source": [
    "# Sub Conclusie\n",
    "### filter1 kan heel goed ongerelateerde artikelen weghalen maar het presteert minder goed bij het uithalen van artikelen die over ongevallen gaan."
   ]
  },
  {
   "cell_type": "markdown",
   "metadata": {},
   "source": [
    "#### filter1 kan totaal ongerelateerde artikelen goed onderscheiden en weghalen. Nu is de vraag kan het nog beter doen bij het uithalen van artikelen die over ongelukken gaan. Om dit te doen halen wij artikelen eruit die over oorlog of terreur (externe factoren) gaan op basis van keywords."
   ]
  },
  {
   "cell_type": "code",
   "execution_count": 12,
   "metadata": {},
   "outputs": [],
   "source": [
    "# keywords gehaald van de bovenstannde resultaten sie externe factoren aanduiden\n",
    "indicates_external = ['Gunman', 'suspect', 'attack', 'terror', 'war', 'bombing', 'militants', 'bombs',\n",
    "                     'conflict', 'hijacking']"
   ]
  },
  {
   "cell_type": "code",
   "execution_count": 13,
   "metadata": {},
   "outputs": [],
   "source": [
    "# parameters instelling\n",
    "num_articles = filter1_1[0]\n",
    "keywords = indicates_external\n",
    "# gestemde versie van keywords\n",
    "keywords = [en_stemmer.stem(w) for w in keywords]\n",
    "# drempelwarde voor hoeveel keywords een artikel moet bevatten\n",
    "threshold = 3"
   ]
  },
  {
   "cell_type": "code",
   "execution_count": 14,
   "metadata": {},
   "outputs": [
    {
     "name": "stderr",
     "output_type": "stream",
     "text": [
      "100%|██████████| 482/482 [00:11<00:00, 43.29it/s]\n"
     ]
    }
   ],
   "source": [
    "filter1_3 = filter1(texts, num_articles, keywords, threshold)"
   ]
  },
  {
   "cell_type": "code",
   "execution_count": 15,
   "metadata": {},
   "outputs": [
    {
     "name": "stdout",
     "output_type": "stream",
     "text": [
      "positive: 96 negative: 386\n"
     ]
    }
   ],
   "source": [
    "# hier is de positive externe factoren dus negative is wat wij willen\n",
    "print('positive:', len(filter1_3[0]), 'negative:', len(filter1_3[1]))"
   ]
  },
  {
   "cell_type": "markdown",
   "metadata": {},
   "source": [
    "## Als het goed gaat, moeten wij voor positive_articles artikelen krijgen die over oorlog, terrueraanslag enz gaan. Negative_articles is kleiner geworden dus dat zal ons tijd besparen bij wanneer wij de data gaan labelen."
   ]
  },
  {
   "cell_type": "code",
   "execution_count": 16,
   "metadata": {},
   "outputs": [
    {
     "name": "stdout",
     "output_type": "stream",
     "text": [
      "Two cars loaded with gasoline and nails found abandoned in London Friday .\n",
      "52 people killed on July 7, 2005 after bombs exploded on London bus, trains .\n",
      "British capital wracked by violence by the IRA for years . \n",
      "\n",
      "Bomb victims waiting for presidential visit .\n",
      "Blast went off 15 minutes before president's arrival .\n",
      "Algeria faces Islamic insurgency .\n",
      "Al Qaeda-affiliated group claimed July attacks . \n",
      "\n",
      "Boy, 12, lost leg to car bombing in Iraq; cousin was killed by blast .\n",
      "He is now heading to the United States to get a prosthetic leg .\n",
      "Boy: \"I want to ... meet this person that gave me my future back\"\n",
      "Charity director says helping the boy makes her \"cry with joy\" \n",
      "\n",
      "Taliban militants kill Australian commando in southern Afghanistan .\n",
      "He was shot during operation to clear Taliban bomb making facility in Uruzgan .\n",
      "This is the fourth Australian soldier to die in the conflict in Afghanistan .\n",
      "Several militants killed and a coalition troop injured in other fighting in southeast . \n",
      "\n",
      "NEW: Teen gunman is dead, Finnish police say .\n",
      "Eight people, including headmistress, shot at Finnish school, say police .\n",
      "Firearm bought legally last month, shooting began in school's lower lobby .\n",
      "Shooting appeared to have been planned in series of YouTube videos . \n",
      "\n"
     ]
    }
   ],
   "source": [
    "for i in range(5):\n",
    "    print(dataset['highlights'][filter1_3[0][i]], '\\n')"
   ]
  },
  {
   "cell_type": "code",
   "execution_count": 17,
   "metadata": {},
   "outputs": [
    {
     "name": "stdout",
     "output_type": "stream",
     "text": [
      "NEW: \"I thought I was going to die,\" driver says .\n",
      "Man says pickup truck was folded in half; he just has cut on face .\n",
      "Driver: \"I probably had a 30-, 35-foot free fall\"\n",
      "Minnesota bridge collapsed during rush hour Wednesday . \n",
      "\n",
      "Parents beam with pride, can't stop from smiling from outpouring of support .\n",
      "Mom: \"I was so happy I didn't know what to do\"\n",
      "Burn center in U.S. has offered to provide treatment for reconstructive surgeries .\n",
      "Dad says, \"Anything for Youssif\" \n",
      "\n",
      "Aid workers: Violence, increased cost of living drive women to prostitution .\n",
      "Group is working to raise awareness of the problem with Iraq's political leaders .\n",
      "Two Iraqi mothers tell CNN they turned to prostitution to help feed their children .\n",
      "\"Everything is for the children,\" one woman says . \n",
      "\n",
      "NEW: President Bush says he and first lady are deeply saddened by the tragedy .\n",
      "Mine Safety and Health Administration chief: We've run out of options.\n",
      "The six men have been trapped underground since August 6 .\n",
      "Seven bore holes drilled into the mountain have found no signs of life . \n",
      "\n",
      "Boy on meeting Spider-Man: \"It was my favorite thing\"\n",
      "Youssif also met SpongeBob, Lassie and an orangutan at Universal Studios .\n",
      "Dad: \"Other than my wedding day, this is the happiest day of my life\" \n",
      "\n"
     ]
    }
   ],
   "source": [
    "for i in range(5):\n",
    "    print(dataset['highlights'][filter1_3[1][i]], '\\n')"
   ]
  },
  {
   "cell_type": "markdown",
   "metadata": {},
   "source": [
    "### Nu weten wij over de eerste 30 artikelen. Wat nou als de artikelen willekeurig gekozen zijn? Krijgen wij nog steeds hetzelfde resultaat? namelijk 100% accuracy voor negatieve_articles."
   ]
  },
  {
   "cell_type": "code",
   "execution_count": 18,
   "metadata": {},
   "outputs": [],
   "source": [
    "# parameters instelling\n",
    "texts = dataset['article']\n",
    "num_articles = random.sample(range(0, dataset.num_rows), 2000)\n",
    "keywords = words_accident + words_damage + words_specific + ['safety']\n",
    "# gestemde versie van keywords\n",
    "keywords = [en_stemmer.stem(w) for w in keywords]\n",
    "# drempelwarde voor hoeveel keywords een artikel moet bevatten\n",
    "threshold = 3"
   ]
  },
  {
   "cell_type": "code",
   "execution_count": 19,
   "metadata": {},
   "outputs": [
    {
     "name": "stderr",
     "output_type": "stream",
     "text": [
      "100%|██████████| 2000/2000 [00:50<00:00, 39.80it/s]\n"
     ]
    }
   ],
   "source": [
    "filter1_2 = filter1(texts, num_articles, keywords, threshold)"
   ]
  },
  {
   "cell_type": "code",
   "execution_count": 20,
   "metadata": {},
   "outputs": [
    {
     "name": "stdout",
     "output_type": "stream",
     "text": [
      "751 infants and 43 health care workers have been exposed to TB .\n",
      "Hospital worker in El Paso, Texas, came to work with active case of TB .\n",
      "TB is an infectious disease, but not highly contagious . \n",
      "\n",
      "Gang of 11 boys allegedly beat to death Zhang Tai, eight, in Hebei province .\n",
      "They reportedly left youngster's battered and bruised body lying near road .\n",
      "Tai was taken to hospital with severe head injuries, but later declared dead .\n",
      "Today, police said gang admitted killing classmate because they were bored . \n",
      "\n",
      "Dr David Madden wrote several offensive things about special needs students .\n",
      "Also said that special ed students got 'more rights than the innocents'\n",
      "Said bipolar student was 'scary' and had a future as the next John Wilkes Booth or Lee Harvey Oswald . \n",
      "\n",
      "Elvis Lee, 34, kicked and BIT defenceless Tyler Whelan in savage attack .\n",
      "Tyler's mother Stephanie found guilty of causing or allowing his death .\n",
      "Couple failed to take Tyler to hospital for FOUR HOURS despise his horrific injuries . \n",
      "\n",
      "Researchers believe Neanderthals failed to adapt to hunting small animals once deer population dwindled .\n",
      "Believed early humans were able to adapt and prosper by eating small animals . \n",
      "\n",
      "Rick Lazio says the Imam behind the planned Islamic Center refused to call Hamas terrorist .\n",
      "Lazio: Other associations also make him wary of center's funding sources .\n",
      "He says New Yorkers have a right to know where money is coming from to feel safe .\n",
      "Lazio: The state attorney general should request Cordoba Initiative open its books . \n",
      "\n",
      "Jaffar Deghayes disappeared from Brighton with brother Abdullah .\n",
      "Abdullah later died while fighting alongside Islamic rebel forces in Syria .\n",
      "Number of arrests in first quarter of year is up from 25 in whole of last year .\n",
      "Around 400 Britons are believed to have gone to Syria over last two years .\n",
      "Scotland Yard launching bid to stop young people going to war zone . \n",
      "\n",
      "ISIS have beheaded a group of Syrian soldiers following night time attack .\n",
      "Images show the men pleading for the lives before being decapitated .\n",
      "It comes amid the release of yet another ISIS propaganda video .\n",
      "The video purports to show the jihadis shooting down a fighter jet .\n",
      "Extremists seen operating anti-aircraft gun and firing at Syrian soldiers . \n",
      "\n",
      "Anthony McIntosh, 48, charged with depriving inmate of his civil rights, falsifying records .\n",
      "McIntosh found Mayland jail inmate unresponsive and notified no one, indictment reads .\n",
      "Ronnie White, 19, had asphyxiated and had broken bones in his neck, autopsy showed . \n",
      "\n",
      "Ted Robbins, who plays Den Perry, fell ill during Phoenix Nights live show .\n",
      "A doctor in 10,000-strong crowd ran on to stage and saved his life .\n",
      "The 56-year-old has laughed off collapse as attempt to 'upstage' co-stars .\n",
      "Peter Kay spoke with Ted and joked 'he's off his head on morphine'\n",
      "He suffered 12 broken ribs as medics battled to save his life .\n",
      "Luckily the comedian will not now require open heart surgery . \n",
      "\n",
      "Autopsy results include list on brutal injuries after November 30 accident .\n",
      "Paul died from impact of crash and heat from explosion .\n",
      "His body was burned so badly none of his organs could be donated .\n",
      "Had multiple fractures including his jaw, collarbone and left upper arm .\n",
      "No alcohol or drugs were found in his system .\n",
      "It was suggested he could have taken a few breaths after impact .\n",
      "Driver Roger Rodas was going at least 100 mph .\n",
      "The car spun 180 degrees after hitting a tree and nearly tore in half . \n",
      "\n",
      "Army and Navy top brass meet council chiefs to assess the disaster .\n",
      "Somerset Levels have now been under water for a month .\n",
      "More bad weather will swell already .\n",
      "bursting rivers over the weekend .\n",
      "Pumps running at full .\n",
      "power to drain an estimated 1.5million tons of water .\n",
      "Environment Agency slammed for stopping dredging in the mid-1990s .\n",
      "It now pledges only £350,000 of the £4m needed to dredge key rivers . \n",
      "\n",
      "Lin Senhao, 28, was convicted of intentional homicide last February .\n",
      "He poisoned water which was then drunk by his roommate Huang Yang, 27 .\n",
      "Lin's father broke down outside court after his son lost appeal . \n",
      "\n",
      "Maytag recalls 1.7 million dishwashers for posing fire hazard .\n",
      "Dishwashers sold between Feb '06 and April '10 .\n",
      "Company sets up website to inform consumers . \n",
      "\n",
      "U.S. commander in Afghanistan expresses regret over NATO airstrike .\n",
      "Gen. McChrystal says \"extremely saddened by tragic loss of innocent lives\"\n",
      "27 civilians died, 14 wounded in attack, Afghan Interior Ministry says .\n",
      "Afghanistan calls attack \"unjustifiable\"; ISAF launches investigation . \n",
      "\n",
      "Environment Secretary to ban ash tree imports on Monday .\n",
      "He hopes to stop the spread of a fungal disease which has devastated forests across Europe . \n",
      "\n",
      "Adrien Anigo, son of Olympique Marseille boss Jose Anigo, gunned down in French city .\n",
      "Shooting is 15th murder in region since start of this year .\n",
      "Marseille's mayor and officials call for end to in-fighting to solve gangland crisis in city .\n",
      "French Prime Minister last month ordered 130 police officers and 24 investigators to crack down on Marseille drug trade . \n",
      "\n",
      "Men used fake IDs for the raids in Salford and Bolton, Greater Manchester .\n",
      "Were carrying CS spray, batons, handcuffs, .\n",
      "combat trousers and boots .\n",
      "Thugs would beat and tie up their victims while they stole valuables .\n",
      "Four members, aged in their 20's and 30's were jailed for string of crimes . \n",
      "\n",
      "George W. Bush called the grand jury's decision in Eric Garner's death 'hard to understand'\n",
      "He said he discussed racial issues recently with former Secretary of State Condoleezza Rice .\n",
      "Bush said race relations have improved in the U.S. since he grew up in the 1970s . \n",
      "\n",
      "The Department of Transportation says 26 bus operators broke safety rules .\n",
      "\"These operators transport over 1,800 passengers a day,\" Secretary Ray LaHood says .\n",
      "Thirteen of the companies had been ordered out of service but continued to operate . \n",
      "\n",
      "U.S. Holocaust Memorial Museum has been on a 20th anniversary four-city tour .\n",
      "Museum collects artifacts from survivors and their families to add to its collections .\n",
      "Suzy Snyder: When survivors are gone, artifacts, documents, photos and films will tell the story . \n",
      "\n",
      "More than 100,000 patients wait for 4hours or more every month .\n",
      "Bungled launch of NHS 111 helpline has made problems worse, MPs claim .\n",
      "Consultants absent during busiest 16 hours of the day in 83% of A&Es . \n",
      "\n",
      "Handyman challenged teens after his girlfriend said they spat at her .\n",
      "He chased them onto communal balcony at flats in Hayes, Middlesex .\n",
      "The 46-year-old was then hit on head and shoulder with an axe .\n",
      "He was also stabbed ten times, once to the heart, and died at the scene .\n",
      "An 18-year-old has now been locked up for 16 years for murder .\n",
      "Two others have been jailed for manslaughter for their involvement . \n",
      "\n",
      "John Hege, three other Oakland police officers fatally wounded over weekend .\n",
      "Officer was brain dead Sunday, kept on life support pending organ decision .\n",
      "Hege's organs saved lives of four men, donor network says .\n",
      "Hege's family: Knowing donations helped others \"gives us a great deal of comfort\" \n",
      "\n",
      "Freda Owens, 93, was rushed to hospital from The Croft House Rest Home .\n",
      "She had scalds to her lower back and died weeks later .\n",
      "A police investigation is now underway into how she suffered her injuries . \n",
      "\n",
      "Second teenager suffered punctured lung .\n",
      "Stelios Morfis had previously attacked tourist and had a 'short fuse'\n",
      "Former school prepare to hold minute's silence .\n",
      "5,000 pay tribute on Facebook page set up in his memory . \n",
      "\n",
      "Luke Walker, 25, is accused of killing Chelsea Hyndman, 20, in May 2010 .\n",
      "Chelsea Hyndman died after sustaining severe injuries to her abdomen .\n",
      "Greek prosecutors claim Walker punched or kicked her in the stomach .\n",
      "Walker claims she fell on a night out and later succumbed to septicaemia .\n",
      "He is due to go on trial today for  three years after Chelsea's death . \n",
      "\n",
      "Reese Martin died in July 2012 after 2-year battle with cancer .\n",
      "But his parents claim that a muscle relaxant played a key role in his death after it had been linked to a fungal meningitis outbreak .\n",
      "Drugs had been recalled but outbreak killed 64 people across the U.S. \n",
      "\n",
      "Brian Kandare, 32, and wife Precious, 36, have been charged with their daughter's murder .\n",
      "Baby Rebecca died from pneumonia as a result of severe malnourishment .\n",
      "Her parents appeared in court today and are due at Wolverhampton Crown Court on Monday . \n",
      "\n"
     ]
    },
    {
     "name": "stdout",
     "output_type": "stream",
     "text": [
      "Said failure to rescue girls needed an 'international and domestic response'\n",
      "Former prime minister said Britain should support call for better intelligence .\n",
      "The 200 schoolgirls were kidnapped by terrorist group Boko Haram in May . \n",
      "\n"
     ]
    }
   ],
   "source": [
    "for i in range(30):\n",
    "    print(dataset['highlights'][filter1_2[0][i]], '\\n')"
   ]
  },
  {
   "cell_type": "code",
   "execution_count": 21,
   "metadata": {},
   "outputs": [
    {
     "name": "stdout",
     "output_type": "stream",
     "text": [
      "The images, which were taken in August 1961, will go under the hammer on February 19 .\n",
      "In October last year, a set of original negatives from the Kennedys' wedding was auctioned off for $34,000 . \n",
      "\n",
      "The children's parents say they felt they were exploited and underpaid for their work .\n",
      "The kids reportedly still live in the same \"tangle of makeshift shacks\" in Mumbai .\n",
      "Director says the boys were paid \"way over and above what you could pay\" \n",
      "\n",
      "Atlanta Falcons owner Arthur Blank admitted wrongdoing Tuesday amid the NFL's investigation into whether the team used fake crowd noise .\n",
      "Blank: 'I think what we've done in 2013 and 2014 was wrong'\n",
      "If found to have used fake crowd noise, the team could face a fine or lose a draft pick . \n",
      "\n",
      "Dutch club PSV Eindhoven agree to sell winger Ibrahim Afellay to Barcelona .\n",
      "The 24-year-old will settle personal terms ahead of January transfer window .\n",
      "He has played 30 times for the Netherlands and went to the 2010 World Cup . \n",
      "\n",
      "Taxpayers' money spent on bailing out hospitals has trebled .\n",
      "South London trust on the verge of going bust .\n",
      "Government blames Labour PFI deals .\n",
      "Margaret Hodge MP describes figures as 'shocking' \n",
      "\n",
      "Footage shows shell striking cars, cans and water towers .\n",
      "Rayethon boasts that Excalibur has been fired more than 600 times in action by the U.S armed forces . \n",
      "\n",
      "Monday's presidential debate may be crucial, says Julian Zelizer .\n",
      "Democrats' national security advantage hangs in the balance, he says .\n",
      "Only in recent weeks has their advantage seemed to be eroding, Zelizer says .\n",
      "Zelizer: National security is often the deciding factor in presidential elections . \n",
      "\n",
      "New satellite cities are increasingly planned across Africa .\n",
      "International developers usually plan them for the periphery of existing metropolises .\n",
      "But some critics have labeled them as unsustainable \"urban fantasies\"\n",
      "Here, CNN takes a look at some of the proposed developments . \n",
      "\n",
      "Tesla's Model S has double-digit market share in some California zip codes .\n",
      "Most are in Silicon Valley, near the automaker's headquarters . \n",
      "\n",
      "Limits should be imposed on MPs earning hundreds of thousands .\n",
      "He also wants union members to ‘opt in’ to hand over an annual £3 donation to Labour which they currently pay automatically .\n",
      "Mr Miliband wants to regain credibility after claims that members of the Unite union conspired to fix a Labour candidate selection in Falkirk .\n",
      "The plans have been met with criticism by Unite leader Len McCluskey . \n",
      "\n",
      "Montana Supreme Court voted 4-2 blocking Judge Todd Baugh from amending Stacey Rambold's sentence .\n",
      "Cherice Moralez, 14 at the .\n",
      "time, was bullied by classmates after charges were brought against her .\n",
      "Montana teacher Stacey Rambold, 48 .\n",
      "Rambold admitted to raping the vulnerable teenager on several occasions in 2007 in his marital home, car and office .\n",
      "Judge Baugh gave .\n",
      "Rambold just 30 days in jail instead of maximum of life because Rambold .\n",
      "had 'suffered enough' and young Cherry was 'in control'\n",
      "Protests held and nationwide petition calling for judge's removal has 10,000 signatures .\n",
      "Cherice shot herself in her mother's bed when it became too much to bear .\n",
      "School .\n",
      "had issued Rambold with a warning over inappropriate behavior four .\n",
      "years before he raped Cherice but left him in charge of minors . \n",
      "\n",
      "Quint Davis is the producer/director of the New Orleans Jazz Festival .\n",
      "Davis co-founded the festival 40 years ago in Louisiana .\n",
      "Festival expects 400,000 attendees despite the sour economy, Davis says .\n",
      "David: \"This festival always has been this sort of battery to recharge yourself\" \n",
      "\n",
      "The couple was at the end of a 10-day Pacific Island cruise.\n",
      "Police believe the couple went overboard about 150 kilometers off Foster, New South Wales .\n",
      "They were reported missing when the Carnival Spirit docked in Sydney . \n",
      "\n",
      "Emma Harvey from Bromley piled on the pounds working in Magaluf .\n",
      "Her weight crept up from 11st to 15st 4lbs on a diet of booze and shots .\n",
      "She no longer drinks and has swapped takeaways for lean meals .\n",
      "Emma is also dating a personal trainer who she met on a night out . \n",
      "\n",
      "Mystery thief was dressed in a black and white onesie with a yellow beak .\n",
      "He took lager crate on Monday from Local shop in Coundon, County Durham .\n",
      "Durham Police appealed for witnesses and said: 'He was quite conspicuous' \n",
      "\n",
      "Holy trinity: Bryson, Hughes and Hendrick powering side up Championship .\n",
      "Revealed: McClaren's magic touch has been to sure up defence .\n",
      "Eustace and Martin gunning for Torres and Co in Sunday's TV clash . \n",
      "\n",
      "Photo emerged of the 53-year-old in a steaming hot tub at a Meatpacking club with his arms draped .\n",
      "over topless young women .\n",
      "On the same night, English's ex-girlfriend Candice threw a drink over him and fled club after seeing him make out with two women simultaneously .\n",
      "Candice Sonneman tweeted English: 'I would greatly appreciate it if you'd please stop w/ .\n",
      "the unnecessarily nasty msgs & rubbing in the cheatin' \n",
      "\n",
      "Jason Poirier, who was in jail with Martin MacNeill in December 2012, claimed doctor said: 'I'm getting away with the murder of my wife'\n",
      "Comes after other inmates testified MacNeill called his wife a 'b****' and that authorities had no evidence to convict him .\n",
      "MacNeill is accused of killing his wife Michele in April 2007 so he could continue an affair with his long-time mistress Gypsy Willis . \n",
      "\n",
      "NEW: Ice jam in Missouri River blown up, CNN affiliate KXMB reports .\n",
      "Bismarck, surrounding areas threatened; snow complicates preparations .\n",
      "Fargo halfway to 2 million-sandbag goal, which may be met Thursday .\n",
      "South of Fargo, town residents rescued after residential dike gives way . \n",
      "\n",
      "Garret McNamara's wave believed to be 100 feet high .\n",
      "Small Portuguese fishing village has some of the world's most dangerous surf .\n",
      "Giant swells generated by unique deep water canyons . \n",
      "\n",
      "In 1974 a French engineer created a information network called catenet .\n",
      "It was designed to send information wirelessly between computers and was a precursor to the modern-day internet . \n",
      "\n",
      "Clinton speaks at a club in San Francisco .\n",
      "She compares drug cartels in Mexico to terror groups .\n",
      "Remarks come the same week she talked about the Falcon Lake case . \n",
      "\n",
      "Russia has about 641,000 in its armed forces; Georgia has about 26,900 .\n",
      "Russia's conscript forces plagued by low morale, poor management .\n",
      "Georgia's military trained by U.S. since 2002 . \n",
      "\n",
      "British consul general, Sir Vincent Fean, mobbed by Palestinian protesters outside Birzeit University, near Ramallah, today .\n",
      "He was not hurt but one demonstrator was seen kicking him in the shins .\n",
      "Student activists said they were protesting over decades of British policy toward Palestinians . \n",
      "\n",
      "William Coleman charged in 2012 with failing to register as sex offender .\n",
      "He had finished eight-year prison sentence for sexually assaulting wife .\n",
      "Lawyer says he hasn't eaten solid food since 2007 and has been force-fed .\n",
      "Coleman, originally from Liverpool, arrived at London Gatwick yesterday . \n",
      "\n",
      "Tariq bin al-Tahar al-Harzi, 32, is 'one of ISIS's most senior commanders'\n",
      "He raised $2million from mystery Qatari donor, according to U.S. Treasury .\n",
      "Unnamed donor told him cash must be used for 'military operations' only .\n",
      "Revelations have sparked calls for the Gulf to prevent its citizens from aiding the flow of funds to Syria-based terror groups, such as the Islamic State .\n",
      "Despite criticism, Qatar 'working together' with America against militants .\n",
      "Al-Harzi among number of jihadis named as 'global terrorists' by Treasury . \n",
      "\n",
      "WBC champion Vitali Klitschko will return to adopted home city of Hamburg for defense .\n",
      "Ukrainian faces American fighter Shannon Briggs in Germany on October 16 .\n",
      "His brother Wladimir is preparing for title clash with Samuel Peter on September 11 .\n",
      "WBA champion David Haye reportedly in talks for bout with Audley Harrison . \n",
      "\n",
      "Blake Hounshell says Hom is likely to fall as Syria regime continues brutal crackdown .\n",
      "He says U.S. committed to ousting regime but has not gone all in to end complex conflict .\n",
      "He lists 6 ways the U.S. faltered, including taking force off the table; worrying about al Qaeda .\n",
      "Hounshell: There are no good options, only bad and worse; time running short to save lives . \n",
      "\n",
      "Norris the cat started by taking food from bins but has moved on to stealing from washling lines and houses .\n",
      "Breaks into homes through other people's cat flaps .\n",
      "Red-faced owners have delivered letters to explain bad habit and account for missing items . \n",
      "\n"
     ]
    },
    {
     "name": "stdout",
     "output_type": "stream",
     "text": [
      "Monarch writes secret message for athletes and places it inside the baton .\n",
      "Ceremonial object brought to Buckingham Palace by Sir Chris Hoy .\n",
      "Queen hands it over to Allan Wells for the start of its journey to every Commonwealth country beginning with India .\n",
      "Baton will return to UK in time for Glasgow opening ceremony in July 2014 . \n",
      "\n"
     ]
    }
   ],
   "source": [
    "for i in range(30):\n",
    "    print(dataset['highlights'][filter1_2[1][i]], '\\n')"
   ]
  },
  {
   "cell_type": "code",
   "execution_count": 22,
   "metadata": {},
   "outputs": [],
   "source": [
    "# Nu op random\n",
    "# parameters instelling\n",
    "num_articles = filter1_2[0]\n",
    "keywords = indicates_external\n",
    "# gestemde versie van keywords\n",
    "keywords = [en_stemmer.stem(w) for w in keywords]\n",
    "# drempelwarde voor hoeveel keywords een artikel moet bevatten\n",
    "threshold = 3"
   ]
  },
  {
   "cell_type": "code",
   "execution_count": 23,
   "metadata": {},
   "outputs": [
    {
     "name": "stderr",
     "output_type": "stream",
     "text": [
      "100%|██████████| 443/443 [00:12<00:00, 36.73it/s]\n"
     ]
    }
   ],
   "source": [
    "filter1_4 = filter1(texts, num_articles, keywords, threshold)"
   ]
  },
  {
   "cell_type": "code",
   "execution_count": 24,
   "metadata": {},
   "outputs": [
    {
     "name": "stdout",
     "output_type": "stream",
     "text": [
      "Jaffar Deghayes disappeared from Brighton with brother Abdullah .\n",
      "Abdullah later died while fighting alongside Islamic rebel forces in Syria .\n",
      "Number of arrests in first quarter of year is up from 25 in whole of last year .\n",
      "Around 400 Britons are believed to have gone to Syria over last two years .\n",
      "Scotland Yard launching bid to stop young people going to war zone . \n",
      "\n",
      "ISIS have beheaded a group of Syrian soldiers following night time attack .\n",
      "Images show the men pleading for the lives before being decapitated .\n",
      "It comes amid the release of yet another ISIS propaganda video .\n",
      "The video purports to show the jihadis shooting down a fighter jet .\n",
      "Extremists seen operating anti-aircraft gun and firing at Syrian soldiers . \n",
      "\n",
      "NEW: At least eight Palestinian militants were killed in Gaza airstrikes, Hamas sources say .\n",
      "Aunt of beaten teen says he doesn't really understand what's going on, is scared .\n",
      "Mother of dead Palestinian teen wants Israel to raze suspects' homes .\n",
      "The boy's cousin was released from detention Sunday and is on house arrest . \n",
      "\n",
      "U.S pulls number of embassy workers out of country .\n",
      "French TV cameraman becomes first journalist to die in Syrian uprising .\n",
      "Assad's public appearances come as Arab League monitor quits 'farce' of a mission . \n",
      "\n",
      "The bodies were found in the Syrian city of Aleppo earlier today .\n",
      "Blood was seeping from their heads and some appeared to be quite young .\n",
      "It's not clear who carried out the killings - human rights groups have accused government forces and rebels of carrying out summary executions . \n",
      "\n"
     ]
    }
   ],
   "source": [
    "for i in range(5):\n",
    "    print(dataset['highlights'][filter1_4[0][i]], '\\n')"
   ]
  },
  {
   "cell_type": "code",
   "execution_count": 25,
   "metadata": {},
   "outputs": [
    {
     "name": "stdout",
     "output_type": "stream",
     "text": [
      "751 infants and 43 health care workers have been exposed to TB .\n",
      "Hospital worker in El Paso, Texas, came to work with active case of TB .\n",
      "TB is an infectious disease, but not highly contagious . \n",
      "\n",
      "Gang of 11 boys allegedly beat to death Zhang Tai, eight, in Hebei province .\n",
      "They reportedly left youngster's battered and bruised body lying near road .\n",
      "Tai was taken to hospital with severe head injuries, but later declared dead .\n",
      "Today, police said gang admitted killing classmate because they were bored . \n",
      "\n",
      "Dr David Madden wrote several offensive things about special needs students .\n",
      "Also said that special ed students got 'more rights than the innocents'\n",
      "Said bipolar student was 'scary' and had a future as the next John Wilkes Booth or Lee Harvey Oswald . \n",
      "\n",
      "Elvis Lee, 34, kicked and BIT defenceless Tyler Whelan in savage attack .\n",
      "Tyler's mother Stephanie found guilty of causing or allowing his death .\n",
      "Couple failed to take Tyler to hospital for FOUR HOURS despise his horrific injuries . \n",
      "\n",
      "Researchers believe Neanderthals failed to adapt to hunting small animals once deer population dwindled .\n",
      "Believed early humans were able to adapt and prosper by eating small animals . \n",
      "\n"
     ]
    }
   ],
   "source": [
    "for i in range(5):\n",
    "    print(dataset['highlights'][filter1_4[1][i]], '\\n')"
   ]
  },
  {
   "cell_type": "markdown",
   "metadata": {},
   "source": [
    "# Het lijkt soort van goed te werken. Dit bespaart onze tijd enorm wanneer wij de dataset gaan labelen.\n",
    "## Wij gaan nu 10000 data filteren."
   ]
  },
  {
   "cell_type": "code",
   "execution_count": 30,
   "metadata": {},
   "outputs": [],
   "source": [
    "# parameters instelling\n",
    "num_articles = list(range(10000))\n",
    "keywords = words_accident + words_damage + words_specific + ['safety']\n",
    "# gestemde versie van keywords\n",
    "keywords = [en_stemmer.stem(w) for w in keywords]\n",
    "# drempelwarde voor hoeveel keywords een artikel moet bevatten\n",
    "threshold = 3"
   ]
  },
  {
   "cell_type": "code",
   "execution_count": 31,
   "metadata": {},
   "outputs": [
    {
     "name": "stderr",
     "output_type": "stream",
     "text": [
      "100%|██████████| 10000/10000 [03:07<00:00, 53.37it/s]\n"
     ]
    }
   ],
   "source": [
    "filter1_final1 = filter1(texts, num_articles, keywords, threshold)"
   ]
  },
  {
   "cell_type": "code",
   "execution_count": 32,
   "metadata": {},
   "outputs": [
    {
     "name": "stdout",
     "output_type": "stream",
     "text": [
      "The dataset after filtering completely irrelevant articles.\n",
      "positive: 2434 negative: 7566\n"
     ]
    }
   ],
   "source": [
    "print('The dataset after filtering completely irrelevant articles.')\n",
    "print('positive:', len(filter1_final1[0]), 'negative:', len(filter1_final1[1]))"
   ]
  },
  {
   "cell_type": "code",
   "execution_count": 33,
   "metadata": {},
   "outputs": [],
   "source": [
    "# parameters instelling\n",
    "num_articles = filter1_final1[0]\n",
    "keywords = indicates_external\n",
    "# gestemde versie van keywords\n",
    "keywords = [en_stemmer.stem(w) for w in keywords]\n",
    "# drempelwarde voor hoeveel keywords een artikel moet bevatten\n",
    "threshold = 3"
   ]
  },
  {
   "cell_type": "code",
   "execution_count": 34,
   "metadata": {},
   "outputs": [
    {
     "name": "stderr",
     "output_type": "stream",
     "text": [
      "100%|██████████| 2434/2434 [00:50<00:00, 47.83it/s]\n"
     ]
    }
   ],
   "source": [
    "filter1_final2 = filter1(texts, num_articles, keywords, threshold)"
   ]
  },
  {
   "cell_type": "code",
   "execution_count": 37,
   "metadata": {},
   "outputs": [
    {
     "name": "stdout",
     "output_type": "stream",
     "text": [
      "The dataset after filtering war and terrorism related articles.\n",
      "positive: 417 negative: 2017\n",
      "So in the end we have 2017 to label out of 10k data.\n"
     ]
    }
   ],
   "source": [
    "print('The dataset after filtering war and terrorism related articles.')\n",
    "print('positive:', len(filter1_final2[0]), 'negative:', len(filter1_final2[1]))\n",
    "print(f'So in the end we have {len(filter1_final2[1])} to label out of 10k data.')"
   ]
  },
  {
   "cell_type": "code",
   "execution_count": null,
   "metadata": {},
   "outputs": [],
   "source": []
  }
 ],
 "metadata": {
  "kernelspec": {
   "display_name": "Python 3",
   "language": "python",
   "name": "python3"
  },
  "language_info": {
   "codemirror_mode": {
    "name": "ipython",
    "version": 3
   },
   "file_extension": ".py",
   "mimetype": "text/x-python",
   "name": "python",
   "nbconvert_exporter": "python",
   "pygments_lexer": "ipython3",
   "version": "3.8.12"
  }
 },
 "nbformat": 4,
 "nbformat_minor": 4
}
