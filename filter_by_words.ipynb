{
 "cells": [
  {
   "cell_type": "markdown",
   "metadata": {},
   "source": [
    "### Toy problem to count all words in the dataset in order to test reading the dataset"
   ]
  },
  {
   "cell_type": "code",
   "execution_count": 1,
   "metadata": {},
   "outputs": [
    {
     "name": "stderr",
     "output_type": "stream",
     "text": [
      "/usr/lib/python3/dist-packages/requests/__init__.py:89: RequestsDependencyWarning: urllib3 (1.26.9) or chardet (3.0.4) doesn't match a supported version!\n",
      "  warnings.warn(\"urllib3 ({}) or chardet ({}) doesn't match a supported \"\n"
     ]
    }
   ],
   "source": [
    "from datasets import load_dataset\n",
    "import nltk\n",
    "import itertools\n",
    "from collections import Counter\n",
    "from tqdm import tqdm\n",
    "from nltk.stem.snowball import EnglishStemmer\n",
    "from nltk.corpus import stopwords\n",
    "import re"
   ]
  },
  {
   "cell_type": "code",
   "execution_count": 2,
   "metadata": {},
   "outputs": [
    {
     "name": "stderr",
     "output_type": "stream",
     "text": [
      "Reusing dataset cnn_dailymail (/home/erik/.cache/huggingface/datasets/cnn_dailymail/3.0.0/3.0.0/1b3c71476f6d152c31c1730e83ccb08bcf23e348233f4fcc11e182248e6bf7de)\n"
     ]
    }
   ],
   "source": [
    "# deze cel downloadet de dataset\n",
    "# hij gebruikt het script cnn_dailymail.py van huggingface:\n",
    "# https://huggingface.co/datasets/cnn_dailymail/tree/main\n",
    "# dit kan wel iets van 10 minuten duren, ga maar wat koffie halen\n",
    "\n",
    "dataset = load_dataset(\"cnn_dailymail.py\", \"3.0.0\", split=\"train\") "
   ]
  },
  {
   "cell_type": "code",
   "execution_count": 3,
   "metadata": {},
   "outputs": [
    {
     "name": "stdout",
     "output_type": "stream",
     "text": [
      "{'article': Value(dtype='string', id=None), 'highlights': Value(dtype='string', id=None), 'id': Value(dtype='string', id=None)}\n",
      "287113\n"
     ]
    }
   ],
   "source": [
    "# print de features en het aantal datapunten in de dataset\n",
    "print(dataset.features)\n",
    "print(dataset.num_rows)"
   ]
  },
  {
   "cell_type": "code",
   "execution_count": 4,
   "metadata": {},
   "outputs": [
    {
     "name": "stderr",
     "output_type": "stream",
     "text": [
      "[nltk_data] Downloading package stopwords to /home/erik/nltk_data...\n",
      "[nltk_data]   Package stopwords is already up-to-date!\n"
     ]
    }
   ],
   "source": [
    "# methoden om de data te pre-processen\n",
    "en_stemmer = EnglishStemmer() # stemmer voor engelse woorden\n",
    "nltk.download('stopwords') # stopwoorden die niet veel waarde toevoegen\n",
    "stop_words = set(stopwords.words('english'))\n",
    "alph_string_pattern = re.compile(\"[a-zA-Z]\") # filtert 'woorden' die niet beginnen met een letter, zoals interpunctietokens\n",
    "\n",
    "\n",
    "def word_counter_text(text: str, stem=False, remove_stopwords=False):\n",
    "    \"\"\"\n",
    "    Neemt als input een string tekst\n",
    "    Returnt een Counter object die alle woorden uit de tekst telt\n",
    "    \"\"\"\n",
    "    \n",
    "    # splits de tekst op in een lijst van woorden\n",
    "    sents = nltk.tokenize.sent_tokenize(text)\n",
    "    words = [nltk.word_tokenize(sent) for sent in sents]\n",
    "    flatten_words = list(itertools.chain(*words))\n",
    "    \n",
    "    # woorden stemmen of alleen maar hoofdletters weghalen\n",
    "    if stem:\n",
    "        flatten_lower_words = [en_stemmer.stem(str) for str in flatten_words]\n",
    "    else:\n",
    "        flatten_lower_words = [str.lower() for str in flatten_words]\n",
    "    \n",
    "    # stopwoorden weghalen\n",
    "    if remove_stopwords:\n",
    "        flatten_lower_words = [str for str in flatten_lower_words if str not in stop_words]\n",
    "        \n",
    "    # tokens die niet beginnen met een letter weghalen\n",
    "    flatten_lower_words = [str for str in flatten_lower_words if alph_string_pattern.match(str)]\n",
    "    \n",
    "    return Counter(flatten_lower_words)"
   ]
  },
  {
   "cell_type": "code",
   "execution_count": 5,
   "metadata": {},
   "outputs": [],
   "source": [
    "words_accident = ['accident','disaster','catastrophe','incident','near-miss']\n",
    "\n",
    "words_damage = ['victim','casualties','died','killed','damage','harm','hospital','hospitalized',\n",
    "                'wounded','succumbed','unscathed','evacuate','rescue','first responders','ambulance','first aid']\n",
    "\n",
    "words_specific = ['sunk','fire','derailed','collision','poisoned','burned']"
   ]
  },
  {
   "cell_type": "code",
   "execution_count": 43,
   "metadata": {},
   "outputs": [
    {
     "name": "stderr",
     "output_type": "stream",
     "text": [
      "100%|██████████| 2000/2000 [00:17<00:00, 112.79it/s]\n"
     ]
    }
   ],
   "source": [
    "texts = dataset['article']\n",
    "\n",
    "num_articles = 2000\n",
    "positive_articles = []\n",
    "negative_articles = []\n",
    "\n",
    "keywords = words_accident + words_damage + words_specific + ['safety']\n",
    "keywords = [en_stemmer.stem(w) for w in keywords]\n",
    "\n",
    "for i in tqdm(range(num_articles)):\n",
    "    article = texts[i]\n",
    "    words = set(dict(word_counter_text(article, stem=True, remove_stopwords=True).items()).keys())\n",
    "    \n",
    "    contains_keyword = 0\n",
    "    for keyword in keywords:\n",
    "        if keyword in words:\n",
    "            contains_keyword += 1\n",
    "    \n",
    "    if contains_keyword >= 4:\n",
    "        positive_articles.append(i)\n",
    "    else:\n",
    "        negative_articles.append(i)\n"
   ]
  },
  {
   "cell_type": "code",
   "execution_count": 44,
   "metadata": {},
   "outputs": [
    {
     "name": "stdout",
     "output_type": "stream",
     "text": [
      "positive: 286 negative: 1714\n"
     ]
    }
   ],
   "source": [
    "print('positive:', len(positive_articles), 'negative:', len(negative_articles))"
   ]
  },
  {
   "cell_type": "code",
   "execution_count": 46,
   "metadata": {
    "scrolled": false
   },
   "outputs": [
    {
     "name": "stdout",
     "output_type": "stream",
     "text": [
      "\n",
      " NEW: \"I thought I was going to die,\" driver says .\n",
      "Man says pickup truck was folded in half; he just has cut on face .\n",
      "Driver: \"I probably had a 30-, 35-foot free fall\"\n",
      "Minnesota bridge collapsed during rush hour Wednesday .\n",
      "\n",
      " Aid workers: Violence, increased cost of living drive women to prostitution .\n",
      "Group is working to raise awareness of the problem with Iraq's political leaders .\n",
      "Two Iraqi mothers tell CNN they turned to prostitution to help feed their children .\n",
      "\"Everything is for the children,\" one woman says .\n",
      "\n",
      " Two cars loaded with gasoline and nails found abandoned in London Friday .\n",
      "52 people killed on July 7, 2005 after bombs exploded on London bus, trains .\n",
      "British capital wracked by violence by the IRA for years .\n",
      "\n",
      " Bomb victims waiting for presidential visit .\n",
      "Blast went off 15 minutes before president's arrival .\n",
      "Algeria faces Islamic insurgency .\n",
      "Al Qaeda-affiliated group claimed July attacks .\n",
      "\n",
      " Boy on meeting Spider-Man: \"It was my favorite thing\"\n",
      "Youssif also met SpongeBob, Lassie and an orangutan at Universal Studios .\n",
      "Dad: \"Other than my wedding day, this is the happiest day of my life\"\n",
      "\n",
      " Prince Harry describes Princess Diana as \"the best mother in the world\"\n",
      "He asks for her to be remembered as \"fun-loving, generous, down-to-earth, entirely genuine\"\n",
      "Bishop of London praises her humanitarian work .\n",
      "He says that disputes about her death should \"end here\"\n",
      "\n",
      " Relatives of the 89 people killed in Thai air crash are still arriving in Phuket .\n",
      "About 36 of the bodies have yet to be identified, according to Thai authorities .\n",
      "U.S. Embassy in Bangkok confirms that five Americans were among the dead .\n",
      "The investigation into what caused Sunday's crash is still continuing .\n",
      "\n",
      " Boy, 12, lost leg to car bombing in Iraq; cousin was killed by blast .\n",
      "He is now heading to the United States to get a prosthetic leg .\n",
      "Boy: \"I want to ... meet this person that gave me my future back\"\n",
      "Charity director says helping the boy makes her \"cry with joy\"\n",
      "\n",
      " State-run news agency: China orders an investigation by quality control agencies .\n",
      "Children who swallow the beads can become comatose or have seizures .\n",
      "Toys are sold as Aqua Dots in the U.S., as Bindeez Beads in Australia .\n",
      "Three children were hospitalized in Australia after swallowing large quantities .\n",
      "\n",
      " Survivors of Cyclone Sidr in Bangladesh waiting for aid to arrive .\n",
      "Red Crescent Society official says deaths could rise to 5,000-10,000 .\n",
      "Bangladeshi president distributes aid; angry survivors go empty-handed .\n",
      "Thousands remain missing; estimated 280,000 homeless .\n",
      "\n",
      " Six of seven dead in fire were University of South Carolina students .\n",
      "Official: Six treated at hospital and released were also USC students .\n",
      "Mayor Debbie Smith said one of 13 at house is related to owner of house .\n",
      "Victims' names not being released until families are notified .\n",
      "\n",
      " \"Heartbroken\" house owner's daughter among six survivors hospitalized .\n",
      "One survivor jumped out of a third-story window into a canal to escape .\n",
      "University of South Carolina mourns deaths of six students .\n",
      "\n",
      " Taliban militants kill Australian commando in southern Afghanistan .\n",
      "He was shot during operation to clear Taliban bomb making facility in Uruzgan .\n",
      "This is the fourth Australian soldier to die in the conflict in Afghanistan .\n",
      "Several militants killed and a coalition troop injured in other fighting in southeast .\n",
      "\n",
      " NEW: Teen gunman is dead, Finnish police say .\n",
      "Eight people, including headmistress, shot at Finnish school, say police .\n",
      "Firearm bought legally last month, shooting began in school's lower lobby .\n",
      "Shooting appeared to have been planned in series of YouTube videos .\n",
      "\n",
      " Two bombs explode in Algerian capital near government and U.N. buildings .\n",
      "Algeria blames group linked to al Qaeda .\n",
      "Official death toll is 26, but some sources say as high as 76 .\n",
      "U.N. officials say five of its staff killed and 14 missing .\n",
      "\n",
      " NEW: Fire Department spokesman: 14 have been taken to area hospitals .\n",
      "Firefighters still fighting hot spots Wednesday afternoon, official says .\n",
      "\"It's a hellish inferno,\" he tells reporters .\n",
      "\n",
      " Nationwide Airlines pilot dumped fuel until he landed plane Wednesday .\n",
      "An object was sucked into the engine as the nose wheel lifted from the ground .\n",
      "100, including crew, were on the plane; no one was injured .\n",
      "Plane passenger: \"Everyone started panicking\"\n",
      "\n",
      " FEMA doesn't face utter devastation as in Gulf Coast in 2005 .\n",
      "Victims can escape in own vehicles on open roads .\n",
      "Communications infrastructure remains intact .\n",
      "Agencies learn from Hurricane Katrina mistakes .\n",
      "\n",
      " Thousands of teens attend Christian rallies each year .\n",
      "Many of the rallies attempt to offer an alternative to secular popular culture .\n",
      "Opponents say these impose conservative values on vulnerable teenagers .\n",
      "\n",
      " No end \"until it reaches the ocean or the winds turn around,\" official says .\n",
      "Nearly 350,000 homes in San Diego County evacuated; 70 people injured .\n",
      "Flames have charred 700,000 acres, more than 1,000 homes .\n",
      "Not \"enough fire engines in the state of California,\" Ventura County official says .\n",
      "\n",
      " Local and federal officials probe suspected arson, offer $70,000 reward .\n",
      "Wind speeds drop, humidity increases after Santa Ana winds change direction .\n",
      "President Bush signs major disaster declaration for Southern California .\n",
      "Home losses will likely top $1 billion in San Diego County, official says .\n",
      "\n",
      " \"Heartbroken\" house owner's daughter among six survivors hospitalized .\n",
      "One survivor jumped out of a third-story window into a canal to escape .\n",
      "University of South Carolina mourns deaths of six students .\n",
      "\n",
      " NEW: Qualcomm Stadium to close as an emergency shelter at noon Friday .\n",
      "Charred bodies of three men and a woman found near San Diego .\n",
      "More than half of Southern California fires are fully contained .\n",
      "Bush to fire victims: We're not going to forget you in Washington .\n",
      "\n",
      " Bus driver, tractor-trailer trucker injured in 3-vehicle crash, AP reports .\n",
      "Bus crossed median, hit pickup truck, then 18-wheeler, killing 3 .\n",
      "All lanes of I-40 closed for 13 miles east of Forrest City, Arkansas .\n",
      "Driver of the pickup truck and two bus passengers killed, police say .\n",
      "\n",
      " Death toll rises to nine as tour bus runs off highway, rolls over .\n",
      "Bus was carrying at least 50 people when it crashed in southeastern Utah .\n",
      "Bus was en route from Telluride, Colorado, to Phoenix, Arizona, after weekend ski trip .\n",
      "\n",
      " North Korean crew recaptures hijacked vessel .\n",
      "Navy says two pirates killed, five captured; three from crew injured .\n",
      "USS Arleigh Burke enters Somali territorial waters to pursue other pirates .\n",
      "Pirates aboard hijacked Golden Nori carrying highly flammable benzene .\n",
      "\n",
      " Tip leads police to John Lewis at homeless shelter in Miami .\n",
      "Lewis is suspected in fatal shooting of Philadelphia Ofc. Charles Cassidy .\n",
      "Cassidy walked in on doughnut shop robbery last week and was shot, police say .\n",
      "Philadelphia police alerted Miami counterparts that Lewis was headed that way .\n",
      "\n",
      " Erik Prince, CEO of Blackwater USA, testifies before House panel .\n",
      "Hearings held amid an FBI probe into a shootout involving Blackwater personnel .\n",
      "Prince: \"I believe we acted appropriately at all times\"\n",
      "\n",
      " Four killed in crash; two people die later of injuries .\n",
      "Copter took off from Aviano Air Base, news agency reports .\n",
      "Black Hawk helicopter had 11 people aboard .\n",
      "\n",
      " More than 1,700 people dead, toll expected to rise, official says .\n",
      "15,000 people are injured following Thursday's tropical Cyclone Sidr .\n",
      "U.N. World Food Programme has food for 400,000 people for three days .\n",
      "Power outages, massive traffic jams and poor phone service in Dhaka .\n"
     ]
    }
   ],
   "source": [
    "for i in range(30):\n",
    "    print('\\n', dataset['highlights'][positive_articles[i]])\n",
    "\n"
   ]
  },
  {
   "cell_type": "code",
   "execution_count": null,
   "metadata": {},
   "outputs": [],
   "source": []
  }
 ],
 "metadata": {
  "kernelspec": {
   "display_name": "Python 3",
   "language": "python",
   "name": "python3"
  },
  "language_info": {
   "codemirror_mode": {
    "name": "ipython",
    "version": 3
   },
   "file_extension": ".py",
   "mimetype": "text/x-python",
   "name": "python",
   "nbconvert_exporter": "python",
   "pygments_lexer": "ipython3",
   "version": "3.8.10"
  }
 },
 "nbformat": 4,
 "nbformat_minor": 4
}
