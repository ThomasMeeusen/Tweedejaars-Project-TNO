{
 "cells": [
  {
   "cell_type": "code",
   "execution_count": 28,
   "metadata": {},
   "outputs": [],
   "source": [
    "import sklearn\n",
    "import pandas as pd\n",
    "import numpy as np\n",
    "from sklearn.model_selection import train_test_split\n",
    "from sklearn.linear_model import LogisticRegression\n",
    "from sklearn.metrics import classification_report\n",
    "import re"
   ]
  },
  {
   "cell_type": "code",
   "execution_count": 2,
   "metadata": {},
   "outputs": [],
   "source": [
    "dataset = pd.read_csv('0-10000-labeled.csv')\n",
    "dataset_docs = dataset['article'].tolist()\n",
    "dataset_y = dataset['label'].astype('int').tolist()"
   ]
  },
  {
   "cell_type": "code",
   "execution_count": 3,
   "metadata": {},
   "outputs": [
    {
     "name": "stdout",
     "output_type": "stream",
     "text": [
      "dataset contains 9511 documents labeled 0\n",
      "dataset contains 489 documents labeled 1\n"
     ]
    }
   ],
   "source": [
    "print('dataset contains', np.sum(np.array(dataset_y) == 0), 'documents labeled 0')\n",
    "print('dataset contains', np.sum(np.array(dataset_y) == 1), 'documents labeled 1')"
   ]
  },
  {
   "cell_type": "markdown",
   "metadata": {},
   "source": [
    "De gelabelde dataset wordt opgesplitst in train en test set:"
   ]
  },
  {
   "cell_type": "code",
   "execution_count": 4,
   "metadata": {},
   "outputs": [],
   "source": [
    "docs_train, docs_test, y_train, y_test = train_test_split(dataset_docs, dataset_y, test_size=.25)"
   ]
  },
  {
   "cell_type": "code",
   "execution_count": 5,
   "metadata": {},
   "outputs": [
    {
     "name": "stderr",
     "output_type": "stream",
     "text": [
      "[nltk_data] Downloading package stopwords to /home/erik/nltk_data...\n",
      "[nltk_data]   Package stopwords is already up-to-date!\n"
     ]
    },
    {
     "data": {
      "text/plain": [
       "True"
      ]
     },
     "execution_count": 5,
     "metadata": {},
     "output_type": "execute_result"
    }
   ],
   "source": [
    "import huggingface_stats\n",
    "import nltk\n",
    "from nltk.stem.snowball import EnglishStemmer\n",
    "from nltk.corpus import stopwords\n",
    "nltk.download('stopwords')"
   ]
  },
  {
   "cell_type": "markdown",
   "metadata": {},
   "source": [
    "Een preprocessor wordt gebruikt om de data te preprocessen. Dit is een class met meerdere methods, bijvoorbeeld om alle woorden in een document te tellen."
   ]
  },
  {
   "cell_type": "code",
   "execution_count": 7,
   "metadata": {},
   "outputs": [],
   "source": [
    "preprocessor = huggingface_stats.Preprocessor(stemmer=EnglishStemmer(),\n",
    "                                              stopwords=stopwords.words('english'),\n",
    "                                              re_pattern=re.compile(\"[a-zA-Z]\"))"
   ]
  },
  {
   "cell_type": "markdown",
   "metadata": {},
   "source": [
    "Een 'scorer' berekent een score voor elk document:"
   ]
  },
  {
   "cell_type": "code",
   "execution_count": 8,
   "metadata": {},
   "outputs": [
    {
     "name": "stderr",
     "output_type": "stream",
     "text": [
      "100%|██████████| 7500/7500 [01:32<00:00, 80.88it/s] \n",
      "100%|██████████| 366/366 [00:03<00:00, 113.84it/s]\n",
      "100%|██████████| 7134/7134 [01:27<00:00, 81.78it/s]\n"
     ]
    }
   ],
   "source": [
    "scorer = huggingface_stats.tf_idf_document_scorer(preprocessor=preprocessor,\n",
    "                                                  docs=docs_train,\n",
    "                                                  labels=y_train,\n",
    "                                                  show_progress=True)"
   ]
  },
  {
   "cell_type": "markdown",
   "metadata": {},
   "source": [
    "Dit zijn de woorden die het meest en minst wegen voor class 'wel ongeluk':"
   ]
  },
  {
   "cell_type": "code",
   "execution_count": 9,
   "metadata": {},
   "outputs": [
    {
     "data": {
      "text/html": [
       "<div>\n",
       "<style scoped>\n",
       "    .dataframe tbody tr th:only-of-type {\n",
       "        vertical-align: middle;\n",
       "    }\n",
       "\n",
       "    .dataframe tbody tr th {\n",
       "        vertical-align: top;\n",
       "    }\n",
       "\n",
       "    .dataframe thead th {\n",
       "        text-align: right;\n",
       "    }\n",
       "</style>\n",
       "<table border=\"1\" class=\"dataframe\">\n",
       "  <thead>\n",
       "    <tr style=\"text-align: right;\">\n",
       "      <th></th>\n",
       "      <th>0</th>\n",
       "      <th>1</th>\n",
       "    </tr>\n",
       "  </thead>\n",
       "  <tbody>\n",
       "    <tr>\n",
       "      <th>3009</th>\n",
       "      <td>crash</td>\n",
       "      <td>3.889671</td>\n",
       "    </tr>\n",
       "    <tr>\n",
       "      <th>1024</th>\n",
       "      <td>plane</td>\n",
       "      <td>3.541505</td>\n",
       "    </tr>\n",
       "    <tr>\n",
       "      <th>945</th>\n",
       "      <td>pilot</td>\n",
       "      <td>2.687521</td>\n",
       "    </tr>\n",
       "    <tr>\n",
       "      <th>2644</th>\n",
       "      <td>fire</td>\n",
       "      <td>2.117741</td>\n",
       "    </tr>\n",
       "    <tr>\n",
       "      <th>881</th>\n",
       "      <td>flight</td>\n",
       "      <td>2.057691</td>\n",
       "    </tr>\n",
       "    <tr>\n",
       "      <th>...</th>\n",
       "      <td>...</td>\n",
       "      <td>...</td>\n",
       "    </tr>\n",
       "    <tr>\n",
       "      <th>365</th>\n",
       "      <td>presid</td>\n",
       "      <td>-0.613435</td>\n",
       "    </tr>\n",
       "    <tr>\n",
       "      <th>702</th>\n",
       "      <td>court</td>\n",
       "      <td>-0.617461</td>\n",
       "    </tr>\n",
       "    <tr>\n",
       "      <th>331</th>\n",
       "      <td>attack</td>\n",
       "      <td>-0.618523</td>\n",
       "    </tr>\n",
       "    <tr>\n",
       "      <th>516</th>\n",
       "      <td>iraq</td>\n",
       "      <td>-0.695477</td>\n",
       "    </tr>\n",
       "    <tr>\n",
       "      <th>601</th>\n",
       "      <td>obama</td>\n",
       "      <td>-1.349141</td>\n",
       "    </tr>\n",
       "  </tbody>\n",
       "</table>\n",
       "<p>60636 rows × 2 columns</p>\n",
       "</div>"
      ],
      "text/plain": [
       "           0         1\n",
       "3009   crash  3.889671\n",
       "1024   plane  3.541505\n",
       "945    pilot  2.687521\n",
       "2644    fire  2.117741\n",
       "881   flight  2.057691\n",
       "...      ...       ...\n",
       "365   presid -0.613435\n",
       "702    court -0.617461\n",
       "331   attack -0.618523\n",
       "516     iraq -0.695477\n",
       "601    obama -1.349141\n",
       "\n",
       "[60636 rows x 2 columns]"
      ]
     },
     "execution_count": 9,
     "metadata": {},
     "output_type": "execute_result"
    }
   ],
   "source": [
    "pd.DataFrame(list(scorer._weights.items())).sort_values(1, ascending=False)"
   ]
  },
  {
   "cell_type": "code",
   "execution_count": 13,
   "metadata": {},
   "outputs": [
    {
     "name": "stderr",
     "output_type": "stream",
     "text": [
      "100%|██████████| 7500/7500 [01:07<00:00, 111.36it/s]\n"
     ]
    }
   ],
   "source": [
    "X_train = scorer.batch_score(docs_train, show_progress=True)"
   ]
  },
  {
   "cell_type": "markdown",
   "metadata": {},
   "source": [
    "Score voor positief gelabelde documenten:"
   ]
  },
  {
   "cell_type": "code",
   "execution_count": 16,
   "metadata": {},
   "outputs": [
    {
     "data": {
      "text/plain": [
       "array([ 88.53151078,  64.01887663, 158.98335723,  31.40018523,\n",
       "        56.22986101,  68.10162414,  71.69435868, 232.20355457,\n",
       "       190.41200838,  55.03464921,  56.99706555, 213.67608598,\n",
       "        98.93747684,  45.91690413, 136.95955648, 175.81075971,\n",
       "        40.35884847, 113.36562077,  56.0401985 , 150.08097168,\n",
       "        29.70197175,  44.99525309,  76.33336374,  46.32199073,\n",
       "        46.75371812,  94.35761881, 122.80042263, 167.53192898,\n",
       "        71.65170911,  56.08722984,  49.28664893,  59.24526329,\n",
       "       102.92239397,  78.10288666, 100.53407641,  51.17149401,\n",
       "        32.41561417, -25.4835082 ,  19.02013875,  63.93358852,\n",
       "        68.92915642,  25.8891323 ,  78.39510083,  77.35182064,\n",
       "        22.48139252,  17.99116948,  90.07266389,  68.73098812,\n",
       "        50.55077181,  86.26257556])"
      ]
     },
     "execution_count": 16,
     "metadata": {},
     "output_type": "execute_result"
    }
   ],
   "source": [
    "np.array(X_train)[np.array(y_train) == 1][:50]"
   ]
  },
  {
   "cell_type": "markdown",
   "metadata": {},
   "source": [
    "score voor negatief gelabelde documenten:"
   ]
  },
  {
   "cell_type": "code",
   "execution_count": 17,
   "metadata": {},
   "outputs": [
    {
     "data": {
      "text/plain": [
       "array([-3.61955682e+00, -1.35272418e+01, -1.29034537e+02,  1.93394236e-02,\n",
       "       -1.26147714e+01,  6.58372889e+01, -1.68765645e+01, -9.52393161e+00,\n",
       "       -1.76928424e+01,  1.33443339e+01, -1.36274126e+01, -1.87921391e+01,\n",
       "       -5.96307229e+00, -3.94181172e+01,  1.14830491e+00, -9.53361189e+01,\n",
       "       -1.16579525e+00, -3.18168572e+01, -1.19764768e+01, -5.89337637e+01,\n",
       "        3.26307045e+01, -3.92159424e+00, -5.78311292e+00, -2.60494030e+01,\n",
       "       -9.02213395e+00,  9.04742714e+01, -2.05744738e+01, -2.15260701e+00,\n",
       "       -3.81894031e+01, -2.24707874e+01, -1.29371951e+01, -3.83263549e+01,\n",
       "       -5.12239052e+01,  5.53099438e+00,  1.20188267e+00,  1.52246568e+01,\n",
       "        1.33868660e+01, -6.51025500e+01,  5.33306370e+00, -2.66979747e+00,\n",
       "       -1.48947253e+01, -3.69628515e+00, -4.23843606e+01, -2.09175457e+01,\n",
       "        4.12520420e+01, -7.81213385e+00, -6.43515510e+01,  1.56252888e+01,\n",
       "       -1.75912831e+01, -1.88524259e+01])"
      ]
     },
     "execution_count": 17,
     "metadata": {},
     "output_type": "execute_result"
    }
   ],
   "source": [
    "np.array(X_train)[np.array(y_train) == 0][:50]"
   ]
  },
  {
   "cell_type": "markdown",
   "metadata": {},
   "source": [
    "Met die score kan vervolgens logistieke regressie gedaan worden:"
   ]
  },
  {
   "cell_type": "code",
   "execution_count": 21,
   "metadata": {},
   "outputs": [],
   "source": [
    "model = LogisticRegression(random_state=0).fit(np.array([X_train]).T, y_train)"
   ]
  },
  {
   "cell_type": "code",
   "execution_count": 24,
   "metadata": {},
   "outputs": [
    {
     "name": "stderr",
     "output_type": "stream",
     "text": [
      "100%|██████████| 2500/2500 [00:22<00:00, 112.64it/s]\n"
     ]
    }
   ],
   "source": [
    "X_test = scorer.batch_score(docs_test, show_progress=True)"
   ]
  },
  {
   "cell_type": "code",
   "execution_count": 25,
   "metadata": {},
   "outputs": [],
   "source": [
    "y_predict = model.predict(np.array([X_test]).T)"
   ]
  },
  {
   "cell_type": "code",
   "execution_count": 29,
   "metadata": {},
   "outputs": [
    {
     "name": "stdout",
     "output_type": "stream",
     "text": [
      "              precision    recall  f1-score   support\n",
      "\n",
      "not accident       0.96      0.99      0.97      2377\n",
      "    accident       0.41      0.19      0.26       123\n",
      "\n",
      "    accuracy                           0.95      2500\n",
      "   macro avg       0.68      0.59      0.61      2500\n",
      "weighted avg       0.93      0.95      0.94      2500\n",
      "\n"
     ]
    }
   ],
   "source": [
    "print(classification_report(y_test, y_predict, target_names=['not accident', 'accident']))"
   ]
  },
  {
   "cell_type": "code",
   "execution_count": null,
   "metadata": {},
   "outputs": [],
   "source": []
  }
 ],
 "metadata": {
  "kernelspec": {
   "display_name": "Python 3",
   "language": "python",
   "name": "python3"
  },
  "language_info": {
   "codemirror_mode": {
    "name": "ipython",
    "version": 3
   },
   "file_extension": ".py",
   "mimetype": "text/x-python",
   "name": "python",
   "nbconvert_exporter": "python",
   "pygments_lexer": "ipython3",
   "version": "3.8.10"
  }
 },
 "nbformat": 4,
 "nbformat_minor": 4
}
