{
 "cells": [
  {
   "cell_type": "code",
   "execution_count": 1,
   "metadata": {},
   "outputs": [
    {
     "name": "stderr",
     "output_type": "stream",
     "text": [
      "[nltk_data] Downloading package stopwords to /home/erik/nltk_data...\n",
      "[nltk_data]   Package stopwords is already up-to-date!\n"
     ]
    },
    {
     "data": {
      "text/plain": [
       "True"
      ]
     },
     "execution_count": 1,
     "metadata": {},
     "output_type": "execute_result"
    }
   ],
   "source": [
    "import sklearn\n",
    "import pandas as pd\n",
    "import numpy as np\n",
    "from sklearn.model_selection import train_test_split\n",
    "from sklearn.linear_model import LogisticRegression\n",
    "from sklearn.metrics import classification_report\n",
    "import re\n",
    "import matplotlib.pyplot as plt\n",
    "import huggingface_stats\n",
    "import nltk\n",
    "from nltk.stem.snowball import EnglishStemmer\n",
    "from nltk.corpus import stopwords\n",
    "nltk.download('stopwords')"
   ]
  },
  {
   "cell_type": "code",
   "execution_count": 2,
   "metadata": {},
   "outputs": [],
   "source": [
    "dataset = pd.read_csv('0-10000-labeled.csv')\n",
    "dataset_docs = dataset['article'].tolist()\n",
    "dataset_y = dataset['label'].astype('int').tolist()"
   ]
  },
  {
   "cell_type": "markdown",
   "metadata": {},
   "source": [
    "Een preprocessor wordt gebruikt om de data te preprocessen. Dit is een class met meerdere methods, bijvoorbeeld om alle woorden in een document te tellen."
   ]
  },
  {
   "cell_type": "code",
   "execution_count": 3,
   "metadata": {},
   "outputs": [],
   "source": [
    "preprocessor = huggingface_stats.Preprocessor(stemmer=EnglishStemmer(),\n",
    "                                              stopwords=stopwords.words('english'),\n",
    "                                              re_pattern=re.compile(\"[a-zA-Z]\"))"
   ]
  },
  {
   "cell_type": "markdown",
   "metadata": {},
   "source": [
    "Je kunt eventueel van tevoren de documenten filteren op keywords:"
   ]
  },
  {
   "cell_type": "code",
   "execution_count": 4,
   "metadata": {},
   "outputs": [
    {
     "name": "stderr",
     "output_type": "stream",
     "text": [
      "100%|██████████| 10000/10000 [01:26<00:00, 115.36it/s]\n"
     ]
    }
   ],
   "source": [
    "# pas deze if-statement aan om keyword filteren aan of uit te zetten\n",
    "filter_by_keywords = True\n",
    "if filter_by_keywords:\n",
    "    positive_keywords = ['accident','disaster','catastrophe','incident','near-miss', 'tragedy', 'victim',\n",
    "                         'casualties','died','killed','damage','harm','hospital','hospitalized',\n",
    "                         'wounded','succumbed','unscathed','evacuate','rescue','first responders','ambulance',\n",
    "                         'first aid', 'sunk','fire','derailed','collision','poisoned','burned', 'safety']\n",
    "    negative_keywords = ['gunman', 'suspect', 'attack', 'terror', 'war', 'bombing', 'militants', 'bombs',\n",
    "                         'conflict', 'hijacking']\n",
    "    preprocessor.init_keyword_filter(positive=positive_keywords,\n",
    "                                     pos_threshold=3,\n",
    "                                     negative=negative_keywords,\n",
    "                                     neg_threshold=3)\n",
    "    pass_filter = preprocessor.batch_keyword_filter(docs=dataset_docs, show_progress=True)\n",
    "    dataset_docs = np.array(dataset_docs)[np.array(pass_filter)].tolist()\n",
    "    dataset_y = np.array(dataset_y)[np.array(pass_filter)].tolist()\n",
    "    "
   ]
  },
  {
   "cell_type": "code",
   "execution_count": 5,
   "metadata": {},
   "outputs": [
    {
     "data": {
      "text/plain": [
       "1802"
      ]
     },
     "execution_count": 5,
     "metadata": {},
     "output_type": "execute_result"
    }
   ],
   "source": [
    "len(dataset_y)"
   ]
  },
  {
   "cell_type": "code",
   "execution_count": 6,
   "metadata": {},
   "outputs": [
    {
     "name": "stdout",
     "output_type": "stream",
     "text": [
      "dataset contains 1344 documents labeled 0\n",
      "dataset contains 458 documents labeled 1\n"
     ]
    }
   ],
   "source": [
    "print('dataset contains', np.sum(np.array(dataset_y) == 0), 'documents labeled 0')\n",
    "print('dataset contains', np.sum(np.array(dataset_y) == 1), 'documents labeled 1')"
   ]
  },
  {
   "cell_type": "markdown",
   "metadata": {},
   "source": [
    "De gelabelde dataset wordt opgesplitst in train en test set:"
   ]
  },
  {
   "cell_type": "code",
   "execution_count": 7,
   "metadata": {},
   "outputs": [],
   "source": [
    "docs_train, docs_test, y_train, y_test = train_test_split(dataset_docs, dataset_y, test_size=.25)"
   ]
  },
  {
   "cell_type": "markdown",
   "metadata": {},
   "source": [
    "Een 'scorer' berekent een score voor elk document:"
   ]
  },
  {
   "cell_type": "code",
   "execution_count": 8,
   "metadata": {},
   "outputs": [
    {
     "name": "stderr",
     "output_type": "stream",
     "text": [
      "100%|██████████| 1351/1351 [00:14<00:00, 91.24it/s]\n",
      "100%|██████████| 342/342 [00:02<00:00, 117.57it/s]\n",
      "100%|██████████| 1009/1009 [00:11<00:00, 89.09it/s]\n"
     ]
    }
   ],
   "source": [
    "scorer = huggingface_stats.tf_idf_document_scorer(preprocessor=preprocessor,\n",
    "                                                  docs=docs_train,\n",
    "                                                  labels=y_train,\n",
    "                                                  show_progress=True)"
   ]
  },
  {
   "cell_type": "markdown",
   "metadata": {},
   "source": [
    "Dit zijn de woorden die het meest en minst wegen voor class 'wel ongeluk':"
   ]
  },
  {
   "cell_type": "code",
   "execution_count": 9,
   "metadata": {},
   "outputs": [
    {
     "data": {
      "text/html": [
       "<div>\n",
       "<style scoped>\n",
       "    .dataframe tbody tr th:only-of-type {\n",
       "        vertical-align: middle;\n",
       "    }\n",
       "\n",
       "    .dataframe tbody tr th {\n",
       "        vertical-align: top;\n",
       "    }\n",
       "\n",
       "    .dataframe thead th {\n",
       "        text-align: right;\n",
       "    }\n",
       "</style>\n",
       "<table border=\"1\" class=\"dataframe\">\n",
       "  <thead>\n",
       "    <tr style=\"text-align: right;\">\n",
       "      <th></th>\n",
       "      <th>0</th>\n",
       "      <th>1</th>\n",
       "    </tr>\n",
       "  </thead>\n",
       "  <tbody>\n",
       "    <tr>\n",
       "      <th>1545</th>\n",
       "      <td>plane</td>\n",
       "      <td>2.256783</td>\n",
       "    </tr>\n",
       "    <tr>\n",
       "      <th>1045</th>\n",
       "      <td>crash</td>\n",
       "      <td>2.199972</td>\n",
       "    </tr>\n",
       "    <tr>\n",
       "      <th>1380</th>\n",
       "      <td>flood</td>\n",
       "      <td>1.401755</td>\n",
       "    </tr>\n",
       "    <tr>\n",
       "      <th>4211</th>\n",
       "      <td>pilot</td>\n",
       "      <td>1.381858</td>\n",
       "    </tr>\n",
       "    <tr>\n",
       "      <th>2709</th>\n",
       "      <td>flight</td>\n",
       "      <td>1.162863</td>\n",
       "    </tr>\n",
       "    <tr>\n",
       "      <th>...</th>\n",
       "      <td>...</td>\n",
       "      <td>...</td>\n",
       "    </tr>\n",
       "    <tr>\n",
       "      <th>836</th>\n",
       "      <td>drug</td>\n",
       "      <td>-0.788443</td>\n",
       "    </tr>\n",
       "    <tr>\n",
       "      <th>66</th>\n",
       "      <td>murder</td>\n",
       "      <td>-0.804249</td>\n",
       "    </tr>\n",
       "    <tr>\n",
       "      <th>510</th>\n",
       "      <td>shoot</td>\n",
       "      <td>-0.836628</td>\n",
       "    </tr>\n",
       "    <tr>\n",
       "      <th>101</th>\n",
       "      <td>attack</td>\n",
       "      <td>-0.916190</td>\n",
       "    </tr>\n",
       "    <tr>\n",
       "      <th>143</th>\n",
       "      <td>polic</td>\n",
       "      <td>-1.240859</td>\n",
       "    </tr>\n",
       "  </tbody>\n",
       "</table>\n",
       "<p>23683 rows × 2 columns</p>\n",
       "</div>"
      ],
      "text/plain": [
       "           0         1\n",
       "1545   plane  2.256783\n",
       "1045   crash  2.199972\n",
       "1380   flood  1.401755\n",
       "4211   pilot  1.381858\n",
       "2709  flight  1.162863\n",
       "...      ...       ...\n",
       "836     drug -0.788443\n",
       "66    murder -0.804249\n",
       "510    shoot -0.836628\n",
       "101   attack -0.916190\n",
       "143    polic -1.240859\n",
       "\n",
       "[23683 rows x 2 columns]"
      ]
     },
     "execution_count": 9,
     "metadata": {},
     "output_type": "execute_result"
    }
   ],
   "source": [
    "pd.DataFrame(list(scorer._weights.items())).sort_values(1, ascending=False)"
   ]
  },
  {
   "cell_type": "code",
   "execution_count": 10,
   "metadata": {},
   "outputs": [
    {
     "name": "stderr",
     "output_type": "stream",
     "text": [
      "100%|██████████| 1351/1351 [00:13<00:00, 102.20it/s]\n"
     ]
    }
   ],
   "source": [
    "X_train = scorer.batch_score(docs_train, show_progress=True)"
   ]
  },
  {
   "cell_type": "markdown",
   "metadata": {},
   "source": [
    "Score voor positief gelabelde documenten:"
   ]
  },
  {
   "cell_type": "code",
   "execution_count": 11,
   "metadata": {},
   "outputs": [
    {
     "data": {
      "text/plain": [
       "array([ -4.95295916,  50.37393798,  13.61586317,  27.97960352,\n",
       "        61.61760246,  30.6245437 , -15.61441544,  65.81354546,\n",
       "        32.54323447,  48.46766519,   6.7456247 ,  24.6790891 ,\n",
       "        28.70691977,  27.85794713,  26.25609728,   1.91296834,\n",
       "         4.1167333 ,  27.03272623, -45.08114203,  41.01124709,\n",
       "        16.98804977, 104.61872095, -26.11333232,  11.83769301,\n",
       "        24.89074643,  73.813281  , -37.43404345,  26.43557247,\n",
       "         9.11281033, 122.62334102,   9.5862031 ,  33.01777281,\n",
       "        50.80969367,   6.39651132,  29.70958489,  13.05354881,\n",
       "        -2.57733009,   3.62658899,  38.24219246,  -2.73011731,\n",
       "       -15.05631744,   3.79073524,  15.2559806 , -10.48758043,\n",
       "        -7.41911321,  -2.5819736 ,  -8.11658416,  45.05699   ,\n",
       "        33.90673402,  84.44470269])"
      ]
     },
     "execution_count": 11,
     "metadata": {},
     "output_type": "execute_result"
    }
   ],
   "source": [
    "np.array(X_train)[np.array(y_train) == 1][:50]"
   ]
  },
  {
   "cell_type": "markdown",
   "metadata": {},
   "source": [
    "score voor negatief gelabelde documenten:"
   ]
  },
  {
   "cell_type": "code",
   "execution_count": 12,
   "metadata": {},
   "outputs": [
    {
     "data": {
      "text/plain": [
       "array([-37.80290963, -67.21216192, -29.61884594, -74.41121323,\n",
       "       -62.4593321 ,  -3.90668165, -11.97958076, -41.67505854,\n",
       "       -38.62079139, -50.70182225, -13.31361664, -49.22525869,\n",
       "       -31.59627795,  17.30239642, -64.35088111, -44.56713323,\n",
       "       -23.53640395, -17.55478123, -47.37449497, -42.53248751,\n",
       "       -23.99013482, -65.56477169, -47.90064145, -82.0977034 ,\n",
       "         9.45100228, -28.12677897, -37.41596671, -64.68066591,\n",
       "       -53.61865951, -92.25347111, -46.35393291, -77.1870992 ,\n",
       "        -2.33871562, -81.06210324, -30.80302341,  -6.78745331,\n",
       "       -61.46795093, -41.62265319, -17.79401903, -77.93027442,\n",
       "       -30.07040335, -40.05334527, -20.21159412, -53.94566038,\n",
       "       -45.8633276 ,  -6.74926764, -34.55764785,  58.77102001,\n",
       "       -16.3915447 , -23.76715247])"
      ]
     },
     "execution_count": 12,
     "metadata": {},
     "output_type": "execute_result"
    }
   ],
   "source": [
    "np.array(X_train)[np.array(y_train) == 0][:50]"
   ]
  },
  {
   "cell_type": "code",
   "execution_count": 13,
   "metadata": {},
   "outputs": [
    {
     "data": {
      "text/plain": [
       "<matplotlib.collections.PathCollection at 0x7f6173f4f910>"
      ]
     },
     "execution_count": 13,
     "metadata": {},
     "output_type": "execute_result"
    },
    {
     "data": {
      "image/png": "[encoded data removed]",
      "text/plain": [
       "<Figure size 432x288 with 1 Axes>"
      ]
     },
     "metadata": {
      "needs_background": "light"
     },
     "output_type": "display_data"
    }
   ],
   "source": [
    "plt.scatter(X_train, y_train)"
   ]
  },
  {
   "cell_type": "markdown",
   "metadata": {},
   "source": [
    "Met die score kan vervolgens logistieke regressie gedaan worden:"
   ]
  },
  {
   "cell_type": "code",
   "execution_count": 14,
   "metadata": {},
   "outputs": [],
   "source": [
    "model = LogisticRegression(random_state=0).fit(np.array([X_train]).T, y_train)"
   ]
  },
  {
   "cell_type": "code",
   "execution_count": 15,
   "metadata": {},
   "outputs": [
    {
     "name": "stderr",
     "output_type": "stream",
     "text": [
      "100%|██████████| 451/451 [00:04<00:00, 102.15it/s]\n"
     ]
    }
   ],
   "source": [
    "X_test = scorer.batch_score(docs_test, show_progress=True)"
   ]
  },
  {
   "cell_type": "code",
   "execution_count": 16,
   "metadata": {},
   "outputs": [],
   "source": [
    "y_predict = model.predict(np.array([X_test]).T)"
   ]
  },
  {
   "cell_type": "code",
   "execution_count": 17,
   "metadata": {},
   "outputs": [
    {
     "name": "stdout",
     "output_type": "stream",
     "text": [
      "              precision    recall  f1-score   support\n",
      "\n",
      "not accident       0.87      0.94      0.90       335\n",
      "    accident       0.76      0.58      0.66       116\n",
      "\n",
      "    accuracy                           0.84       451\n",
      "   macro avg       0.81      0.76      0.78       451\n",
      "weighted avg       0.84      0.84      0.84       451\n",
      "\n"
     ]
    }
   ],
   "source": [
    "print(classification_report(y_test, y_predict, target_names=['not accident', 'accident']))"
   ]
  },
  {
   "cell_type": "code",
   "execution_count": null,
   "metadata": {},
   "outputs": [],
   "source": []
  }
 ],
 "metadata": {
  "kernelspec": {
   "display_name": "Python 3",
   "language": "python",
   "name": "python3"
  },
  "language_info": {
   "codemirror_mode": {
    "name": "ipython",
    "version": 3
   },
   "file_extension": ".py",
   "mimetype": "text/x-python",
   "name": "python",
   "nbconvert_exporter": "python",
   "pygments_lexer": "ipython3",
   "version": "3.8.10"
  }
 },
 "nbformat": 4,
 "nbformat_minor": 4
}
