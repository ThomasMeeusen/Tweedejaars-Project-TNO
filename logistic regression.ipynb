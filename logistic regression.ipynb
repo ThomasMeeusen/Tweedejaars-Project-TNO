{
 "cells": [
  {
   "cell_type": "markdown",
   "metadata": {},
   "source": [
    "# Logistic Regression\n",
    "\n",
    "In dit notebook wordt een document classifier geimplementeerd die tussen twee klassen kan beslissen op basis van logistic regression.\n",
    "\n",
    "Uiteindelijk heeft deze methode voor het door ons gelabelde deel Huggingface dataset de volgende resultaten opgeleverd (dit kan net iets anders zijn als je het notebook opnieuw runt, omdat de train/test splits willekeurig gekozen worden):\n",
    "- Met keyword filtering: accuracy 0.79, gemiddelde f-score 0.69\n",
    "- Zonder keyword filtering: accuracy 0.95, gemiddelfe f-score 0.67\n",
    "\n",
    "De structuur van het model is als volgt:\n",
    "- Eerst wordt het artikel gepreprocessed: getokeniseerd en de tokens worden gestemd\n",
    "- Vervolgens worden eventueel artikelen die bepaalde keywords (niet) bevatten uit de data gefilterd. Deze worden gezien als klasse 0 (geen ongeluk)\n",
    "- Elk woord in de vocabulair krijgt een gemiddelde tf-idf score over alle documenten per klasse. De 'weight' van een woord is zijn tf-idf score op klasse 1 min de tf-idf score op klasse 0.\n",
    "- De score van een artikel wordt berekend door de scores van alle woorden in dat artikel op te tellen\n",
    "- De kans om bij een klasse te horen wordt berekend door lineaire regressie uit te voeren op die score"
   ]
  },
  {
   "cell_type": "markdown",
   "metadata": {},
   "source": [
    "Eerst worden de nodige libraries geimporteerd. `huggingface_stats` bevat helperfuncties die wij zelf hebben geschreven, om die te kunnen importeren heb je het bestand `huggingface_stats.py` nodig."
   ]
  },
  {
   "cell_type": "code",
   "execution_count": 1,
   "metadata": {},
   "outputs": [
    {
     "name": "stderr",
     "output_type": "stream",
     "text": [
      "[nltk_data] Downloading package stopwords to /home/erik/nltk_data...\n",
      "[nltk_data]   Package stopwords is already up-to-date!\n"
     ]
    },
    {
     "data": {
      "text/plain": [
       "True"
      ]
     },
     "execution_count": 1,
     "metadata": {},
     "output_type": "execute_result"
    }
   ],
   "source": [
    "import sklearn\n",
    "import pandas as pd\n",
    "import numpy as np\n",
    "from sklearn.model_selection import train_test_split\n",
    "from sklearn.linear_model import LogisticRegression\n",
    "from sklearn.metrics import classification_report\n",
    "import re\n",
    "import matplotlib.pyplot as plt\n",
    "import huggingface_stats\n",
    "import nltk\n",
    "from nltk.stem.snowball import EnglishStemmer\n",
    "from nltk.corpus import stopwords\n",
    "nltk.download('stopwords')"
   ]
  },
  {
   "cell_type": "markdown",
   "metadata": {},
   "source": [
    "Hier wordt de dataset ingelezen die door ons handmatig is gelabeld. Klasse 0 betekent dat het artikel niet over een ongeluk gaat, 1 betekent dat het wel over een ongeluk gaat."
   ]
  },
  {
   "cell_type": "code",
   "execution_count": 2,
   "metadata": {},
   "outputs": [],
   "source": [
    "dataset = pd.read_csv('0-10000-labeled.csv')\n",
    "dataset_docs = dataset['article'].tolist()\n",
    "dataset_y = dataset['label'].astype('int').tolist()"
   ]
  },
  {
   "cell_type": "markdown",
   "metadata": {},
   "source": [
    "Een preprocessor wordt gebruikt om de data te preprocessen. Dit is een class met meerdere methods, bijvoorbeeld om alle woorden in een document te tellen. De preprocesser bevat ook de code om het document te tokenisen en om artikelen op basis van keywords te filteren."
   ]
  },
  {
   "cell_type": "code",
   "execution_count": 3,
   "metadata": {},
   "outputs": [],
   "source": [
    "preprocessor = huggingface_stats.Preprocessor(stemmer=EnglishStemmer(),\n",
    "                                              stopwords=stopwords.words('english'),\n",
    "                                              re_pattern=re.compile(\"[a-zA-Z]\"))"
   ]
  },
  {
   "cell_type": "markdown",
   "metadata": {},
   "source": [
    "Je kunt eventueel van tevoren de documenten filteren op keywords:"
   ]
  },
  {
   "cell_type": "code",
   "execution_count": 4,
   "metadata": {},
   "outputs": [
    {
     "name": "stderr",
     "output_type": "stream",
     "text": [
      "100%|██████████| 10000/10000 [01:26<00:00, 115.11it/s]\n"
     ]
    }
   ],
   "source": [
    "# pas deze if-statement aan om keyword filteren aan of uit te zetten\n",
    "filter_by_keywords = True\n",
    "if filter_by_keywords:\n",
    "    positive_keywords = ['accident','disaster','catastrophe','incident','near-miss', 'tragedy', 'victim',\n",
    "                         'casualties','died','killed','damage','harm','hospital','hospitalized',\n",
    "                         'wounded','succumbed','unscathed','evacuate','rescue','first responders','ambulance',\n",
    "                         'first aid', 'sunk','fire','derailed','collision','poisoned','burned', 'safety']\n",
    "    negative_keywords = ['gunman', 'suspect', 'attack', 'terror', 'war', 'bombing', 'militants', 'bombs',\n",
    "                         'conflict', 'hijacking']\n",
    "    preprocessor.init_keyword_filter(positive=positive_keywords,\n",
    "                                     pos_threshold=3,\n",
    "                                     negative=negative_keywords,\n",
    "                                     neg_threshold=3)\n",
    "    pass_filter = preprocessor.batch_keyword_filter(docs=dataset_docs, show_progress=True)\n",
    "    dataset_docs = np.array(dataset_docs)[np.array(pass_filter)].tolist()\n",
    "    dataset_y = np.array(dataset_y)[np.array(pass_filter)].tolist()\n",
    "    "
   ]
  },
  {
   "cell_type": "code",
   "execution_count": 5,
   "metadata": {},
   "outputs": [
    {
     "name": "stdout",
     "output_type": "stream",
     "text": [
      "dataset contains 1802 datapoints\n",
      "dataset contains 1344 documents labeled 0\n",
      "dataset contains 458 documents labeled 1\n"
     ]
    }
   ],
   "source": [
    "print('dataset contains', len(dataset_y), 'datapoints')\n",
    "print('dataset contains', np.sum(np.array(dataset_y) == 0), 'documents labeled 0')\n",
    "print('dataset contains', np.sum(np.array(dataset_y) == 1), 'documents labeled 1')"
   ]
  },
  {
   "cell_type": "markdown",
   "metadata": {},
   "source": [
    "De gelabelde dataset wordt opgesplitst in train en test set:"
   ]
  },
  {
   "cell_type": "code",
   "execution_count": 6,
   "metadata": {},
   "outputs": [],
   "source": [
    "docs_train, docs_test, y_train, y_test = train_test_split(dataset_docs, dataset_y, test_size=.25)"
   ]
  },
  {
   "cell_type": "markdown",
   "metadata": {},
   "source": [
    "Een 'scorer' berekent een score voor elk document. De onderstaande cel traint de scorer op de test set, dus hij leert de 'weights' van alle woorden op basis van de tf-idf in de test set. In detail gaat het proces als volgt:\n",
    "\n",
    "- De vocabulair wordt berekend, dit is een set van alle woorden die in de dataset voor komen. Voor elk woord in de vocabulair wordt geteld hoe vaak het in totaal voor komt in de dataset.\n",
    "- Er wordt per klasse geteld hoe vaak elk woord voor komt in alle documenten met dezelfde klasse\n",
    "- De tf-idf van een woord $w$ voor klasse N is het logaritme van hoe vaak het woord gemiddeld voor komt in klasse N ($C(w)_N$), gedeeld door hoe vaak het woord totaal voorkomt in de dataset ($C(w)$). Vaak wordt hier nog 1 bij opgeteld, zodat je niet door 0 kunt delen. Dit is niet per se nodig, aangezien elk woord in de vocabulair minstens 1 keer voorkomt, maar dit hebben we toch maar gedaan.\n",
    "$$\\text{tf-idf}(w)_N = \\log(\\frac{X(w)_N}{X(w) + 1})$$\n",
    "- De 'weight' van elk woord is vervolgens de tf-idf in de positieve klasse min de tf-idf in de negatieve klasse:\n",
    "$$\\text{weight}(w) = \\text{tf-idf}(w)_1 - \\text{tf-idf}(w)_0$$\n",
    "\n",
    "Als de scorer getraind is op de test set, kan hij voor elk document $d$ een score berekenen. Dit wordt gedaan door een simpele gewogen som:\n",
    "$$\\text{score}(d) = \\sum_{w\\in d}\\text{weight}(w)$$\n",
    "Als een woord niet voorkwam in de train set, is zijn weight 0."
   ]
  },
  {
   "cell_type": "code",
   "execution_count": 7,
   "metadata": {},
   "outputs": [
    {
     "name": "stderr",
     "output_type": "stream",
     "text": [
      "100%|██████████| 1351/1351 [00:14<00:00, 92.47it/s]\n",
      "100%|██████████| 347/347 [00:03<00:00, 114.96it/s]\n",
      "100%|██████████| 1004/1004 [00:11<00:00, 89.34it/s]\n"
     ]
    }
   ],
   "source": [
    "scorer = huggingface_stats.tf_idf_document_scorer(preprocessor=preprocessor,\n",
    "                                                  docs=docs_train,\n",
    "                                                  labels=y_train,\n",
    "                                                  show_progress=True)"
   ]
  },
  {
   "cell_type": "markdown",
   "metadata": {},
   "source": [
    "Dit zijn de woorden die het meest en minst wegen voor class 'wel ongeluk':"
   ]
  },
  {
   "cell_type": "code",
   "execution_count": 8,
   "metadata": {},
   "outputs": [
    {
     "data": {
      "text/html": [
       "<div>\n",
       "<style scoped>\n",
       "    .dataframe tbody tr th:only-of-type {\n",
       "        vertical-align: middle;\n",
       "    }\n",
       "\n",
       "    .dataframe tbody tr th {\n",
       "        vertical-align: top;\n",
       "    }\n",
       "\n",
       "    .dataframe thead th {\n",
       "        text-align: right;\n",
       "    }\n",
       "</style>\n",
       "<table border=\"1\" class=\"dataframe\">\n",
       "  <thead>\n",
       "    <tr style=\"text-align: right;\">\n",
       "      <th></th>\n",
       "      <th>0</th>\n",
       "      <th>1</th>\n",
       "    </tr>\n",
       "  </thead>\n",
       "  <tbody>\n",
       "    <tr>\n",
       "      <th>76</th>\n",
       "      <td>plane</td>\n",
       "      <td>2.080861</td>\n",
       "    </tr>\n",
       "    <tr>\n",
       "      <th>958</th>\n",
       "      <td>crash</td>\n",
       "      <td>1.855912</td>\n",
       "    </tr>\n",
       "    <tr>\n",
       "      <th>289</th>\n",
       "      <td>pilot</td>\n",
       "      <td>1.550281</td>\n",
       "    </tr>\n",
       "    <tr>\n",
       "      <th>941</th>\n",
       "      <td>flood</td>\n",
       "      <td>1.439905</td>\n",
       "    </tr>\n",
       "    <tr>\n",
       "      <th>43</th>\n",
       "      <td>flight</td>\n",
       "      <td>1.226432</td>\n",
       "    </tr>\n",
       "    <tr>\n",
       "      <th>...</th>\n",
       "      <td>...</td>\n",
       "      <td>...</td>\n",
       "    </tr>\n",
       "    <tr>\n",
       "      <th>1597</th>\n",
       "      <td>murder</td>\n",
       "      <td>-0.825352</td>\n",
       "    </tr>\n",
       "    <tr>\n",
       "      <th>386</th>\n",
       "      <td>attack</td>\n",
       "      <td>-0.857155</td>\n",
       "    </tr>\n",
       "    <tr>\n",
       "      <th>1659</th>\n",
       "      <td>shoot</td>\n",
       "      <td>-0.860494</td>\n",
       "    </tr>\n",
       "    <tr>\n",
       "      <th>7791</th>\n",
       "      <td>knox</td>\n",
       "      <td>-0.910178</td>\n",
       "    </tr>\n",
       "    <tr>\n",
       "      <th>410</th>\n",
       "      <td>polic</td>\n",
       "      <td>-1.321106</td>\n",
       "    </tr>\n",
       "  </tbody>\n",
       "</table>\n",
       "<p>23402 rows × 2 columns</p>\n",
       "</div>"
      ],
      "text/plain": [
       "           0         1\n",
       "76     plane  2.080861\n",
       "958    crash  1.855912\n",
       "289    pilot  1.550281\n",
       "941    flood  1.439905\n",
       "43    flight  1.226432\n",
       "...      ...       ...\n",
       "1597  murder -0.825352\n",
       "386   attack -0.857155\n",
       "1659   shoot -0.860494\n",
       "7791    knox -0.910178\n",
       "410    polic -1.321106\n",
       "\n",
       "[23402 rows x 2 columns]"
      ]
     },
     "execution_count": 8,
     "metadata": {},
     "output_type": "execute_result"
    }
   ],
   "source": [
    "pd.DataFrame(list(scorer._weights.items())).sort_values(1, ascending=False)"
   ]
  },
  {
   "cell_type": "code",
   "execution_count": 9,
   "metadata": {},
   "outputs": [
    {
     "name": "stderr",
     "output_type": "stream",
     "text": [
      "100%|██████████| 1351/1351 [00:13<00:00, 102.76it/s]\n"
     ]
    }
   ],
   "source": [
    "X_train = scorer.batch_score(docs_train, show_progress=True)"
   ]
  },
  {
   "cell_type": "markdown",
   "metadata": {},
   "source": [
    "Dit zijn de scores die de scorer berekent voor enkele positief gelabelde documenten:"
   ]
  },
  {
   "cell_type": "code",
   "execution_count": 10,
   "metadata": {},
   "outputs": [
    {
     "data": {
      "text/plain": [
       "array([ 23.70270061,   7.82383301,  25.55411823,  -1.26542861,\n",
       "        43.66734713,   6.7683159 ,  33.31741945,  10.84632264,\n",
       "        68.69975744,  52.08025704,  12.97613965,  13.67672051,\n",
       "        34.70682575,   2.66019186,   3.97130258,  39.55854135,\n",
       "        -0.4338712 ,  76.82522579,  41.56329617,  -4.74923546,\n",
       "        68.48052766,   5.08932277,  -9.8766531 ,  35.67533068,\n",
       "         5.70583247,  20.63838453,  15.52244018,  17.97059238,\n",
       "        34.06291027,  -3.08022121,  11.2844577 , -45.2277479 ,\n",
       "       -23.06921993,  -4.19081038,  39.86172438,  80.05493749,\n",
       "         3.31732308,  15.6833566 ,  32.92984112,  -4.99554347,\n",
       "        -8.73406769,  35.94360458, -12.43782481,  47.86889495,\n",
       "        -6.97194566,  28.79865716,  10.07863166,   4.02390404,\n",
       "        30.04286816,  16.41272631])"
      ]
     },
     "execution_count": 10,
     "metadata": {},
     "output_type": "execute_result"
    }
   ],
   "source": [
    "np.array(X_train)[np.array(y_train) == 1][:50]"
   ]
  },
  {
   "cell_type": "markdown",
   "metadata": {},
   "source": [
    "Dit zijn de scores die de scorer berekent voor enkele negatief gelabelde documenten:"
   ]
  },
  {
   "cell_type": "code",
   "execution_count": 11,
   "metadata": {},
   "outputs": [
    {
     "data": {
      "text/plain": [
       "array([ -16.29449915,  -10.563237  ,  -23.46483383,   81.91670461,\n",
       "        -20.49208778,  -50.03803837,   22.7259469 ,   29.19942399,\n",
       "        -98.17135115,  -69.95825633,  -35.27579908,  -22.92342318,\n",
       "          6.83526294,  -72.02753419,  -63.69974712,  -66.84054178,\n",
       "         -9.00423059,  -49.49785578,  -62.4177592 ,  -76.29436784,\n",
       "        -57.85851378,  -62.1727556 ,   -7.56860384,  -52.4782782 ,\n",
       "        -34.98122168,  -72.67530221,   -0.4435139 ,   88.96589439,\n",
       "        -42.58358128,  -15.74590804,  -53.03024278,  -61.34134125,\n",
       "        -48.201872  , -107.56315712,  -44.22558395,  -25.4726162 ,\n",
       "        -42.55170775,  -69.82416432,  -52.07902584,  -38.26978354,\n",
       "        -80.65701762,   -8.46707669,  -32.11006043,  -10.78444151,\n",
       "        -41.70873938,  -23.31570601,    8.58670383,  -11.220103  ,\n",
       "        -43.37109794,   39.95788944])"
      ]
     },
     "execution_count": 11,
     "metadata": {},
     "output_type": "execute_result"
    }
   ],
   "source": [
    "np.array(X_train)[np.array(y_train) == 0][:50]"
   ]
  },
  {
   "cell_type": "markdown",
   "metadata": {},
   "source": [
    "Zoals je misschien al kon zien, overlappen de positief en negatief gelabelde documenten enigzins in hun score. Hier is de true class uitgezet tegen de berekende score:"
   ]
  },
  {
   "cell_type": "code",
   "execution_count": 12,
   "metadata": {},
   "outputs": [
    {
     "data": {
      "text/plain": [
       "<matplotlib.collections.PathCollection at 0x7fdafec07df0>"
      ]
     },
     "execution_count": 12,
     "metadata": {},
     "output_type": "execute_result"
    },
    {
     "data": {
      "image/png": "[encoded data removed]",
      "text/plain": [
       "<Figure size 432x288 with 1 Axes>"
      ]
     },
     "metadata": {
      "needs_background": "light"
     },
     "output_type": "display_data"
    }
   ],
   "source": [
    "plt.scatter(X_train, y_train)"
   ]
  },
  {
   "cell_type": "markdown",
   "metadata": {},
   "source": [
    "Met die score kan vervolgens logistieke regressie gedaan worden. We gebruiken een standaard `LogisticRegression` model van SKlearn:"
   ]
  },
  {
   "cell_type": "code",
   "execution_count": 13,
   "metadata": {},
   "outputs": [],
   "source": [
    "model = LogisticRegression(random_state=0).fit(np.array([X_train]).T, y_train)"
   ]
  },
  {
   "cell_type": "code",
   "execution_count": 14,
   "metadata": {},
   "outputs": [
    {
     "name": "stderr",
     "output_type": "stream",
     "text": [
      "100%|██████████| 451/451 [00:04<00:00, 100.69it/s]\n"
     ]
    }
   ],
   "source": [
    "X_test = scorer.batch_score(docs_test, show_progress=True)"
   ]
  },
  {
   "cell_type": "code",
   "execution_count": 15,
   "metadata": {},
   "outputs": [],
   "source": [
    "y_predict = model.predict(np.array([X_test]).T)"
   ]
  },
  {
   "cell_type": "markdown",
   "metadata": {},
   "source": [
    "Performance:"
   ]
  },
  {
   "cell_type": "code",
   "execution_count": 16,
   "metadata": {},
   "outputs": [
    {
     "name": "stdout",
     "output_type": "stream",
     "text": [
      "              precision    recall  f1-score   support\n",
      "\n",
      "not accident       0.87      0.92      0.89       340\n",
      "    accident       0.70      0.57      0.63       111\n",
      "\n",
      "    accuracy                           0.83       451\n",
      "   macro avg       0.78      0.74      0.76       451\n",
      "weighted avg       0.83      0.83      0.83       451\n",
      "\n"
     ]
    }
   ],
   "source": [
    "print(classification_report(y_test, y_predict, target_names=['not accident', 'accident']))"
   ]
  },
  {
   "cell_type": "code",
   "execution_count": null,
   "metadata": {},
   "outputs": [],
   "source": []
  }
 ],
 "metadata": {
  "kernelspec": {
   "display_name": "Python 3",
   "language": "python",
   "name": "python3"
  },
  "language_info": {
   "codemirror_mode": {
    "name": "ipython",
    "version": 3
   },
   "file_extension": ".py",
   "mimetype": "text/x-python",
   "name": "python",
   "nbconvert_exporter": "python",
   "pygments_lexer": "ipython3",
   "version": "3.8.10"
  }
 },
 "nbformat": 4,
 "nbformat_minor": 4
}
