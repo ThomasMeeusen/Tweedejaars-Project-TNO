{
 "cells": [
  {
   "cell_type": "markdown",
   "metadata": {},
   "source": [
    "# Export\n",
    "\n",
    "This notebook exports part of the Huggingface dataset to a CSV file."
   ]
  },
  {
   "cell_type": "code",
   "execution_count": null,
   "metadata": {},
   "outputs": [],
   "source": [
    "from datasets import load_dataset\n",
    "import os\n",
    "import pandas as pd\n",
    "import numpy as np"
   ]
  },
  {
   "cell_type": "code",
   "execution_count": null,
   "metadata": {},
   "outputs": [],
   "source": [
    "# deze cel downloadet de dataset\n",
    "# hij gebruikt het script cnn_dailymail.py van huggingface:\n",
    "# https://huggingface.co/datasets/cnn_dailymail/tree/main\n",
    "# dit kan wel iets van 10 minuten duren, ga maar wat koffie halen\n",
    "\n",
    "dataset = load_dataset(\"cnn_dailymail.py\", \"3.0.0\", split=\"train\") "
   ]
  },
  {
   "cell_type": "code",
   "execution_count": null,
   "metadata": {},
   "outputs": [],
   "source": [
    "# print de features en het aantal datapunten in de dataset\n",
    "print(dataset.features)\n",
    "print(dataset.num_rows)"
   ]
  },
  {
   "cell_type": "code",
   "execution_count": null,
   "metadata": {},
   "outputs": [],
   "source": [
    "# exporteer de dataset\n",
    "# kies eerst welk deel van de dataset je wilt exporteren\n",
    "\n",
    "start_row = 0\n",
    "end_row = 10000 # de rij met index end_row is niet inbegrepen\n",
    "\n",
    "assert start_row <= end_row\n",
    "assert end_row <= dataset.num_rows\n",
    "\n",
    "df = pd.DataFrame()\n",
    "\n",
    "df['article'] = dataset['article'][start_row:end_row]\n",
    "df['highlights'] = dataset['highlights'][start_row:end_row]\n",
    "df['id'] = dataset['id'][start_row:end_row]\n",
    "df['label'] = np.nan"
   ]
  },
  {
   "cell_type": "code",
   "execution_count": null,
   "metadata": {},
   "outputs": [],
   "source": [
    "df"
   ]
  },
  {
   "cell_type": "code",
   "execution_count": null,
   "metadata": {},
   "outputs": [],
   "source": [
    "filepath = 'preprocessed/' # map waarin het bestand wordt geschreven\n",
    "filename = filepath + str(start_row) + '-' + str(end_row) + '.csv'\n",
    "print(filename)"
   ]
  },
  {
   "cell_type": "code",
   "execution_count": null,
   "metadata": {},
   "outputs": [],
   "source": [
    "os.makedirs(filepath, exist_ok=True)\n",
    "df.to_csv(filename, index=False)"
   ]
  }
 ],
 "metadata": {
  "kernelspec": {
   "display_name": "Python 3",
   "language": "python",
   "name": "python3"
  },
  "language_info": {
   "codemirror_mode": {
    "name": "ipython",
    "version": 3
   },
   "file_extension": ".py",
   "mimetype": "text/x-python",
   "name": "python",
   "nbconvert_exporter": "python",
   "pygments_lexer": "ipython3",
   "version": "3.8.10"
  }
 },
 "nbformat": 4,
 "nbformat_minor": 4
}
